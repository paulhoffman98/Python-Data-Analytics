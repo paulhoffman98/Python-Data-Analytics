{
 "cells": [
  {
   "cell_type": "markdown",
   "metadata": {
    "deletable": false,
    "editable": false,
    "nbgrader": {
     "cell_type": "markdown",
     "checksum": "e8da4be8052f9737aee4db4e6e8a22de",
     "grade": false,
     "grade_id": "cell-53ac2df22a965028",
     "locked": true,
     "schema_version": 3,
     "solution": false,
     "task": false
    }
   },
   "source": [
    "# Homework 6\n",
    "\n",
    "In this HW, we will study the pay gap between men and women who have jobs in San Francisco.  We will use the following two csv files to accomplish this task.\n",
    "\n",
    "- Salaries.csv : contains salaries for over 100K employees in SF from 2011-2014.\n",
    "- Names.csv :  contains baby names from 1980 to 2014 along with counts of how many times the given baby name was used.\n",
    "\n",
    "We would like to find the average salary of men and women over all jobs from 2011 to 2014.  The problem, however, is that the Salaries.csv does not contain each person's sex.  Futher, there are many names that are unisex, like Alex.  Since we have counts in the file Names.csv, we can use a majority vote to label the sex of each name in Names.csv. \n",
    "\n",
    "You will be asked to write a series of functions to implement this task. **YOU SHOULD NOT BE USING FOR LOOPS ANYWHERE IS THIS ASSIGMENT. IF YOUR CODE IS TAKING MORE THAN 30 SECONDS TO RUN, THEN YOU HAVE DONE SOMETHING WRONG.**\n",
    "\n",
    "\n",
    "\n",
    "\n",
    "The following function reads in the salary and the names data as pandas dataframes and return a list which contains these two dataframes. "
   ]
  },
  {
   "cell_type": "code",
   "execution_count": 17,
   "metadata": {
    "deletable": false,
    "editable": false,
    "nbgrader": {
     "cell_type": "code",
     "checksum": "1fd29221b7abe8ede9bb2db6508a3e31",
     "grade": false,
     "grade_id": "cell-f877926ed9154029",
     "locked": true,
     "schema_version": 3,
     "solution": false,
     "task": false
    }
   },
   "outputs": [],
   "source": [
    "#Place your import here\n",
    "import pandas as pd\n",
    "import numpy as np\n",
    "\n",
    "def ReadData():\n",
    "\n",
    "    df_salaries = pd.read_csv(\"Data/Salaries.csv\")\n",
    "    df_names = pd.read_csv(\"Data/Names.csv\")\n",
    "    \n",
    "    \n",
    "    return [df_salaries, df_names]"
   ]
  },
  {
   "cell_type": "code",
   "execution_count": 18,
   "metadata": {
    "deletable": false,
    "editable": false,
    "nbgrader": {
     "cell_type": "code",
     "checksum": "fac5fdf94284fab681fbdcee051f785c",
     "grade": false,
     "grade_id": "cell-704387237c310eed",
     "locked": true,
     "schema_version": 3,
     "solution": false,
     "task": false
    }
   },
   "outputs": [
    {
     "data": {
      "text/html": [
       "<div>\n",
       "<style scoped>\n",
       "    .dataframe tbody tr th:only-of-type {\n",
       "        vertical-align: middle;\n",
       "    }\n",
       "\n",
       "    .dataframe tbody tr th {\n",
       "        vertical-align: top;\n",
       "    }\n",
       "\n",
       "    .dataframe thead th {\n",
       "        text-align: right;\n",
       "    }\n",
       "</style>\n",
       "<table border=\"1\" class=\"dataframe\">\n",
       "  <thead>\n",
       "    <tr style=\"text-align: right;\">\n",
       "      <th></th>\n",
       "      <th>EmployeeName</th>\n",
       "      <th>JobTitle</th>\n",
       "      <th>Total_Pay</th>\n",
       "      <th>Year</th>\n",
       "    </tr>\n",
       "  </thead>\n",
       "  <tbody>\n",
       "    <tr>\n",
       "      <th>0</th>\n",
       "      <td>NATHANIEL FORD</td>\n",
       "      <td>GENERAL MANAGER-METROPOLITAN TRANSIT AUTHORITY</td>\n",
       "      <td>567595.43</td>\n",
       "      <td>2011</td>\n",
       "    </tr>\n",
       "    <tr>\n",
       "      <th>1</th>\n",
       "      <td>GARY JIMENEZ</td>\n",
       "      <td>CAPTAIN III (POLICE DEPARTMENT)</td>\n",
       "      <td>538909.28</td>\n",
       "      <td>2011</td>\n",
       "    </tr>\n",
       "    <tr>\n",
       "      <th>2</th>\n",
       "      <td>ALBERT PARDINI</td>\n",
       "      <td>CAPTAIN III (POLICE DEPARTMENT)</td>\n",
       "      <td>335279.91</td>\n",
       "      <td>2011</td>\n",
       "    </tr>\n",
       "    <tr>\n",
       "      <th>3</th>\n",
       "      <td>CHRISTOPHER CHONG</td>\n",
       "      <td>WIRE ROPE CABLE MAINTENANCE MECHANIC</td>\n",
       "      <td>332343.61</td>\n",
       "      <td>2011</td>\n",
       "    </tr>\n",
       "    <tr>\n",
       "      <th>4</th>\n",
       "      <td>PATRICK GARDNER</td>\n",
       "      <td>DEPUTY CHIEF OF DEPARTMENT,(FIRE DEPARTMENT)</td>\n",
       "      <td>326373.19</td>\n",
       "      <td>2011</td>\n",
       "    </tr>\n",
       "  </tbody>\n",
       "</table>\n",
       "</div>"
      ],
      "text/plain": [
       "        EmployeeName                                        JobTitle  \\\n",
       "0     NATHANIEL FORD  GENERAL MANAGER-METROPOLITAN TRANSIT AUTHORITY   \n",
       "1       GARY JIMENEZ                 CAPTAIN III (POLICE DEPARTMENT)   \n",
       "2     ALBERT PARDINI                 CAPTAIN III (POLICE DEPARTMENT)   \n",
       "3  CHRISTOPHER CHONG            WIRE ROPE CABLE MAINTENANCE MECHANIC   \n",
       "4    PATRICK GARDNER    DEPUTY CHIEF OF DEPARTMENT,(FIRE DEPARTMENT)   \n",
       "\n",
       "   Total_Pay  Year  \n",
       "0  567595.43  2011  \n",
       "1  538909.28  2011  \n",
       "2  335279.91  2011  \n",
       "3  332343.61  2011  \n",
       "4  326373.19  2011  "
      ]
     },
     "execution_count": 18,
     "metadata": {},
     "output_type": "execute_result"
    }
   ],
   "source": [
    "[df_salaries, df_names] = ReadData()\n",
    "df_salaries.head()"
   ]
  },
  {
   "cell_type": "code",
   "execution_count": 19,
   "metadata": {
    "deletable": false,
    "editable": false,
    "nbgrader": {
     "cell_type": "code",
     "checksum": "6162af2e51e2c8266c9ae0c2a9b913ea",
     "grade": false,
     "grade_id": "cell-cd0f75ec050b469e",
     "locked": true,
     "schema_version": 3,
     "solution": false,
     "task": false
    }
   },
   "outputs": [
    {
     "data": {
      "text/html": [
       "<div>\n",
       "<style scoped>\n",
       "    .dataframe tbody tr th:only-of-type {\n",
       "        vertical-align: middle;\n",
       "    }\n",
       "\n",
       "    .dataframe tbody tr th {\n",
       "        vertical-align: top;\n",
       "    }\n",
       "\n",
       "    .dataframe thead th {\n",
       "        text-align: right;\n",
       "    }\n",
       "</style>\n",
       "<table border=\"1\" class=\"dataframe\">\n",
       "  <thead>\n",
       "    <tr style=\"text-align: right;\">\n",
       "      <th></th>\n",
       "      <th>Name</th>\n",
       "      <th>Year</th>\n",
       "      <th>Sex</th>\n",
       "      <th>Count</th>\n",
       "    </tr>\n",
       "  </thead>\n",
       "  <tbody>\n",
       "    <tr>\n",
       "      <th>0</th>\n",
       "      <td>Jessica</td>\n",
       "      <td>1990</td>\n",
       "      <td>F</td>\n",
       "      <td>46466</td>\n",
       "    </tr>\n",
       "    <tr>\n",
       "      <th>1</th>\n",
       "      <td>Ashley</td>\n",
       "      <td>1990</td>\n",
       "      <td>F</td>\n",
       "      <td>45549</td>\n",
       "    </tr>\n",
       "    <tr>\n",
       "      <th>2</th>\n",
       "      <td>Brittany</td>\n",
       "      <td>1990</td>\n",
       "      <td>F</td>\n",
       "      <td>36535</td>\n",
       "    </tr>\n",
       "    <tr>\n",
       "      <th>3</th>\n",
       "      <td>Amanda</td>\n",
       "      <td>1990</td>\n",
       "      <td>F</td>\n",
       "      <td>34406</td>\n",
       "    </tr>\n",
       "    <tr>\n",
       "      <th>4</th>\n",
       "      <td>Samantha</td>\n",
       "      <td>1990</td>\n",
       "      <td>F</td>\n",
       "      <td>25864</td>\n",
       "    </tr>\n",
       "  </tbody>\n",
       "</table>\n",
       "</div>"
      ],
      "text/plain": [
       "       Name  Year Sex  Count\n",
       "0   Jessica  1990   F  46466\n",
       "1    Ashley  1990   F  45549\n",
       "2  Brittany  1990   F  36535\n",
       "3    Amanda  1990   F  34406\n",
       "4  Samantha  1990   F  25864"
      ]
     },
     "execution_count": 19,
     "metadata": {},
     "output_type": "execute_result"
    }
   ],
   "source": [
    "df_names.head()"
   ]
  },
  {
   "cell_type": "code",
   "execution_count": 20,
   "metadata": {},
   "outputs": [
    {
     "data": {
      "text/plain": [
       "'NATHANIEL'"
      ]
     },
     "execution_count": 20,
     "metadata": {},
     "output_type": "execute_result"
    }
   ],
   "source": [
    "parsed_names = df_salaries.EmployeeName.str.split(\" \")\n",
    "parsed_names[0][0]"
   ]
  },
  {
   "cell_type": "markdown",
   "metadata": {
    "deletable": false,
    "editable": false,
    "nbgrader": {
     "cell_type": "markdown",
     "checksum": "bf476acc5f04ff6f47bb19b9a2e07f0c",
     "grade": false,
     "grade_id": "cell-b1aa7c66f41093bd",
     "locked": true,
     "schema_version": 3,
     "solution": false,
     "task": false
    }
   },
   "source": [
    "## Problem 1 -  Get name counts\n",
    "\n",
    "The following function **Get_Counts** will take df_names as an input. It will then output a dataframe called df_count where the index has a entry for each name that appears in df_names, and there are two columns \"male_count\" and \"female_count\" indicating the number of times (sum of the \"Count\" column) the particular name was ever used for a boy and girl respectively. Hint: One way to do this is to use the unstack method after the groupby.\n",
    "\n"
   ]
  },
  {
   "cell_type": "code",
   "execution_count": 21,
   "metadata": {
    "deletable": false,
    "nbgrader": {
     "cell_type": "code",
     "checksum": "fd3520668c7c3a38a4f111a22fc205b2",
     "grade": false,
     "grade_id": "cell-58ecfba240a96491",
     "locked": false,
     "schema_version": 3,
     "solution": true,
     "task": false
    }
   },
   "outputs": [],
   "source": [
    "def Get_Counts(df_names):\n",
    "    \n",
    "    \n",
    "    #Initialize empty dictionaries for names\n",
    "    df_count = None\n",
    "    \n",
    "    # YOUR CODE HERE\n",
    "    count = df_names.drop(columns='Year').groupby([\"Name\", \"Sex\"]).sum().unstack(level=-1).reset_index()\n",
    "\n",
    "    count.columns = count.columns.map(''.join)\n",
    "    mapping = {count.columns[0]: \"Name\", count.columns[1]: \"female_count\", count.columns[2]: \"male_count\"}\n",
    "    count = count.rename(columns=mapping).fillna(0).set_index('Name')\n",
    "    \n",
    "    \n",
    "    return count"
   ]
  },
  {
   "cell_type": "code",
   "execution_count": 22,
   "metadata": {
    "deletable": false,
    "editable": false,
    "nbgrader": {
     "cell_type": "code",
     "checksum": "e319e8fb5a446bf657174ca3ec64c493",
     "grade": true,
     "grade_id": "cell-486d02a2069419f9",
     "locked": true,
     "points": 1,
     "schema_version": 3,
     "solution": false,
     "task": false
    }
   },
   "outputs": [],
   "source": [
    "[df_salaries, df_names] = ReadData()\n",
    "df_count = Get_Counts(df_names)\n",
    "assert df_count.shape[0] == 73402\n",
    "assert df_count.loc[\"Aamir\", \"female_count\"] == 6\n",
    "assert df_count.loc[\"Alex\", \"female_count\"] == 6378"
   ]
  },
  {
   "cell_type": "markdown",
   "metadata": {
    "deletable": false,
    "editable": false,
    "nbgrader": {
     "cell_type": "markdown",
     "checksum": "fcc2fba7e8b939555e68f1ce06d74d14",
     "grade": false,
     "grade_id": "cell-c0d90e4c2cd363f9",
     "locked": true,
     "schema_version": 3,
     "solution": false,
     "task": false
    }
   },
   "source": [
    "## Problem 2 -  Get_Sex\n",
    "\n",
    "This function takes in df_counts from the function Get_Counts and df_salaries and it returns a data called df_combined that has the following three columns:\n",
    "    - Total_Pay (from df_salaries)\n",
    "    - Year (from df_salaries)\n",
    "    - Sex (to be created by you)\n",
    "    \n",
    "There will a row in df_combined for each person (row) in df_salaries whose first name appears in df_counts, i.e. we have either/both a female_count and male_count for this first name. If the first name does not appear in df_counts, then you can discard this person.  The way we will guess the sex of each person in df_salaries is to first pull out their first name from the EmployeeName column, and then check the male and female counts in df_couts of this first name, and choose the sex with the higher count. If there is a tie, we will choose female. Use \"M\" to indicate male, and \"F\" to indicate \"female\". "
   ]
  },
  {
   "cell_type": "code",
   "execution_count": 23,
   "metadata": {
    "deletable": false,
    "nbgrader": {
     "cell_type": "code",
     "checksum": "787d5e621300fceaf849fa35c9d9c9e8",
     "grade": false,
     "grade_id": "cell-21d745227f286218",
     "locked": false,
     "schema_version": 3,
     "solution": true,
     "task": false
    }
   },
   "outputs": [],
   "source": [
    "def Get_Sex(df_salaries, df_count):\n",
    "    \n",
    "    \n",
    "    df_combined = None\n",
    "    \n",
    "    df_salaries['Name'] = df_salaries['EmployeeName'].apply(lambda x: x.split(' ')[0])\n",
    "    df_salaries['Name'] = df_salaries['Name'].str.lower()\n",
    "    df_temp = df_count.reset_index()\n",
    "    df_temp['Name'] = df_temp['Name'].str.lower()\n",
    "    merged = pd.merge(df_temp, df_salaries, on='Name')\n",
    "    merged['Sex'] = merged.apply(lambda x: 'F' if (x.female_count >= x.male_count) else 'M', axis=1)\n",
    "\n",
    "    df_combined = merged[['Total_Pay', 'Year', 'Sex']].copy() \n",
    "    \n",
    "    return df_combined"
   ]
  },
  {
   "cell_type": "code",
   "execution_count": 24,
   "metadata": {
    "deletable": false,
    "editable": false,
    "nbgrader": {
     "cell_type": "code",
     "checksum": "8e70415abfdedbc51449abdd7e1a590d",
     "grade": true,
     "grade_id": "cell-e0a0fdfd3a7a0e02",
     "locked": true,
     "points": 1,
     "schema_version": 3,
     "solution": false,
     "task": false
    }
   },
   "outputs": [],
   "source": [
    "[df_salaries, df_names] = ReadData()\n",
    "df_count = Get_Counts(df_names)\n",
    "df_combined = Get_Sex(df_salaries, df_count)\n",
    "assert df_combined.shape[0] == 106718"
   ]
  },
  {
   "cell_type": "code",
   "execution_count": 25,
   "metadata": {
    "deletable": false,
    "editable": false,
    "nbgrader": {
     "cell_type": "code",
     "checksum": "0d2843f5567fdba8981a602cea084cd2",
     "grade": true,
     "grade_id": "cell-67da26bd19174c9f",
     "locked": true,
     "points": 1,
     "schema_version": 3,
     "solution": false,
     "task": false
    }
   },
   "outputs": [],
   "source": [
    "assert df_combined.Sex.value_counts()[\"M\"] == 62036"
   ]
  },
  {
   "cell_type": "markdown",
   "metadata": {
    "deletable": false,
    "editable": false,
    "nbgrader": {
     "cell_type": "markdown",
     "checksum": "99c7bea42cb03a884b1b456c29c4ab16",
     "grade": false,
     "grade_id": "cell-990e9164a34ead81",
     "locked": true,
     "schema_version": 3,
     "solution": false,
     "task": false
    }
   },
   "source": [
    "## Problem 3 -  Compute the Average Salary\n",
    "\n",
    "In this problem, you will implement a function called **ComputeAvgSalary**. This function takes in df_combined and one of the following four years 2011, 2012, 2013, 2014, and it returns the ratio of avg_male_salary/avg_female_salary for all people in df_combined restricted to the specified year."
   ]
  },
  {
   "cell_type": "code",
   "execution_count": 26,
   "metadata": {
    "deletable": false,
    "nbgrader": {
     "cell_type": "code",
     "checksum": "6e7f721fd71e00cbdabfa5028e17ee0a",
     "grade": false,
     "grade_id": "cell-905b548a66788a5c",
     "locked": false,
     "schema_version": 3,
     "solution": true,
     "task": false
    }
   },
   "outputs": [],
   "source": [
    "def ComputeAvgSalary(df_combined, year):\n",
    "\n",
    "    ratio = None\n",
    "    \n",
    "    avg_male_salary = df_combined['Total_Pay'].loc[(df_combined['Year'] == year) & (df_combined['Sex'] == 'M')].mean()\n",
    "    avg_female_salary = df_combined['Total_Pay'].loc[(df_combined['Year'] == year) & (df_combined['Sex'] == 'F')].mean()\n",
    "    ratio = avg_male_salary/avg_female_salary\n",
    "    \n",
    "    return ratio"
   ]
  },
  {
   "cell_type": "code",
   "execution_count": 27,
   "metadata": {
    "deletable": false,
    "editable": false,
    "nbgrader": {
     "cell_type": "code",
     "checksum": "7e306772af0684348e8a17318150016b",
     "grade": true,
     "grade_id": "cell-500f351a27ee60c1",
     "locked": true,
     "points": 1,
     "schema_version": 3,
     "solution": false,
     "task": false
    }
   },
   "outputs": [],
   "source": [
    "[df_salaries, df_names] = ReadData()\n",
    "df_count = Get_Counts(df_names)\n",
    "df_combined = Get_Sex(df_salaries, df_count)\n",
    "assert np.isclose(ComputeAvgSalary(df_combined, 2011),1.173526)"
   ]
  },
  {
   "cell_type": "code",
   "execution_count": 28,
   "metadata": {
    "deletable": false,
    "editable": false,
    "nbgrader": {
     "cell_type": "code",
     "checksum": "9bb1634ac80898cc4a0f42dd59edd162",
     "grade": true,
     "grade_id": "cell-dd8f4dcb6ac6b28e",
     "locked": true,
     "points": 1,
     "schema_version": 3,
     "solution": false,
     "task": false
    }
   },
   "outputs": [],
   "source": [
    "assert np.isclose(ComputeAvgSalary(df_combined, 2014),1.1444)"
   ]
  },
  {
   "cell_type": "code",
   "execution_count": null,
   "metadata": {},
   "outputs": [],
   "source": []
  }
 ],
 "metadata": {
  "kernelspec": {
   "display_name": "Python 3",
   "language": "python",
   "name": "python3"
  },
  "language_info": {
   "codemirror_mode": {
    "name": "ipython",
    "version": 3
   },
   "file_extension": ".py",
   "mimetype": "text/x-python",
   "name": "python",
   "nbconvert_exporter": "python",
   "pygments_lexer": "ipython3",
   "version": "3.8.3"
  }
 },
 "nbformat": 4,
 "nbformat_minor": 4
}
