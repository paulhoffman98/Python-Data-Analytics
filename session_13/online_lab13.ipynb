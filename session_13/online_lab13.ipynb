{
 "cells": [
  {
   "cell_type": "markdown",
   "metadata": {},
   "source": [
    "## Online Lab: Pandas with Filtering II\n",
    "\n",
    "In this online lab, we will use the NFL data set. The data is at \"data\\football_data\".\n",
    "\n",
    "We are going to review the following knowledge points:\n",
    "\n",
    "1. Groupby with Transform\n",
    "2. Groupby with Filtering\n",
    "3. Merges"
   ]
  },
  {
   "cell_type": "markdown",
   "metadata": {},
   "source": [
    "#### Ex1:  Read in the games and teams dataset"
   ]
  },
  {
   "cell_type": "code",
   "execution_count": 3,
   "metadata": {},
   "outputs": [
    {
     "data": {
      "text/html": [
       "<div>\n",
       "<style scoped>\n",
       "    .dataframe tbody tr th:only-of-type {\n",
       "        vertical-align: middle;\n",
       "    }\n",
       "\n",
       "    .dataframe tbody tr th {\n",
       "        vertical-align: top;\n",
       "    }\n",
       "\n",
       "    .dataframe thead th {\n",
       "        text-align: right;\n",
       "    }\n",
       "</style>\n",
       "<table border=\"1\" class=\"dataframe\">\n",
       "  <thead>\n",
       "    <tr style=\"text-align: right;\">\n",
       "      <th></th>\n",
       "      <th>TeamID</th>\n",
       "      <th>TeamName</th>\n",
       "      <th>TeamCapsAbrv</th>\n",
       "      <th>TeamAbrv</th>\n",
       "    </tr>\n",
       "  </thead>\n",
       "  <tbody>\n",
       "    <tr>\n",
       "      <th>0</th>\n",
       "      <td>1</td>\n",
       "      <td>Baltimore Ravens</td>\n",
       "      <td>RAV</td>\n",
       "      <td>rav</td>\n",
       "    </tr>\n",
       "    <tr>\n",
       "      <th>1</th>\n",
       "      <td>2</td>\n",
       "      <td>Denver Broncos</td>\n",
       "      <td>DEN</td>\n",
       "      <td>den</td>\n",
       "    </tr>\n",
       "    <tr>\n",
       "      <th>2</th>\n",
       "      <td>3</td>\n",
       "      <td>Oakland Raiders</td>\n",
       "      <td>RAI</td>\n",
       "      <td>rai</td>\n",
       "    </tr>\n",
       "    <tr>\n",
       "      <th>3</th>\n",
       "      <td>4</td>\n",
       "      <td>Philadelphia Eagles</td>\n",
       "      <td>PHI</td>\n",
       "      <td>phi</td>\n",
       "    </tr>\n",
       "    <tr>\n",
       "      <th>4</th>\n",
       "      <td>5</td>\n",
       "      <td>Dallas Cowboys</td>\n",
       "      <td>DAL</td>\n",
       "      <td>dal</td>\n",
       "    </tr>\n",
       "  </tbody>\n",
       "</table>\n",
       "</div>"
      ],
      "text/plain": [
       "   TeamID             TeamName TeamCapsAbrv TeamAbrv\n",
       "0       1     Baltimore Ravens          RAV      rav\n",
       "1       2       Denver Broncos          DEN      den\n",
       "2       3      Oakland Raiders          RAI      rai\n",
       "3       4  Philadelphia Eagles          PHI      phi\n",
       "4       5       Dallas Cowboys          DAL      dal"
      ]
     },
     "execution_count": 3,
     "metadata": {},
     "output_type": "execute_result"
    }
   ],
   "source": [
    "import pandas as pd\n",
    "\n",
    "df_games = pd.read_csv(\"data/football_data/nflgames.csv\")\n",
    "df_teams = pd.read_csv(\"data/football_data/nflteams.csv\")\n",
    "df_teams.head()"
   ]
  },
  {
   "cell_type": "markdown",
   "metadata": {},
   "source": [
    "#### Ex2:  Compute the average homescores for all teams in this dataset"
   ]
  },
  {
   "cell_type": "code",
   "execution_count": 5,
   "metadata": {},
   "outputs": [
    {
     "data": {
      "text/plain": [
       "24.973958333333332"
      ]
     },
     "execution_count": 5,
     "metadata": {},
     "output_type": "execute_result"
    }
   ],
   "source": [
    "og_avg_homescores = df_games[\"HomeScore\"].mean()\n",
    "og_avg_homescores"
   ]
  },
  {
   "cell_type": "markdown",
   "metadata": {},
   "source": [
    "#### Ex3:  Create a categorical variable called temp_cate, which is equal to high if temp > 80, middle if temp is in [65, 80] and low if temp < 65."
   ]
  },
  {
   "cell_type": "code",
   "execution_count": 8,
   "metadata": {},
   "outputs": [
    {
     "data": {
      "text/html": [
       "<div>\n",
       "<style scoped>\n",
       "    .dataframe tbody tr th:only-of-type {\n",
       "        vertical-align: middle;\n",
       "    }\n",
       "\n",
       "    .dataframe tbody tr th {\n",
       "        vertical-align: top;\n",
       "    }\n",
       "\n",
       "    .dataframe thead th {\n",
       "        text-align: right;\n",
       "    }\n",
       "</style>\n",
       "<table border=\"1\" class=\"dataframe\">\n",
       "  <thead>\n",
       "    <tr style=\"text-align: right;\">\n",
       "      <th></th>\n",
       "      <th>GameID</th>\n",
       "      <th>Week</th>\n",
       "      <th>HomeTeamID</th>\n",
       "      <th>AwayTeamID</th>\n",
       "      <th>HomeScore</th>\n",
       "      <th>AwayScore</th>\n",
       "      <th>DayOfWeek</th>\n",
       "      <th>TimeOfDay</th>\n",
       "      <th>FieldType</th>\n",
       "      <th>Temp</th>\n",
       "      <th>Wind</th>\n",
       "      <th>temp_cate</th>\n",
       "    </tr>\n",
       "  </thead>\n",
       "  <tbody>\n",
       "    <tr>\n",
       "      <th>0</th>\n",
       "      <td>1</td>\n",
       "      <td>1</td>\n",
       "      <td>1</td>\n",
       "      <td>29</td>\n",
       "      <td>16</td>\n",
       "      <td>23</td>\n",
       "      <td>Sun</td>\n",
       "      <td>Day</td>\n",
       "      <td>sportturf</td>\n",
       "      <td>74</td>\n",
       "      <td>8</td>\n",
       "      <td>middle</td>\n",
       "    </tr>\n",
       "    <tr>\n",
       "      <th>1</th>\n",
       "      <td>2</td>\n",
       "      <td>2</td>\n",
       "      <td>1</td>\n",
       "      <td>28</td>\n",
       "      <td>26</td>\n",
       "      <td>6</td>\n",
       "      <td>Thu</td>\n",
       "      <td>Night</td>\n",
       "      <td>sportturf</td>\n",
       "      <td>82</td>\n",
       "      <td>6</td>\n",
       "      <td>high</td>\n",
       "    </tr>\n",
       "    <tr>\n",
       "      <th>2</th>\n",
       "      <td>3</td>\n",
       "      <td>3</td>\n",
       "      <td>27</td>\n",
       "      <td>1</td>\n",
       "      <td>21</td>\n",
       "      <td>23</td>\n",
       "      <td>Sun</td>\n",
       "      <td>Day</td>\n",
       "      <td>grass</td>\n",
       "      <td>71</td>\n",
       "      <td>23</td>\n",
       "      <td>middle</td>\n",
       "    </tr>\n",
       "    <tr>\n",
       "      <th>3</th>\n",
       "      <td>4</td>\n",
       "      <td>4</td>\n",
       "      <td>1</td>\n",
       "      <td>15</td>\n",
       "      <td>38</td>\n",
       "      <td>10</td>\n",
       "      <td>Sun</td>\n",
       "      <td>Day</td>\n",
       "      <td>sportturf</td>\n",
       "      <td>78</td>\n",
       "      <td>4</td>\n",
       "      <td>middle</td>\n",
       "    </tr>\n",
       "    <tr>\n",
       "      <th>4</th>\n",
       "      <td>5</td>\n",
       "      <td>5</td>\n",
       "      <td>7</td>\n",
       "      <td>1</td>\n",
       "      <td>20</td>\n",
       "      <td>13</td>\n",
       "      <td>Sun</td>\n",
       "      <td>Day</td>\n",
       "      <td>fieldturf</td>\n",
       "      <td>0</td>\n",
       "      <td>0</td>\n",
       "      <td>low</td>\n",
       "    </tr>\n",
       "  </tbody>\n",
       "</table>\n",
       "</div>"
      ],
      "text/plain": [
       "   GameID  Week  HomeTeamID  AwayTeamID  HomeScore  AwayScore DayOfWeek  \\\n",
       "0       1     1           1          29         16         23       Sun   \n",
       "1       2     2           1          28         26          6       Thu   \n",
       "2       3     3          27           1         21         23       Sun   \n",
       "3       4     4           1          15         38         10       Sun   \n",
       "4       5     5           7           1         20         13       Sun   \n",
       "\n",
       "  TimeOfDay   FieldType  Temp  Wind temp_cate  \n",
       "0       Day   sportturf    74     8    middle  \n",
       "1     Night   sportturf    82     6      high  \n",
       "2       Day      grass     71    23    middle  \n",
       "3       Day   sportturf    78     4    middle  \n",
       "4       Day  fieldturf      0     0       low  "
      ]
     },
     "execution_count": 8,
     "metadata": {},
     "output_type": "execute_result"
    }
   ],
   "source": [
    "def temp_cate (temp):\n",
    "    if temp > 80:\n",
    "        return \"high\"\n",
    "    elif temp < 65: \n",
    "        return \"low\"\n",
    "    else:\n",
    "        return \"middle\"\n",
    "    \n",
    "df_games[\"temp_cate\"] = df_games[\"Temp\"].apply(temp_cate)\n",
    "df_games.head()"
   ]
  },
  {
   "cell_type": "markdown",
   "metadata": {},
   "source": [
    "#### Ex4:  Standardize A team's homescore based on the average and standard deviations of homescores of all games in that temperature region."
   ]
  },
  {
   "cell_type": "code",
   "execution_count": 14,
   "metadata": {},
   "outputs": [
    {
     "data": {
      "text/html": [
       "<div>\n",
       "<style scoped>\n",
       "    .dataframe tbody tr th:only-of-type {\n",
       "        vertical-align: middle;\n",
       "    }\n",
       "\n",
       "    .dataframe tbody tr th {\n",
       "        vertical-align: top;\n",
       "    }\n",
       "\n",
       "    .dataframe thead th {\n",
       "        text-align: right;\n",
       "    }\n",
       "</style>\n",
       "<table border=\"1\" class=\"dataframe\">\n",
       "  <thead>\n",
       "    <tr style=\"text-align: right;\">\n",
       "      <th></th>\n",
       "      <th>GameID</th>\n",
       "      <th>Week</th>\n",
       "      <th>HomeTeamID</th>\n",
       "      <th>AwayTeamID</th>\n",
       "      <th>HomeScore</th>\n",
       "      <th>AwayScore</th>\n",
       "      <th>DayOfWeek</th>\n",
       "      <th>TimeOfDay</th>\n",
       "      <th>FieldType</th>\n",
       "      <th>Temp</th>\n",
       "      <th>Wind</th>\n",
       "      <th>temp_cate</th>\n",
       "      <th>standardized_homescore</th>\n",
       "    </tr>\n",
       "  </thead>\n",
       "  <tbody>\n",
       "    <tr>\n",
       "      <th>0</th>\n",
       "      <td>1</td>\n",
       "      <td>1</td>\n",
       "      <td>1</td>\n",
       "      <td>29</td>\n",
       "      <td>16</td>\n",
       "      <td>23</td>\n",
       "      <td>Sun</td>\n",
       "      <td>Day</td>\n",
       "      <td>sportturf</td>\n",
       "      <td>74</td>\n",
       "      <td>8</td>\n",
       "      <td>middle</td>\n",
       "      <td>-0.672074</td>\n",
       "    </tr>\n",
       "    <tr>\n",
       "      <th>1</th>\n",
       "      <td>2</td>\n",
       "      <td>2</td>\n",
       "      <td>1</td>\n",
       "      <td>28</td>\n",
       "      <td>26</td>\n",
       "      <td>6</td>\n",
       "      <td>Thu</td>\n",
       "      <td>Night</td>\n",
       "      <td>sportturf</td>\n",
       "      <td>82</td>\n",
       "      <td>6</td>\n",
       "      <td>high</td>\n",
       "      <td>0.094846</td>\n",
       "    </tr>\n",
       "    <tr>\n",
       "      <th>2</th>\n",
       "      <td>3</td>\n",
       "      <td>3</td>\n",
       "      <td>27</td>\n",
       "      <td>1</td>\n",
       "      <td>21</td>\n",
       "      <td>23</td>\n",
       "      <td>Sun</td>\n",
       "      <td>Day</td>\n",
       "      <td>grass</td>\n",
       "      <td>71</td>\n",
       "      <td>23</td>\n",
       "      <td>middle</td>\n",
       "      <td>-0.160919</td>\n",
       "    </tr>\n",
       "    <tr>\n",
       "      <th>3</th>\n",
       "      <td>4</td>\n",
       "      <td>4</td>\n",
       "      <td>1</td>\n",
       "      <td>15</td>\n",
       "      <td>38</td>\n",
       "      <td>10</td>\n",
       "      <td>Sun</td>\n",
       "      <td>Day</td>\n",
       "      <td>sportturf</td>\n",
       "      <td>78</td>\n",
       "      <td>4</td>\n",
       "      <td>middle</td>\n",
       "      <td>1.577007</td>\n",
       "    </tr>\n",
       "    <tr>\n",
       "      <th>4</th>\n",
       "      <td>5</td>\n",
       "      <td>5</td>\n",
       "      <td>7</td>\n",
       "      <td>1</td>\n",
       "      <td>20</td>\n",
       "      <td>13</td>\n",
       "      <td>Sun</td>\n",
       "      <td>Day</td>\n",
       "      <td>fieldturf</td>\n",
       "      <td>0</td>\n",
       "      <td>0</td>\n",
       "      <td>low</td>\n",
       "      <td>-0.522104</td>\n",
       "    </tr>\n",
       "  </tbody>\n",
       "</table>\n",
       "</div>"
      ],
      "text/plain": [
       "   GameID  Week  HomeTeamID  AwayTeamID  HomeScore  AwayScore DayOfWeek  \\\n",
       "0       1     1           1          29         16         23       Sun   \n",
       "1       2     2           1          28         26          6       Thu   \n",
       "2       3     3          27           1         21         23       Sun   \n",
       "3       4     4           1          15         38         10       Sun   \n",
       "4       5     5           7           1         20         13       Sun   \n",
       "\n",
       "  TimeOfDay   FieldType  Temp  Wind temp_cate  standardized_homescore  \n",
       "0       Day   sportturf    74     8    middle               -0.672074  \n",
       "1     Night   sportturf    82     6      high                0.094846  \n",
       "2       Day      grass     71    23    middle               -0.160919  \n",
       "3       Day   sportturf    78     4    middle                1.577007  \n",
       "4       Day  fieldturf      0     0       low               -0.522104  "
      ]
     },
     "execution_count": 14,
     "metadata": {},
     "output_type": "execute_result"
    }
   ],
   "source": [
    "df_games[\"standardized_homescore\"] = df_games.groupby(by = \"temp_cate\")[\"HomeScore\"]\\\n",
    "                                    .transform(lambda x: (x - x.mean()) / x.std())\n",
    "df_games.head()\n"
   ]
  },
  {
   "cell_type": "markdown",
   "metadata": {},
   "source": [
    "#### Ex5: Filter out the teams whose average standardized homescores are below 0"
   ]
  },
  {
   "cell_type": "code",
   "execution_count": 16,
   "metadata": {},
   "outputs": [
    {
     "data": {
      "text/plain": [
       "(84, 13)"
      ]
     },
     "execution_count": 16,
     "metadata": {},
     "output_type": "execute_result"
    }
   ],
   "source": [
    "df_games2 = df_games.groupby(by = \"HomeTeamID\").filter(lambda  x: x[\"standardized_homescore\"].mean() >= 0)\n",
    "df_games2.shape"
   ]
  },
  {
   "cell_type": "markdown",
   "metadata": {},
   "source": [
    "#### Ex6:  Compute the average (non-standardized) homescores for all teams in this new dataset"
   ]
  },
  {
   "cell_type": "code",
   "execution_count": 18,
   "metadata": {},
   "outputs": [
    {
     "data": {
      "text/plain": [
       "(30.666666666666668, 24.973958333333332)"
      ]
     },
     "execution_count": 18,
     "metadata": {},
     "output_type": "execute_result"
    }
   ],
   "source": [
    "avg_homescores = df_games2[\"HomeScore\"].mean()\n",
    "avg_homescores, og_avg_homescores"
   ]
  },
  {
   "cell_type": "markdown",
   "metadata": {},
   "source": [
    "#### Ex7:  Create a dataset contains 2 columns: one is the team's average (non-standardized) homescores for the non-filtered teams, and the other is the team's abbreviation"
   ]
  },
  {
   "cell_type": "code",
   "execution_count": 21,
   "metadata": {},
   "outputs": [
    {
     "data": {
      "text/html": [
       "<div>\n",
       "<style scoped>\n",
       "    .dataframe tbody tr th:only-of-type {\n",
       "        vertical-align: middle;\n",
       "    }\n",
       "\n",
       "    .dataframe tbody tr th {\n",
       "        vertical-align: top;\n",
       "    }\n",
       "\n",
       "    .dataframe thead th {\n",
       "        text-align: right;\n",
       "    }\n",
       "</style>\n",
       "<table border=\"1\" class=\"dataframe\">\n",
       "  <thead>\n",
       "    <tr style=\"text-align: right;\">\n",
       "      <th></th>\n",
       "      <th>TeamAbrv</th>\n",
       "      <th>avg_HomeScore</th>\n",
       "    </tr>\n",
       "  </thead>\n",
       "  <tbody>\n",
       "    <tr>\n",
       "      <th>0</th>\n",
       "      <td>rav</td>\n",
       "      <td>27.166667</td>\n",
       "    </tr>\n",
       "    <tr>\n",
       "      <th>1</th>\n",
       "      <td>den</td>\n",
       "      <td>35.333333</td>\n",
       "    </tr>\n",
       "    <tr>\n",
       "      <th>2</th>\n",
       "      <td>phi</td>\n",
       "      <td>36.666667</td>\n",
       "    </tr>\n",
       "    <tr>\n",
       "      <th>3</th>\n",
       "      <td>clt</td>\n",
       "      <td>29.571429</td>\n",
       "    </tr>\n",
       "    <tr>\n",
       "      <th>4</th>\n",
       "      <td>sdg</td>\n",
       "      <td>25.666667</td>\n",
       "    </tr>\n",
       "    <tr>\n",
       "      <th>5</th>\n",
       "      <td>kan</td>\n",
       "      <td>24.833333</td>\n",
       "    </tr>\n",
       "    <tr>\n",
       "      <th>6</th>\n",
       "      <td>nwe</td>\n",
       "      <td>35.666667</td>\n",
       "    </tr>\n",
       "    <tr>\n",
       "      <th>7</th>\n",
       "      <td>atl</td>\n",
       "      <td>30.000000</td>\n",
       "    </tr>\n",
       "    <tr>\n",
       "      <th>8</th>\n",
       "      <td>nor</td>\n",
       "      <td>27.000000</td>\n",
       "    </tr>\n",
       "    <tr>\n",
       "      <th>9</th>\n",
       "      <td>sea</td>\n",
       "      <td>28.666667</td>\n",
       "    </tr>\n",
       "    <tr>\n",
       "      <th>10</th>\n",
       "      <td>mia</td>\n",
       "      <td>26.200000</td>\n",
       "    </tr>\n",
       "    <tr>\n",
       "      <th>11</th>\n",
       "      <td>pit</td>\n",
       "      <td>35.000000</td>\n",
       "    </tr>\n",
       "    <tr>\n",
       "      <th>12</th>\n",
       "      <td>cin</td>\n",
       "      <td>26.166667</td>\n",
       "    </tr>\n",
       "    <tr>\n",
       "      <th>13</th>\n",
       "      <td>gnb</td>\n",
       "      <td>40.833333</td>\n",
       "    </tr>\n",
       "  </tbody>\n",
       "</table>\n",
       "</div>"
      ],
      "text/plain": [
       "   TeamAbrv  avg_HomeScore\n",
       "0       rav      27.166667\n",
       "1       den      35.333333\n",
       "2       phi      36.666667\n",
       "3       clt      29.571429\n",
       "4       sdg      25.666667\n",
       "5       kan      24.833333\n",
       "6       nwe      35.666667\n",
       "7       atl      30.000000\n",
       "8       nor      27.000000\n",
       "9       sea      28.666667\n",
       "10      mia      26.200000\n",
       "11      pit      35.000000\n",
       "12      cin      26.166667\n",
       "13      gnb      40.833333"
      ]
     },
     "execution_count": 21,
     "metadata": {},
     "output_type": "execute_result"
    }
   ],
   "source": [
    "df_team2 = df_games2.groupby(\"HomeTeamID\")\\\n",
    "            .apply(lambda df: pd.Series({\"avg_HomeScore\" : df[\"HomeScore\"].mean()}))\n",
    "df_team2 = df_team2.reset_index()\n",
    "df_team2 = df_team2.merge(df_teams, how = \"left\", left_on = \"HomeTeamID\", right_on = \"TeamID\")\n",
    "df_team2 = df_team2[[\"TeamAbrv\", \"avg_HomeScore\"]]\n",
    "df_team2"
   ]
  },
  {
   "cell_type": "code",
   "execution_count": null,
   "metadata": {},
   "outputs": [],
   "source": []
  }
 ],
 "metadata": {
  "kernelspec": {
   "display_name": "Python 3",
   "language": "python",
   "name": "python3"
  },
  "language_info": {
   "codemirror_mode": {
    "name": "ipython",
    "version": 3
   },
   "file_extension": ".py",
   "mimetype": "text/x-python",
   "name": "python",
   "nbconvert_exporter": "python",
   "pygments_lexer": "ipython3",
   "version": "3.8.3"
  }
 },
 "nbformat": 4,
 "nbformat_minor": 2
}
