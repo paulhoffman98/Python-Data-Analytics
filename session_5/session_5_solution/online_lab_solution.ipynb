{
 "cells": [
  {
   "cell_type": "markdown",
   "metadata": {},
   "source": [
    "# Minimum Wage Average\n",
    "\n",
    "In this problem you will analyze the data set \"Min_Wage_data.csv\", whose columns have the following meaning\n",
    "\n",
    "- Year: Miniumum wage data for that year\n",
    "- State: Miniumum wage data for that year\n",
    "- True_Wage: The unadjusted wage for the state-year\n",
    "- 2018_wage: The mininum wage adjusted to the year 2018. \n",
    "\n",
    "Your first task is to read the minumum wage data from the the file \"Min_Wage_data.csv\" and produce a dictionary that ultimately has a key for each state in the data set whose value is the average 2018 wage over  all of the years for which there is data for the given state.  Then create a file called \"min_wage_by_state.csv\" that has a row for each state in the data.  The first column of this csv should be the state and the second column should be average minimum wage.  You may choose to have column titles if you want, but this is not necessary."
   ]
  },
  {
   "cell_type": "code",
   "execution_count": 1,
   "metadata": {
    "collapsed": false
   },
   "outputs": [],
   "source": [
    "#Reading file and creating dictionary\n",
    "f = open(\"Data/Min_Wage_data.csv\", \"r\")\n",
    "lines = f.readlines()\n",
    "\n",
    "min_wage_D = {}\n",
    "for line in lines[1:]:\n",
    "    parsed_line = line.strip(\"\\n\").split(\",\")\n",
    "    state = parsed_line[1]\n",
    "    min_wage_2018 = float(parsed_line[3])\n",
    "    \n",
    "    if state in min_wage_D:\n",
    "        min_wage_D[state].append(min_wage_2018)\n",
    "    else:\n",
    "        min_wage_D[state]= [min_wage_2018]\n",
    "        \n",
    "\n",
    "#Writing the results\n",
    "f_final = open(\"min_wage_by_state.csv\", \"w\")\n",
    "for state in min_wage_D:\n",
    "    \n",
    "    avg_wage = sum(min_wage_D[state])/len(min_wage_D[state])\n",
    "    \n",
    "    f_final.write(\"%s, %0.2f\\n\" %(state,avg_wage))\n",
    "\n",
    "f_final.close()\n"
   ]
  },
  {
   "cell_type": "code",
   "execution_count": null,
   "metadata": {
    "collapsed": true
   },
   "outputs": [],
   "source": []
  }
 ],
 "metadata": {
  "kernelspec": {
   "display_name": "Python 3",
   "language": "python",
   "name": "python3"
  },
  "language_info": {
   "codemirror_mode": {
    "name": "ipython",
    "version": 3
   },
   "file_extension": ".py",
   "mimetype": "text/x-python",
   "name": "python",
   "nbconvert_exporter": "python",
   "pygments_lexer": "ipython3",
   "version": "3.6.0"
  },
  "toc": {
   "colors": {
    "hover_highlight": "#DAA520",
    "navigate_num": "#000000",
    "navigate_text": "#333333",
    "running_highlight": "#FF0000",
    "selected_highlight": "#FFD700",
    "sidebar_border": "#EEEEEE",
    "wrapper_background": "#FFFFFF"
   },
   "moveMenuLeft": true,
   "nav_menu": {
    "height": "30px",
    "width": "252px"
   },
   "navigate_menu": true,
   "number_sections": true,
   "sideBar": true,
   "threshold": 4,
   "toc_cell": false,
   "toc_section_display": "block",
   "toc_window_display": false,
   "widenNotebook": false
  }
 },
 "nbformat": 4,
 "nbformat_minor": 2
}
