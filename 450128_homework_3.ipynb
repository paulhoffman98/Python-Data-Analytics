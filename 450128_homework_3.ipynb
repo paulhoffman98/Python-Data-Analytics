{
 "cells": [
  {
   "cell_type": "markdown",
   "metadata": {
    "deletable": false,
    "editable": false,
    "nbgrader": {
     "cell_type": "markdown",
     "checksum": "de5746f23b8e1f582d010e28bb1d6c87",
     "grade": false,
     "grade_id": "cell-a4c41f39205051c2",
     "locked": true,
     "schema_version": 3,
     "solution": false
    }
   },
   "source": [
    "# Homework 3\n",
    "\n",
    "\n",
    "## Problem 1 (Reocurring Characters: dictionaries) \n",
    "\n",
    "For a given string s, return the first reoccuring character in the string.  Try to get an approach that is $O(n)$, where $n$ is the number of characters in the string. If there is no such character, return None. \n",
    "    \n",
    "    -- Input:\"ABCA\"\n",
    "    -- Output:\"A\""
   ]
  },
  {
   "cell_type": "code",
   "execution_count": 37,
   "metadata": {
    "deletable": false,
    "nbgrader": {
     "cell_type": "code",
     "checksum": "d1e15965270c6cc6b535924ef0566472",
     "grade": false,
     "grade_id": "cell-b78086c290d4a60c",
     "locked": false,
     "schema_version": 3,
     "solution": true
    }
   },
   "outputs": [],
   "source": [
    "def problem1(s):\n",
    "    occurent_letter = None\n",
    "    \n",
    "    character = {}\n",
    "    \n",
    "    for letter in s:\n",
    "        if letter in character:\n",
    "            occurent_letter = letter\n",
    "            break\n",
    "        else:\n",
    "            character[letter] = 0\n",
    "    return(occurent_letter)"
   ]
  },
  {
   "cell_type": "code",
   "execution_count": 38,
   "metadata": {
    "deletable": false,
    "editable": false,
    "nbgrader": {
     "cell_type": "code",
     "checksum": "7819be8506064d497aa7c761c8f6d4c2",
     "grade": true,
     "grade_id": "cell-2853176972493b6e",
     "locked": true,
     "points": 10,
     "schema_version": 3,
     "solution": false
    }
   },
   "outputs": [],
   "source": [
    "assert problem1(\"ABCA\") == \"A\""
   ]
  },
  {
   "cell_type": "code",
   "execution_count": 39,
   "metadata": {
    "deletable": false,
    "editable": false,
    "nbgrader": {
     "cell_type": "code",
     "checksum": "a587e1f63dc1915d4208d0f245abaeb9",
     "grade": true,
     "grade_id": "cell-b16dd3056b5a9f95",
     "locked": true,
     "points": 10,
     "schema_version": 3,
     "solution": false
    }
   },
   "outputs": [],
   "source": [
    "assert problem1(\"ABC\") == None"
   ]
  },
  {
   "cell_type": "code",
   "execution_count": 40,
   "metadata": {
    "deletable": false,
    "editable": false,
    "nbgrader": {
     "cell_type": "code",
     "checksum": "46a9a57ddf0534f37788241b03e29e46",
     "grade": true,
     "grade_id": "cell-ab1b1d0a5f7b1fce",
     "locked": true,
     "points": 10,
     "schema_version": 3,
     "solution": false
    }
   },
   "outputs": [],
   "source": [
    "assert problem1(\"ABCBA\") == \"B\""
   ]
  },
  {
   "cell_type": "markdown",
   "metadata": {
    "deletable": false,
    "editable": false,
    "nbgrader": {
     "cell_type": "markdown",
     "checksum": "8c1597fa523fe5fbe7d233a6ecece15d",
     "grade": false,
     "grade_id": "cell-1c14a1786a26dc5a",
     "locked": true,
     "schema_version": 3,
     "solution": false
    }
   },
   "source": [
    "## Problem 2 (String Methods):\n",
    "\n",
    "We have learnt that strings are immutable objects. In the following, you are asked to write a code to \"mutate\" a string. In particular, you are given a string, a position number and a character. You should return a different string such that this string is the same as the input string except the character in the position is changed to the given character. \n",
    "\n",
    "Example:\n",
    "\n",
    "    input: \n",
    "        original_string = \"Hello world!\"\n",
    "        position=6\n",
    "        character=\"W\"\n",
    "    ouput: \"Hello World!\""
   ]
  },
  {
   "cell_type": "code",
   "execution_count": 34,
   "metadata": {
    "deletable": false,
    "nbgrader": {
     "cell_type": "code",
     "checksum": "88f23b4cea108e928b42742a82a781e2",
     "grade": false,
     "grade_id": "cell-562beecb93f03f23",
     "locked": false,
     "schema_version": 3,
     "solution": true
    }
   },
   "outputs": [],
   "source": [
    "def problem2(original_string, position, character):\n",
    "    return_string = \"\"\n",
    "    \n",
    "    return_string = original_string[:position] + character  + original_string[position+1:]\n",
    "   \n",
    "    return(return_string)"
   ]
  },
  {
   "cell_type": "code",
   "execution_count": 35,
   "metadata": {
    "deletable": false,
    "editable": false,
    "nbgrader": {
     "cell_type": "code",
     "checksum": "e540b6bc7b64200a081ed67388b03b95",
     "grade": true,
     "grade_id": "cell-681343a4d7e22bbd",
     "locked": true,
     "points": 10,
     "schema_version": 3,
     "solution": false
    }
   },
   "outputs": [
    {
     "name": "stdout",
     "output_type": "stream",
     "text": [
      "Hello World!\n"
     ]
    }
   ],
   "source": [
    "# Test cases for Problem Set 4\n",
    "assert problem2(\"Hello world!\", 6, \"W\") == \"Hello World!\""
   ]
  },
  {
   "cell_type": "code",
   "execution_count": 36,
   "metadata": {
    "deletable": false,
    "editable": false,
    "nbgrader": {
     "cell_type": "code",
     "checksum": "f3e30a92c6fdcc307797ae58bfe57c6e",
     "grade": true,
     "grade_id": "cell-402bf89f76c4bd42",
     "locked": true,
     "points": 10,
     "schema_version": 3,
     "solution": false
    }
   },
   "outputs": [
    {
     "name": "stdout",
     "output_type": "stream",
     "text": [
      "Hello world.\n"
     ]
    }
   ],
   "source": [
    "assert problem2(\"Hello world!\", 11, \".\") == \"Hello world.\""
   ]
  },
  {
   "cell_type": "code",
   "execution_count": null,
   "metadata": {},
   "outputs": [],
   "source": []
  }
 ],
 "metadata": {
  "kernelspec": {
   "display_name": "Python 3",
   "language": "python",
   "name": "python3"
  },
  "language_info": {
   "codemirror_mode": {
    "name": "ipython",
    "version": 3
   },
   "file_extension": ".py",
   "mimetype": "text/x-python",
   "name": "python",
   "nbconvert_exporter": "python",
   "pygments_lexer": "ipython3",
   "version": "3.8.3"
  },
  "toc": {
   "colors": {
    "hover_highlight": "#DAA520",
    "navigate_num": "#000000",
    "navigate_text": "#333333",
    "running_highlight": "#FF0000",
    "selected_highlight": "#FFD700",
    "sidebar_border": "#EEEEEE",
    "wrapper_background": "#FFFFFF"
   },
   "moveMenuLeft": true,
   "nav_menu": {
    "height": "30px",
    "width": "252px"
   },
   "navigate_menu": true,
   "number_sections": true,
   "sideBar": true,
   "skip_h1_title": false,
   "threshold": 4,
   "toc_cell": false,
   "toc_position": {},
   "toc_section_display": "block",
   "toc_window_display": false,
   "widenNotebook": false
  }
 },
 "nbformat": 4,
 "nbformat_minor": 2
}
