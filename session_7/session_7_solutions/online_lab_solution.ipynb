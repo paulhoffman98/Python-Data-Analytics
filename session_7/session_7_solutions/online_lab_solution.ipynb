{
 "cells": [
  {
   "cell_type": "markdown",
   "metadata": {},
   "source": [
    "# Finding the Optimal Product Display\n",
    "\n",
    "\n",
    "The file Product_Data.csv contains information on 20 products.  The three columns have the following meaning:\n",
    "\n",
    "- ID: Product ID\n",
    "- pref weight: The attraction score for the given product. More on this below.\n",
    "- revenue: Self-explanatory\n",
    "\n",
    "Let $v_i$ be the attraction score of product $i$.  Then if I offer product $S$ (subset of products), then the probability that product $i \\in S$ is purchase is given $P_i(S) = \\frac{v_i}{1 + \\sum_{j \\in S}v_j}$. Your goal is to find the subset of products to offer that maximizes the expected revenue by trying every possible assortment.  The expected revenue of offering assortment $S$ is given by $R(S) = \\sum_{i \\in S}r_i \\cdot P_i(S) = \\frac{r_i\\cdot v_i}{1 + \\sum_{j \\in S}v_j}$ (The revenue times the purchase probability summed over each offered product). The last functions you write will output the best possible expected revenue you can get.  This should be 3.95.\n"
   ]
  },
  {
   "cell_type": "code",
   "execution_count": 1,
   "metadata": {
    "collapsed": true
   },
   "outputs": [],
   "source": [
    "import itertools as it"
   ]
  },
  {
   "cell_type": "code",
   "execution_count": 2,
   "metadata": {
    "collapsed": false
   },
   "outputs": [],
   "source": [
    "def Read_Data():\n",
    "    \"\"\"Reads the product data in to a dictionary tht has a key for each product ID\n",
    "    whose value is the list [pref_weight, revenue]\"\"\"\n",
    "    \n",
    "    lines = [l.strip(\"\\n\").split(\",\") for l in open(\"Data/Product_Data.csv\").readlines()]\n",
    "    \n",
    "    return {int(line[0]): [float(line[1]), float(line[2])]  for line in lines[1:]}\n",
    "\n"
   ]
  },
  {
   "cell_type": "code",
   "execution_count": 3,
   "metadata": {
    "collapsed": false
   },
   "outputs": [],
   "source": [
    "def Compute_Revenue(S, D_product):\n",
    "    \"\"\"Input:\n",
    "    \n",
    "    S - list of product idea\n",
    "    D_product: product info dictionary returned from Read_Data()\n",
    "    \n",
    "    Return the expected revenue of assortment S.  To check, the expected revnue of \n",
    "    S = [1,2,3] should be 5.56\n",
    "    \n",
    "    \"\"\"\n",
    "    \n",
    "    denom=1\n",
    "    for prod in S:\n",
    "        denom+=D_product[prod][0]\n",
    "    \n",
    "    rev=0\n",
    "    for prod in S:\n",
    "        v = D_product[prod][0]\n",
    "        r = D_product[prod][1]\n",
    "        rev+=(r*v)/denom\n",
    "    \n",
    "    return rev\n"
   ]
  },
  {
   "cell_type": "code",
   "execution_count": 4,
   "metadata": {
    "collapsed": false
   },
   "outputs": [],
   "source": [
    "def All_S(list_prods):\n",
    "    \n",
    "    \"\"\"Input:\n",
    "    \n",
    "    list_prods - list of all product IDs\n",
    "    \n",
    "    \n",
    "    Return a list of lists, where each inner list is a possible assortment S.\n",
    "    Hint: Use the combinations method from the package itertools. \n",
    "    \"\"\"\n",
    "    \n",
    "    return [list(S) for i in range(len(list_prods)+1) for S in it.combinations(list_prods,i)]\n",
    "\n"
   ]
  },
  {
   "cell_type": "code",
   "execution_count": 5,
   "metadata": {
    "collapsed": true
   },
   "outputs": [],
   "source": [
    "def Compute_Best_S(D_product):\n",
    "    \"\"\"Input:\n",
    "    \n",
    "   \n",
    "    D_product: product info dictionary returned from Read_Data()\n",
    "    \n",
    "    Return the expected revenue of the best assortment \n",
    "    \n",
    "    \"\"\"\n",
    "    \n",
    "    All_assorts = All_S(list(D_product.keys()))\n",
    "    best_rev = -100\n",
    "    for S in All_assorts:\n",
    "        current_rev = Compute_Revenue(S, D_product)\n",
    "        if current_rev>best_rev:\n",
    "            best_rev = current_rev\n",
    "    \n",
    "    \n",
    "    return best_rev"
   ]
  },
  {
   "cell_type": "code",
   "execution_count": 6,
   "metadata": {
    "collapsed": false
   },
   "outputs": [
    {
     "data": {
      "text/plain": [
       "3.9454054054054053"
      ]
     },
     "execution_count": 6,
     "metadata": {},
     "output_type": "execute_result"
    }
   ],
   "source": [
    "D_product = Read_Data()\n",
    "Compute_Best_S(D_product)"
   ]
  },
  {
   "cell_type": "code",
   "execution_count": null,
   "metadata": {
    "collapsed": true
   },
   "outputs": [],
   "source": []
  }
 ],
 "metadata": {
  "kernelspec": {
   "display_name": "Python 3",
   "language": "python",
   "name": "python3"
  },
  "language_info": {
   "codemirror_mode": {
    "name": "ipython",
    "version": 3
   },
   "file_extension": ".py",
   "mimetype": "text/x-python",
   "name": "python",
   "nbconvert_exporter": "python",
   "pygments_lexer": "ipython3",
   "version": "3.6.0"
  },
  "toc": {
   "colors": {
    "hover_highlight": "#DAA520",
    "navigate_num": "#000000",
    "navigate_text": "#333333",
    "running_highlight": "#FF0000",
    "selected_highlight": "#FFD700",
    "sidebar_border": "#EEEEEE",
    "wrapper_background": "#FFFFFF"
   },
   "moveMenuLeft": true,
   "nav_menu": {},
   "navigate_menu": true,
   "number_sections": true,
   "sideBar": true,
   "skip_h1_title": false,
   "threshold": 4,
   "toc_cell": false,
   "toc_position": {},
   "toc_section_display": "block",
   "toc_window_display": false,
   "widenNotebook": false
  }
 },
 "nbformat": 4,
 "nbformat_minor": 2
}
