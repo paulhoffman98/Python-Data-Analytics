{
 "cells": [
  {
   "cell_type": "markdown",
   "metadata": {
    "collapsed": true
   },
   "source": [
    "# Time Series\n",
    "\n",
    "In this notebook, we will dive deeper into how to deal with dates and times in Python.  First let's look at how to create and manipulate a pandas timestamp, which is simply a moment in time."
   ]
  },
  {
   "cell_type": "markdown",
   "metadata": {},
   "source": [
    "## Timestamp"
   ]
  },
  {
   "cell_type": "code",
   "execution_count": 18,
   "metadata": {
    "collapsed": true
   },
   "outputs": [],
   "source": [
    "#imports\n",
    "import pandas as pd\n",
    "import matplotlib.pyplot as plt\n",
    "import numpy as np"
   ]
  },
  {
   "cell_type": "code",
   "execution_count": 72,
   "metadata": {},
   "outputs": [
    {
     "data": {
      "text/plain": [
       "Timestamp('2018-01-01 00:00:00')"
      ]
     },
     "execution_count": 72,
     "metadata": {},
     "output_type": "execute_result"
    }
   ],
   "source": [
    "#Create a time stamp\n",
    "time_stamp = pd.to_datetime(\"1-1-2018\")\n",
    "\n",
    "time_stamp"
   ]
  },
  {
   "cell_type": "markdown",
   "metadata": {},
   "source": [
    "Notice that we gave the to_datetime function a date as a string.  As we have already seen, the to_datetime function is really good at parsing these string, no matter the input, and turning them into the correct datetime.  Let's look at a few more examples:"
   ]
  },
  {
   "cell_type": "code",
   "execution_count": 73,
   "metadata": {},
   "outputs": [
    {
     "data": {
      "text/plain": [
       "Timestamp('2009-01-05 12:00:00')"
      ]
     },
     "execution_count": 73,
     "metadata": {},
     "output_type": "execute_result"
    }
   ],
   "source": [
    "#Parsing dates\n",
    "pd.to_datetime(\"1/5/2009 12:00\")"
   ]
  },
  {
   "cell_type": "code",
   "execution_count": 74,
   "metadata": {},
   "outputs": [
    {
     "data": {
      "text/plain": [
       "Timestamp('2018-01-01 13:00:00')"
      ]
     },
     "execution_count": 74,
     "metadata": {},
     "output_type": "execute_result"
    }
   ],
   "source": [
    "pd.to_datetime(\"1/1/18 1PM\")"
   ]
  },
  {
   "cell_type": "code",
   "execution_count": 75,
   "metadata": {},
   "outputs": [
    {
     "data": {
      "text/plain": [
       "Timestamp('1990-03-12 01:56:00')"
      ]
     },
     "execution_count": 75,
     "metadata": {},
     "output_type": "execute_result"
    }
   ],
   "source": [
    "pd.to_datetime(\"March 12th 1990 1:56\")"
   ]
  },
  {
   "cell_type": "markdown",
   "metadata": {},
   "source": [
    "For a European date just specify datefirst = True when creating your date."
   ]
  },
  {
   "cell_type": "code",
   "execution_count": 76,
   "metadata": {},
   "outputs": [
    {
     "data": {
      "text/plain": [
       "Timestamp('2000-03-05 00:00:00')"
      ]
     },
     "execution_count": 76,
     "metadata": {},
     "output_type": "execute_result"
    }
   ],
   "source": [
    "#March 5th 2000 \n",
    "american_date = pd.to_datetime(\"3/5/00\")\n",
    "american_date"
   ]
  },
  {
   "cell_type": "code",
   "execution_count": 77,
   "metadata": {},
   "outputs": [
    {
     "data": {
      "text/plain": [
       "Timestamp('2000-05-03 00:00:00')"
      ]
     },
     "execution_count": 77,
     "metadata": {},
     "output_type": "execute_result"
    }
   ],
   "source": [
    "#May 3rd 2000 \n",
    "euro_date = pd.to_datetime(\"3/5/00\", dayfirst=True)\n",
    "euro_date"
   ]
  },
  {
   "cell_type": "markdown",
   "metadata": {},
   "source": [
    "Each timestamp has various attributes that we can access as follows"
   ]
  },
  {
   "cell_type": "code",
   "execution_count": 78,
   "metadata": {},
   "outputs": [
    {
     "data": {
      "text/plain": [
       "5"
      ]
     },
     "execution_count": 78,
     "metadata": {},
     "output_type": "execute_result"
    }
   ],
   "source": [
    "#Get the month\n",
    "euro_date.month"
   ]
  },
  {
   "cell_type": "code",
   "execution_count": 79,
   "metadata": {},
   "outputs": [
    {
     "data": {
      "text/plain": [
       "'Wednesday'"
      ]
     },
     "execution_count": 79,
     "metadata": {},
     "output_type": "execute_result"
    }
   ],
   "source": [
    "#Get the weekday\n",
    "euro_date.weekday_name"
   ]
  },
  {
   "cell_type": "code",
   "execution_count": 80,
   "metadata": {},
   "outputs": [
    {
     "data": {
      "text/plain": [
       "True"
      ]
     },
     "execution_count": 80,
     "metadata": {},
     "output_type": "execute_result"
    }
   ],
   "source": [
    "#Is this a leap year - 2000 was a leap year\n",
    "euro_date.is_leap_year"
   ]
  },
  {
   "cell_type": "markdown",
   "metadata": {},
   "source": [
    "Now let's look at how we can do datetime arithmetic. Let's try subtracting to two datetimes."
   ]
  },
  {
   "cell_type": "code",
   "execution_count": 81,
   "metadata": {},
   "outputs": [
    {
     "data": {
      "text/plain": [
       "Timedelta('0 days 01:00:00')"
      ]
     },
     "execution_count": 81,
     "metadata": {},
     "output_type": "execute_result"
    }
   ],
   "source": [
    "#Create two datetimes\n",
    "dt_1 = pd.to_datetime(\"1/1/2018 12:00\")\n",
    "dt_2 = pd.to_datetime(\"1/1/2018 1PM\")\n",
    "\n",
    "#Get the difference\n",
    "diff = dt_2 - dt_1\n",
    "\n",
    "diff"
   ]
  },
  {
   "cell_type": "markdown",
   "metadata": {},
   "source": [
    "We get back a Timedelta object, which is a single hour.  We can get the number of seconds as follows."
   ]
  },
  {
   "cell_type": "code",
   "execution_count": 82,
   "metadata": {},
   "outputs": [
    {
     "data": {
      "text/plain": [
       "3600"
      ]
     },
     "execution_count": 82,
     "metadata": {},
     "output_type": "execute_result"
    }
   ],
   "source": [
    "#Get the number of seconds\n",
    "diff.seconds"
   ]
  },
  {
   "cell_type": "markdown",
   "metadata": {},
   "source": [
    "How do I look at three hours after each of the two datetimes I created above? We can create a custom Timedelta object representing 3 hours and then add it to the two dates."
   ]
  },
  {
   "cell_type": "code",
   "execution_count": 83,
   "metadata": {},
   "outputs": [
    {
     "data": {
      "text/plain": [
       "Timedelta('0 days 03:00:00')"
      ]
     },
     "execution_count": 83,
     "metadata": {},
     "output_type": "execute_result"
    }
   ],
   "source": [
    "#Create timedelta object\n",
    "three_hours = pd.Timedelta(hours = 3)\n",
    "\n",
    "three_hours"
   ]
  },
  {
   "cell_type": "code",
   "execution_count": 84,
   "metadata": {},
   "outputs": [
    {
     "data": {
      "text/plain": [
       "[Timestamp('2018-01-01 15:00:00'), Timestamp('2018-01-01 16:00:00')]"
      ]
     },
     "execution_count": 84,
     "metadata": {},
     "output_type": "execute_result"
    }
   ],
   "source": [
    "#Add three hours to dt_1, dt_2\n",
    "new_times = [dt_1 + three_hours, dt_2+three_hours]\n",
    "\n",
    "new_times"
   ]
  },
  {
   "cell_type": "markdown",
   "metadata": {},
   "source": [
    "So now we know how to create a single timestamp, but how do I create a whole range on timestamps?  The answer is date_range."
   ]
  },
  {
   "cell_type": "markdown",
   "metadata": {},
   "source": [
    "## Date_Range\n",
    "\n",
    "The date_range method allows us to create a whole range of timestamps (called a date index) with a given start/end date and inputted frequency.  We will start basic and create a date index with dates over each day of January 2018."
   ]
  },
  {
   "cell_type": "code",
   "execution_count": 85,
   "metadata": {},
   "outputs": [
    {
     "data": {
      "text/plain": [
       "DatetimeIndex(['2018-01-01', '2018-01-02', '2018-01-03', '2018-01-04',\n",
       "               '2018-01-05', '2018-01-06', '2018-01-07', '2018-01-08',\n",
       "               '2018-01-09', '2018-01-10', '2018-01-11', '2018-01-12',\n",
       "               '2018-01-13', '2018-01-14', '2018-01-15', '2018-01-16',\n",
       "               '2018-01-17', '2018-01-18', '2018-01-19', '2018-01-20',\n",
       "               '2018-01-21', '2018-01-22', '2018-01-23', '2018-01-24',\n",
       "               '2018-01-25', '2018-01-26', '2018-01-27', '2018-01-28',\n",
       "               '2018-01-29', '2018-01-30'],\n",
       "              dtype='datetime64[ns]', freq='D')"
      ]
     },
     "execution_count": 85,
     "metadata": {},
     "output_type": "execute_result"
    }
   ],
   "source": [
    "#Create the date range -  daily frequency\n",
    "dt_range_daily = pd.date_range(start=\"1/1/2018\", end = \"1/30/2018\", freq = \"D\")\n",
    "\n",
    "dt_range_daily"
   ]
  },
  {
   "cell_type": "markdown",
   "metadata": {},
   "source": [
    "Notice that we can specify the start and end dates as strings and pandas knows what to do.   The three input in the frequency, which tells pandas how to split up the time from the start to the end date.  Common inputs for the frequency can be seen here: http://pandas.pydata.org/pandas-docs/stable/timeseries.html#offset-aliases."
   ]
  },
  {
   "cell_type": "code",
   "execution_count": 86,
   "metadata": {},
   "outputs": [
    {
     "data": {
      "text/plain": [
       "DatetimeIndex(['2018-01-01 00:00:00', '2018-01-01 05:00:00',\n",
       "               '2018-01-01 10:00:00', '2018-01-01 15:00:00',\n",
       "               '2018-01-01 20:00:00'],\n",
       "              dtype='datetime64[ns]', freq='5H')"
      ]
     },
     "execution_count": 86,
     "metadata": {},
     "output_type": "execute_result"
    }
   ],
   "source": [
    "#Create the date range -  daily frequency\n",
    "dt_range_five_hours = pd.date_range(start=\"1/1/2018\", end = \"1/2/2018\", freq = \"5H\")\n",
    "\n",
    "dt_range_five_hours"
   ]
  },
  {
   "cell_type": "markdown",
   "metadata": {},
   "source": [
    "Another useful parameter for the date_range method is the period argument, which lets you specify how many periods to generate.  "
   ]
  },
  {
   "cell_type": "code",
   "execution_count": 87,
   "metadata": {},
   "outputs": [
    {
     "data": {
      "text/plain": [
       "DatetimeIndex(['2018-01-01', '2018-01-02', '2018-01-03', '2018-01-04',\n",
       "               '2018-01-05', '2018-01-06', '2018-01-07', '2018-01-08',\n",
       "               '2018-01-09', '2018-01-10'],\n",
       "              dtype='datetime64[ns]', freq='D')"
      ]
     },
     "execution_count": 87,
     "metadata": {},
     "output_type": "execute_result"
    }
   ],
   "source": [
    "#10 days after the 1/1/2018\n",
    "pd.date_range(start=\"1/1/2018\", periods = 10, freq = \"D\")"
   ]
  },
  {
   "cell_type": "code",
   "execution_count": 88,
   "metadata": {},
   "outputs": [
    {
     "data": {
      "text/plain": [
       "DatetimeIndex(['2018-01-03', '2018-01-10', '2018-01-17', '2018-01-24',\n",
       "               '2018-01-31', '2018-02-07', '2018-02-14', '2018-02-21',\n",
       "               '2018-02-28', '2018-03-07'],\n",
       "              dtype='datetime64[ns]', freq='W-WED')"
      ]
     },
     "execution_count": 88,
     "metadata": {},
     "output_type": "execute_result"
    }
   ],
   "source": [
    "#10 Wednesday after 1/1/2018\n",
    "pd.date_range(start=\"1/1/2018\", periods = 10, freq = \"W-Wed\")"
   ]
  },
  {
   "cell_type": "markdown",
   "metadata": {},
   "source": [
    "Let's say I have a date index that is the first 10 days in January."
   ]
  },
  {
   "cell_type": "code",
   "execution_count": 89,
   "metadata": {},
   "outputs": [
    {
     "data": {
      "text/plain": [
       "DatetimeIndex(['2018-01-01', '2018-01-02', '2018-01-03', '2018-01-04',\n",
       "               '2018-01-05', '2018-01-06', '2018-01-07', '2018-01-08',\n",
       "               '2018-01-09', '2018-01-10'],\n",
       "              dtype='datetime64[ns]', freq='D')"
      ]
     },
     "execution_count": 89,
     "metadata": {},
     "output_type": "execute_result"
    }
   ],
   "source": [
    "dt_Jan = pd.date_range(start=\"1/1/2018\", periods = 10, freq = \"D\")\n",
    "\n",
    "dt_Jan"
   ]
  },
  {
   "cell_type": "markdown",
   "metadata": {},
   "source": [
    "Now I want to add one day to each of the values in this range. It is very easy since the range has a frequency."
   ]
  },
  {
   "cell_type": "code",
   "execution_count": 90,
   "metadata": {},
   "outputs": [
    {
     "data": {
      "text/plain": [
       "DatetimeIndex(['2018-01-02', '2018-01-03', '2018-01-04', '2018-01-05',\n",
       "               '2018-01-06', '2018-01-07', '2018-01-08', '2018-01-09',\n",
       "               '2018-01-10', '2018-01-11'],\n",
       "              dtype='datetime64[ns]', freq='D')"
      ]
     },
     "execution_count": 90,
     "metadata": {},
     "output_type": "execute_result"
    }
   ],
   "source": [
    "#Add 1 day\n",
    "dt_Jan+1"
   ]
  },
  {
   "cell_type": "code",
   "execution_count": 91,
   "metadata": {},
   "outputs": [
    {
     "data": {
      "text/plain": [
       "DatetimeIndex(['2018-01-02', '2018-01-03', '2018-01-04', '2018-01-05',\n",
       "               '2018-01-06', '2018-01-07', '2018-01-08', '2018-01-09',\n",
       "               '2018-01-10', '2018-01-11'],\n",
       "              dtype='datetime64[ns]', freq='D')"
      ]
     },
     "execution_count": 91,
     "metadata": {},
     "output_type": "execute_result"
    }
   ],
   "source": [
    "#Of Course, I can also use the Timedelta\n",
    "dt_Jan + pd.Timedelta(days=1)"
   ]
  },
  {
   "cell_type": "markdown",
   "metadata": {},
   "source": [
    "Next, we will look at how to change the timezones of these date indexes.\n",
    "\n",
    "### Time Zones"
   ]
  },
  {
   "cell_type": "markdown",
   "metadata": {},
   "source": [
    "When we create a date index, we can specify the timezone with the tz argument as follows. If this argument is not specified, then the date index will be time zone naive. Let's see all of the timezones we can specify."
   ]
  },
  {
   "cell_type": "code",
   "execution_count": 92,
   "metadata": {},
   "outputs": [
    {
     "data": {
      "text/plain": [
       "['Africa/Abidjan',\n",
       " 'Africa/Accra',\n",
       " 'Africa/Addis_Ababa',\n",
       " 'Africa/Algiers',\n",
       " 'Africa/Asmara']"
      ]
     },
     "execution_count": 92,
     "metadata": {},
     "output_type": "execute_result"
    }
   ],
   "source": [
    "import pytz\n",
    "\n",
    "#Get all of the times zones we can specify in the tz argument.\n",
    "all_time_zones = pytz.all_timezones\n",
    "\n",
    "#Look at first couple\n",
    "all_time_zones[:5]"
   ]
  },
  {
   "cell_type": "markdown",
   "metadata": {},
   "source": [
    "Now let's set the time zone to US Eastern time."
   ]
  },
  {
   "cell_type": "code",
   "execution_count": 93,
   "metadata": {},
   "outputs": [
    {
     "data": {
      "text/plain": [
       "DatetimeIndex(['2018-01-01 00:00:00-05:00', '2018-01-01 05:00:00-05:00',\n",
       "               '2018-01-01 10:00:00-05:00', '2018-01-01 15:00:00-05:00',\n",
       "               '2018-01-01 20:00:00-05:00', '2018-01-02 01:00:00-05:00',\n",
       "               '2018-01-02 06:00:00-05:00', '2018-01-02 11:00:00-05:00',\n",
       "               '2018-01-02 16:00:00-05:00', '2018-01-02 21:00:00-05:00'],\n",
       "              dtype='datetime64[ns, US/Eastern]', freq='5H')"
      ]
     },
     "execution_count": 93,
     "metadata": {},
     "output_type": "execute_result"
    }
   ],
   "source": [
    "#Set time zone to eastern. The -5 shows that Eastern time is 5 hours behind GMT. \n",
    "dt_range_eastern = pd.date_range(start=\"1/1/2018\", periods = 10, freq = \"5H\", tz = \"US/Eastern\")\n",
    "dt_range_eastern"
   ]
  },
  {
   "cell_type": "markdown",
   "metadata": {},
   "source": [
    "If we don't want to set a timezone upon creating the date index, but instead want to set it after then we can use the pandas tz_localize method."
   ]
  },
  {
   "cell_type": "code",
   "execution_count": 94,
   "metadata": {},
   "outputs": [
    {
     "data": {
      "text/plain": [
       "DatetimeIndex(['2018-01-01 00:00:00-06:00', '2018-01-01 05:00:00-06:00',\n",
       "               '2018-01-01 10:00:00-06:00', '2018-01-01 15:00:00-06:00',\n",
       "               '2018-01-01 20:00:00-06:00', '2018-01-02 01:00:00-06:00',\n",
       "               '2018-01-02 06:00:00-06:00', '2018-01-02 11:00:00-06:00',\n",
       "               '2018-01-02 16:00:00-06:00', '2018-01-02 21:00:00-06:00'],\n",
       "              dtype='datetime64[ns, US/Central]', freq='5H')"
      ]
     },
     "execution_count": 94,
     "metadata": {},
     "output_type": "execute_result"
    }
   ],
   "source": [
    "#Create timezone naive date range\n",
    "dt_range_naive= pd.date_range(start=\"1/1/2018\", periods = 10, freq = \"5H\")\n",
    "\n",
    "#Convert to central\n",
    "df_range_central = dt_range_naive.tz_localize(tz = \"US/Central\")\n",
    "\n",
    "df_range_central"
   ]
  },
  {
   "cell_type": "markdown",
   "metadata": {},
   "source": [
    "Once you have an index with a time zone, you can convert the timezone to another timezone using tz_convert."
   ]
  },
  {
   "cell_type": "code",
   "execution_count": 95,
   "metadata": {},
   "outputs": [
    {
     "data": {
      "text/plain": [
       "DatetimeIndex(['2017-12-31 22:00:00-08:00', '2018-01-01 03:00:00-08:00',\n",
       "               '2018-01-01 08:00:00-08:00', '2018-01-01 13:00:00-08:00',\n",
       "               '2018-01-01 18:00:00-08:00', '2018-01-01 23:00:00-08:00',\n",
       "               '2018-01-02 04:00:00-08:00', '2018-01-02 09:00:00-08:00',\n",
       "               '2018-01-02 14:00:00-08:00', '2018-01-02 19:00:00-08:00'],\n",
       "              dtype='datetime64[ns, US/Pacific]', freq='5H')"
      ]
     },
     "execution_count": 95,
     "metadata": {},
     "output_type": "execute_result"
    }
   ],
   "source": [
    "#Convert to Pacific\n",
    "df_range_pacific = df_range_central.tz_convert(tz = \"US/Pacific\")\n",
    "\n",
    "df_range_pacific "
   ]
  },
  {
   "cell_type": "markdown",
   "metadata": {},
   "source": [
    "Currently, every datetime that we have created is a timestamp, meaning that it represents a single moment of time.  A natural question is how do we represent an interval of time.  In pandas, we can do this through using periods instead of timestamps.\n",
    "\n",
    "## Periods"
   ]
  },
  {
   "cell_type": "markdown",
   "metadata": {},
   "source": [
    "Let's create a single period.  When we do so, we have to specify a representative value and a frequency (how long we want the period to be)."
   ]
  },
  {
   "cell_type": "code",
   "execution_count": 96,
   "metadata": {},
   "outputs": [
    {
     "data": {
      "text/plain": [
       "Period('2018-01-01', 'D')"
      ]
     },
     "execution_count": 96,
     "metadata": {},
     "output_type": "execute_result"
    }
   ],
   "source": [
    "#Creating a period\n",
    "period_day = pd.Period(value = \"1/1/2018\", freq = \"D\")\n",
    "\n",
    "period_day"
   ]
  },
  {
   "cell_type": "markdown",
   "metadata": {},
   "source": [
    "A period has various attributes that we can access."
   ]
  },
  {
   "cell_type": "code",
   "execution_count": 97,
   "metadata": {},
   "outputs": [
    {
     "data": {
      "text/plain": [
       "Timestamp('2018-01-01 00:00:00')"
      ]
     },
     "execution_count": 97,
     "metadata": {},
     "output_type": "execute_result"
    }
   ],
   "source": [
    "#Get the start time\n",
    "period_day.start_time"
   ]
  },
  {
   "cell_type": "code",
   "execution_count": 98,
   "metadata": {},
   "outputs": [
    {
     "data": {
      "text/plain": [
       "Timestamp('2018-01-01 23:59:59.999999999')"
      ]
     },
     "execution_count": 98,
     "metadata": {},
     "output_type": "execute_result"
    }
   ],
   "source": [
    "#Get the end time\n",
    "period_day.end_time"
   ]
  },
  {
   "cell_type": "code",
   "execution_count": 99,
   "metadata": {},
   "outputs": [
    {
     "data": {
      "text/plain": [
       "<Day>"
      ]
     },
     "execution_count": 99,
     "metadata": {},
     "output_type": "execute_result"
    }
   ],
   "source": [
    "#Get the frequency\n",
    "period_day.freq"
   ]
  },
  {
   "cell_type": "markdown",
   "metadata": {},
   "source": [
    "See other attributes here: https://pandas.pydata.org/pandas-docs/stable/generated/pandas.Period.html"
   ]
  },
  {
   "cell_type": "markdown",
   "metadata": {},
   "source": [
    "Since period have a frequency, we can easily to arithmetic with period objects"
   ]
  },
  {
   "cell_type": "code",
   "execution_count": 100,
   "metadata": {},
   "outputs": [
    {
     "data": {
      "text/plain": [
       "Period('2018-01-02', 'D')"
      ]
     },
     "execution_count": 100,
     "metadata": {},
     "output_type": "execute_result"
    }
   ],
   "source": [
    "#Add one day\n",
    "add_one_day = period_day + 1\n",
    "\n",
    "add_one_day"
   ]
  },
  {
   "cell_type": "code",
   "execution_count": 101,
   "metadata": {},
   "outputs": [
    {
     "data": {
      "text/plain": [
       "Timestamp('2018-01-02 23:59:59.999999999')"
      ]
     },
     "execution_count": 101,
     "metadata": {},
     "output_type": "execute_result"
    }
   ],
   "source": [
    "#look at the end time\n",
    "add_one_day.end_time"
   ]
  },
  {
   "cell_type": "markdown",
   "metadata": {},
   "source": [
    "Just like we can create date indexes, we can also create period indexes. The arguments for the period_range function work the same as the date_range function except that each value in this index will now represent an interval of time instead of a single point."
   ]
  },
  {
   "cell_type": "code",
   "execution_count": 102,
   "metadata": {},
   "outputs": [
    {
     "data": {
      "text/plain": [
       "PeriodIndex(['2018-01-01 00:00', '2018-01-01 05:00', '2018-01-01 10:00',\n",
       "             '2018-01-01 15:00', '2018-01-01 20:00', '2018-01-02 01:00',\n",
       "             '2018-01-02 06:00', '2018-01-02 11:00', '2018-01-02 16:00',\n",
       "             '2018-01-02 21:00'],\n",
       "            dtype='period[5H]', freq='5H')"
      ]
     },
     "execution_count": 102,
     "metadata": {},
     "output_type": "execute_result"
    }
   ],
   "source": [
    "#Create a period range\n",
    "period_range = pd.period_range(start = \"1/1/18 00:00:00\", periods = 10 , freq = \"5H\")\n",
    "\n",
    "period_range"
   ]
  },
  {
   "cell_type": "code",
   "execution_count": 103,
   "metadata": {},
   "outputs": [
    {
     "data": {
      "text/plain": [
       "Timestamp('2018-01-01 04:59:59.999999999')"
      ]
     },
     "execution_count": 103,
     "metadata": {},
     "output_type": "execute_result"
    }
   ],
   "source": [
    "#Let's look at the end time of the first period\n",
    "period_range[0].end_time"
   ]
  },
  {
   "cell_type": "markdown",
   "metadata": {},
   "source": [
    "We can add five hour to each of these periods very easily sine the period has a frequency."
   ]
  },
  {
   "cell_type": "code",
   "execution_count": 104,
   "metadata": {},
   "outputs": [
    {
     "data": {
      "text/plain": [
       "PeriodIndex(['2018-01-01 05:00', '2018-01-01 10:00', '2018-01-01 15:00',\n",
       "             '2018-01-01 20:00', '2018-01-02 01:00', '2018-01-02 06:00',\n",
       "             '2018-01-02 11:00', '2018-01-02 16:00', '2018-01-02 21:00',\n",
       "             '2018-01-03 02:00'],\n",
       "            dtype='period[5H]', freq='5H')"
      ]
     },
     "execution_count": 104,
     "metadata": {},
     "output_type": "execute_result"
    }
   ],
   "source": [
    "#Add an hour\n",
    "period_range+1"
   ]
  },
  {
   "cell_type": "markdown",
   "metadata": {},
   "source": [
    "I can reset the frequency of a period using the asfreq method. "
   ]
  },
  {
   "cell_type": "code",
   "execution_count": 105,
   "metadata": {},
   "outputs": [
    {
     "data": {
      "text/plain": [
       "PeriodIndex(['2018-01-01 04:59', '2018-01-01 09:59', '2018-01-01 14:59',\n",
       "             '2018-01-01 19:59', '2018-01-02 00:59', '2018-01-02 05:59',\n",
       "             '2018-01-02 10:59', '2018-01-02 15:59', '2018-01-02 20:59',\n",
       "             '2018-01-03 01:59'],\n",
       "            dtype='period[30T]', freq='30T')"
      ]
     },
     "execution_count": 105,
     "metadata": {},
     "output_type": "execute_result"
    }
   ],
   "source": [
    "#Set frequency to 30 minutes-\n",
    "period_range.asfreq(freq = \"30T\")"
   ]
  },
  {
   "cell_type": "markdown",
   "metadata": {},
   "source": [
    "This takes the end times of each interval and makes this the representative value rounded to the time unit closest to the new frequency and then creates the periods bases on the new frequency. You can get the new period index to start at the start value by specifying how = 'start' when using the asfreq method."
   ]
  },
  {
   "cell_type": "code",
   "execution_count": 106,
   "metadata": {},
   "outputs": [
    {
     "data": {
      "text/plain": [
       "PeriodIndex(['2018-01-01 00:00', '2018-01-01 05:00', '2018-01-01 10:00',\n",
       "             '2018-01-01 15:00', '2018-01-01 20:00', '2018-01-02 01:00',\n",
       "             '2018-01-02 06:00', '2018-01-02 11:00', '2018-01-02 16:00',\n",
       "             '2018-01-02 21:00'],\n",
       "            dtype='period[30T]', freq='30T')"
      ]
     },
     "execution_count": 106,
     "metadata": {},
     "output_type": "execute_result"
    }
   ],
   "source": [
    "period_range.asfreq(freq = \"30T\", how = 'start')"
   ]
  },
  {
   "cell_type": "code",
   "execution_count": 107,
   "metadata": {},
   "outputs": [
    {
     "data": {
      "text/plain": [
       "Timestamp('2018-01-01 00:29:59.999999999')"
      ]
     },
     "execution_count": 107,
     "metadata": {},
     "output_type": "execute_result"
    }
   ],
   "source": [
    "#Look at end time of first period\n",
    "period_range.asfreq(freq = \"30T\", how = 'start')[0].end_time"
   ]
  },
  {
   "cell_type": "markdown",
   "metadata": {},
   "source": [
    "We can do easy arithmetic with these period indexes as well"
   ]
  },
  {
   "cell_type": "code",
   "execution_count": 108,
   "metadata": {},
   "outputs": [
    {
     "data": {
      "text/plain": [
       "PeriodIndex(['2018-01-01 00:00', '2018-01-01 05:00', '2018-01-01 10:00',\n",
       "             '2018-01-01 15:00', '2018-01-01 20:00', '2018-01-02 01:00',\n",
       "             '2018-01-02 06:00', '2018-01-02 11:00', '2018-01-02 16:00',\n",
       "             '2018-01-02 21:00'],\n",
       "            dtype='period[5H]', freq='5H')"
      ]
     },
     "execution_count": 108,
     "metadata": {},
     "output_type": "execute_result"
    }
   ],
   "source": [
    "#Original period index\n",
    "period_range"
   ]
  },
  {
   "cell_type": "code",
   "execution_count": 109,
   "metadata": {},
   "outputs": [
    {
     "data": {
      "text/plain": [
       "PeriodIndex(['2018-01-01 10:00', '2018-01-01 15:00', '2018-01-01 20:00',\n",
       "             '2018-01-02 01:00', '2018-01-02 06:00', '2018-01-02 11:00',\n",
       "             '2018-01-02 16:00', '2018-01-02 21:00', '2018-01-03 02:00',\n",
       "             '2018-01-03 07:00'],\n",
       "            dtype='period[5H]', freq='5H')"
      ]
     },
     "execution_count": 109,
     "metadata": {},
     "output_type": "execute_result"
    }
   ],
   "source": [
    "#Add 10 hours to each period\n",
    "period_range+2"
   ]
  },
  {
   "cell_type": "markdown",
   "metadata": {},
   "source": [
    "Now we are ready to actually work with time series and see why all of this is useful. We will also see how to do perform easy slicing when the index of your df is a date/period index as well as compute statistics such as rolling means of time series.\n",
    "\n",
    "## Apple Stock Data\n",
    "\n",
    "We will work with Apple stock data from 1/1/2017-9/1/2017. We begin by reading in the data and doing the necessary conversion."
   ]
  },
  {
   "cell_type": "code",
   "execution_count": 19,
   "metadata": {},
   "outputs": [
    {
     "data": {
      "text/html": [
       "<div>\n",
       "<style scoped>\n",
       "    .dataframe tbody tr th:only-of-type {\n",
       "        vertical-align: middle;\n",
       "    }\n",
       "\n",
       "    .dataframe tbody tr th {\n",
       "        vertical-align: top;\n",
       "    }\n",
       "\n",
       "    .dataframe thead th {\n",
       "        text-align: right;\n",
       "    }\n",
       "</style>\n",
       "<table border=\"1\" class=\"dataframe\">\n",
       "  <thead>\n",
       "    <tr style=\"text-align: right;\">\n",
       "      <th></th>\n",
       "      <th>Date</th>\n",
       "      <th>Open</th>\n",
       "      <th>High</th>\n",
       "      <th>Low</th>\n",
       "      <th>Close</th>\n",
       "      <th>Adj Close</th>\n",
       "      <th>Volume</th>\n",
       "    </tr>\n",
       "  </thead>\n",
       "  <tbody>\n",
       "    <tr>\n",
       "      <th>0</th>\n",
       "      <td>2017-01-03</td>\n",
       "      <td>115.800003</td>\n",
       "      <td>116.330002</td>\n",
       "      <td>114.760002</td>\n",
       "      <td>116.150002</td>\n",
       "      <td>114.311760</td>\n",
       "      <td>28781900</td>\n",
       "    </tr>\n",
       "    <tr>\n",
       "      <th>1</th>\n",
       "      <td>2017-01-04</td>\n",
       "      <td>115.849998</td>\n",
       "      <td>116.510002</td>\n",
       "      <td>115.750000</td>\n",
       "      <td>116.019997</td>\n",
       "      <td>114.183815</td>\n",
       "      <td>21118100</td>\n",
       "    </tr>\n",
       "    <tr>\n",
       "      <th>2</th>\n",
       "      <td>2017-01-05</td>\n",
       "      <td>115.919998</td>\n",
       "      <td>116.860001</td>\n",
       "      <td>115.809998</td>\n",
       "      <td>116.610001</td>\n",
       "      <td>114.764473</td>\n",
       "      <td>22193600</td>\n",
       "    </tr>\n",
       "    <tr>\n",
       "      <th>3</th>\n",
       "      <td>2017-01-06</td>\n",
       "      <td>116.779999</td>\n",
       "      <td>118.160004</td>\n",
       "      <td>116.470001</td>\n",
       "      <td>117.910004</td>\n",
       "      <td>116.043915</td>\n",
       "      <td>31751900</td>\n",
       "    </tr>\n",
       "    <tr>\n",
       "      <th>4</th>\n",
       "      <td>2017-01-09</td>\n",
       "      <td>117.949997</td>\n",
       "      <td>119.430000</td>\n",
       "      <td>117.940002</td>\n",
       "      <td>118.989998</td>\n",
       "      <td>117.106812</td>\n",
       "      <td>33561900</td>\n",
       "    </tr>\n",
       "  </tbody>\n",
       "</table>\n",
       "</div>"
      ],
      "text/plain": [
       "        Date        Open        High         Low       Close   Adj Close  \\\n",
       "0 2017-01-03  115.800003  116.330002  114.760002  116.150002  114.311760   \n",
       "1 2017-01-04  115.849998  116.510002  115.750000  116.019997  114.183815   \n",
       "2 2017-01-05  115.919998  116.860001  115.809998  116.610001  114.764473   \n",
       "3 2017-01-06  116.779999  118.160004  116.470001  117.910004  116.043915   \n",
       "4 2017-01-09  117.949997  119.430000  117.940002  118.989998  117.106812   \n",
       "\n",
       "     Volume  \n",
       "0  28781900  \n",
       "1  21118100  \n",
       "2  22193600  \n",
       "3  31751900  \n",
       "4  33561900  "
      ]
     },
     "execution_count": 19,
     "metadata": {},
     "output_type": "execute_result"
    }
   ],
   "source": [
    "#Read in the data\n",
    "df_AAPL = pd.read_csv(\"Data/AAPL.csv\", parse_dates=[\"Date\"], index_col=0)\n",
    "\n",
    "df_AAPL.head()"
   ]
  },
  {
   "cell_type": "code",
   "execution_count": 21,
   "metadata": {},
   "outputs": [
    {
     "data": {
      "text/html": [
       "<div>\n",
       "<style scoped>\n",
       "    .dataframe tbody tr th:only-of-type {\n",
       "        vertical-align: middle;\n",
       "    }\n",
       "\n",
       "    .dataframe tbody tr th {\n",
       "        vertical-align: top;\n",
       "    }\n",
       "\n",
       "    .dataframe thead th {\n",
       "        text-align: right;\n",
       "    }\n",
       "</style>\n",
       "<table border=\"1\" class=\"dataframe\">\n",
       "  <thead>\n",
       "    <tr style=\"text-align: right;\">\n",
       "      <th></th>\n",
       "      <th>Open</th>\n",
       "      <th>High</th>\n",
       "      <th>Low</th>\n",
       "      <th>Close</th>\n",
       "      <th>Adj Close</th>\n",
       "      <th>Volume</th>\n",
       "    </tr>\n",
       "    <tr>\n",
       "      <th>Date</th>\n",
       "      <th></th>\n",
       "      <th></th>\n",
       "      <th></th>\n",
       "      <th></th>\n",
       "      <th></th>\n",
       "      <th></th>\n",
       "    </tr>\n",
       "  </thead>\n",
       "  <tbody>\n",
       "    <tr>\n",
       "      <th>2017-01-03</th>\n",
       "      <td>115.800003</td>\n",
       "      <td>116.330002</td>\n",
       "      <td>114.760002</td>\n",
       "      <td>116.150002</td>\n",
       "      <td>114.311760</td>\n",
       "      <td>28781900</td>\n",
       "    </tr>\n",
       "    <tr>\n",
       "      <th>2017-01-04</th>\n",
       "      <td>115.849998</td>\n",
       "      <td>116.510002</td>\n",
       "      <td>115.750000</td>\n",
       "      <td>116.019997</td>\n",
       "      <td>114.183815</td>\n",
       "      <td>21118100</td>\n",
       "    </tr>\n",
       "    <tr>\n",
       "      <th>2017-01-05</th>\n",
       "      <td>115.919998</td>\n",
       "      <td>116.860001</td>\n",
       "      <td>115.809998</td>\n",
       "      <td>116.610001</td>\n",
       "      <td>114.764473</td>\n",
       "      <td>22193600</td>\n",
       "    </tr>\n",
       "    <tr>\n",
       "      <th>2017-01-06</th>\n",
       "      <td>116.779999</td>\n",
       "      <td>118.160004</td>\n",
       "      <td>116.470001</td>\n",
       "      <td>117.910004</td>\n",
       "      <td>116.043915</td>\n",
       "      <td>31751900</td>\n",
       "    </tr>\n",
       "    <tr>\n",
       "      <th>2017-01-09</th>\n",
       "      <td>117.949997</td>\n",
       "      <td>119.430000</td>\n",
       "      <td>117.940002</td>\n",
       "      <td>118.989998</td>\n",
       "      <td>117.106812</td>\n",
       "      <td>33561900</td>\n",
       "    </tr>\n",
       "  </tbody>\n",
       "</table>\n",
       "</div>"
      ],
      "text/plain": [
       "                  Open        High         Low       Close   Adj Close  \\\n",
       "Date                                                                     \n",
       "2017-01-03  115.800003  116.330002  114.760002  116.150002  114.311760   \n",
       "2017-01-04  115.849998  116.510002  115.750000  116.019997  114.183815   \n",
       "2017-01-05  115.919998  116.860001  115.809998  116.610001  114.764473   \n",
       "2017-01-06  116.779999  118.160004  116.470001  117.910004  116.043915   \n",
       "2017-01-09  117.949997  119.430000  117.940002  118.989998  117.106812   \n",
       "\n",
       "              Volume  \n",
       "Date                  \n",
       "2017-01-03  28781900  \n",
       "2017-01-04  21118100  \n",
       "2017-01-05  22193600  \n",
       "2017-01-06  31751900  \n",
       "2017-01-09  33561900  "
      ]
     },
     "execution_count": 21,
     "metadata": {},
     "output_type": "execute_result"
    }
   ],
   "source": [
    "#Set the Date column to be the index\n",
    "df_AAPL.set_index(\"Date\", inplace = True)\n",
    "\n",
    "df_AAPL.head()"
   ]
  },
  {
   "cell_type": "code",
   "execution_count": 4,
   "metadata": {},
   "outputs": [
    {
     "data": {
      "text/plain": [
       "DatetimeIndex(['2017-01-03', '2017-01-04', '2017-01-05', '2017-01-06',\n",
       "               '2017-01-09', '2017-01-10', '2017-01-11', '2017-01-12',\n",
       "               '2017-01-13', '2017-01-17',\n",
       "               ...\n",
       "               '2017-08-21', '2017-08-22', '2017-08-23', '2017-08-24',\n",
       "               '2017-08-25', '2017-08-28', '2017-08-29', '2017-08-30',\n",
       "               '2017-08-31', '2017-09-01'],\n",
       "              dtype='datetime64[ns]', name='Date', length=169, freq=None)"
      ]
     },
     "execution_count": 4,
     "metadata": {},
     "output_type": "execute_result"
    }
   ],
   "source": [
    "#Lets look at the index\n",
    "df_AAPL.index"
   ]
  },
  {
   "cell_type": "markdown",
   "metadata": {},
   "source": [
    "It's a date index! So everything from the previous section applies. Note that this is an (kinda) arbitrary collection of dates, there is no frequency nor is there a timezone. We cannot set a frequency, but we can set a timezone as follows.  "
   ]
  },
  {
   "cell_type": "code",
   "execution_count": 5,
   "metadata": {},
   "outputs": [
    {
     "data": {
      "text/html": [
       "<div>\n",
       "<style scoped>\n",
       "    .dataframe tbody tr th:only-of-type {\n",
       "        vertical-align: middle;\n",
       "    }\n",
       "\n",
       "    .dataframe tbody tr th {\n",
       "        vertical-align: top;\n",
       "    }\n",
       "\n",
       "    .dataframe thead th {\n",
       "        text-align: right;\n",
       "    }\n",
       "</style>\n",
       "<table border=\"1\" class=\"dataframe\">\n",
       "  <thead>\n",
       "    <tr style=\"text-align: right;\">\n",
       "      <th></th>\n",
       "      <th>Open</th>\n",
       "      <th>High</th>\n",
       "      <th>Low</th>\n",
       "      <th>Close</th>\n",
       "      <th>Adj Close</th>\n",
       "      <th>Volume</th>\n",
       "    </tr>\n",
       "    <tr>\n",
       "      <th>Date</th>\n",
       "      <th></th>\n",
       "      <th></th>\n",
       "      <th></th>\n",
       "      <th></th>\n",
       "      <th></th>\n",
       "      <th></th>\n",
       "    </tr>\n",
       "  </thead>\n",
       "  <tbody>\n",
       "    <tr>\n",
       "      <th>2017-01-03 00:00:00+00:00</th>\n",
       "      <td>115.800003</td>\n",
       "      <td>116.330002</td>\n",
       "      <td>114.760002</td>\n",
       "      <td>116.150002</td>\n",
       "      <td>114.311760</td>\n",
       "      <td>28781900</td>\n",
       "    </tr>\n",
       "    <tr>\n",
       "      <th>2017-01-04 00:00:00+00:00</th>\n",
       "      <td>115.849998</td>\n",
       "      <td>116.510002</td>\n",
       "      <td>115.750000</td>\n",
       "      <td>116.019997</td>\n",
       "      <td>114.183815</td>\n",
       "      <td>21118100</td>\n",
       "    </tr>\n",
       "    <tr>\n",
       "      <th>2017-01-05 00:00:00+00:00</th>\n",
       "      <td>115.919998</td>\n",
       "      <td>116.860001</td>\n",
       "      <td>115.809998</td>\n",
       "      <td>116.610001</td>\n",
       "      <td>114.764473</td>\n",
       "      <td>22193600</td>\n",
       "    </tr>\n",
       "    <tr>\n",
       "      <th>2017-01-06 00:00:00+00:00</th>\n",
       "      <td>116.779999</td>\n",
       "      <td>118.160004</td>\n",
       "      <td>116.470001</td>\n",
       "      <td>117.910004</td>\n",
       "      <td>116.043915</td>\n",
       "      <td>31751900</td>\n",
       "    </tr>\n",
       "    <tr>\n",
       "      <th>2017-01-09 00:00:00+00:00</th>\n",
       "      <td>117.949997</td>\n",
       "      <td>119.430000</td>\n",
       "      <td>117.940002</td>\n",
       "      <td>118.989998</td>\n",
       "      <td>117.106812</td>\n",
       "      <td>33561900</td>\n",
       "    </tr>\n",
       "  </tbody>\n",
       "</table>\n",
       "</div>"
      ],
      "text/plain": [
       "                                 Open        High         Low       Close  \\\n",
       "Date                                                                        \n",
       "2017-01-03 00:00:00+00:00  115.800003  116.330002  114.760002  116.150002   \n",
       "2017-01-04 00:00:00+00:00  115.849998  116.510002  115.750000  116.019997   \n",
       "2017-01-05 00:00:00+00:00  115.919998  116.860001  115.809998  116.610001   \n",
       "2017-01-06 00:00:00+00:00  116.779999  118.160004  116.470001  117.910004   \n",
       "2017-01-09 00:00:00+00:00  117.949997  119.430000  117.940002  118.989998   \n",
       "\n",
       "                            Adj Close    Volume  \n",
       "Date                                             \n",
       "2017-01-03 00:00:00+00:00  114.311760  28781900  \n",
       "2017-01-04 00:00:00+00:00  114.183815  21118100  \n",
       "2017-01-05 00:00:00+00:00  114.764473  22193600  \n",
       "2017-01-06 00:00:00+00:00  116.043915  31751900  \n",
       "2017-01-09 00:00:00+00:00  117.106812  33561900  "
      ]
     },
     "execution_count": 5,
     "metadata": {},
     "output_type": "execute_result"
    }
   ],
   "source": [
    "#we have localized to GMT timezone\n",
    "df_AAPL.index = df_AAPL.index.tz_localize(tz = \"GMT\")\n",
    "\n",
    "df_AAPL.head()"
   ]
  },
  {
   "cell_type": "code",
   "execution_count": 6,
   "metadata": {},
   "outputs": [
    {
     "data": {
      "text/plain": [
       "DatetimeIndex(['2017-01-03', '2017-01-04', '2017-01-05', '2017-01-06',\n",
       "               '2017-01-09', '2017-01-10', '2017-01-11', '2017-01-12',\n",
       "               '2017-01-13', '2017-01-17',\n",
       "               ...\n",
       "               '2017-08-21', '2017-08-22', '2017-08-23', '2017-08-24',\n",
       "               '2017-08-25', '2017-08-28', '2017-08-29', '2017-08-30',\n",
       "               '2017-08-31', '2017-09-01'],\n",
       "              dtype='datetime64[ns, GMT]', name='Date', length=169, freq=None)"
      ]
     },
     "execution_count": 6,
     "metadata": {},
     "output_type": "execute_result"
    }
   ],
   "source": [
    "#Now look at the index - There is a timezone now.\n",
    "df_AAPL.index"
   ]
  },
  {
   "cell_type": "markdown",
   "metadata": {},
   "source": [
    "Let's first  see all of the cool slicing you can do with a time series."
   ]
  },
  {
   "cell_type": "markdown",
   "metadata": {},
   "source": [
    "### Slicing with Datetime index\n",
    "\n",
    "First, there are multiple ways to pick out a single row.  Here we focus on picking out the first row."
   ]
  },
  {
   "cell_type": "code",
   "execution_count": 7,
   "metadata": {},
   "outputs": [
    {
     "data": {
      "text/plain": [
       "Open         1.158000e+02\n",
       "High         1.163300e+02\n",
       "Low          1.147600e+02\n",
       "Close        1.161500e+02\n",
       "Adj Close    1.143118e+02\n",
       "Volume       2.878190e+07\n",
       "Name: 2017-01-03 00:00:00+00:00, dtype: float64"
      ]
     },
     "execution_count": 7,
     "metadata": {},
     "output_type": "execute_result"
    }
   ],
   "source": [
    "#Pick out first row with full row label\n",
    "df_AAPL.loc['2017-01-03 00:00:00+00:00', :]"
   ]
  },
  {
   "cell_type": "code",
   "execution_count": 8,
   "metadata": {},
   "outputs": [
    {
     "data": {
      "text/plain": [
       "Open         1.158000e+02\n",
       "High         1.163300e+02\n",
       "Low          1.147600e+02\n",
       "Close        1.161500e+02\n",
       "Adj Close    1.143118e+02\n",
       "Volume       2.878190e+07\n",
       "Name: 2017-01-03 00:00:00+00:00, dtype: float64"
      ]
     },
     "execution_count": 8,
     "metadata": {},
     "output_type": "execute_result"
    }
   ],
   "source": [
    "#Pick out the row with just the date\n",
    "df_AAPL.loc['2017-01-03', :]"
   ]
  },
  {
   "cell_type": "code",
   "execution_count": 9,
   "metadata": {},
   "outputs": [
    {
     "data": {
      "text/html": [
       "<div>\n",
       "<style scoped>\n",
       "    .dataframe tbody tr th:only-of-type {\n",
       "        vertical-align: middle;\n",
       "    }\n",
       "\n",
       "    .dataframe tbody tr th {\n",
       "        vertical-align: top;\n",
       "    }\n",
       "\n",
       "    .dataframe thead th {\n",
       "        text-align: right;\n",
       "    }\n",
       "</style>\n",
       "<table border=\"1\" class=\"dataframe\">\n",
       "  <thead>\n",
       "    <tr style=\"text-align: right;\">\n",
       "      <th></th>\n",
       "      <th>Open</th>\n",
       "      <th>High</th>\n",
       "      <th>Low</th>\n",
       "      <th>Close</th>\n",
       "      <th>Adj Close</th>\n",
       "      <th>Volume</th>\n",
       "    </tr>\n",
       "    <tr>\n",
       "      <th>Date</th>\n",
       "      <th></th>\n",
       "      <th></th>\n",
       "      <th></th>\n",
       "      <th></th>\n",
       "      <th></th>\n",
       "      <th></th>\n",
       "    </tr>\n",
       "  </thead>\n",
       "  <tbody>\n",
       "    <tr>\n",
       "      <th>2017-01-03 00:00:00+00:00</th>\n",
       "      <td>115.800003</td>\n",
       "      <td>116.330002</td>\n",
       "      <td>114.760002</td>\n",
       "      <td>116.150002</td>\n",
       "      <td>114.311760</td>\n",
       "      <td>28781900</td>\n",
       "    </tr>\n",
       "    <tr>\n",
       "      <th>2017-01-04 00:00:00+00:00</th>\n",
       "      <td>115.849998</td>\n",
       "      <td>116.510002</td>\n",
       "      <td>115.750000</td>\n",
       "      <td>116.019997</td>\n",
       "      <td>114.183815</td>\n",
       "      <td>21118100</td>\n",
       "    </tr>\n",
       "    <tr>\n",
       "      <th>2017-01-05 00:00:00+00:00</th>\n",
       "      <td>115.919998</td>\n",
       "      <td>116.860001</td>\n",
       "      <td>115.809998</td>\n",
       "      <td>116.610001</td>\n",
       "      <td>114.764473</td>\n",
       "      <td>22193600</td>\n",
       "    </tr>\n",
       "    <tr>\n",
       "      <th>2017-01-06 00:00:00+00:00</th>\n",
       "      <td>116.779999</td>\n",
       "      <td>118.160004</td>\n",
       "      <td>116.470001</td>\n",
       "      <td>117.910004</td>\n",
       "      <td>116.043915</td>\n",
       "      <td>31751900</td>\n",
       "    </tr>\n",
       "    <tr>\n",
       "      <th>2017-01-09 00:00:00+00:00</th>\n",
       "      <td>117.949997</td>\n",
       "      <td>119.430000</td>\n",
       "      <td>117.940002</td>\n",
       "      <td>118.989998</td>\n",
       "      <td>117.106812</td>\n",
       "      <td>33561900</td>\n",
       "    </tr>\n",
       "    <tr>\n",
       "      <th>2017-01-10 00:00:00+00:00</th>\n",
       "      <td>118.769997</td>\n",
       "      <td>119.379997</td>\n",
       "      <td>118.300003</td>\n",
       "      <td>119.110001</td>\n",
       "      <td>117.224907</td>\n",
       "      <td>24462100</td>\n",
       "    </tr>\n",
       "    <tr>\n",
       "      <th>2017-01-11 00:00:00+00:00</th>\n",
       "      <td>118.739998</td>\n",
       "      <td>119.930000</td>\n",
       "      <td>118.599998</td>\n",
       "      <td>119.750000</td>\n",
       "      <td>117.854782</td>\n",
       "      <td>27588600</td>\n",
       "    </tr>\n",
       "    <tr>\n",
       "      <th>2017-01-12 00:00:00+00:00</th>\n",
       "      <td>118.900002</td>\n",
       "      <td>119.300003</td>\n",
       "      <td>118.209999</td>\n",
       "      <td>119.250000</td>\n",
       "      <td>117.362694</td>\n",
       "      <td>27086200</td>\n",
       "    </tr>\n",
       "    <tr>\n",
       "      <th>2017-01-13 00:00:00+00:00</th>\n",
       "      <td>119.110001</td>\n",
       "      <td>119.620003</td>\n",
       "      <td>118.809998</td>\n",
       "      <td>119.040001</td>\n",
       "      <td>117.156021</td>\n",
       "      <td>26111900</td>\n",
       "    </tr>\n",
       "    <tr>\n",
       "      <th>2017-01-17 00:00:00+00:00</th>\n",
       "      <td>118.339996</td>\n",
       "      <td>120.239998</td>\n",
       "      <td>118.220001</td>\n",
       "      <td>120.000000</td>\n",
       "      <td>118.100822</td>\n",
       "      <td>34439800</td>\n",
       "    </tr>\n",
       "  </tbody>\n",
       "</table>\n",
       "</div>"
      ],
      "text/plain": [
       "                                 Open        High         Low       Close  \\\n",
       "Date                                                                        \n",
       "2017-01-03 00:00:00+00:00  115.800003  116.330002  114.760002  116.150002   \n",
       "2017-01-04 00:00:00+00:00  115.849998  116.510002  115.750000  116.019997   \n",
       "2017-01-05 00:00:00+00:00  115.919998  116.860001  115.809998  116.610001   \n",
       "2017-01-06 00:00:00+00:00  116.779999  118.160004  116.470001  117.910004   \n",
       "2017-01-09 00:00:00+00:00  117.949997  119.430000  117.940002  118.989998   \n",
       "2017-01-10 00:00:00+00:00  118.769997  119.379997  118.300003  119.110001   \n",
       "2017-01-11 00:00:00+00:00  118.739998  119.930000  118.599998  119.750000   \n",
       "2017-01-12 00:00:00+00:00  118.900002  119.300003  118.209999  119.250000   \n",
       "2017-01-13 00:00:00+00:00  119.110001  119.620003  118.809998  119.040001   \n",
       "2017-01-17 00:00:00+00:00  118.339996  120.239998  118.220001  120.000000   \n",
       "\n",
       "                            Adj Close    Volume  \n",
       "Date                                             \n",
       "2017-01-03 00:00:00+00:00  114.311760  28781900  \n",
       "2017-01-04 00:00:00+00:00  114.183815  21118100  \n",
       "2017-01-05 00:00:00+00:00  114.764473  22193600  \n",
       "2017-01-06 00:00:00+00:00  116.043915  31751900  \n",
       "2017-01-09 00:00:00+00:00  117.106812  33561900  \n",
       "2017-01-10 00:00:00+00:00  117.224907  24462100  \n",
       "2017-01-11 00:00:00+00:00  117.854782  27588600  \n",
       "2017-01-12 00:00:00+00:00  117.362694  27086200  \n",
       "2017-01-13 00:00:00+00:00  117.156021  26111900  \n",
       "2017-01-17 00:00:00+00:00  118.100822  34439800  "
      ]
     },
     "execution_count": 9,
     "metadata": {},
     "output_type": "execute_result"
    }
   ],
   "source": [
    "#Pick out everything in January\n",
    "df_AAPL.loc[\"1-2017\",:].head(10)"
   ]
  },
  {
   "cell_type": "code",
   "execution_count": 118,
   "metadata": {},
   "outputs": [
    {
     "data": {
      "text/html": [
       "<div>\n",
       "<table border=\"1\" class=\"dataframe\">\n",
       "  <thead>\n",
       "    <tr style=\"text-align: right;\">\n",
       "      <th></th>\n",
       "      <th>Open</th>\n",
       "      <th>High</th>\n",
       "      <th>Low</th>\n",
       "      <th>Close</th>\n",
       "      <th>Adj Close</th>\n",
       "      <th>Volume</th>\n",
       "    </tr>\n",
       "    <tr>\n",
       "      <th>Date</th>\n",
       "      <th></th>\n",
       "      <th></th>\n",
       "      <th></th>\n",
       "      <th></th>\n",
       "      <th></th>\n",
       "      <th></th>\n",
       "    </tr>\n",
       "  </thead>\n",
       "  <tbody>\n",
       "    <tr>\n",
       "      <th>2017-03-13 00:00:00+00:00</th>\n",
       "      <td>138.850006</td>\n",
       "      <td>139.429993</td>\n",
       "      <td>138.820007</td>\n",
       "      <td>139.199997</td>\n",
       "      <td>137.590912</td>\n",
       "      <td>17421700</td>\n",
       "    </tr>\n",
       "    <tr>\n",
       "      <th>2017-03-14 00:00:00+00:00</th>\n",
       "      <td>139.300003</td>\n",
       "      <td>139.649994</td>\n",
       "      <td>138.839996</td>\n",
       "      <td>138.990005</td>\n",
       "      <td>137.383347</td>\n",
       "      <td>15309100</td>\n",
       "    </tr>\n",
       "    <tr>\n",
       "      <th>2017-03-15 00:00:00+00:00</th>\n",
       "      <td>139.410004</td>\n",
       "      <td>140.750000</td>\n",
       "      <td>139.029999</td>\n",
       "      <td>140.460007</td>\n",
       "      <td>138.836365</td>\n",
       "      <td>25691800</td>\n",
       "    </tr>\n",
       "    <tr>\n",
       "      <th>2017-03-16 00:00:00+00:00</th>\n",
       "      <td>140.720001</td>\n",
       "      <td>141.020004</td>\n",
       "      <td>140.259995</td>\n",
       "      <td>140.690002</td>\n",
       "      <td>139.063690</td>\n",
       "      <td>19232000</td>\n",
       "    </tr>\n",
       "  </tbody>\n",
       "</table>\n",
       "</div>"
      ],
      "text/plain": [
       "                                 Open        High         Low       Close  \\\n",
       "Date                                                                        \n",
       "2017-03-13 00:00:00+00:00  138.850006  139.429993  138.820007  139.199997   \n",
       "2017-03-14 00:00:00+00:00  139.300003  139.649994  138.839996  138.990005   \n",
       "2017-03-15 00:00:00+00:00  139.410004  140.750000  139.029999  140.460007   \n",
       "2017-03-16 00:00:00+00:00  140.720001  141.020004  140.259995  140.690002   \n",
       "\n",
       "                            Adj Close    Volume  \n",
       "Date                                             \n",
       "2017-03-13 00:00:00+00:00  137.590912  17421700  \n",
       "2017-03-14 00:00:00+00:00  137.383347  15309100  \n",
       "2017-03-15 00:00:00+00:00  138.836365  25691800  \n",
       "2017-03-16 00:00:00+00:00  139.063690  19232000  "
      ]
     },
     "execution_count": 118,
     "metadata": {},
     "output_type": "execute_result"
    }
   ],
   "source": [
    "#Pick out everything from march 12 - march 16\n",
    "df_AAPL.loc[\"March 12 2017\":\"March 16 2017\", :]"
   ]
  },
  {
   "cell_type": "code",
   "execution_count": 119,
   "metadata": {},
   "outputs": [
    {
     "data": {
      "text/html": [
       "<div>\n",
       "<table border=\"1\" class=\"dataframe\">\n",
       "  <thead>\n",
       "    <tr style=\"text-align: right;\">\n",
       "      <th></th>\n",
       "      <th>Open</th>\n",
       "      <th>High</th>\n",
       "      <th>Low</th>\n",
       "      <th>Close</th>\n",
       "      <th>Adj Close</th>\n",
       "      <th>Volume</th>\n",
       "    </tr>\n",
       "    <tr>\n",
       "      <th>Date</th>\n",
       "      <th></th>\n",
       "      <th></th>\n",
       "      <th></th>\n",
       "      <th></th>\n",
       "      <th></th>\n",
       "      <th></th>\n",
       "    </tr>\n",
       "  </thead>\n",
       "  <tbody>\n",
       "    <tr>\n",
       "      <th>2017-01-04 00:00:00+00:00</th>\n",
       "      <td>115.849998</td>\n",
       "      <td>116.510002</td>\n",
       "      <td>115.75</td>\n",
       "      <td>116.019997</td>\n",
       "      <td>114.183815</td>\n",
       "      <td>21118100</td>\n",
       "    </tr>\n",
       "  </tbody>\n",
       "</table>\n",
       "</div>"
      ],
      "text/plain": [
       "                                 Open        High     Low       Close  \\\n",
       "Date                                                                    \n",
       "2017-01-04 00:00:00+00:00  115.849998  116.510002  115.75  116.019997   \n",
       "\n",
       "                            Adj Close    Volume  \n",
       "Date                                             \n",
       "2017-01-04 00:00:00+00:00  114.183815  21118100  "
      ]
     },
     "execution_count": 119,
     "metadata": {},
     "output_type": "execute_result"
    }
   ],
   "source": [
    "#Let's see what happens when we specify times\n",
    "df_AAPL.loc[\"1-3-2017 12PM\":\"1-4-2017 12PM\", :]"
   ]
  },
  {
   "cell_type": "markdown",
   "metadata": {},
   "source": [
    "We only get the 1-4 date, since the 1-3 is at midnight.  This is where having period indexes can be useful."
   ]
  },
  {
   "cell_type": "markdown",
   "metadata": {},
   "source": [
    "Now lets convert this date index to a period index with a frequency of a day and then do some more slicing. "
   ]
  },
  {
   "cell_type": "code",
   "execution_count": 120,
   "metadata": {},
   "outputs": [
    {
     "data": {
      "text/plain": [
       "PeriodIndex(['2017-01-03', '2017-01-04', '2017-01-05', '2017-01-06',\n",
       "             '2017-01-09', '2017-01-10', '2017-01-11', '2017-01-12',\n",
       "             '2017-01-13', '2017-01-17',\n",
       "             ...\n",
       "             '2017-08-21', '2017-08-22', '2017-08-23', '2017-08-24',\n",
       "             '2017-08-25', '2017-08-28', '2017-08-29', '2017-08-30',\n",
       "             '2017-08-31', '2017-09-01'],\n",
       "            dtype='period[D]', name='Date', length=169, freq='D')"
      ]
     },
     "execution_count": 120,
     "metadata": {},
     "output_type": "execute_result"
    }
   ],
   "source": [
    "#Convert date index to period index\n",
    "df_AAPL.index = df_AAPL.index.to_period(freq = \"D\")\n",
    "\n",
    "#Look at index\n",
    "df_AAPL.index"
   ]
  },
  {
   "cell_type": "markdown",
   "metadata": {},
   "source": [
    "So now each of the row labels represents an interval of time. Let's try to slice with the times."
   ]
  },
  {
   "cell_type": "code",
   "execution_count": 121,
   "metadata": {},
   "outputs": [
    {
     "data": {
      "text/html": [
       "<div>\n",
       "<table border=\"1\" class=\"dataframe\">\n",
       "  <thead>\n",
       "    <tr style=\"text-align: right;\">\n",
       "      <th></th>\n",
       "      <th>Open</th>\n",
       "      <th>High</th>\n",
       "      <th>Low</th>\n",
       "      <th>Close</th>\n",
       "      <th>Adj Close</th>\n",
       "      <th>Volume</th>\n",
       "    </tr>\n",
       "    <tr>\n",
       "      <th>Date</th>\n",
       "      <th></th>\n",
       "      <th></th>\n",
       "      <th></th>\n",
       "      <th></th>\n",
       "      <th></th>\n",
       "      <th></th>\n",
       "    </tr>\n",
       "  </thead>\n",
       "  <tbody>\n",
       "    <tr>\n",
       "      <th>2017-01-03</th>\n",
       "      <td>115.800003</td>\n",
       "      <td>116.330002</td>\n",
       "      <td>114.760002</td>\n",
       "      <td>116.150002</td>\n",
       "      <td>114.311760</td>\n",
       "      <td>28781900</td>\n",
       "    </tr>\n",
       "    <tr>\n",
       "      <th>2017-01-04</th>\n",
       "      <td>115.849998</td>\n",
       "      <td>116.510002</td>\n",
       "      <td>115.750000</td>\n",
       "      <td>116.019997</td>\n",
       "      <td>114.183815</td>\n",
       "      <td>21118100</td>\n",
       "    </tr>\n",
       "  </tbody>\n",
       "</table>\n",
       "</div>"
      ],
      "text/plain": [
       "                  Open        High         Low       Close   Adj Close  \\\n",
       "Date                                                                     \n",
       "2017-01-03  115.800003  116.330002  114.760002  116.150002  114.311760   \n",
       "2017-01-04  115.849998  116.510002  115.750000  116.019997  114.183815   \n",
       "\n",
       "              Volume  \n",
       "Date                  \n",
       "2017-01-03  28781900  \n",
       "2017-01-04  21118100  "
      ]
     },
     "execution_count": 121,
     "metadata": {},
     "output_type": "execute_result"
    }
   ],
   "source": [
    "df_AAPL.loc[\"1-3-2017 11:30PM\":\"1-4-2017 12PM\", :]"
   ]
  },
  {
   "cell_type": "markdown",
   "metadata": {},
   "source": [
    "Now we get the 1-3 value as well since this interval overlaps with the one selected. So how do we get all of January?  The following will not work:"
   ]
  },
  {
   "cell_type": "code",
   "execution_count": 10,
   "metadata": {},
   "outputs": [
    {
     "data": {
      "text/html": [
       "<div>\n",
       "<style scoped>\n",
       "    .dataframe tbody tr th:only-of-type {\n",
       "        vertical-align: middle;\n",
       "    }\n",
       "\n",
       "    .dataframe tbody tr th {\n",
       "        vertical-align: top;\n",
       "    }\n",
       "\n",
       "    .dataframe thead th {\n",
       "        text-align: right;\n",
       "    }\n",
       "</style>\n",
       "<table border=\"1\" class=\"dataframe\">\n",
       "  <thead>\n",
       "    <tr style=\"text-align: right;\">\n",
       "      <th></th>\n",
       "      <th>Open</th>\n",
       "      <th>High</th>\n",
       "      <th>Low</th>\n",
       "      <th>Close</th>\n",
       "      <th>Adj Close</th>\n",
       "      <th>Volume</th>\n",
       "    </tr>\n",
       "    <tr>\n",
       "      <th>Date</th>\n",
       "      <th></th>\n",
       "      <th></th>\n",
       "      <th></th>\n",
       "      <th></th>\n",
       "      <th></th>\n",
       "      <th></th>\n",
       "    </tr>\n",
       "  </thead>\n",
       "  <tbody>\n",
       "    <tr>\n",
       "      <th>2017-01-03 00:00:00+00:00</th>\n",
       "      <td>115.800003</td>\n",
       "      <td>116.330002</td>\n",
       "      <td>114.760002</td>\n",
       "      <td>116.150002</td>\n",
       "      <td>114.311760</td>\n",
       "      <td>28781900</td>\n",
       "    </tr>\n",
       "    <tr>\n",
       "      <th>2017-01-04 00:00:00+00:00</th>\n",
       "      <td>115.849998</td>\n",
       "      <td>116.510002</td>\n",
       "      <td>115.750000</td>\n",
       "      <td>116.019997</td>\n",
       "      <td>114.183815</td>\n",
       "      <td>21118100</td>\n",
       "    </tr>\n",
       "    <tr>\n",
       "      <th>2017-01-05 00:00:00+00:00</th>\n",
       "      <td>115.919998</td>\n",
       "      <td>116.860001</td>\n",
       "      <td>115.809998</td>\n",
       "      <td>116.610001</td>\n",
       "      <td>114.764473</td>\n",
       "      <td>22193600</td>\n",
       "    </tr>\n",
       "    <tr>\n",
       "      <th>2017-01-06 00:00:00+00:00</th>\n",
       "      <td>116.779999</td>\n",
       "      <td>118.160004</td>\n",
       "      <td>116.470001</td>\n",
       "      <td>117.910004</td>\n",
       "      <td>116.043915</td>\n",
       "      <td>31751900</td>\n",
       "    </tr>\n",
       "    <tr>\n",
       "      <th>2017-01-09 00:00:00+00:00</th>\n",
       "      <td>117.949997</td>\n",
       "      <td>119.430000</td>\n",
       "      <td>117.940002</td>\n",
       "      <td>118.989998</td>\n",
       "      <td>117.106812</td>\n",
       "      <td>33561900</td>\n",
       "    </tr>\n",
       "    <tr>\n",
       "      <th>2017-01-10 00:00:00+00:00</th>\n",
       "      <td>118.769997</td>\n",
       "      <td>119.379997</td>\n",
       "      <td>118.300003</td>\n",
       "      <td>119.110001</td>\n",
       "      <td>117.224907</td>\n",
       "      <td>24462100</td>\n",
       "    </tr>\n",
       "    <tr>\n",
       "      <th>2017-01-11 00:00:00+00:00</th>\n",
       "      <td>118.739998</td>\n",
       "      <td>119.930000</td>\n",
       "      <td>118.599998</td>\n",
       "      <td>119.750000</td>\n",
       "      <td>117.854782</td>\n",
       "      <td>27588600</td>\n",
       "    </tr>\n",
       "    <tr>\n",
       "      <th>2017-01-12 00:00:00+00:00</th>\n",
       "      <td>118.900002</td>\n",
       "      <td>119.300003</td>\n",
       "      <td>118.209999</td>\n",
       "      <td>119.250000</td>\n",
       "      <td>117.362694</td>\n",
       "      <td>27086200</td>\n",
       "    </tr>\n",
       "    <tr>\n",
       "      <th>2017-01-13 00:00:00+00:00</th>\n",
       "      <td>119.110001</td>\n",
       "      <td>119.620003</td>\n",
       "      <td>118.809998</td>\n",
       "      <td>119.040001</td>\n",
       "      <td>117.156021</td>\n",
       "      <td>26111900</td>\n",
       "    </tr>\n",
       "    <tr>\n",
       "      <th>2017-01-17 00:00:00+00:00</th>\n",
       "      <td>118.339996</td>\n",
       "      <td>120.239998</td>\n",
       "      <td>118.220001</td>\n",
       "      <td>120.000000</td>\n",
       "      <td>118.100822</td>\n",
       "      <td>34439800</td>\n",
       "    </tr>\n",
       "    <tr>\n",
       "      <th>2017-01-18 00:00:00+00:00</th>\n",
       "      <td>120.000000</td>\n",
       "      <td>120.500000</td>\n",
       "      <td>119.709999</td>\n",
       "      <td>119.989998</td>\n",
       "      <td>118.090981</td>\n",
       "      <td>23713000</td>\n",
       "    </tr>\n",
       "    <tr>\n",
       "      <th>2017-01-19 00:00:00+00:00</th>\n",
       "      <td>119.400002</td>\n",
       "      <td>120.089996</td>\n",
       "      <td>119.370003</td>\n",
       "      <td>119.779999</td>\n",
       "      <td>117.884300</td>\n",
       "      <td>25597300</td>\n",
       "    </tr>\n",
       "    <tr>\n",
       "      <th>2017-01-20 00:00:00+00:00</th>\n",
       "      <td>120.449997</td>\n",
       "      <td>120.449997</td>\n",
       "      <td>119.730003</td>\n",
       "      <td>120.000000</td>\n",
       "      <td>118.100822</td>\n",
       "      <td>32597900</td>\n",
       "    </tr>\n",
       "    <tr>\n",
       "      <th>2017-01-23 00:00:00+00:00</th>\n",
       "      <td>120.000000</td>\n",
       "      <td>120.809998</td>\n",
       "      <td>119.769997</td>\n",
       "      <td>120.080002</td>\n",
       "      <td>118.179558</td>\n",
       "      <td>22050200</td>\n",
       "    </tr>\n",
       "    <tr>\n",
       "      <th>2017-01-24 00:00:00+00:00</th>\n",
       "      <td>119.550003</td>\n",
       "      <td>120.099998</td>\n",
       "      <td>119.500000</td>\n",
       "      <td>119.970001</td>\n",
       "      <td>118.071304</td>\n",
       "      <td>23211000</td>\n",
       "    </tr>\n",
       "    <tr>\n",
       "      <th>2017-01-25 00:00:00+00:00</th>\n",
       "      <td>120.419998</td>\n",
       "      <td>122.099998</td>\n",
       "      <td>120.279999</td>\n",
       "      <td>121.879997</td>\n",
       "      <td>119.951073</td>\n",
       "      <td>32377600</td>\n",
       "    </tr>\n",
       "    <tr>\n",
       "      <th>2017-01-26 00:00:00+00:00</th>\n",
       "      <td>121.669998</td>\n",
       "      <td>122.440002</td>\n",
       "      <td>121.599998</td>\n",
       "      <td>121.940002</td>\n",
       "      <td>120.010132</td>\n",
       "      <td>26337600</td>\n",
       "    </tr>\n",
       "    <tr>\n",
       "      <th>2017-01-27 00:00:00+00:00</th>\n",
       "      <td>122.139999</td>\n",
       "      <td>122.349998</td>\n",
       "      <td>121.599998</td>\n",
       "      <td>121.949997</td>\n",
       "      <td>120.019958</td>\n",
       "      <td>20562900</td>\n",
       "    </tr>\n",
       "    <tr>\n",
       "      <th>2017-01-30 00:00:00+00:00</th>\n",
       "      <td>120.930000</td>\n",
       "      <td>121.629997</td>\n",
       "      <td>120.660004</td>\n",
       "      <td>121.629997</td>\n",
       "      <td>119.705017</td>\n",
       "      <td>30377500</td>\n",
       "    </tr>\n",
       "    <tr>\n",
       "      <th>2017-01-31 00:00:00+00:00</th>\n",
       "      <td>121.150002</td>\n",
       "      <td>121.389999</td>\n",
       "      <td>120.620003</td>\n",
       "      <td>121.349998</td>\n",
       "      <td>119.429459</td>\n",
       "      <td>49201000</td>\n",
       "    </tr>\n",
       "  </tbody>\n",
       "</table>\n",
       "</div>"
      ],
      "text/plain": [
       "                                 Open        High         Low       Close  \\\n",
       "Date                                                                        \n",
       "2017-01-03 00:00:00+00:00  115.800003  116.330002  114.760002  116.150002   \n",
       "2017-01-04 00:00:00+00:00  115.849998  116.510002  115.750000  116.019997   \n",
       "2017-01-05 00:00:00+00:00  115.919998  116.860001  115.809998  116.610001   \n",
       "2017-01-06 00:00:00+00:00  116.779999  118.160004  116.470001  117.910004   \n",
       "2017-01-09 00:00:00+00:00  117.949997  119.430000  117.940002  118.989998   \n",
       "2017-01-10 00:00:00+00:00  118.769997  119.379997  118.300003  119.110001   \n",
       "2017-01-11 00:00:00+00:00  118.739998  119.930000  118.599998  119.750000   \n",
       "2017-01-12 00:00:00+00:00  118.900002  119.300003  118.209999  119.250000   \n",
       "2017-01-13 00:00:00+00:00  119.110001  119.620003  118.809998  119.040001   \n",
       "2017-01-17 00:00:00+00:00  118.339996  120.239998  118.220001  120.000000   \n",
       "2017-01-18 00:00:00+00:00  120.000000  120.500000  119.709999  119.989998   \n",
       "2017-01-19 00:00:00+00:00  119.400002  120.089996  119.370003  119.779999   \n",
       "2017-01-20 00:00:00+00:00  120.449997  120.449997  119.730003  120.000000   \n",
       "2017-01-23 00:00:00+00:00  120.000000  120.809998  119.769997  120.080002   \n",
       "2017-01-24 00:00:00+00:00  119.550003  120.099998  119.500000  119.970001   \n",
       "2017-01-25 00:00:00+00:00  120.419998  122.099998  120.279999  121.879997   \n",
       "2017-01-26 00:00:00+00:00  121.669998  122.440002  121.599998  121.940002   \n",
       "2017-01-27 00:00:00+00:00  122.139999  122.349998  121.599998  121.949997   \n",
       "2017-01-30 00:00:00+00:00  120.930000  121.629997  120.660004  121.629997   \n",
       "2017-01-31 00:00:00+00:00  121.150002  121.389999  120.620003  121.349998   \n",
       "\n",
       "                            Adj Close    Volume  \n",
       "Date                                             \n",
       "2017-01-03 00:00:00+00:00  114.311760  28781900  \n",
       "2017-01-04 00:00:00+00:00  114.183815  21118100  \n",
       "2017-01-05 00:00:00+00:00  114.764473  22193600  \n",
       "2017-01-06 00:00:00+00:00  116.043915  31751900  \n",
       "2017-01-09 00:00:00+00:00  117.106812  33561900  \n",
       "2017-01-10 00:00:00+00:00  117.224907  24462100  \n",
       "2017-01-11 00:00:00+00:00  117.854782  27588600  \n",
       "2017-01-12 00:00:00+00:00  117.362694  27086200  \n",
       "2017-01-13 00:00:00+00:00  117.156021  26111900  \n",
       "2017-01-17 00:00:00+00:00  118.100822  34439800  \n",
       "2017-01-18 00:00:00+00:00  118.090981  23713000  \n",
       "2017-01-19 00:00:00+00:00  117.884300  25597300  \n",
       "2017-01-20 00:00:00+00:00  118.100822  32597900  \n",
       "2017-01-23 00:00:00+00:00  118.179558  22050200  \n",
       "2017-01-24 00:00:00+00:00  118.071304  23211000  \n",
       "2017-01-25 00:00:00+00:00  119.951073  32377600  \n",
       "2017-01-26 00:00:00+00:00  120.010132  26337600  \n",
       "2017-01-27 00:00:00+00:00  120.019958  20562900  \n",
       "2017-01-30 00:00:00+00:00  119.705017  30377500  \n",
       "2017-01-31 00:00:00+00:00  119.429459  49201000  "
      ]
     },
     "execution_count": 10,
     "metadata": {},
     "output_type": "execute_result"
    }
   ],
   "source": [
    "#Try to get all of January\n",
    "df_AAPL.loc[\"1-2017\",:]"
   ]
  },
  {
   "cell_type": "markdown",
   "metadata": {},
   "source": [
    "Do do this you have to specify start and end dates."
   ]
  },
  {
   "cell_type": "code",
   "execution_count": 123,
   "metadata": {},
   "outputs": [
    {
     "data": {
      "text/html": [
       "<div>\n",
       "<table border=\"1\" class=\"dataframe\">\n",
       "  <thead>\n",
       "    <tr style=\"text-align: right;\">\n",
       "      <th></th>\n",
       "      <th>Open</th>\n",
       "      <th>High</th>\n",
       "      <th>Low</th>\n",
       "      <th>Close</th>\n",
       "      <th>Adj Close</th>\n",
       "      <th>Volume</th>\n",
       "    </tr>\n",
       "    <tr>\n",
       "      <th>Date</th>\n",
       "      <th></th>\n",
       "      <th></th>\n",
       "      <th></th>\n",
       "      <th></th>\n",
       "      <th></th>\n",
       "      <th></th>\n",
       "    </tr>\n",
       "  </thead>\n",
       "  <tbody>\n",
       "    <tr>\n",
       "      <th>2017-01-03</th>\n",
       "      <td>115.800003</td>\n",
       "      <td>116.330002</td>\n",
       "      <td>114.760002</td>\n",
       "      <td>116.150002</td>\n",
       "      <td>114.311760</td>\n",
       "      <td>28781900</td>\n",
       "    </tr>\n",
       "    <tr>\n",
       "      <th>2017-01-04</th>\n",
       "      <td>115.849998</td>\n",
       "      <td>116.510002</td>\n",
       "      <td>115.750000</td>\n",
       "      <td>116.019997</td>\n",
       "      <td>114.183815</td>\n",
       "      <td>21118100</td>\n",
       "    </tr>\n",
       "    <tr>\n",
       "      <th>2017-01-05</th>\n",
       "      <td>115.919998</td>\n",
       "      <td>116.860001</td>\n",
       "      <td>115.809998</td>\n",
       "      <td>116.610001</td>\n",
       "      <td>114.764473</td>\n",
       "      <td>22193600</td>\n",
       "    </tr>\n",
       "    <tr>\n",
       "      <th>2017-01-06</th>\n",
       "      <td>116.779999</td>\n",
       "      <td>118.160004</td>\n",
       "      <td>116.470001</td>\n",
       "      <td>117.910004</td>\n",
       "      <td>116.043915</td>\n",
       "      <td>31751900</td>\n",
       "    </tr>\n",
       "    <tr>\n",
       "      <th>2017-01-09</th>\n",
       "      <td>117.949997</td>\n",
       "      <td>119.430000</td>\n",
       "      <td>117.940002</td>\n",
       "      <td>118.989998</td>\n",
       "      <td>117.106812</td>\n",
       "      <td>33561900</td>\n",
       "    </tr>\n",
       "  </tbody>\n",
       "</table>\n",
       "</div>"
      ],
      "text/plain": [
       "                  Open        High         Low       Close   Adj Close  \\\n",
       "Date                                                                     \n",
       "2017-01-03  115.800003  116.330002  114.760002  116.150002  114.311760   \n",
       "2017-01-04  115.849998  116.510002  115.750000  116.019997  114.183815   \n",
       "2017-01-05  115.919998  116.860001  115.809998  116.610001  114.764473   \n",
       "2017-01-06  116.779999  118.160004  116.470001  117.910004  116.043915   \n",
       "2017-01-09  117.949997  119.430000  117.940002  118.989998  117.106812   \n",
       "\n",
       "              Volume  \n",
       "Date                  \n",
       "2017-01-03  28781900  \n",
       "2017-01-04  21118100  \n",
       "2017-01-05  22193600  \n",
       "2017-01-06  31751900  \n",
       "2017-01-09  33561900  "
      ]
     },
     "execution_count": 123,
     "metadata": {},
     "output_type": "execute_result"
    }
   ],
   "source": [
    "#Get all of January\n",
    "df_AAPL.loc[\"1-1-2017\": \"1-31-2017\", :].head()"
   ]
  },
  {
   "cell_type": "markdown",
   "metadata": {},
   "source": [
    "Now, let's convert the period index back to a date index and see some important computations we can do."
   ]
  },
  {
   "cell_type": "code",
   "execution_count": 127,
   "metadata": {},
   "outputs": [
    {
     "data": {
      "text/plain": [
       "DatetimeIndex(['2017-01-03', '2017-01-04', '2017-01-05', '2017-01-06',\n",
       "               '2017-01-09', '2017-01-10', '2017-01-11', '2017-01-12',\n",
       "               '2017-01-13', '2017-01-17',\n",
       "               ...\n",
       "               '2017-08-21', '2017-08-22', '2017-08-23', '2017-08-24',\n",
       "               '2017-08-25', '2017-08-28', '2017-08-29', '2017-08-30',\n",
       "               '2017-08-31', '2017-09-01'],\n",
       "              dtype='datetime64[ns]', name='Date', length=169, freq=None)"
      ]
     },
     "execution_count": 127,
     "metadata": {},
     "output_type": "execute_result"
    }
   ],
   "source": [
    "#Convert back to date index\n",
    "df_AAPL.index = df_AAPL.index.to_timestamp()\n",
    "\n",
    "#Look at index\n",
    "df_AAPL.index"
   ]
  },
  {
   "cell_type": "markdown",
   "metadata": {},
   "source": [
    "We will start with resampling, which lets us summarize the time series in either smaller (downsampling) or larger (upsampling) intervals of time."
   ]
  },
  {
   "cell_type": "markdown",
   "metadata": {},
   "source": [
    "### Resampling\n",
    "\n",
    "Let's just focus on the open price for now"
   ]
  },
  {
   "cell_type": "code",
   "execution_count": 22,
   "metadata": {},
   "outputs": [
    {
     "data": {
      "text/plain": [
       "Date\n",
       "2017-01-03    115.800003\n",
       "2017-01-04    115.849998\n",
       "2017-01-05    115.919998\n",
       "2017-01-06    116.779999\n",
       "2017-01-09    117.949997\n",
       "Name: Open, dtype: float64"
      ]
     },
     "execution_count": 22,
     "metadata": {},
     "output_type": "execute_result"
    }
   ],
   "source": [
    "#Get the open price\n",
    "open_price = df_AAPL.Open\n",
    "\n",
    "open_price.head()"
   ]
  },
  {
   "cell_type": "markdown",
   "metadata": {},
   "source": [
    "Let's say I want to know how the open price changes for each month.  I can resample the data monthly, and use the average open price as the representative statistic for each month.  Here is how I do that."
   ]
  },
  {
   "cell_type": "code",
   "execution_count": 12,
   "metadata": {},
   "outputs": [
    {
     "data": {
      "text/plain": [
       "Date\n",
       "2017-01-31 00:00:00+00:00    119.093499\n",
       "2017-02-28 00:00:00+00:00    133.234738\n",
       "2017-03-31 00:00:00+00:00    140.362174\n",
       "2017-04-30 00:00:00+00:00    143.030001\n",
       "2017-05-31 00:00:00+00:00    151.965908\n",
       "2017-06-30 00:00:00+00:00    148.215001\n",
       "2017-07-31 00:00:00+00:00    148.096500\n",
       "2017-08-31 00:00:00+00:00    158.946958\n",
       "2017-09-30 00:00:00+00:00    164.800003\n",
       "Freq: M, Name: Open, dtype: float64"
      ]
     },
     "execution_count": 12,
     "metadata": {},
     "output_type": "execute_result"
    }
   ],
   "source": [
    "#Monthly resaampling with the mean\n",
    "open_price_monthly = open_price.resample(rule = \"M\").mean()\n",
    "open_price_monthly"
   ]
  },
  {
   "cell_type": "markdown",
   "metadata": {},
   "source": [
    "So the values in this series are monthly averages, but our row labels are timestamps as you can seen below."
   ]
  },
  {
   "cell_type": "code",
   "execution_count": 132,
   "metadata": {},
   "outputs": [
    {
     "data": {
      "text/plain": [
       "DatetimeIndex(['2017-01-31', '2017-02-28', '2017-03-31', '2017-04-30',\n",
       "               '2017-05-31', '2017-06-30', '2017-07-31', '2017-08-31',\n",
       "               '2017-09-30'],\n",
       "              dtype='datetime64[ns]', name='Date', freq='M')"
      ]
     },
     "execution_count": 132,
     "metadata": {},
     "output_type": "execute_result"
    }
   ],
   "source": [
    "open_price_monthly.index"
   ]
  },
  {
   "cell_type": "markdown",
   "metadata": {},
   "source": [
    "First it makes more sense to have these be intervals of time starting at the first of each month and lasting one month.  We can do this with two extra inputs to the resample method: label = 'left' and kind = 'period'."
   ]
  },
  {
   "cell_type": "code",
   "execution_count": 133,
   "metadata": {},
   "outputs": [
    {
     "data": {
      "text/plain": [
       "Date\n",
       "2017-01    119.093499\n",
       "2017-02    133.234738\n",
       "2017-03    140.362174\n",
       "2017-04    143.030001\n",
       "2017-05    151.965908\n",
       "2017-06    148.215001\n",
       "2017-07    148.096500\n",
       "2017-08    158.946958\n",
       "2017-09    164.800003\n",
       "Freq: M, Name: Open, dtype: float64"
      ]
     },
     "execution_count": 133,
     "metadata": {},
     "output_type": "execute_result"
    }
   ],
   "source": [
    "open_price_monthly_periods = open_price.resample(rule = \"M\", label='left', kind = \"period\").mean()\n",
    "open_price_monthly_periods"
   ]
  },
  {
   "cell_type": "markdown",
   "metadata": {},
   "source": [
    "You can downsample using multiple statistics using the agg method.  Let's say I want to downsample monthly and then summarize by mean and max open price. I can do this as follows:"
   ]
  },
  {
   "cell_type": "code",
   "execution_count": 150,
   "metadata": {},
   "outputs": [
    {
     "data": {
      "text/html": [
       "<div>\n",
       "<table border=\"1\" class=\"dataframe\">\n",
       "  <thead>\n",
       "    <tr style=\"text-align: right;\">\n",
       "      <th></th>\n",
       "      <th>mean</th>\n",
       "      <th>max</th>\n",
       "    </tr>\n",
       "    <tr>\n",
       "      <th>Date</th>\n",
       "      <th></th>\n",
       "      <th></th>\n",
       "    </tr>\n",
       "  </thead>\n",
       "  <tbody>\n",
       "    <tr>\n",
       "      <th>2017-01</th>\n",
       "      <td>119.093499</td>\n",
       "      <td>122.139999</td>\n",
       "    </tr>\n",
       "    <tr>\n",
       "      <th>2017-02</th>\n",
       "      <td>133.234738</td>\n",
       "      <td>137.380005</td>\n",
       "    </tr>\n",
       "    <tr>\n",
       "      <th>2017-03</th>\n",
       "      <td>140.362174</td>\n",
       "      <td>144.190002</td>\n",
       "    </tr>\n",
       "    <tr>\n",
       "      <th>2017-04</th>\n",
       "      <td>143.030001</td>\n",
       "      <td>144.470001</td>\n",
       "    </tr>\n",
       "    <tr>\n",
       "      <th>2017-05</th>\n",
       "      <td>151.965908</td>\n",
       "      <td>156.009995</td>\n",
       "    </tr>\n",
       "    <tr>\n",
       "      <th>2017-06</th>\n",
       "      <td>148.215001</td>\n",
       "      <td>155.250000</td>\n",
       "    </tr>\n",
       "    <tr>\n",
       "      <th>2017-07</th>\n",
       "      <td>148.096500</td>\n",
       "      <td>153.750000</td>\n",
       "    </tr>\n",
       "    <tr>\n",
       "      <th>2017-08</th>\n",
       "      <td>158.946958</td>\n",
       "      <td>163.800003</td>\n",
       "    </tr>\n",
       "    <tr>\n",
       "      <th>2017-09</th>\n",
       "      <td>164.800003</td>\n",
       "      <td>164.800003</td>\n",
       "    </tr>\n",
       "  </tbody>\n",
       "</table>\n",
       "</div>"
      ],
      "text/plain": [
       "               mean         max\n",
       "Date                           \n",
       "2017-01  119.093499  122.139999\n",
       "2017-02  133.234738  137.380005\n",
       "2017-03  140.362174  144.190002\n",
       "2017-04  143.030001  144.470001\n",
       "2017-05  151.965908  156.009995\n",
       "2017-06  148.215001  155.250000\n",
       "2017-07  148.096500  153.750000\n",
       "2017-08  158.946958  163.800003\n",
       "2017-09  164.800003  164.800003"
      ]
     },
     "execution_count": 150,
     "metadata": {},
     "output_type": "execute_result"
    }
   ],
   "source": [
    "#Downsampling using to two statistics\n",
    "min_max = open_price.resample(rule = \"M\", label='left', kind = \"period\").agg([\"mean\", \"max\"])\n",
    "\n",
    "min_max"
   ]
  },
  {
   "cell_type": "code",
   "execution_count": 151,
   "metadata": {},
   "outputs": [
    {
     "data": {
      "text/plain": [
       "PeriodIndex(['2017-01', '2017-02', '2017-03', '2017-04', '2017-05', '2017-06',\n",
       "             '2017-07', '2017-08', '2017-09'],\n",
       "            dtype='period[M]', name='Date', freq='M')"
      ]
     },
     "execution_count": 151,
     "metadata": {},
     "output_type": "execute_result"
    }
   ],
   "source": [
    "#Now index is a period with monthly frequency\n",
    "open_price_monthly_periods.index"
   ]
  },
  {
   "cell_type": "markdown",
   "metadata": {},
   "source": [
    "Let's see what happens when I upsample the open price to be every 12 hours. In this case, we will have blank rows in our time series.  Here we use the forward fill method fill in the blanks, which will fill each blank with the last non-blank entry."
   ]
  },
  {
   "cell_type": "code",
   "execution_count": 31,
   "metadata": {},
   "outputs": [
    {
     "data": {
      "text/plain": [
       "Date\n",
       "2017-01-03 00:00:00    115.800003\n",
       "2017-01-03 12:00:00    115.800003\n",
       "2017-01-04 00:00:00    115.849998\n",
       "2017-01-04 12:00:00    115.849998\n",
       "2017-01-05 00:00:00    115.919998\n",
       "Freq: 12H, Name: Open, dtype: float64"
      ]
     },
     "execution_count": 31,
     "metadata": {},
     "output_type": "execute_result"
    }
   ],
   "source": [
    "open_price_half_day = open_price.resample(rule = \"12H\").ffill().head()\n",
    "open_price_half_day.head()"
   ]
  },
  {
   "cell_type": "markdown",
   "metadata": {},
   "source": [
    "### Shift\n",
    "\n",
    "Shift is another useful method for time series. Let's focus on the closing price for this section"
   ]
  },
  {
   "cell_type": "code",
   "execution_count": 14,
   "metadata": {},
   "outputs": [
    {
     "data": {
      "text/plain": [
       "Date\n",
       "2017-01-03 00:00:00+00:00    116.150002\n",
       "2017-01-04 00:00:00+00:00    116.019997\n",
       "2017-01-05 00:00:00+00:00    116.610001\n",
       "2017-01-06 00:00:00+00:00    117.910004\n",
       "2017-01-09 00:00:00+00:00    118.989998\n",
       "Name: Close, dtype: float64"
      ]
     },
     "execution_count": 14,
     "metadata": {},
     "output_type": "execute_result"
    }
   ],
   "source": [
    "price_close = df_AAPL.Close\n",
    "\n",
    "price_close.head()"
   ]
  },
  {
   "cell_type": "markdown",
   "metadata": {},
   "source": [
    "Let's say that we want to know the percent daily change in closing price.  The shift method will shift the time series up or down."
   ]
  },
  {
   "cell_type": "code",
   "execution_count": 174,
   "metadata": {},
   "outputs": [
    {
     "data": {
      "text/plain": [
       "Date\n",
       "2017-01-03           NaN\n",
       "2017-01-04    116.150002\n",
       "2017-01-05    116.019997\n",
       "2017-01-06    116.610001\n",
       "2017-01-09    117.910004\n",
       "Name: Close, dtype: float64"
      ]
     },
     "execution_count": 174,
     "metadata": {},
     "output_type": "execute_result"
    }
   ],
   "source": [
    "#Shift up one\n",
    "price_close.shift(1).head()"
   ]
  },
  {
   "cell_type": "code",
   "execution_count": 167,
   "metadata": {},
   "outputs": [
    {
     "data": {
      "text/plain": [
       "Date\n",
       "2017-08-28    159.979996\n",
       "2017-08-29    159.270004\n",
       "2017-08-30    159.860001\n",
       "2017-08-31    161.470001\n",
       "2017-09-01    162.910004\n",
       "Name: Close, dtype: float64"
      ]
     },
     "execution_count": 167,
     "metadata": {},
     "output_type": "execute_result"
    }
   ],
   "source": [
    "#Shift up 3\n",
    "price_close.shift(3).tail()"
   ]
  },
  {
   "cell_type": "code",
   "execution_count": 175,
   "metadata": {},
   "outputs": [
    {
     "data": {
      "text/plain": [
       "Date\n",
       "2017-08-28    162.910004\n",
       "2017-08-29    163.350006\n",
       "2017-08-30    164.000000\n",
       "2017-08-31    164.050003\n",
       "2017-09-01           NaN\n",
       "Name: Close, dtype: float64"
      ]
     },
     "execution_count": 175,
     "metadata": {},
     "output_type": "execute_result"
    }
   ],
   "source": [
    "#Shift back 1\n",
    "price_close.shift(-1).tail()"
   ]
  },
  {
   "cell_type": "markdown",
   "metadata": {},
   "source": [
    "It should be noted that none of these operation will actually change the length of the series.  For example, when we do .shift(1), the last date in the time series does not go from 9/1 to 9/2. To accomplish this we can specify a freq = \"B\" (B is for business day) argument when using the shift method."
   ]
  },
  {
   "cell_type": "code",
   "execution_count": 176,
   "metadata": {},
   "outputs": [
    {
     "data": {
      "text/plain": [
       "Date\n",
       "2017-08-29    161.470001\n",
       "2017-08-30    162.910004\n",
       "2017-08-31    163.350006\n",
       "2017-09-01    164.000000\n",
       "2017-09-04    164.050003\n",
       "Name: Close, dtype: float64"
      ]
     },
     "execution_count": 176,
     "metadata": {},
     "output_type": "execute_result"
    }
   ],
   "source": [
    "#Shift up one and add one entry at the ed\n",
    "price_close.shift(1, freq = \"B\").tail()"
   ]
  },
  {
   "cell_type": "markdown",
   "metadata": {},
   "source": [
    "So how I calculate the percentage change in closing price from date to day? Just combine the original series with the shifted by 1 series in a dataframe and then the computation can be done rowise."
   ]
  },
  {
   "cell_type": "code",
   "execution_count": 180,
   "metadata": {},
   "outputs": [
    {
     "data": {
      "text/html": [
       "<div>\n",
       "<table border=\"1\" class=\"dataframe\">\n",
       "  <thead>\n",
       "    <tr style=\"text-align: right;\">\n",
       "      <th></th>\n",
       "      <th>Close</th>\n",
       "      <th>Yesterday_Close</th>\n",
       "    </tr>\n",
       "    <tr>\n",
       "      <th>Date</th>\n",
       "      <th></th>\n",
       "      <th></th>\n",
       "    </tr>\n",
       "  </thead>\n",
       "  <tbody>\n",
       "    <tr>\n",
       "      <th>2017-01-03</th>\n",
       "      <td>116.150002</td>\n",
       "      <td>NaN</td>\n",
       "    </tr>\n",
       "    <tr>\n",
       "      <th>2017-01-04</th>\n",
       "      <td>116.019997</td>\n",
       "      <td>116.150002</td>\n",
       "    </tr>\n",
       "    <tr>\n",
       "      <th>2017-01-05</th>\n",
       "      <td>116.610001</td>\n",
       "      <td>116.019997</td>\n",
       "    </tr>\n",
       "    <tr>\n",
       "      <th>2017-01-06</th>\n",
       "      <td>117.910004</td>\n",
       "      <td>116.610001</td>\n",
       "    </tr>\n",
       "    <tr>\n",
       "      <th>2017-01-09</th>\n",
       "      <td>118.989998</td>\n",
       "      <td>117.910004</td>\n",
       "    </tr>\n",
       "  </tbody>\n",
       "</table>\n",
       "</div>"
      ],
      "text/plain": [
       "                 Close  Yesterday_Close\n",
       "Date                                   \n",
       "2017-01-03  116.150002              NaN\n",
       "2017-01-04  116.019997       116.150002\n",
       "2017-01-05  116.610001       116.019997\n",
       "2017-01-06  117.910004       116.610001\n",
       "2017-01-09  118.989998       117.910004"
      ]
     },
     "execution_count": 180,
     "metadata": {},
     "output_type": "execute_result"
    }
   ],
   "source": [
    "#Create df\n",
    "df_shifted = pd.concat([price_close, price_close.shift(1)], axis=1)\n",
    "\n",
    "#Set to appropriate columns\n",
    "df_shifted.columns = [\"Close\", \"Yesterday_Close\"]\n",
    "\n",
    "\n",
    "df_shifted.head()"
   ]
  },
  {
   "cell_type": "code",
   "execution_count": 183,
   "metadata": {},
   "outputs": [
    {
     "data": {
      "text/html": [
       "<div>\n",
       "<table border=\"1\" class=\"dataframe\">\n",
       "  <thead>\n",
       "    <tr style=\"text-align: right;\">\n",
       "      <th></th>\n",
       "      <th>Close</th>\n",
       "      <th>Yesterday_Close</th>\n",
       "      <th>Perc_Change</th>\n",
       "    </tr>\n",
       "    <tr>\n",
       "      <th>Date</th>\n",
       "      <th></th>\n",
       "      <th></th>\n",
       "      <th></th>\n",
       "    </tr>\n",
       "  </thead>\n",
       "  <tbody>\n",
       "    <tr>\n",
       "      <th>2017-01-03</th>\n",
       "      <td>116.150002</td>\n",
       "      <td>NaN</td>\n",
       "      <td>NaN</td>\n",
       "    </tr>\n",
       "    <tr>\n",
       "      <th>2017-01-04</th>\n",
       "      <td>116.019997</td>\n",
       "      <td>116.150002</td>\n",
       "      <td>-0.112054</td>\n",
       "    </tr>\n",
       "    <tr>\n",
       "      <th>2017-01-05</th>\n",
       "      <td>116.610001</td>\n",
       "      <td>116.019997</td>\n",
       "      <td>0.505963</td>\n",
       "    </tr>\n",
       "    <tr>\n",
       "      <th>2017-01-06</th>\n",
       "      <td>117.910004</td>\n",
       "      <td>116.610001</td>\n",
       "      <td>1.102538</td>\n",
       "    </tr>\n",
       "    <tr>\n",
       "      <th>2017-01-09</th>\n",
       "      <td>118.989998</td>\n",
       "      <td>117.910004</td>\n",
       "      <td>0.907634</td>\n",
       "    </tr>\n",
       "  </tbody>\n",
       "</table>\n",
       "</div>"
      ],
      "text/plain": [
       "                 Close  Yesterday_Close  Perc_Change\n",
       "Date                                                \n",
       "2017-01-03  116.150002              NaN          NaN\n",
       "2017-01-04  116.019997       116.150002    -0.112054\n",
       "2017-01-05  116.610001       116.019997     0.505963\n",
       "2017-01-06  117.910004       116.610001     1.102538\n",
       "2017-01-09  118.989998       117.910004     0.907634"
      ]
     },
     "execution_count": 183,
     "metadata": {},
     "output_type": "execute_result"
    }
   ],
   "source": [
    "#now the computation becomes easy\n",
    "df_shifted[\"Perc_Change\"] = ((df_shifted.Close - df_shifted.Yesterday_Close)/df_shifted.Close)*100\n",
    "\n",
    "df_shifted.head()"
   ]
  },
  {
   "cell_type": "markdown",
   "metadata": {},
   "source": [
    "### Rolling Statistics\n",
    "\n",
    "The final bit of this notebook will be in computing rolling statistics. We will focus again on the closing price. All we we need is the rolling method."
   ]
  },
  {
   "cell_type": "code",
   "execution_count": 15,
   "metadata": {},
   "outputs": [
    {
     "data": {
      "text/plain": [
       "Date\n",
       "2017-01-03 00:00:00+00:00        NaN\n",
       "2017-01-04 00:00:00+00:00        NaN\n",
       "2017-01-05 00:00:00+00:00        NaN\n",
       "2017-01-06 00:00:00+00:00        NaN\n",
       "2017-01-09 00:00:00+00:00        NaN\n",
       "2017-01-10 00:00:00+00:00        NaN\n",
       "2017-01-11 00:00:00+00:00        NaN\n",
       "2017-01-12 00:00:00+00:00        NaN\n",
       "2017-01-13 00:00:00+00:00        NaN\n",
       "2017-01-17 00:00:00+00:00    118.283\n",
       "2017-01-18 00:00:00+00:00    118.667\n",
       "2017-01-19 00:00:00+00:00    119.043\n",
       "2017-01-20 00:00:00+00:00    119.382\n",
       "2017-01-23 00:00:00+00:00    119.599\n",
       "2017-01-24 00:00:00+00:00    119.697\n",
       "Name: Close, dtype: float64"
      ]
     },
     "execution_count": 15,
     "metadata": {},
     "output_type": "execute_result"
    }
   ],
   "source": [
    "#Rolling mean - 10 day window\n",
    "ten_day_mean = price_close.rolling(window = 10).mean()\n",
    "\n",
    "ten_day_mean.head(15)"
   ]
  },
  {
   "cell_type": "markdown",
   "metadata": {},
   "source": [
    "We can do multiple functions using agg method as follows:"
   ]
  },
  {
   "cell_type": "code",
   "execution_count": 16,
   "metadata": {},
   "outputs": [
    {
     "data": {
      "text/html": [
       "<div>\n",
       "<style scoped>\n",
       "    .dataframe tbody tr th:only-of-type {\n",
       "        vertical-align: middle;\n",
       "    }\n",
       "\n",
       "    .dataframe tbody tr th {\n",
       "        vertical-align: top;\n",
       "    }\n",
       "\n",
       "    .dataframe thead th {\n",
       "        text-align: right;\n",
       "    }\n",
       "</style>\n",
       "<table border=\"1\" class=\"dataframe\">\n",
       "  <thead>\n",
       "    <tr style=\"text-align: right;\">\n",
       "      <th></th>\n",
       "      <th>mean</th>\n",
       "      <th>min</th>\n",
       "    </tr>\n",
       "    <tr>\n",
       "      <th>Date</th>\n",
       "      <th></th>\n",
       "      <th></th>\n",
       "    </tr>\n",
       "  </thead>\n",
       "  <tbody>\n",
       "    <tr>\n",
       "      <th>2017-01-03 00:00:00+00:00</th>\n",
       "      <td>NaN</td>\n",
       "      <td>NaN</td>\n",
       "    </tr>\n",
       "    <tr>\n",
       "      <th>2017-01-04 00:00:00+00:00</th>\n",
       "      <td>NaN</td>\n",
       "      <td>NaN</td>\n",
       "    </tr>\n",
       "    <tr>\n",
       "      <th>2017-01-05 00:00:00+00:00</th>\n",
       "      <td>NaN</td>\n",
       "      <td>NaN</td>\n",
       "    </tr>\n",
       "    <tr>\n",
       "      <th>2017-01-06 00:00:00+00:00</th>\n",
       "      <td>NaN</td>\n",
       "      <td>NaN</td>\n",
       "    </tr>\n",
       "    <tr>\n",
       "      <th>2017-01-09 00:00:00+00:00</th>\n",
       "      <td>NaN</td>\n",
       "      <td>NaN</td>\n",
       "    </tr>\n",
       "    <tr>\n",
       "      <th>2017-01-10 00:00:00+00:00</th>\n",
       "      <td>NaN</td>\n",
       "      <td>NaN</td>\n",
       "    </tr>\n",
       "    <tr>\n",
       "      <th>2017-01-11 00:00:00+00:00</th>\n",
       "      <td>NaN</td>\n",
       "      <td>NaN</td>\n",
       "    </tr>\n",
       "    <tr>\n",
       "      <th>2017-01-12 00:00:00+00:00</th>\n",
       "      <td>NaN</td>\n",
       "      <td>NaN</td>\n",
       "    </tr>\n",
       "    <tr>\n",
       "      <th>2017-01-13 00:00:00+00:00</th>\n",
       "      <td>NaN</td>\n",
       "      <td>NaN</td>\n",
       "    </tr>\n",
       "    <tr>\n",
       "      <th>2017-01-17 00:00:00+00:00</th>\n",
       "      <td>118.283</td>\n",
       "      <td>116.019997</td>\n",
       "    </tr>\n",
       "    <tr>\n",
       "      <th>2017-01-18 00:00:00+00:00</th>\n",
       "      <td>118.667</td>\n",
       "      <td>116.019997</td>\n",
       "    </tr>\n",
       "    <tr>\n",
       "      <th>2017-01-19 00:00:00+00:00</th>\n",
       "      <td>119.043</td>\n",
       "      <td>116.610001</td>\n",
       "    </tr>\n",
       "    <tr>\n",
       "      <th>2017-01-20 00:00:00+00:00</th>\n",
       "      <td>119.382</td>\n",
       "      <td>117.910004</td>\n",
       "    </tr>\n",
       "    <tr>\n",
       "      <th>2017-01-23 00:00:00+00:00</th>\n",
       "      <td>119.599</td>\n",
       "      <td>118.989998</td>\n",
       "    </tr>\n",
       "    <tr>\n",
       "      <th>2017-01-24 00:00:00+00:00</th>\n",
       "      <td>119.697</td>\n",
       "      <td>119.040001</td>\n",
       "    </tr>\n",
       "  </tbody>\n",
       "</table>\n",
       "</div>"
      ],
      "text/plain": [
       "                              mean         min\n",
       "Date                                          \n",
       "2017-01-03 00:00:00+00:00      NaN         NaN\n",
       "2017-01-04 00:00:00+00:00      NaN         NaN\n",
       "2017-01-05 00:00:00+00:00      NaN         NaN\n",
       "2017-01-06 00:00:00+00:00      NaN         NaN\n",
       "2017-01-09 00:00:00+00:00      NaN         NaN\n",
       "2017-01-10 00:00:00+00:00      NaN         NaN\n",
       "2017-01-11 00:00:00+00:00      NaN         NaN\n",
       "2017-01-12 00:00:00+00:00      NaN         NaN\n",
       "2017-01-13 00:00:00+00:00      NaN         NaN\n",
       "2017-01-17 00:00:00+00:00  118.283  116.019997\n",
       "2017-01-18 00:00:00+00:00  118.667  116.019997\n",
       "2017-01-19 00:00:00+00:00  119.043  116.610001\n",
       "2017-01-20 00:00:00+00:00  119.382  117.910004\n",
       "2017-01-23 00:00:00+00:00  119.599  118.989998\n",
       "2017-01-24 00:00:00+00:00  119.697  119.040001"
      ]
     },
     "execution_count": 16,
     "metadata": {},
     "output_type": "execute_result"
    }
   ],
   "source": [
    "#Rolling mean, min - 10 day window\n",
    "ten_day_mean_min = price_close.rolling(window = 10).agg([\"mean\", \"min\"])\n",
    "\n",
    "ten_day_mean_min.head(15)"
   ]
  },
  {
   "cell_type": "markdown",
   "metadata": {},
   "source": [
    "Notice that we get NaNs for the first 9 entries since our rolling mean needs 10 values.  If you would pandas to compute rolling windows of 10, but if there are fewer than 10 points, still compute a mean if there are at least 5 we can do this with the min_periods argument as follows"
   ]
  },
  {
   "cell_type": "code",
   "execution_count": 187,
   "metadata": {},
   "outputs": [
    {
     "data": {
      "text/plain": [
       "Date\n",
       "2017-01-03           NaN\n",
       "2017-01-04           NaN\n",
       "2017-01-05           NaN\n",
       "2017-01-06           NaN\n",
       "2017-01-09    117.136000\n",
       "2017-01-10    117.465001\n",
       "2017-01-11    117.791429\n",
       "2017-01-12    117.973750\n",
       "Name: Close, dtype: float64"
      ]
     },
     "execution_count": 187,
     "metadata": {},
     "output_type": "execute_result"
    }
   ],
   "source": [
    "#Set min periods threshold\n",
    "price_close.rolling(window = 10, min_periods=5).mean().head(8)"
   ]
  },
  {
   "cell_type": "markdown",
   "metadata": {},
   "source": [
    "In this case, there are only 4 NaNs.  It should also be noted, that all of the points have the same weight when computing rolling statistics. This can be changed with the win_type argument. A popular approach is to do an exponentially weight moving average.  There is a built in exponential weighted moving  (ewm) in pandas."
   ]
  },
  {
   "cell_type": "code",
   "execution_count": 17,
   "metadata": {},
   "outputs": [
    {
     "data": {
      "text/plain": [
       "Date\n",
       "2017-01-03 00:00:00+00:00    116.150002\n",
       "2017-01-04 00:00:00+00:00    116.063332\n",
       "2017-01-05 00:00:00+00:00    116.375714\n",
       "2017-01-06 00:00:00+00:00    117.194002\n",
       "2017-01-09 00:00:00+00:00    118.120968\n",
       "2017-01-10 00:00:00+00:00    118.623334\n",
       "2017-01-11 00:00:00+00:00    119.191103\n",
       "2017-01-12 00:00:00+00:00    119.220667\n",
       "2017-01-13 00:00:00+00:00    119.130157\n",
       "2017-01-17 00:00:00+00:00    119.565504\n",
       "Name: Close, dtype: float64"
      ]
     },
     "execution_count": 17,
     "metadata": {},
     "output_type": "execute_result"
    }
   ],
   "source": [
    "#EWMA\n",
    "price_close.ewm(span = 3).mean().head(10)"
   ]
  },
  {
   "cell_type": "code",
   "execution_count": null,
   "metadata": {
    "collapsed": true
   },
   "outputs": [],
   "source": []
  }
 ],
 "metadata": {
  "kernelspec": {
   "display_name": "Python 3",
   "language": "python",
   "name": "python3"
  },
  "language_info": {
   "codemirror_mode": {
    "name": "ipython",
    "version": 3
   },
   "file_extension": ".py",
   "mimetype": "text/x-python",
   "name": "python",
   "nbconvert_exporter": "python",
   "pygments_lexer": "ipython3",
   "version": "3.8.3"
  },
  "toc": {
   "colors": {
    "hover_highlight": "#DAA520",
    "navigate_num": "#000000",
    "navigate_text": "#333333",
    "running_highlight": "#FF0000",
    "selected_highlight": "#FFD700",
    "sidebar_border": "#EEEEEE",
    "wrapper_background": "#FFFFFF"
   },
   "moveMenuLeft": true,
   "nav_menu": {
    "height": "12px",
    "width": "252px"
   },
   "navigate_menu": true,
   "number_sections": true,
   "sideBar": true,
   "skip_h1_title": false,
   "threshold": 4,
   "toc_cell": false,
   "toc_position": {},
   "toc_section_display": "block",
   "toc_window_display": false,
   "widenNotebook": false
  }
 },
 "nbformat": 4,
 "nbformat_minor": 2
}
