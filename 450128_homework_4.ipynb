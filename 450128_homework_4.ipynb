{
 "cells": [
  {
   "cell_type": "code",
   "execution_count": 1,
   "metadata": {
    "deletable": false,
    "editable": false,
    "nbgrader": {
     "cell_type": "code",
     "checksum": "867e2002e88974366993cd4dbc0cd835",
     "grade": false,
     "grade_id": "Import_statements",
     "locked": true,
     "schema_version": 3,
     "solution": false,
     "task": false
    }
   },
   "outputs": [],
   "source": [
    "#Run this cell for your imports\n",
    "import pandas as pd\n",
    "import numpy as np"
   ]
  },
  {
   "cell_type": "markdown",
   "metadata": {
    "deletable": false,
    "editable": false,
    "nbgrader": {
     "cell_type": "markdown",
     "checksum": "abd14b21ed9f298ecae3e85e684d462c",
     "grade": false,
     "grade_id": "Data_Description",
     "locked": true,
     "schema_version": 3,
     "solution": false,
     "task": false
    }
   },
   "source": [
    "In this homework, you will writing two functions that will assign a final letter grade to each student.  The scores of each student on each assignment are given in \"Final_Grades.csv\". In this semester, there 6 homeworks (columns labeled HW_1, .., HW_6), 3 participation scores (column Part_1, Part_2, Part_3) and a midterm and final."
   ]
  },
  {
   "cell_type": "markdown",
   "metadata": {
    "deletable": false,
    "editable": false,
    "nbgrader": {
     "cell_type": "markdown",
     "checksum": "33a89c6a935a0430435f85457a3ae763",
     "grade": false,
     "grade_id": "Problem_1_Description",
     "locked": true,
     "schema_version": 3,
     "solution": false,
     "task": false
    }
   },
   "source": [
    "Your first task is to write a function callled \"Get_Final_Perc\" that has the following three inputs:\n",
    "\n",
    "- HW_weight: The weight towards the final grade of the score on all homeworks.\n",
    "- Exam_weight: The weight towards the final grade of the midterm and final. You may exam the midterm and final are weighted equally\n",
    "- Part_weight: The weight towards the final grade of the score on all participation scores.\n",
    "\n",
    "IMPORTANT:  For the HW and participation categories, the final percentage is (# points earned)/(# of points possible).  So, for example, if there were two HWs and you got 10/10 and 7/8, your final percentage on HW would be 17/18.\n",
    "\n",
    "Inside of this function, you should\n",
    "\n",
    "- Read in the data set into a dataframe called df_grades.\n",
    "- Add to df_grades a column labeled \"Final_perc\", which gives the final percentage (this should be between 0 and 100 for each student) achieved by each student given the specified weighting scheme that is given as input.  Note that it may be helpful to add other columns along the way, this is okay.\n",
    "\n",
    "\n",
    "A few other things that you must keep in mind when writing this function\n",
    "\n",
    "- You should only consider students who have a score for all assignments (you can delete the rows corresponding to students with missing scores for any assignment). Hint: Recall that blanks in a csv are automatically read in as NAs.\n",
    "- You may assume that for each assignment, there was at least one student who received 100% on the assignment.  Furthermore, there was no extra credit on any assignment. Hint: this is how you can figure out the max score on each assignment.\n",
    "\n",
    " \n"
   ]
  },
  {
   "cell_type": "code",
   "execution_count": 50,
   "metadata": {
    "deletable": false,
    "nbgrader": {
     "cell_type": "code",
     "checksum": "e9a75046fadd73e8ad71b744a55d55c7",
     "grade": false,
     "grade_id": "Get_Final_Perc",
     "locked": false,
     "schema_version": 3,
     "solution": true,
     "task": false
    }
   },
   "outputs": [],
   "source": [
    "def Get_Final_Perc(HW_weight, Exam_weight, Part_weight):\n",
    "    \n",
    "    max_hw = 0\n",
    "    max_exam = 0\n",
    "    max_part = 0\n",
    "\n",
    "    df_grades = pd.read_csv(\"Data/Final_Grades.csv\").dropna(how = 'any', inplace = False)\n",
    "\n",
    "    for hw in df_grades[['HW_1',\"HW_2\", \"HW_3\", \"HW_4\", \"HW_5\", \"HW_6\"]]:\n",
    "        max_hw += max(df_grades[hw])\n",
    "    for exam in df_grades[[\"Midterm\", \"Final\"]]:\n",
    "        max_exam += max((df_grades[exam]))\n",
    "    for part in df_grades[[\"Part_1\", \"Part_2\", \"Part_3\"]]:\n",
    "        max_part += max((df_grades[part]))\n",
    "\n",
    "    df_grades[\"HW_Score\"] = (df_grades.HW_1 + df_grades.HW_2 + df_grades.HW_3 + df_grades.HW_4 + df_grades.HW_5 \\\n",
    "                             + df_grades.HW_6)/ max_hw\n",
    "\n",
    "    df_grades[\"Part_Score\"] = (df_grades.Part_1 + df_grades.Part_2 + df_grades.Part_3)/max_part\n",
    "\n",
    "    df_grades[\"Midterm_Scores\"] = (df_grades.Midterm)/ max(df_grades.Midterm)\n",
    "\n",
    "    df_grades[\"Final_Exam\"] = (df_grades.Final) / max(df_grades.Final)\n",
    "\n",
    "    df_grades[\"Final_perc\"] = ((df_grades.HW_Score*HW_weight + df_grades.Part_Score*Part_weight + \\\n",
    "                               df_grades.Midterm_Scores*Exam_weight + df_grades.Final_Exam *Exam_weight)/ \\\n",
    "                               (HW_weight+ Exam_weight *2 + Part_weight))*(HW_weight+ Exam_weight *2 + Part_weight)\n",
    "    return df_grades"
   ]
  },
  {
   "cell_type": "code",
   "execution_count": 51,
   "metadata": {
    "deletable": false,
    "editable": false,
    "nbgrader": {
     "cell_type": "code",
     "checksum": "cc8519ad2bfd185b7bf15b815cd84483",
     "grade": true,
     "grade_id": "Test_1_1",
     "locked": true,
     "points": 1,
     "schema_version": 3,
     "solution": false,
     "task": false
    }
   },
   "outputs": [],
   "source": [
    "assert np.isclose(Get_Final_Perc(40, 25, 10).Final_perc.mean(),88.711)"
   ]
  },
  {
   "cell_type": "code",
   "execution_count": 52,
   "metadata": {
    "deletable": false,
    "editable": false,
    "nbgrader": {
     "cell_type": "code",
     "checksum": "a80c1848917b0de62712e1d3cf90effe",
     "grade": true,
     "grade_id": "Test_1_2",
     "locked": true,
     "points": 1,
     "schema_version": 3,
     "solution": false,
     "task": false
    }
   },
   "outputs": [],
   "source": [
    "assert np.isclose(Get_Final_Perc(100, 0, 0).Final_perc.mean(),97.426)"
   ]
  },
  {
   "cell_type": "code",
   "execution_count": 53,
   "metadata": {
    "deletable": false,
    "editable": false,
    "nbgrader": {
     "cell_type": "code",
     "checksum": "ca6a63b39f96dcbb2791cea5b101ca4c",
     "grade": true,
     "grade_id": "Test_1_3",
     "locked": true,
     "points": 1,
     "schema_version": 3,
     "solution": false,
     "task": false
    }
   },
   "outputs": [],
   "source": [
    "assert np.isclose(Get_Final_Perc(1, 49.5, 1).Final_perc.mean(),82.310)"
   ]
  },
  {
   "cell_type": "markdown",
   "metadata": {
    "deletable": false,
    "editable": false,
    "nbgrader": {
     "cell_type": "markdown",
     "checksum": "04e1a8bade00fc2de22d457acc6d8939",
     "grade": false,
     "grade_id": "Problem_2_Description",
     "locked": true,
     "schema_version": 3,
     "solution": false,
     "task": false
    }
   },
   "source": [
    "Your second and final task is to write a function called \"Assign_Grades\", which as the following two inputs:\n",
    "\n",
    "- df_grades_w_final_perc: This is the df_grades dataframe with the Final_Perc column added to it.  In other words, you may assume that df_grades_w_final_perc has a column called Final_perc which is each student's final percentage.\n",
    "\n",
    "- cutoffs: This is a list that always as 4 entries.  The first entry is the minimum score needed for an \"A\", the second entry is the minumum score needed for a \"B\", the third entry is the minumum score needed for a \"C\" and the last entry is the miminum score need for a \"D\". Any score below this fourth entry is awarded an \"F\".  You may assume that all cutoffs are unique so you don't have to worry about ties. Finally, you may assume that the cutoffs for better grades are always higher than the cutoffs for lower grades.\n",
    "\n",
    "You goal is to add to df_grades_w_final_perc a column called \"letter\", which contains each student's letter grade (as a string, i.e. an A should added as \"A\") according to the inputted cutoff points.\n",
    "\n",
    "Hint: The pandas method \"cut\" could be very helpful here."
   ]
  },
  {
   "cell_type": "code",
   "execution_count": 193,
   "metadata": {
    "deletable": false,
    "nbgrader": {
     "cell_type": "code",
     "checksum": "0482f968a1856be9d75a65d25793ff07",
     "grade": false,
     "grade_id": "Assign_Grades",
     "locked": false,
     "schema_version": 3,
     "solution": true,
     "task": false
    }
   },
   "outputs": [],
   "source": [
    "def Assign_Grades(df_grades_w_final_perc, cutoffs):\n",
    "    \n",
    "\n",
    "    letter_labels = ['F','D','C', 'B', 'A']\n",
    "    \n",
    "    cutoffs.append(0)\n",
    "    cutoffs.append(float(\"inf\"))\n",
    "    cutoffs.sort(reverse=False)\n",
    "    \n",
    "    letter_grade = pd.cut(df_grades_w_final_perc.Final_perc, bins =cutoffs, \\\n",
    "                                              labels = letter_labels, right = False)\n",
    "    df_grades_w_final_perc[\"letter\"] = letter_grade\n",
    "    \n",
    "    return df_grades_w_final_perc.letter.value_counts()"
   ]
  },
  {
   "cell_type": "code",
   "execution_count": 194,
   "metadata": {
    "deletable": false,
    "editable": false,
    "nbgrader": {
     "cell_type": "code",
     "checksum": "eebe589fe1a1b3b542b4c073b8a0389c",
     "grade": true,
     "grade_id": "Test_2_1",
     "locked": true,
     "points": 1,
     "schema_version": 3,
     "solution": false,
     "task": false
    }
   },
   "outputs": [],
   "source": [
    "df_grades = Get_Final_Perc(40, 25, 10)\n",
    "cutoffs = [90,80,70,60]\n",
    "assert Assign_Grades(df_grades, cutoffs)[\"A\"]==49"
   ]
  },
  {
   "cell_type": "code",
   "execution_count": 195,
   "metadata": {
    "deletable": false,
    "editable": false,
    "nbgrader": {
     "cell_type": "code",
     "checksum": "3b0260882f64c7490e334c37a50221f8",
     "grade": true,
     "grade_id": "Test_2_2",
     "locked": true,
     "points": 1,
     "schema_version": 3,
     "solution": false,
     "task": false
    }
   },
   "outputs": [],
   "source": [
    "df_grades = Get_Final_Perc(100, 0, 0)\n",
    "cutoffs = [100,80,70,60]\n",
    "assert Assign_Grades(df_grades, cutoffs)[\"A\"]==27"
   ]
  },
  {
   "cell_type": "code",
   "execution_count": null,
   "metadata": {},
   "outputs": [],
   "source": []
  }
 ],
 "metadata": {
  "kernelspec": {
   "display_name": "Python 3",
   "language": "python",
   "name": "python3"
  },
  "language_info": {
   "codemirror_mode": {
    "name": "ipython",
    "version": 3
   },
   "file_extension": ".py",
   "mimetype": "text/x-python",
   "name": "python",
   "nbconvert_exporter": "python",
   "pygments_lexer": "ipython3",
   "version": "3.8.3"
  }
 },
 "nbformat": 4,
 "nbformat_minor": 4
}
