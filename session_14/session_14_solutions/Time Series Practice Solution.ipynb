{
 "cells": [
  {
   "cell_type": "markdown",
   "metadata": {},
   "source": [
    "# Steph Curry Shot Analysis\n",
    "\n",
    "\n",
    "In this practice, we will answer the questions posed at the beginning of the Powerpoint lecture.  We will plot the Curry's cumulative field goal percentage  over each game. Then, on the same axis, plot his cumulative average distance from closest defender (for each shot) over each game.  "
   ]
  },
  {
   "cell_type": "code",
   "execution_count": 1,
   "metadata": {
    "collapsed": true
   },
   "outputs": [],
   "source": [
    "#Import pandas,numpy, matplotlib here here\n",
    "import pandas as pd\n",
    "import numpy as np\n",
    "import matplotlib.pyplot as plt"
   ]
  },
  {
   "cell_type": "code",
   "execution_count": 13,
   "metadata": {
    "scrolled": true
   },
   "outputs": [
    {
     "data": {
      "text/html": [
       "<div>\n",
       "<table border=\"1\" class=\"dataframe\">\n",
       "  <thead>\n",
       "    <tr style=\"text-align: right;\">\n",
       "      <th></th>\n",
       "      <th>fgm</th>\n",
       "      <th>close_def_dist</th>\n",
       "    </tr>\n",
       "    <tr>\n",
       "      <th>Date</th>\n",
       "      <th></th>\n",
       "      <th></th>\n",
       "    </tr>\n",
       "  </thead>\n",
       "  <tbody>\n",
       "    <tr>\n",
       "      <th>2014-10-29</th>\n",
       "      <td>0</td>\n",
       "      <td>3.3</td>\n",
       "    </tr>\n",
       "    <tr>\n",
       "      <th>2014-10-29</th>\n",
       "      <td>1</td>\n",
       "      <td>4.2</td>\n",
       "    </tr>\n",
       "    <tr>\n",
       "      <th>2014-10-29</th>\n",
       "      <td>0</td>\n",
       "      <td>4.1</td>\n",
       "    </tr>\n",
       "    <tr>\n",
       "      <th>2014-10-29</th>\n",
       "      <td>1</td>\n",
       "      <td>5.1</td>\n",
       "    </tr>\n",
       "    <tr>\n",
       "      <th>2014-10-29</th>\n",
       "      <td>1</td>\n",
       "      <td>4.4</td>\n",
       "    </tr>\n",
       "  </tbody>\n",
       "</table>\n",
       "</div>"
      ],
      "text/plain": [
       "            fgm  close_def_dist\n",
       "Date                           \n",
       "2014-10-29    0             3.3\n",
       "2014-10-29    1             4.2\n",
       "2014-10-29    0             4.1\n",
       "2014-10-29    1             5.1\n",
       "2014-10-29    1             4.4"
      ]
     },
     "execution_count": 13,
     "metadata": {},
     "output_type": "execute_result"
    }
   ],
   "source": [
    "#Read in the data here - make the date the index\n",
    "df_curry  = pd.read_csv(\"Data/Stephen_Curry_Shots.csv\",\\\n",
    "                        parse_dates=[\"Date\"], index_col = \"Date\")\n",
    "\n",
    "#Sort the data frame by the index using sort_index\n",
    "df_curry.sort_index(inplace = True, ascending = True)\n",
    "\n",
    "df_curry.columns =  df_curry.columns.str.lower()\n",
    "\n",
    "df_curry.head()"
   ]
  },
  {
   "cell_type": "markdown",
   "metadata": {},
   "source": [
    "Next we need to find the number of shots taken and made by Curry in each game. The method cumsum() might be useful."
   ]
  },
  {
   "cell_type": "code",
   "execution_count": 16,
   "metadata": {},
   "outputs": [
    {
     "data": {
      "text/html": [
       "<div>\n",
       "<table border=\"1\" class=\"dataframe\">\n",
       "  <thead>\n",
       "    <tr style=\"text-align: right;\">\n",
       "      <th></th>\n",
       "      <th>Made</th>\n",
       "      <th>Taken</th>\n",
       "      <th>FG_Percentage</th>\n",
       "    </tr>\n",
       "    <tr>\n",
       "      <th>Date</th>\n",
       "      <th></th>\n",
       "      <th></th>\n",
       "      <th></th>\n",
       "    </tr>\n",
       "  </thead>\n",
       "  <tbody>\n",
       "    <tr>\n",
       "      <th>2014-10-29</th>\n",
       "      <td>7.0</td>\n",
       "      <td>17.0</td>\n",
       "      <td>0.411765</td>\n",
       "    </tr>\n",
       "    <tr>\n",
       "      <th>2014-11-01</th>\n",
       "      <td>17.0</td>\n",
       "      <td>36.0</td>\n",
       "      <td>0.472222</td>\n",
       "    </tr>\n",
       "    <tr>\n",
       "      <th>2014-11-02</th>\n",
       "      <td>23.0</td>\n",
       "      <td>54.0</td>\n",
       "      <td>0.425926</td>\n",
       "    </tr>\n",
       "    <tr>\n",
       "      <th>2014-11-05</th>\n",
       "      <td>32.0</td>\n",
       "      <td>72.0</td>\n",
       "      <td>0.444444</td>\n",
       "    </tr>\n",
       "    <tr>\n",
       "      <th>2014-11-08</th>\n",
       "      <td>45.0</td>\n",
       "      <td>91.0</td>\n",
       "      <td>0.494505</td>\n",
       "    </tr>\n",
       "  </tbody>\n",
       "</table>\n",
       "</div>"
      ],
      "text/plain": [
       "            Made  Taken  FG_Percentage\n",
       "Date                                  \n",
       "2014-10-29   7.0   17.0       0.411765\n",
       "2014-11-01  17.0   36.0       0.472222\n",
       "2014-11-02  23.0   54.0       0.425926\n",
       "2014-11-05  32.0   72.0       0.444444\n",
       "2014-11-08  45.0   91.0       0.494505"
      ]
     },
     "execution_count": 16,
     "metadata": {},
     "output_type": "execute_result"
    }
   ],
   "source": [
    "#Resample daily\n",
    "df_shots = df_curry.fgm.resample(rule=\"D\").\\\n",
    "    agg([\"sum\", \"count\"]).dropna()\n",
    "df_shots.columns = [\"Made\", \"Taken\"]\n",
    "\n",
    "#do cumulative sums\n",
    "df_shots_cumulative = df_shots.cumsum()\n",
    "\n",
    "#compute FG percentage\n",
    "df_shots_cumulative[\"FG_Percentage\"] = df_shots_cumulative.Made/\\\n",
    "                                    df_shots_cumulative.Taken\n",
    "df_shots_cumulative.head()"
   ]
  },
  {
   "cell_type": "markdown",
   "metadata": {},
   "source": [
    "Now do the same thing for the average distance from the closest defender.  You might find the expanding() method useful."
   ]
  },
  {
   "cell_type": "code",
   "execution_count": 22,
   "metadata": {},
   "outputs": [
    {
     "data": {
      "text/plain": [
       "Date\n",
       "2014-10-29    3.800000\n",
       "2014-11-01    4.013158\n",
       "2014-11-02    3.877290\n",
       "2014-11-05    4.071857\n",
       "2014-11-08    4.098538\n",
       "Name: close_def_dist, dtype: float64"
      ]
     },
     "execution_count": 22,
     "metadata": {},
     "output_type": "execute_result"
    }
   ],
   "source": [
    "df_def = df_curry.close_def_dist.resample(\"D\").mean().dropna()\n",
    "\n",
    "df_def_cumulative = df_def.expanding().mean()\n",
    "\n",
    "df_def_cumulative.head()"
   ]
  },
  {
   "cell_type": "markdown",
   "metadata": {},
   "source": [
    "Now we create the plot. You may find the ax.twinx() useful."
   ]
  },
  {
   "cell_type": "code",
   "execution_count": 31,
   "metadata": {},
   "outputs": [
    {
     "data": {
      "text/plain": [
       "<matplotlib.legend.Legend at 0x11d43c358>"
      ]
     },
     "execution_count": 31,
     "metadata": {},
     "output_type": "execute_result"
    },
    {
     "data": {
      "image/png": "[encoded data removed]",
      "text/plain": [
       "<matplotlib.figure.Figure at 0x11d6160f0>"
      ]
     },
     "metadata": {},
     "output_type": "display_data"
    }
   ],
   "source": [
    "%matplotlib inline\n",
    "\n",
    "plt.style.use(\"fivethirtyeight\")\n",
    "\n",
    "fig, ax = plt.subplots()\n",
    "\n",
    "df_shots_cumulative.FG_Percentage.plot(ax = ax,\\\n",
    "                                       color = \"b\",\\\n",
    "                                     label = \"FG %\")\n",
    "ax.legend(loc = 0)\n",
    "ax1 = ax.twinx()\n",
    "df_def_cumulative.plot(ax=ax1, color = \"g\", label = \"Dist. Def.\")\n",
    "\n",
    "ax1.legend(loc= 0)"
   ]
  },
  {
   "cell_type": "code",
   "execution_count": null,
   "metadata": {
    "collapsed": true
   },
   "outputs": [],
   "source": []
  }
 ],
 "metadata": {
  "kernelspec": {
   "display_name": "Python 3",
   "language": "python",
   "name": "python3"
  },
  "language_info": {
   "codemirror_mode": {
    "name": "ipython",
    "version": 3
   },
   "file_extension": ".py",
   "mimetype": "text/x-python",
   "name": "python",
   "nbconvert_exporter": "python",
   "pygments_lexer": "ipython3",
   "version": "3.8.3"
  },
  "toc": {
   "nav_menu": {
    "height": "12px",
    "width": "252px"
   },
   "number_sections": true,
   "sideBar": true,
   "skip_h1_title": false,
   "toc_cell": false,
   "toc_position": {},
   "toc_section_display": "block",
   "toc_window_display": false
  }
 },
 "nbformat": 4,
 "nbformat_minor": 2
}
