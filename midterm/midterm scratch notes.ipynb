{
 "cells": [
  {
   "cell_type": "code",
   "execution_count": 61,
   "metadata": {},
   "outputs": [],
   "source": [
    "    preference = {}\n",
    "    movies = []\n",
    "    \n",
    "    f = open(\"./data/preference.csv\")\n",
    "    lines = f.readlines()\n",
    "    for name in lines[0].strip(\"\\n\").split(\",\")[2:]:\n",
    "        movies.append(name.strip())\n",
    "    \n",
    "    for line in lines[1:]:\n",
    "        parsed_line = line.strip(\"\\n\").split(\",\")\n",
    "        name = parsed_line[1].strip(\"\\n\")\n",
    "        data_str = parsed_line[2:]\n",
    "        if name not in preference:\n",
    "            preference[name] = [int(num) for num in data_str]\n",
    "           \n",
    "    "
   ]
  },
  {
   "cell_type": "markdown",
   "metadata": {},
   "source": [
    "Step-1.1 Compute the ranking of most popular movies\n",
    "Your next task is to take the movie preference dataframe and computes the popular ranking of movies from the most popular to the least popular. You should return a list where each element represents the popularity ranking of the movies. The order of the list should reflect the order of the movie names in the dataframe.\n",
    "In the process to compute a movie's popularity. You should first compute how many times people have liked movies in the entire dataset across all movies. You should then compute how many times people have disliked movies in the entire data set across all movies.\n",
    "Assuming that people have liked movies A times in the entire data set and disliked movies B times in the entire data set. The popularity of a movie is then defined as Num_of_People_Like_the_Movie - A / B * Num_of_People_Dislike_the_Movie\n",
    "(We use A/B to normalize the weights of likes and dislikes because if one type of reaction is rare, it derseves more weights. For example, if all movies on average are liked 1000 times but disliked only once. Then the signal of dislike on a movie's quality should be much stronger than the signal of likes on a movie's quality).\n",
    "Your function should return:\n",
    "1. A dictionary where the key are movie names and the values are correpsonding movie popularity.\n",
    "2. A list of movie names sorted ascendingly by their popularity. For example, if 'The Shawshank Redemption' is the second most popular movie, the second element in the list should be 'The Shawshank Redemption'.\n",
    "3. **A** and **B** as defined above.\n",
    "Note: You may want to use prior functions to help you read data inside this function"
   ]
  },
  {
   "cell_type": "code",
   "execution_count": 155,
   "metadata": {},
   "outputs": [
    {
     "name": "stdout",
     "output_type": "stream",
     "text": [
      "['The Shawshank Redemption', 'Inception', 'Kingsman: The Secret Service', 'The Wolf of Wall Street', 'The Matrix', 'Coco', 'Avengers: Infinity War', 'The Dark Knight Rises', 'Interstellar', 'The Dark Knight', 'The Martian', 'Spirited Away', 'The Godfather', 'Braveheart', 'La La Land', 'Shutter Island', 'Gone Girl', 'The Lord of the Rings: The Return of the King', 'Ex Machina', 'Star Wars: The Force Awakens']\n"
     ]
    }
   ],
   "source": [
    "    movie_popularity = {}\n",
    "    movie_popularity_rank = []\n",
    "    total_likes = 0\n",
    "    total_dislikes = 0\n",
    "    \n",
    "    list_likes = []\n",
    "    list_dislikes = []\n",
    "    \n",
    "    for name in preference:\n",
    "        for num in preference[name]:\n",
    "            if num == 1:\n",
    "                list_likes.append(num)\n",
    "            if num == -1:\n",
    "                list_dislikes.append(num)\n",
    "                \n",
    "            total_likes = len(list_likes)\n",
    "            total_dislikes = len(list_dislikes)\n",
    "            \n",
    "    likes = 0\n",
    "    dislikes = 0\n",
    "    index = 0         \n",
    "    for movie in movies:\n",
    "        for name in preference:\n",
    "            if(preference[name][index] == 1):\n",
    "                likes+=1\n",
    "            elif(preference[name][index] == -1):\n",
    "                dislikes+=1\n",
    "        eq = likes - total_likes/total_dislikes*dislikes\n",
    "        movie_popularity[movie] = eq\n",
    "        index+= 1\n",
    "        likes = 0\n",
    "        dislikes = 0\n",
    "    movie_popularity_rank = sorted(movie_popularity,key  = movie_popularity.get, reverse = True)\n",
    "    print(movie_popularity_rank)\n"
   ]
  },
  {
   "cell_type": "code",
   "execution_count": 175,
   "metadata": {},
   "outputs": [
    {
     "name": "stdout",
     "output_type": "stream",
     "text": [
      "[3, 4, 5, 12, 14, 16, 17]\n",
      "-90.22033898305085\n",
      "-40.152542372881356\n",
      "59.45762711864407\n",
      "-13.067796610169495\n",
      "-31.101694915254242\n",
      "-21.59322033898306\n",
      "-48.610169491525426\n"
     ]
    }
   ],
   "source": [
    "    name = \"Jiaxu Rong\"\n",
    "    avg_movie_score = sum(movie_popularity.values())/len(movie_popularity)\n",
    "    if name not in preference.keys():\n",
    "        recommended_movie = \"Invalid User\"\n",
    "    else:\n",
    "        user_preference = preference[name]\n",
    "        unwatched_movie_index = [i for i in range(len(user_preference)) if user_preference[i] == 0]\n",
    "        print(unwatched_movie_index)\n",
    "        if len(unwatched_movie_index) == 0:\n",
    "            recommended_movie = \"Unfortunately, no new movies for you.\"\n",
    "        else:\n",
    "            top_movie = unwatched_movie_index[0]\n",
    "            top_movie_score = movie_popularity[top_movie]\n",
    "            for movie in unwatched_movie_index:\n",
    "#                 movie_index = unwatched_movie_index[0]\n",
    "                movie_name = movies[movie]\n",
    "                movie_score = movie_popularity[movie_name]\n",
    "                print(movie_score)\n",
    "                if(movie_score > top_movie_score):\n",
    "                    top_movie_index = movie\n",
    "                    top_movie_score = movie_score\n",
    "            if avg_movie_score > top_movie_score:\n",
    "                recommended_movie = \"Unfortunately, no new movies for you.\"\n",
    "            recommended_movie = movie_popularity_rank[top_movie_index]\n",
    "                \n",
    "#             top_movie_ranking = movies[unwatched_movie_index[0]]\n",
    "#             print(top_movie_ranking)\n",
    "#             for index in unwatched_movie_index:\n",
    "#                 print(\"index = \", index, \" unwatched movie \", movies[index])\n",
    "#                 print(\"movie_rank = \", movie_popularity_rank[index], \" top_rank = \", top_movie_ranking)\n",
    "#                 if index\n",
    "#                 if movie_popularity_rank[index] > top_movie_ranking:\n",
    "#                     top_movie_index = index\n",
    "#                     top_movie_ranking = movie_popularity_rank[index]\n",
    "#                     print(top_movie_ranking)\n",
    "# #                 else:\n",
    "# #                     recommended_movie = \"Unfortunately, no new movies for you.\"\n",
    "#             recommended_movie = movie_popularity_rank[top_movie_index]\n",
    "            "
   ]
  },
  {
   "cell_type": "code",
   "execution_count": 187,
   "metadata": {},
   "outputs": [],
   "source": [
    "def Similarity(name_1, name_2):\n",
    "    \"\"\"Given two names and preference, get the similarity \n",
    "    between two people\"\"\"\n",
    "    cosine = 0\n",
    "    \n",
    "    if name_1 not in preference.keys() or name_2 not in preference.keys():\n",
    "        return cosine\n",
    "    from scipy import spatial\n",
    "    cosine = (1 - spatial.distance.cosine(preference[name_1], preference[name_2]))\n",
    "    \n",
    "    return cosine"
   ]
  },
  {
   "cell_type": "code",
   "execution_count": 188,
   "metadata": {},
   "outputs": [],
   "source": [
    "def Movie_Soul_Mate(name):\n",
    "    \"\"\"Given a name, get the player that has highest Jaccard \n",
    "    similarity with this person.\"\"\"\n",
    "    soulmate = \"\"\n",
    "    cosine_similarity = -100\n",
    "    \n",
    "    if name not in preference.keys():\n",
    "        return soulmate\n",
    "    all_people = preference.keys()\n",
    "    for person in all_people:\n",
    "        if name != person:\n",
    "            current_cosine = Similarity(name, person)\n",
    "            if current_cosine == cosine_similarity:\n",
    "                if len(person) < len(soulmate):\n",
    "                    soulmate = person\n",
    "            if current_cosine > cosine_similarity:\n",
    "                cosine_similarity = current_cosine\n",
    "                soulmate = person\n",
    "\n",
    "    return soulmate, cosine_similarity\n",
    "\n"
   ]
  },
  {
   "cell_type": "code",
   "execution_count": 194,
   "metadata": {},
   "outputs": [
    {
     "name": "stdout",
     "output_type": "stream",
     "text": [
      "[]\n",
      "Unfortunately, no new movies for you.\n"
     ]
    }
   ],
   "source": [
    "    name = \"Test Student Long Name\"\n",
    "    if name not in preference.keys():\n",
    "        recommended_movie = \"Invalid user.\"\n",
    "        \n",
    "    soulmate = Movie_Soul_Mate(name)\n",
    "    user_preference = preference[name]\n",
    "    soulmate_preference = preference[soulmate[0]]\n",
    "    candidates = [i for i in range(len(user_preference)) if user_preference[i] == 0 and soulmate_preference[i] == 1]\n",
    "    print(candidates)\n",
    "    if len(candidates) == 0:\n",
    "        recommended_movie = \"Unfortunately, no new movies for you.\"\n",
    "    else:\n",
    "        unwatched_movie_index = candidates\n",
    "        top_movie_index = unwatched_movie_index[0]\n",
    "        top_movie_ranking = movie_popularity_rank[unwatched_movie_index[0]]\n",
    "        for index in unwatched_movie_index:\n",
    "            if movie_popularity_rank[index] < top_movie_ranking:\n",
    "                top_movie_index = index\n",
    "                top_movie_ranking = movie_popularity_rank[index]\n",
    "        recommended_movie = movies[top_movie_index]\n",
    "    print(recommended_movie)\n",
    "    "
   ]
  },
  {
   "cell_type": "code",
   "execution_count": null,
   "metadata": {},
   "outputs": [],
   "source": []
  }
 ],
 "metadata": {
  "kernelspec": {
   "display_name": "Python 3",
   "language": "python",
   "name": "python3"
  },
  "language_info": {
   "codemirror_mode": {
    "name": "ipython",
    "version": 3
   },
   "file_extension": ".py",
   "mimetype": "text/x-python",
   "name": "python",
   "nbconvert_exporter": "python",
   "pygments_lexer": "ipython3",
   "version": "3.8.3"
  }
 },
 "nbformat": 4,
 "nbformat_minor": 4
}
