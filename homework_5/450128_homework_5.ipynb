{
 "cells": [
  {
   "cell_type": "markdown",
   "metadata": {
    "deletable": false,
    "editable": false,
    "nbgrader": {
     "cell_type": "markdown",
     "checksum": "4adf8fcfa4b3a18738809eda2925ecd8",
     "grade": false,
     "grade_id": "cell-a4c41f39205051c2",
     "locked": true,
     "schema_version": 3,
     "solution": false
    }
   },
   "source": [
    "# Homework 5\n",
    "\n",
    "In this homework, you will analyze a data set of movies that can be found in data/movies.csv. In the cell below, I have read in the data just to show you the format of the data set."
   ]
  },
  {
   "cell_type": "code",
   "execution_count": 6,
   "metadata": {
    "deletable": false,
    "editable": false,
    "nbgrader": {
     "cell_type": "code",
     "checksum": "6620c0e40be2abe6ea85057c6cdfc0af",
     "grade": false,
     "grade_id": "cell-c106f34074a9cf91",
     "locked": true,
     "schema_version": 3,
     "solution": false,
     "task": false
    }
   },
   "outputs": [
    {
     "data": {
      "text/html": [
       "<div>\n",
       "<style scoped>\n",
       "    .dataframe tbody tr th:only-of-type {\n",
       "        vertical-align: middle;\n",
       "    }\n",
       "\n",
       "    .dataframe tbody tr th {\n",
       "        vertical-align: top;\n",
       "    }\n",
       "\n",
       "    .dataframe thead th {\n",
       "        text-align: right;\n",
       "    }\n",
       "</style>\n",
       "<table border=\"1\" class=\"dataframe\">\n",
       "  <thead>\n",
       "    <tr style=\"text-align: right;\">\n",
       "      <th></th>\n",
       "      <th>movieId</th>\n",
       "      <th>title</th>\n",
       "      <th>genres</th>\n",
       "    </tr>\n",
       "  </thead>\n",
       "  <tbody>\n",
       "    <tr>\n",
       "      <th>0</th>\n",
       "      <td>1</td>\n",
       "      <td>Toy Story (1995)</td>\n",
       "      <td>Adventure|Animation|Children|Comedy|Fantasy</td>\n",
       "    </tr>\n",
       "    <tr>\n",
       "      <th>1</th>\n",
       "      <td>2</td>\n",
       "      <td>Jumanji (1995)</td>\n",
       "      <td>Adventure|Children|Fantasy</td>\n",
       "    </tr>\n",
       "    <tr>\n",
       "      <th>2</th>\n",
       "      <td>3</td>\n",
       "      <td>Grumpier Old Men (1995)</td>\n",
       "      <td>Comedy|Romance</td>\n",
       "    </tr>\n",
       "    <tr>\n",
       "      <th>3</th>\n",
       "      <td>4</td>\n",
       "      <td>Waiting to Exhale (1995)</td>\n",
       "      <td>Comedy|Drama|Romance</td>\n",
       "    </tr>\n",
       "    <tr>\n",
       "      <th>4</th>\n",
       "      <td>5</td>\n",
       "      <td>Father of the Bride Part II (1995)</td>\n",
       "      <td>Comedy</td>\n",
       "    </tr>\n",
       "  </tbody>\n",
       "</table>\n",
       "</div>"
      ],
      "text/plain": [
       "   movieId                               title  \\\n",
       "0        1                    Toy Story (1995)   \n",
       "1        2                      Jumanji (1995)   \n",
       "2        3             Grumpier Old Men (1995)   \n",
       "3        4            Waiting to Exhale (1995)   \n",
       "4        5  Father of the Bride Part II (1995)   \n",
       "\n",
       "                                        genres  \n",
       "0  Adventure|Animation|Children|Comedy|Fantasy  \n",
       "1                   Adventure|Children|Fantasy  \n",
       "2                               Comedy|Romance  \n",
       "3                         Comedy|Drama|Romance  \n",
       "4                                       Comedy  "
      ]
     },
     "execution_count": 6,
     "metadata": {},
     "output_type": "execute_result"
    }
   ],
   "source": [
    "import pandas as pd\n",
    "\n",
    "df_movies = pd.read_csv(\"data/movies.csv\")\n",
    "df_movies.head()"
   ]
  },
  {
   "cell_type": "markdown",
   "metadata": {
    "deletable": false,
    "editable": false,
    "nbgrader": {
     "cell_type": "markdown",
     "checksum": "c48051b9a56baafb1607234f4443ca1a",
     "grade": false,
     "grade_id": "cell-5d618ab5bb166bde",
     "locked": true,
     "schema_version": 3,
     "solution": false,
     "task": false
    }
   },
   "source": [
    "## Problem 1\n",
    "\n",
    "Our goal in this problem is to write a function that returns the number of movies in the data set from a partiuclar year.  Note that the year is currently embedded in the title column.  Write the function Get_Count_Year, which will return the number of movies from the inputted year. This function takes as input a year, and returns the number of movies from that year.  To implement this function, my hint is to first write a helper function called Parse_Title that parses the \"title\" column to pull out the year.   You can use this function combined with apply within Get_Count_Year to add a \"year\" column, which contains the year of each movie. A couple of things to watch out for:\n",
    "\n",
    "- Not every title has a year listed. You can discard these movies from your count.\n",
    "- Be aware of extra spaces in the title of certain movies, which may complicate the string methods you need to use to pull out the year.\n",
    "\n"
   ]
  },
  {
   "cell_type": "code",
   "execution_count": 25,
   "metadata": {
    "deletable": false,
    "nbgrader": {
     "cell_type": "code",
     "checksum": "12df6b98fe3664c2604e53f75da44b9b",
     "grade": false,
     "grade_id": "cell-c8bca37c12875624",
     "locked": false,
     "schema_version": 3,
     "solution": true,
     "task": false
    }
   },
   "outputs": [],
   "source": [
    "def Parse_Title(title):\n",
    "    \"\"\" This is just a helper function\n",
    "    so we are not grading it\"\"\"\n",
    "    year =0\n",
    "   \n",
    "    parsed_title = title.split(\" \")\n",
    "    for i in parsed_title:\n",
    "        if \"(1\" in i:\n",
    "            year = int(i[1:-1])\n",
    "            return year\n",
    "        elif \"(2\" in i:\n",
    "            year = int(i[1:-1])\n",
    "            return year\n",
    "            "
   ]
  },
  {
   "cell_type": "code",
   "execution_count": 29,
   "metadata": {
    "deletable": false,
    "nbgrader": {
     "cell_type": "code",
     "checksum": "35b8f4b8a175b6290671893849e77018",
     "grade": false,
     "grade_id": "cell-bd0a7a9a733f5cc4",
     "locked": false,
     "schema_version": 3,
     "solution": true,
     "task": false
    }
   },
   "outputs": [],
   "source": [
    "def Get_Count_Year(year):\n",
    "    \n",
    "    df_movies = pd.read_csv(\"data/movies.csv\")\n",
    "    num_movies = 0\n",
    "    \n",
    "    df_movies[\"year\"] = df_movies.title.apply(Parse_Title)\n",
    "    \n",
    "    count_movie = df_movies.year.value_counts()\n",
    "    num_movies = count_movie.get(year)\n",
    "    if num_movies == None:\n",
    "        num_movies = 0\n",
    "    return num_movies\n"
   ]
  },
  {
   "cell_type": "code",
   "execution_count": 30,
   "metadata": {
    "deletable": false,
    "editable": false,
    "nbgrader": {
     "cell_type": "code",
     "checksum": "66f8e378a70008f0e6546b059511578e",
     "grade": true,
     "grade_id": "cell-0f53061b5ada8a1b",
     "locked": true,
     "points": 1,
     "schema_version": 3,
     "solution": false,
     "task": false
    }
   },
   "outputs": [],
   "source": [
    "assert Get_Count_Year(2002)==311"
   ]
  },
  {
   "cell_type": "code",
   "execution_count": 31,
   "metadata": {
    "deletable": false,
    "editable": false,
    "nbgrader": {
     "cell_type": "code",
     "checksum": "b1a34557b2661d4951181ba86986611f",
     "grade": true,
     "grade_id": "cell-a7e94825c2dde965",
     "locked": true,
     "points": 1,
     "schema_version": 3,
     "solution": false,
     "task": false
    }
   },
   "outputs": [],
   "source": [
    "assert Get_Count_Year(2019)==0"
   ]
  },
  {
   "cell_type": "markdown",
   "metadata": {
    "deletable": false,
    "editable": false,
    "nbgrader": {
     "cell_type": "markdown",
     "checksum": "770a9a9d03056d92619baa8a668575e3",
     "grade": false,
     "grade_id": "cell-f6cce87676a5a5c4",
     "locked": true,
     "schema_version": 3,
     "solution": false,
     "task": false
    }
   },
   "source": [
    "## Problem 2\n",
    "\n",
    "In this second problem, we will focus on the genres column. Your goal is to write the function Count_Genre, which takes as input a genre and returns the number of movies that are in that genre. Note that quite a few movies are categorized within multiple genres. Hint: use the .contains method that can be applied on object columns"
   ]
  },
  {
   "cell_type": "code",
   "execution_count": 80,
   "metadata": {
    "deletable": false,
    "nbgrader": {
     "cell_type": "code",
     "checksum": "6362b143a586709e6826fdd934ac28fc",
     "grade": false,
     "grade_id": "cell-0fbba0228562d216",
     "locked": false,
     "schema_version": 3,
     "solution": true,
     "task": false
    }
   },
   "outputs": [],
   "source": [
    "def Count_Genre(genre):\n",
    "    df_movies = pd.read_csv(\"data/movies.csv\")\n",
    "    count_genre = 0\n",
    "    \n",
    "    count_genre = df_movies[df_movies.genres.str.contains(genre)].shape[0]\n",
    "    \n",
    "    return count_genre"
   ]
  },
  {
   "cell_type": "code",
   "execution_count": 81,
   "metadata": {
    "deletable": false,
    "editable": false,
    "nbgrader": {
     "cell_type": "code",
     "checksum": "1b3f21720f6ba7e06d603a7f60d21b75",
     "grade": true,
     "grade_id": "cell-1581bf5c580ee615",
     "locked": true,
     "points": 1,
     "schema_version": 3,
     "solution": false,
     "task": false
    }
   },
   "outputs": [],
   "source": [
    "assert Count_Genre(\"Romance\") == 1596"
   ]
  },
  {
   "cell_type": "code",
   "execution_count": 82,
   "metadata": {
    "deletable": false,
    "editable": false,
    "nbgrader": {
     "cell_type": "code",
     "checksum": "178193434feb35c5ddf8b99e1e2cd29d",
     "grade": true,
     "grade_id": "cell-a49d7d448708293e",
     "locked": true,
     "points": 1,
     "schema_version": 3,
     "solution": false,
     "task": false
    }
   },
   "outputs": [],
   "source": [
    "assert Count_Genre(\"Comedy\")==3756"
   ]
  },
  {
   "cell_type": "code",
   "execution_count": 83,
   "metadata": {
    "deletable": false,
    "editable": false,
    "nbgrader": {
     "cell_type": "code",
     "checksum": "1519f6cfe16b040f0584af92f900c7d7",
     "grade": true,
     "grade_id": "cell-fc8ee780ebf54d41",
     "locked": true,
     "points": 1,
     "schema_version": 3,
     "solution": false,
     "task": false
    }
   },
   "outputs": [],
   "source": [
    "assert Count_Genre(\"Children\")==664"
   ]
  },
  {
   "cell_type": "code",
   "execution_count": null,
   "metadata": {},
   "outputs": [],
   "source": []
  }
 ],
 "metadata": {
  "kernelspec": {
   "display_name": "Python 3",
   "language": "python",
   "name": "python3"
  },
  "language_info": {
   "codemirror_mode": {
    "name": "ipython",
    "version": 3
   },
   "file_extension": ".py",
   "mimetype": "text/x-python",
   "name": "python",
   "nbconvert_exporter": "python",
   "pygments_lexer": "ipython3",
   "version": "3.8.3"
  },
  "toc": {
   "colors": {
    "hover_highlight": "#DAA520",
    "navigate_num": "#000000",
    "navigate_text": "#333333",
    "running_highlight": "#FF0000",
    "selected_highlight": "#FFD700",
    "sidebar_border": "#EEEEEE",
    "wrapper_background": "#FFFFFF"
   },
   "moveMenuLeft": true,
   "nav_menu": {
    "height": "30px",
    "width": "252px"
   },
   "navigate_menu": true,
   "number_sections": true,
   "sideBar": true,
   "skip_h1_title": false,
   "threshold": 4,
   "toc_cell": false,
   "toc_position": {},
   "toc_section_display": "block",
   "toc_window_display": false,
   "widenNotebook": false
  }
 },
 "nbformat": 4,
 "nbformat_minor": 2
}
