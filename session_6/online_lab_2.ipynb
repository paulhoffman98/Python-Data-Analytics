{
 "cells": [
  {
   "cell_type": "markdown",
   "metadata": {},
   "source": [
    "# Cheapeast Hotel\n",
    "\n",
    "In this exercise we will work with the data set \"Expedia_Search_Results.csv\" which contains data regarding search results on expedia.  Each row in the data set corresponds to an offered hotel on expedia.  The columns have the following meaning:\n",
    "\n",
    "- search_id: All rows with the same search ID have were from the same search.\n",
    "- hotel_id: Unique identifier of each hotel that was displayed.\n",
    "- lat/lon: latitude and longitude of hotel location.\n",
    "- hotel_stars: The formal hotel rating of the hotel. Divide this column by 10 to get stars from 1 to 5 as is usually seen.\n",
    "- user_stars: Average user rating from 1 to 5.\n",
    "- num_review: Total number of ratings.\n",
    "- price: Price of the hotel.\n",
    "- chosen: Binary indicator of whether the hotel was chosen or not.\n",
    "\n",
    "\n",
    "\n",
    "Your goal in this exercise is to answer the following question: In what fraction of searches was the cheapest option selected (You should get 37.9%)?  We will write the following functions to accomplish this task."
   ]
  },
  {
   "cell_type": "code",
   "execution_count": 5,
   "metadata": {
    "collapsed": false
   },
   "outputs": [],
   "source": [
    "def Read_Data():\n",
    "    \"\"\"This function should read in Expedia_Search_Results.csv and return a dictionay\n",
    "    with a key for each search idea whose value is a list of lists that looks like [[price,chosen], ... [] ].\n",
    "    This list of lists should be sorted by price in increasing order. So the cheapest displayed hotel should be\n",
    "    the first element in each innner list.  Hint: if you use the .sort() method or sorted() function with a list of lists\n",
    "    the default is to sort by the first element in each inner list.\"\"\"\n",
    "    \n",
    "\n",
    "    f = open(\"Expedia_Search_Results.csv\")\n",
    "    lines = f.readlines()\n",
    "    first_line = lines[1].strip(\"\\n\").split(\",\")\n",
    "    current_id = int(first_line[0])\n",
    "    price = int(first_line[-2])\n",
    "    chosen = int(first_line[-1])\n",
    "    list_prices = []\n",
    "    \n",
    "    D={}\n",
    "    for line in lines[2:]:\n",
    "        parsed_line = line.strip(\"\\n\").split(\",\")\n",
    "        next_id = int(parsed_line[0])\n",
    "        if next_id == current_id:\n",
    "            list_prices.append([price,chosen])\n",
    "        else:\n",
    "            list_prices.append([price,chosen])\n",
    "            D[current_id] = sorted(list_prices)\n",
    "            list_prices=[]\n",
    "        \n",
    "        price = int(parsed_line[-2])\n",
    "        chosen = int(parsed_line[-1])\n",
    "        current_id = next_id\n",
    "    \n",
    "    \n",
    "    list_prices.append([price,chosen])\n",
    "    D[next_id] = sorted(list_prices)\n",
    "     \n",
    "    \n",
    "    \n",
    "    \n",
    "    return D\n"
   ]
  },
  {
   "cell_type": "code",
   "execution_count": 8,
   "metadata": {
    "collapsed": false
   },
   "outputs": [],
   "source": [
    "def Compute_Fraction(D_price_list):\n",
    "    \"\"\"This function takes as inpute the dictionary returned from the function Read_Data() and returns\n",
    "    the fraction of searches in which the cheapest option was selected. Watch out for ties!\"\"\"\n",
    "    \n",
    "    \n",
    "    count=0\n",
    "    for search_id in D_price_list:\n",
    "        value = D_price_list[search_id]\n",
    "        prices = []\n",
    "        for pc in value:\n",
    "            price = pc[0]\n",
    "            chosen = pc[1]\n",
    "            if chosen == 1:\n",
    "                if len(prices)==0 or price == min(prices):\n",
    "                    count+=1\n",
    "                    break\n",
    "                else:\n",
    "                    break\n",
    "            else:\n",
    "                prices.append(price)\n",
    "    \n",
    "    return count/len(D_price_list)\n",
    "   \n"
   ]
  },
  {
   "cell_type": "code",
   "execution_count": 9,
   "metadata": {
    "collapsed": false
   },
   "outputs": [
    {
     "data": {
      "text/plain": [
       "0.3788546255506608"
      ]
     },
     "execution_count": 9,
     "metadata": {},
     "output_type": "execute_result"
    }
   ],
   "source": [
    "#String the functions together here\n",
    "D_price_list = Read_Data()\n",
    "Compute_Fraction(D_price_list)"
   ]
  },
  {
   "cell_type": "code",
   "execution_count": null,
   "metadata": {
    "collapsed": true
   },
   "outputs": [],
   "source": []
  }
 ],
 "metadata": {
  "kernelspec": {
   "display_name": "Python 3",
   "language": "python",
   "name": "python3"
  },
  "language_info": {
   "codemirror_mode": {
    "name": "ipython",
    "version": 3
   },
   "file_extension": ".py",
   "mimetype": "text/x-python",
   "name": "python",
   "nbconvert_exporter": "python",
   "pygments_lexer": "ipython3",
   "version": "3.6.0"
  },
  "toc": {
   "nav_menu": {
    "height": "30px",
    "width": "252px"
   },
   "number_sections": true,
   "sideBar": true,
   "skip_h1_title": false,
   "toc_cell": false,
   "toc_position": {},
   "toc_section_display": "block",
   "toc_window_display": false
  }
 },
 "nbformat": 4,
 "nbformat_minor": 2
}
