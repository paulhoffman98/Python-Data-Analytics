{
 "cells": [
  {
   "cell_type": "markdown",
   "metadata": {},
   "source": [
    "# Functions\n",
    "\n",
    "In simple terms, a function is a device that groups a set of statements so they can be run more than once in a program. Functions also can compute a result value and let us specify parameters that serve as function inputs, which may differ each time the function is applied.\n",
    "\n",
    "Functions serve two primary purposes:\n",
    "\n",
    "*Maximizing code reuse and minimizing redundancy*: Functions are the simplest way to package logic you may wish to use in more than one place and more than one time\n",
    "\n",
    "*Procedural decomposition*: Functions also provide a tool for splitting systems into pieces that have well-defined roles.\n",
    "\n",
    "In general, using functions offers the following advantages:\n",
    "\n",
    "- Putting the code in a function makes it a tool that you can run as many times as you like.\n",
    "- When the logic is packaged in a function, you only have to change code in one place of you make a mistake or need to add something.\n",
    "- Callers can pass arbitrary arguments.\n",
    "\n",
    "## def Statements\n",
    "\n",
    "The def statement creates a function and assigns it a name.  The general form is\n",
    "\n",
    "def name(arg1, arg2, ...):\n",
    "\n",
    "    statement\n",
    "    \n",
    "    return value\n",
    "    \n",
    "The Python return statement can show up anywhere in a function body; it ends the function call and sends a result back.  The return statement is optionall if it's not present, the function exits when the control flow falls off the end of the function body.\n",
    "\n",
    "## Simple Examples\n",
    "\n",
    "We will define a function called times that returns the product of two input value x and y.  Order matters here, so the first input will be x and the second will be y in the function."
   ]
  },
  {
   "cell_type": "code",
   "execution_count": 1,
   "metadata": {
    "collapsed": true
   },
   "outputs": [],
   "source": [
    "#Defining a function\n",
    "def times(x,y):\n",
    "    return x*y"
   ]
  },
  {
   "cell_type": "code",
   "execution_count": 2,
   "metadata": {},
   "outputs": [
    {
     "data": {
      "text/plain": [
       "8"
      ]
     },
     "execution_count": 2,
     "metadata": {},
     "output_type": "execute_result"
    }
   ],
   "source": [
    "times(2,4)"
   ]
  },
  {
   "cell_type": "code",
   "execution_count": 4,
   "metadata": {},
   "outputs": [
    {
     "data": {
      "text/plain": [
       "12.56"
      ]
     },
     "execution_count": 4,
     "metadata": {},
     "output_type": "execute_result"
    }
   ],
   "source": [
    "x = times(3.14,4)\n",
    "x"
   ]
  },
  {
   "cell_type": "code",
   "execution_count": 5,
   "metadata": {},
   "outputs": [
    {
     "data": {
      "text/plain": [
       "'HelloHello'"
      ]
     },
     "execution_count": 5,
     "metadata": {},
     "output_type": "execute_result"
    }
   ],
   "source": [
    "times(\"Hello\",2)"
   ]
  },
  {
   "cell_type": "markdown",
   "metadata": {},
   "source": [
    "You can actually return multiple results in a python function as follows."
   ]
  },
  {
   "cell_type": "code",
   "execution_count": 1,
   "metadata": {},
   "outputs": [
    {
     "data": {
      "text/plain": [
       "50"
      ]
     },
     "execution_count": 1,
     "metadata": {},
     "output_type": "execute_result"
    }
   ],
   "source": [
    "#Returning multiple values\n",
    "def timesdivide(x,y):\n",
    "    times = x*y\n",
    "    divide = x/y\n",
    "    \n",
    "    return times, divide\n",
    "\n",
    "#Here is how you collect both values\n",
    "resultOne, resultTwo = timesdivide(10,5)\n",
    "\n",
    "resultOne"
   ]
  },
  {
   "cell_type": "markdown",
   "metadata": {},
   "source": [
    "Recall that * works on both numbers and strings because we never declare the types of variables, arguments, or return values in Python. Hence we can use times to either multiply numbers or repeat strings.\n",
    "\n",
    "Again, we see the benefit of polymorphism;  a simple function can generally be applied to a whole category of objects being operated on.\n",
    "\n",
    "Consider the following script, which is roughly a set intersection routine"
   ]
  },
  {
   "cell_type": "code",
   "execution_count": 1,
   "metadata": {},
   "outputs": [
    {
     "name": "stdout",
     "output_type": "stream",
     "text": [
      "['s', 'a', 'm']\n"
     ]
    }
   ],
   "source": [
    "seq1 = \"spam\"\n",
    "seq2 = \"scam\"\n",
    "\n",
    "res = []\n",
    "for x in seq1:\n",
    "    if x in seq2:\n",
    "        res.append(x)\n",
    "print(res)"
   ]
  },
  {
   "cell_type": "markdown",
   "metadata": {},
   "source": [
    "Note that this check can be done for the two variables seq1 and seq2.  Of course, if we needed this code somewhere else we could copy and paste, but this could get tedious.  Instead, we can use a function to package this check into one reusable template."
   ]
  },
  {
   "cell_type": "code",
   "execution_count": 2,
   "metadata": {
    "collapsed": true
   },
   "outputs": [],
   "source": [
    "def intersect(seq1, seq2):\n",
    "    res = []\n",
    "    for x in seq1:\n",
    "        if x in seq2:\n",
    "            res.append(x)\n",
    "    return res"
   ]
  },
  {
   "cell_type": "markdown",
   "metadata": {},
   "source": [
    "Lets use the function"
   ]
  },
  {
   "cell_type": "code",
   "execution_count": 3,
   "metadata": {},
   "outputs": [
    {
     "data": {
      "text/plain": [
       "['S', 'a']"
      ]
     },
     "execution_count": 3,
     "metadata": {},
     "output_type": "execute_result"
    }
   ],
   "source": [
    "#Using the function on two strings\n",
    "S1=\"Spam\"\n",
    "S2 = \"Scan\"\n",
    "intersect(S1,S2)"
   ]
  },
  {
   "cell_type": "code",
   "execution_count": 4,
   "metadata": {},
   "outputs": [
    {
     "data": {
      "text/plain": [
       "[3]"
      ]
     },
     "execution_count": 4,
     "metadata": {},
     "output_type": "execute_result"
    }
   ],
   "source": [
    "#Polymorphism!\n",
    "S1 = [1,2,3]\n",
    "S2=[3,4,5]\n",
    "\n",
    "intersect(S1,S2)\n",
    "\n"
   ]
  },
  {
   "cell_type": "markdown",
   "metadata": {},
   "source": [
    "## Scope\n",
    "\n",
    "What you might have already noticed is that even simple function examples quickly lead us to questions about the meaning of variables in our code.  Python's scopes are the places where variables are defined and looked up.  When you use a name in a program, Python creates, changes, or looks up the name in what is known as a namespace --  a place where names live.\n",
    "\n",
    "As we've seen, names in Python spring into existence when they are first assigned values, and they must be assigned before they are used.  The place where you assign a name in your code determines the namespace it will live in, and hence its scope of visibility.  Functions add an extra namespace layer to your program -- by default, all names assigned inside a function are associated  with that function's namespace, and no other. This means that:\n",
    "\n",
    "- Names defined inside a *def* can only be seen by the code within that *def* or in the local scope.  You cannot even refer to such names from outside the function\n",
    "- Names defined inside a *def* do not clash with variables outside of the *def*, even if the same names are used elsewhere.\n",
    "\n",
    "Consider the following example:\n"
   ]
  },
  {
   "cell_type": "code",
   "execution_count": 13,
   "metadata": {},
   "outputs": [
    {
     "name": "stdout",
     "output_type": "stream",
     "text": [
      "88\n",
      "99\n"
     ]
    }
   ],
   "source": [
    "x=99\n",
    "\n",
    "def func():\n",
    "    x=88\n",
    "    print(x)\n",
    "\n",
    "func()\n",
    "print(x)"
   ]
  },
  {
   "cell_type": "markdown",
   "metadata": {},
   "source": [
    "Even though both variables are named *x*, their scopes make them different.  The net effect is that function scopes help to avoid name clashes in your programs and help to make functions more self-contained program units.\n",
    "\n",
    "### Scope Examples\n",
    "\n",
    "Let's look at a larger example that demonstrates scope ideas."
   ]
  },
  {
   "cell_type": "code",
   "execution_count": 9,
   "metadata": {},
   "outputs": [
    {
     "data": {
      "text/plain": [
       "100"
      ]
     },
     "execution_count": 9,
     "metadata": {},
     "output_type": "execute_result"
    }
   ],
   "source": [
    "x=99\n",
    "def func(y):\n",
    "    z= x+y\n",
    "    return z\n",
    "\n",
    "func(1)"
   ]
  },
  {
   "cell_type": "markdown",
   "metadata": {},
   "source": [
    "When you use an unqualified name in a function, Python searches first in local scopes and then global ones and stops at the first place the name is found.  If the name is not found during this search you will get an error.  Let's look at another example:"
   ]
  },
  {
   "cell_type": "code",
   "execution_count": 10,
   "metadata": {},
   "outputs": [
    {
     "name": "stdout",
     "output_type": "stream",
     "text": [
      "88\n"
     ]
    }
   ],
   "source": [
    "x=88\n",
    "def func():\n",
    "    x=99\n",
    "print(x)"
   ]
  },
  {
   "cell_type": "markdown",
   "metadata": {},
   "source": [
    "When you assign a name in a function, Python always creates or changes the name in the local scope.  \n",
    "\n",
    "Finally, note that global variables can be changed in a function."
   ]
  },
  {
   "cell_type": "code",
   "execution_count": 9,
   "metadata": {},
   "outputs": [
    {
     "name": "stdout",
     "output_type": "stream",
     "text": [
      "[1, 2, 3]\n",
      "[4, 2, 3]\n",
      "True\n"
     ]
    }
   ],
   "source": [
    "#The list L is changed in the function\n",
    "def ChangeElement(Q):\n",
    "    Q[0]=4  \n",
    "    return Q\n",
    "    \n",
    "L=[1,2,3]\n",
    "print(L)\n",
    "M = ChangeElement(L)\n",
    "print(L)\n",
    "print(L is M)"
   ]
  }
 ],
 "metadata": {
  "kernelspec": {
   "display_name": "Python 3",
   "language": "python",
   "name": "python3"
  },
  "language_info": {
   "codemirror_mode": {
    "name": "ipython",
    "version": 3
   },
   "file_extension": ".py",
   "mimetype": "text/x-python",
   "name": "python",
   "nbconvert_exporter": "python",
   "pygments_lexer": "ipython3",
   "version": "3.6.1"
  },
  "toc": {
   "colors": {
    "hover_highlight": "#DAA520",
    "navigate_num": "#000000",
    "navigate_text": "#333333",
    "running_highlight": "#FF0000",
    "selected_highlight": "#FFD700",
    "sidebar_border": "#EEEEEE",
    "wrapper_background": "#FFFFFF"
   },
   "moveMenuLeft": true,
   "nav_menu": {
    "height": "138px",
    "width": "252px"
   },
   "navigate_menu": true,
   "number_sections": true,
   "sideBar": true,
   "threshold": 4,
   "toc_cell": false,
   "toc_section_display": "block",
   "toc_window_display": false,
   "widenNotebook": false
  }
 },
 "nbformat": 4,
 "nbformat_minor": 2
}
