{
 "cells": [
  {
   "cell_type": "markdown",
   "metadata": {},
   "source": [
    "# Conditionals\n",
    "\n",
    "Check if the x is perfect square.  If it is, print \"x is a perfect square\".  If not print \"x is not a perfect square\"."
   ]
  },
  {
   "cell_type": "code",
   "execution_count": 41,
   "metadata": {},
   "outputs": [
    {
     "name": "stdout",
     "output_type": "stream",
     "text": [
      "4 is a perfect square\n"
     ]
    }
   ],
   "source": [
    "#Write your code here\n",
    "import math\n",
    "x = 4\n",
    "root = math.sqrt(x)\n",
    "if root**2 == x:\n",
    "    print(\"%d is a perfect square\" %x)\n",
    "else:\n",
    "    print(\"%d is not a perfect square\" %x)\n"
   ]
  },
  {
   "cell_type": "markdown",
   "metadata": {},
   "source": [
    "Create a list L of arbitrary length. Get the median.\n"
   ]
  },
  {
   "cell_type": "code",
   "execution_count": 35,
   "metadata": {},
   "outputs": [
    {
     "data": {
      "text/plain": [
       "11.5"
      ]
     },
     "execution_count": 35,
     "metadata": {},
     "output_type": "execute_result"
    }
   ],
   "source": [
    "#Write your code here\n",
    "L = [123, 21, 2, 12, 3, 11]\n",
    "L.sort()\n",
    "L_len = len(L)\n",
    "if(L_len%2 == 0):\n",
    "    first = L[L_len//2]\n",
    "    second = L[L_len//2 -1]\n",
    "    median = (first+second)/float(2)\n",
    "else:\n",
    "    median = L[L_len//2]\n",
    "median"
   ]
  },
  {
   "cell_type": "markdown",
   "metadata": {},
   "source": [
    "If there are fewer than 10 students in the class, then the top three students get an  A and the rest get a B.  Otherwise, the grade breakdown is as follows:\n",
    "\n",
    "- A: 90-100\n",
    "- B: 80-89\n",
    "- C: 70 - 79\n",
    "- D: 65 - 69\n",
    "- Failing: Below 65\n",
    "\n",
    "Given the list of grades in grades_list, print the grade received by the last student in this list. So if we have\n",
    "\n",
    "    grade_list = [50, 90, 91, 88, 75]\n",
    "\n",
    "we want to print the grade received by the student who received a 75. In this case it would be a B.\n",
    "\n"
   ]
  },
  {
   "cell_type": "code",
   "execution_count": 49,
   "metadata": {},
   "outputs": [
    {
     "ename": "TypeError",
     "evalue": "'list' object is not callable",
     "output_type": "error",
     "traceback": [
      "\u001b[0;31m---------------------------------------------------------------------------\u001b[0m",
      "\u001b[0;31mTypeError\u001b[0m                                 Traceback (most recent call last)",
      "\u001b[0;32m<ipython-input-49-72f3c22e6940>\u001b[0m in \u001b[0;36m<module>\u001b[0;34m\u001b[0m\n\u001b[1;32m      3\u001b[0m \u001b[0mstudents\u001b[0m \u001b[0;34m=\u001b[0m \u001b[0mlen\u001b[0m\u001b[0;34m(\u001b[0m\u001b[0mgrade_list\u001b[0m\u001b[0;34m)\u001b[0m\u001b[0;34m\u001b[0m\u001b[0;34m\u001b[0m\u001b[0m\n\u001b[1;32m      4\u001b[0m \u001b[0;32mif\u001b[0m \u001b[0mstudents\u001b[0m \u001b[0;34m<\u001b[0m \u001b[0;36m10\u001b[0m\u001b[0;34m:\u001b[0m\u001b[0;34m\u001b[0m\u001b[0;34m\u001b[0m\u001b[0m\n\u001b[0;32m----> 5\u001b[0;31m     \u001b[0mA_grade\u001b[0m \u001b[0;34m=\u001b[0m \u001b[0mgrade_list\u001b[0m\u001b[0;34m(\u001b[0m\u001b[0;34m-\u001b[0m\u001b[0;36m4\u001b[0m\u001b[0;34m,\u001b[0m\u001b[0;34m-\u001b[0m\u001b[0;36m1\u001b[0m\u001b[0;34m)\u001b[0m\u001b[0;34m\u001b[0m\u001b[0;34m\u001b[0m\u001b[0m\n\u001b[0m\u001b[1;32m      6\u001b[0m     \u001b[0mB_grade\u001b[0m \u001b[0;34m=\u001b[0m \u001b[0mgrade_list\u001b[0m\u001b[0;34m[\u001b[0m\u001b[0;36m0\u001b[0m\u001b[0;34m,\u001b[0m\u001b[0;34m-\u001b[0m\u001b[0;36m3\u001b[0m\u001b[0;34m]\u001b[0m\u001b[0;34m\u001b[0m\u001b[0;34m\u001b[0m\u001b[0m\n\u001b[1;32m      7\u001b[0m     \u001b[0mprint\u001b[0m\u001b[0;34m(\u001b[0m\u001b[0;34m)\u001b[0m\u001b[0;34m\u001b[0m\u001b[0;34m\u001b[0m\u001b[0m\n",
      "\u001b[0;31mTypeError\u001b[0m: 'list' object is not callable"
     ]
    }
   ],
   "source": [
    "grade_list = [50, 90, 91, 88, 75]\n",
    "grade_list.sort()\n",
    "students = len(grade_list)\n",
    "if students < 10:\n",
    "    A_grade = grade_list[-4,-1]\n",
    "    B_grade = grade_list[0,-3]\n",
    "    print()\n",
    "else:\n",
    "    if grade_list > 90:\n",
    "        print(A)\n",
    "    "
   ]
  },
  {
   "cell_type": "markdown",
   "metadata": {},
   "source": [
    "# For Loops\n",
    "\n",
    "Count the number of n's in your name (lower and uppercase count)"
   ]
  },
  {
   "cell_type": "code",
   "execution_count": 45,
   "metadata": {},
   "outputs": [
    {
     "data": {
      "text/plain": [
       "3"
      ]
     },
     "execution_count": 45,
     "metadata": {},
     "output_type": "execute_result"
    }
   ],
   "source": [
    "#Write your code here\n",
    "name = \"Dennis Zhang\"\n",
    "count =0\n",
    "for n in name:\n",
    "    if(n == \"n\" or n==\"N\"):\n",
    "        count += 1\n",
    "count\n"
   ]
  },
  {
   "cell_type": "markdown",
   "metadata": {},
   "source": [
    "Get all of the factors of a number and store them in a list"
   ]
  },
  {
   "cell_type": "code",
   "execution_count": 61,
   "metadata": {},
   "outputs": [
    {
     "data": {
      "text/plain": [
       "[1, 2, 3, 4, 6, 12]"
      ]
     },
     "execution_count": 61,
     "metadata": {},
     "output_type": "execute_result"
    }
   ],
   "source": [
    "#Write your code here\n",
    "\n",
    "n = 12 # [1, 2, 3, 6]\n",
    "factors = []\n",
    "for i in range(1,n+1):\n",
    "    if(n%i == 0):\n",
    "        factors.append(i)\n",
    "factors"
   ]
  },
  {
   "cell_type": "markdown",
   "metadata": {},
   "source": [
    "Generate the first N numbers of the Fibonacci sequence where \n",
    "\n",
    "$a_0 = 1$\n",
    "\n",
    "$a_1=1$\n",
    "\n",
    "$a_n = a_{n-1} + a_{n-2}$"
   ]
  },
  {
   "cell_type": "code",
   "execution_count": 60,
   "metadata": {},
   "outputs": [
    {
     "name": "stdout",
     "output_type": "stream",
     "text": [
      "1\n",
      "1\n",
      "2\n",
      "3\n",
      "5\n",
      "8\n",
      "13\n",
      "21\n",
      "34\n",
      "55\n"
     ]
    }
   ],
   "source": [
    "#Write your code here\n",
    "n = 10\n",
    "a1 = 0\n",
    "a2 = 1\n",
    "sum = 0\n",
    "for i in range(0,n):\n",
    "    sum = a1 + a2\n",
    "    a2 = a1\n",
    "    a1 = sum\n",
    "    print(sum)"
   ]
  },
  {
   "cell_type": "markdown",
   "metadata": {},
   "source": [
    "Compute the dot product of lists l1 and l2. **This is an example where iterating over the index is better than over the elements themselves**\n"
   ]
  },
  {
   "cell_type": "code",
   "execution_count": 59,
   "metadata": {},
   "outputs": [
    {
     "data": {
      "text/plain": [
       "[6, 3, 20, 5, 12]"
      ]
     },
     "execution_count": 59,
     "metadata": {},
     "output_type": "execute_result"
    }
   ],
   "source": [
    "#Write your code here\n",
    "l1 = [2, 3, 4, 5, 6]\n",
    "l2 = [3, 1, 5, 1, 2]\n",
    "l3 = []\n",
    "for i in range(len(l1)):\n",
    "    dot_product = l1[i]*l2[i]\n",
    "    l3.append(dot_product)\n",
    "l3"
   ]
  },
  {
   "cell_type": "markdown",
   "metadata": {},
   "source": [
    "Given two strings, test how many times the first string contains the second.  For example if str1 = \"**co**ding is **co**ol\" and str2 = \"co\" then output should be 2."
   ]
  },
  {
   "cell_type": "code",
   "execution_count": 51,
   "metadata": {},
   "outputs": [
    {
     "data": {
      "text/plain": [
       "14"
      ]
     },
     "execution_count": 51,
     "metadata": {},
     "output_type": "execute_result"
    }
   ],
   "source": [
    "#Write you code here\n",
    "str1 = \"coding is cool\"\n",
    "str2 = \"co\"\n",
    "count = 0\n",
    "for string in str1:\n",
    "    if str2 in str1:\n",
    "        count += 1\n",
    "count"
   ]
  },
  {
   "cell_type": "markdown",
   "metadata": {},
   "source": [
    "Code up the locker brain teaser below. Print out a list of the open locker numbers. Let N be the number of lockers and students"
   ]
  },
  {
   "cell_type": "code",
   "execution_count": 77,
   "metadata": {},
   "outputs": [
    {
     "name": "stdout",
     "output_type": "stream",
     "text": [
      "1\n",
      "4\n",
      "9\n",
      "16\n",
      "25\n",
      "36\n",
      "49\n",
      "64\n",
      "81\n",
      "100\n"
     ]
    }
   ],
   "source": [
    "#Write your code here  \n",
    "N=100\n",
    "lockers = [0] * 100\n",
    "for i in range(1, N+1):\n",
    "    for j in range(1, N+1):\n",
    "        if j%i == 0 :\n",
    "            lockers[j-1] = 1 - lockers[j-1]\n",
    "            \n",
    "for j in range(1, N+1):\n",
    "    if lockers[j-1] == 1:\n",
    "        print(j)"
   ]
  },
  {
   "cell_type": "code",
   "execution_count": null,
   "metadata": {},
   "outputs": [],
   "source": []
  }
 ],
 "metadata": {
  "kernelspec": {
   "display_name": "Python 3",
   "language": "python",
   "name": "python3"
  },
  "language_info": {
   "codemirror_mode": {
    "name": "ipython",
    "version": 3
   },
   "file_extension": ".py",
   "mimetype": "text/x-python",
   "name": "python",
   "nbconvert_exporter": "python",
   "pygments_lexer": "ipython3",
   "version": "3.8.3"
  },
  "toc": {
   "nav_menu": {
    "height": "48px",
    "width": "252px"
   },
   "number_sections": true,
   "sideBar": true,
   "skip_h1_title": false,
   "toc_cell": false,
   "toc_position": {},
   "toc_section_display": "block",
   "toc_window_display": false
  }
 },
 "nbformat": 4,
 "nbformat_minor": 2
}
