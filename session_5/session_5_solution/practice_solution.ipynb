{
 "cells": [
  {
   "cell_type": "markdown",
   "metadata": {},
   "source": [
    "# Files Practice"
   ]
  },
  {
   "cell_type": "markdown",
   "metadata": {},
   "source": [
    "Read in the text file 'Pizza_File.txt'  and find the number of times the letter a (upper or lower case) appears. Also compute the average number of slices consumed."
   ]
  },
  {
   "cell_type": "code",
   "execution_count": 1,
   "metadata": {},
   "outputs": [
    {
     "name": "stdout",
     "output_type": "stream",
     "text": [
      "Jake ate 7 pizza slices\n",
      "The avg slices was 6.166666666666667\n"
     ]
    }
   ],
   "source": [
    "#Write you code here\n",
    "f = open(\"Data/Pizza_File.txt\", \"r\")\n",
    "lines = f.readlines()\n",
    "sentence = lines[0]\n",
    "pizza_consumption = lines[1]\n",
    "\n",
    "#First part\n",
    "num_a = sentence.lower().count(\"a\")\n",
    "print(\"Jake ate \" + str(num_a) + \" pizza slices\")\n",
    "\n",
    "#Second part\n",
    "pizza_list = pizza_consumption.split(\",\")\n",
    "int_slices = []\n",
    "for slice_ in pizza_list:\n",
    "    int_slices.append(int(slice_))\n",
    "avg = sum(int_slices)/len(int_slices)\n",
    "print(\"The avg slices was \" + str(avg))"
   ]
  },
  {
   "cell_type": "markdown",
   "metadata": {},
   "source": [
    "Read in the text file 'scores.txt' and create a dictionary where the keys are the names and the values are lists of scores"
   ]
  },
  {
   "cell_type": "code",
   "execution_count": 2,
   "metadata": {},
   "outputs": [
    {
     "data": {
      "text/plain": [
       "{'Amr': [0, 1, 2, 3, 4, 5],\n",
       " 'Dennis': [101, 99, 101, 99],\n",
       " 'Jake': [100, 100, 100, 101, 99]}"
      ]
     },
     "execution_count": 2,
     "metadata": {},
     "output_type": "execute_result"
    }
   ],
   "source": [
    "#Write your code here\n",
    "f = open(\"Data/scores.txt\")\n",
    "lines = f.readlines()\n",
    "D_scores = {}\n",
    "for line in lines:\n",
    "    info = line.strip(\"\\n\").split(\",\")\n",
    "    name = info[0]\n",
    "    scores_str = info[1:]\n",
    "    scores_int = []\n",
    "    for score in scores_str:\n",
    "        scores_int.append(int(score))\n",
    "    D_scores[name] = scores_int\n",
    "    \n",
    "D_scores"
   ]
  },
  {
   "cell_type": "markdown",
   "metadata": {},
   "source": [
    "Read in the file 'user_likes.txt' and create a dictionary where the keys are the movies and the values are the fraction of times this movie was liked."
   ]
  },
  {
   "cell_type": "code",
   "execution_count": 3,
   "metadata": {},
   "outputs": [
    {
     "data": {
      "text/plain": [
       "{'La La Land': 1.0,\n",
       " 'Rogue One': 1.0,\n",
       " 'Suicide Squad': 0.4,\n",
       " 'The Great Wall': 0.5}"
      ]
     },
     "execution_count": 3,
     "metadata": {},
     "output_type": "execute_result"
    }
   ],
   "source": [
    "#Write your code here\n",
    "f = open(\"Data/user_likes.txt\")\n",
    "lines = f.readlines()[:-2]\n",
    "D_ratings = {}\n",
    "for line in lines:\n",
    "    info = line.strip(\"\\n\").split(\",\")\n",
    "    movie = info[1]\n",
    "    score = int(info[2])\n",
    "    if movie in D_ratings.keys():\n",
    "        D_ratings[movie].append(score)\n",
    "    else:\n",
    "        D_ratings[movie] = [score]\n",
    "D_avg = {}\n",
    "for movie in D_ratings:\n",
    "    D_avg[movie] = sum(D_ratings[movie])/len(D_ratings[movie])\n",
    "D_avg"
   ]
  },
  {
   "cell_type": "markdown",
   "metadata": {},
   "source": [
    "## Stock Portfolio\n",
    "\n",
    "In this exercise, we will simulate 4 strategies that Susan can employ for her finance from 1994 to 2020. For simplicity, let us assume that Susan can only invest in SPY, which is the index that tracks S\\&P 500 in US. \n",
    "\n",
    "\n",
    "### Set-up \n",
    "Let us assume that Susan has a stable job and her investable income every month is 1000 USD. For simplicity, let us assume that Susan can only invest in SPY, which is the index that tracks S\\&P 500 in US, or a high yield saving account that pays 0.15\\% monthly interest (in other words, if you have 100 USD in the bank, you will get 25 cents in the coming month). The bank interests are compounded every month. \n",
    "\n",
    "First, you need to read in the data from data/spy_data.csv, save the open price, close price and month to the follow three lists."
   ]
  },
  {
   "cell_type": "code",
   "execution_count": 21,
   "metadata": {},
   "outputs": [],
   "source": [
    "stock_open = []\n",
    "stock_close = []\n",
    "month = []\n",
    "month_rate = 0.001\n",
    "monthly_cash = 1000\n",
    "\n",
    "f = open(\"data/spy_data.csv\")\n",
    "\n",
    "lines = f.readlines()\n",
    "\n",
    "names = lines[0]\n",
    "\n",
    "for line in lines[1:]:\n",
    "    line = line.split(\",\")\n",
    "    stock_open.append(float(line[1]))\n",
    "    stock_close.append(float(line[4]))\n",
    "    month.append(int(line[-1].strip()))\n",
    "\n",
    "\n"
   ]
  },
  {
   "cell_type": "markdown",
   "metadata": {},
   "source": [
    "How much cash does she earb over the years?"
   ]
  },
  {
   "cell_type": "code",
   "execution_count": 22,
   "metadata": {},
   "outputs": [
    {
     "data": {
      "text/plain": [
       "322000"
      ]
     },
     "execution_count": 22,
     "metadata": {},
     "output_type": "execute_result"
    }
   ],
   "source": [
    "len(month) * 1000"
   ]
  },
  {
   "cell_type": "markdown",
   "metadata": {},
   "source": [
    "### Strategy 1 Not interested in investing\n",
    "\n",
    "Now, let us assume that Susan does not trust the financial market at all and uses Strategy 1. In this strategy, she will deposit every investable income into a bank every month. In this way, she will deposit 1000 USD to the bank every month and let the interest compound in the bank. \n",
    "\n",
    "What you need to do is to simulate this strategy. Let portfolio be a list where each element represents her net asset in the bank in that month. You need to simulate this strategy and see its total net asset in the last month (which is 09/2020). What is her return rate (her total asset at 09/2020 divided by her total cash earned)?\n"
   ]
  },
  {
   "cell_type": "code",
   "execution_count": 23,
   "metadata": {},
   "outputs": [
    {
     "data": {
      "text/plain": [
       "(379662.7803641705, 1.1790769576527034)"
      ]
     },
     "execution_count": 23,
     "metadata": {},
     "output_type": "execute_result"
    }
   ],
   "source": [
    "portfolio_1 = [0]\n",
    "\n",
    "for m in month:\n",
    "    portfolio_1 += [portfolio_1[-1]*(1+month_rate)+monthly_cash]\n",
    "\n",
    "portfolio_1[-1], portfolio_1[-1] / (len(month) * 1000)"
   ]
  },
  {
   "cell_type": "markdown",
   "metadata": {},
   "source": [
    "### Strategy 2 Constant Investor\n",
    "\n",
    "Now, let us assume that Susan constantly invests in the market and does not want to spend too much attend. Therefore, she chooses Strategy 2 where she always invests the earned 1000 dollars in SPY every month. Also let us assume that she has access to fractional shares so that she can buy the fraction of a share depending on the share price (i.e., if the share is 2000 USD, then with 1000 USD, she can buy 0.5 shares). Let us also assume that Susan always buys the shares at the beginning of the month, which means she pays the open price in each month. And her portfolio in that month should be calculated based on the close price in a month.\n",
    "\n",
    "Now, you should simulate this strategy by generating two lists: shares and portfolio, where shares rerpesent how much shares of SPY she has over months and portfolio is defined above. You should also compute her return rate. \n",
    "\n"
   ]
  },
  {
   "cell_type": "code",
   "execution_count": 24,
   "metadata": {},
   "outputs": [
    {
     "data": {
      "text/plain": [
       "(906619.337617431, 2.8155880050230775)"
      ]
     },
     "execution_count": 24,
     "metadata": {},
     "output_type": "execute_result"
    }
   ],
   "source": [
    "portfolio_2 = [0]\n",
    "stocks = [0]\n",
    "\n",
    "for i in range(len(month)):\n",
    "    buy = monthly_cash / stock_open[i]\n",
    "    net_worth = (stocks[-1] + buy) * stock_close[i]\n",
    "    stocks.append(stocks[-1]+ buy)\n",
    "    portfolio_2.append(net_worth)\n",
    "\n",
    "portfolio_2[-1], portfolio_2[-1] / (len(month) * 1000)"
   ]
  },
  {
   "cell_type": "markdown",
   "metadata": {},
   "source": [
    "### Strategy 3 Best Market Timer \n",
    "\n",
    "Now, let us assume that Susan has a crystal ball that will tell here where is the lowest price in a decade. In other words, she knows the months with lowest price points from 01/1994 (month 1) to 12/2003 (month 120), 01/2004 (month 121) to 12/2013 (month 240), and from 01/2014 (month 241) to 09/2020 (month 322). She will save money at the bank and only jumps in the market with all of her cash in the bank during these three months. For exmaple, if the first lowest point is July 2001, what Susan will do is to save all the money to the bank from Jan 1994 to July 2001 and use all the money in her bank to buy SPY at July 2001. Starting from August 2001 (next month), she will continue saving money until the next lowest price point. \n",
    "\n",
    "Now, you should simulate this strategy by generating two lists: shares and portfolio, where shares rerpesent how much shares of SPY she has over months and portfolio is defined above. You should also compute her return rate. \n",
    "\n",
    "**Hint:** you may also want a third list called bank which stores the total number of cash in the bank each month. \n"
   ]
  },
  {
   "cell_type": "code",
   "execution_count": 49,
   "metadata": {},
   "outputs": [
    {
     "data": {
      "text/plain": [
       "(1049879.8303414714, 3.2604963675200973)"
      ]
     },
     "execution_count": 49,
     "metadata": {},
     "output_type": "execute_result"
    }
   ],
   "source": [
    "portfolio_3 = [0]\n",
    "stocks_3 = [0]\n",
    "bank_3 = [0]\n",
    "\n",
    "lowest_price_index_1 = stock_open[0:120].index(sorted(stock_open[0:120])[1])\n",
    "lowest_price_index_2 = stock_open[120:240].index(sorted(stock_open[120:240])[1])+120\n",
    "lowest_price_index_3 = stock_open[240:].index(sorted(stock_open[240:])[1])+240\n",
    "\n",
    "lowest_month_index = [lowest_price_index_1, lowest_price_index_2, lowest_price_index_3]\n",
    "\n",
    "for i in range(len(month)):\n",
    "    if i in lowest_month_index:\n",
    "        buy = (monthly_cash+bank_3[-1]) / stock_open[i]\n",
    "        stocks_3.append(stocks_3[-1]+ buy)\n",
    "        bank_3.append(0)\n",
    "    else:\n",
    "        bank_3.append(bank_3[-1]*(1+month_rate)+monthly_cash)\n",
    "        stocks_3.append(stocks_3[-1])\n",
    "    \n",
    "    portfolio_3.append(bank_3[-1]+stocks_3[-1]*stock_close[i])\n",
    "\n",
    "        \n",
    "portfolio_3[-1], portfolio_3[-1] / (len(month) * 1000)"
   ]
  },
  {
   "cell_type": "markdown",
   "metadata": {},
   "source": [
    "### Strategy 4 Worst Market Timer \n",
    "\n",
    "Now, let us assume that Susan is the worst market timer ever in the history. Every decade, she only picks the month with the highest stock price to use all of her money in the bank to purchase the stock and otherwise she will save the money in the bank. In other words, she purchases stocks at the months with lowest price points from 01/1994 (month 1) to 12/2003 (month 120), 01/2004 (month 121) to 12/2013 (month 240), and from 01/2014 (month 241) to 09/2020 (month 322). She will save money at the bank and only jumps in the market with all of her cash in the bank during these three months. For exmaple, if the first highest point is July 2001, what Susan will do is to save all the money to the bank from Jan 1994 to July 2001 and use all the money in her bank to buy SPY at July 2001. Starting from August 2001 (next month), she will continue saving money until the next lowest price point. \n",
    "\n",
    "Now, you should simulate this strategy by generating two lists: shares and portfolio, where shares rerpesent how much shares of SPY she has over months and portfolio is defined above. You should also compute her return rate. \n",
    "\n"
   ]
  },
  {
   "cell_type": "code",
   "execution_count": 50,
   "metadata": {},
   "outputs": [
    {
     "data": {
      "text/plain": [
       "(573147.3345108525, 1.7799606661827716)"
      ]
     },
     "execution_count": 50,
     "metadata": {},
     "output_type": "execute_result"
    }
   ],
   "source": [
    "portfolio_4 = [0]\n",
    "stocks_4 = [0]\n",
    "bank_4 = [0]\n",
    "\n",
    "highest_price_index_1 = stock_open[0:120].index(sorted(stock_open[0:120])[-1])\n",
    "highest_price_index_2 = stock_open[120:240].index(sorted(stock_open[120:240])[-1])+120\n",
    "highest_price_index_3 = stock_open[240:].index(sorted(stock_open[240:])[-1])+240\n",
    "\n",
    "highest_price_index = [highest_price_index_1, highest_price_index_2, highest_price_index_3]\n",
    "\n",
    "for i in range(len(month)):\n",
    "    if i in highest_price_index:\n",
    "        buy = (monthly_cash+bank_4[-1]) / stock_open[i]\n",
    "        stocks_4.append(stocks_4[-1]+ buy)\n",
    "        bank_4.append(0)\n",
    "    else:\n",
    "        bank_4.append(bank_4[-1]*(1+month_rate)+monthly_cash)\n",
    "        stocks_4.append(stocks_4[-1])\n",
    "    \n",
    "    portfolio_4.append(bank_4[-1]+stocks_4[-1]*stock_close[i])\n",
    "\n",
    "        \n",
    "portfolio_4[-1], portfolio_4[-1] / (len(month) * 1000)"
   ]
  },
  {
   "cell_type": "markdown",
   "metadata": {},
   "source": [
    "The following code plots how the portfolio changes with respect to time. \n",
    "\n",
    "\n",
    "What does this teach you?"
   ]
  },
  {
   "cell_type": "code",
   "execution_count": 57,
   "metadata": {},
   "outputs": [
    {
     "data": {
      "image/png": "[encoded data removed]",
      "text/plain": [
       "<Figure size 432x288 with 1 Axes>"
      ]
     },
     "metadata": {
      "needs_background": "light"
     },
     "output_type": "display_data"
    }
   ],
   "source": [
    "import matplotlib.pyplot as plt\n",
    "\n",
    "plt.xlabel(\"Month Number (01/1994 - 09/2020)\")\n",
    "plt.ylabel(\"Total Net Worth\")\n",
    "plt.title(\"Total Net Worth on Different Strategies\")\n",
    "\n",
    "plt.plot([0]+month, portfolio_1, label = \"Bank\")\n",
    "plt.plot([0]+month, portfolio_2, label = \"Average Investor\")\n",
    "plt.plot([0]+month, portfolio_3, label = \"Best Market Timer\")\n",
    "plt.plot([0]+month, portfolio_4, label = \"Worst Market Timer\")\n",
    "\n",
    "plt.legend()\n",
    "plt.grid()\n",
    "plt.show()"
   ]
  }
 ],
 "metadata": {
  "kernelspec": {
   "display_name": "Python 3",
   "language": "python",
   "name": "python3"
  },
  "language_info": {
   "codemirror_mode": {
    "name": "ipython",
    "version": 3
   },
   "file_extension": ".py",
   "mimetype": "text/x-python",
   "name": "python",
   "nbconvert_exporter": "python",
   "pygments_lexer": "ipython3",
   "version": "3.7.4"
  },
  "toc": {
   "colors": {
    "hover_highlight": "#DAA520",
    "navigate_num": "#000000",
    "navigate_text": "#333333",
    "running_highlight": "#FF0000",
    "selected_highlight": "#FFD700",
    "sidebar_border": "#EEEEEE",
    "wrapper_background": "#FFFFFF"
   },
   "moveMenuLeft": true,
   "nav_menu": {
    "height": "30px",
    "width": "252px"
   },
   "navigate_menu": true,
   "number_sections": true,
   "sideBar": true,
   "skip_h1_title": false,
   "threshold": 4,
   "toc_cell": false,
   "toc_position": {},
   "toc_section_display": "block",
   "toc_window_display": false,
   "widenNotebook": false
  }
 },
 "nbformat": 4,
 "nbformat_minor": 2
}
