{
 "cells": [
  {
   "cell_type": "markdown",
   "metadata": {
    "deletable": false,
    "editable": false,
    "nbgrader": {
     "cell_type": "markdown",
     "checksum": "7645528be3757dfd98497da75d81e912",
     "grade": false,
     "grade_id": "cell-1c14a1786a26dc5a",
     "locked": true,
     "schema_version": 3,
     "solution": false
    }
   },
   "source": [
    "# Homework 2\n",
    "\n",
    "\n",
    "## Problem 1 (Dictionary and String Methods):\n",
    "\n",
    "You have a list of strings which contain student record. Each string contains the student's name, and their grades in Maths, Physics and Chemistry. The grades can be **floating values**. These values (names and grades) are separated by comma. You are required to save the record in a dictionary data type. The user then enters a student's name. Output the average percentage marks obtained by that student, correct to two decimal places.\n",
    "\n",
    "Example:\n",
    "\n",
    "    input:\n",
    "        grades = [\"Jake, 99, 70, 50\", \"Dennis, 100, 100, 98\"]\n",
    "        name = \"Dennis\"\n",
    "    output: \"The average grade of Dennis is 99.33\""
   ]
  },
  {
   "cell_type": "code",
   "execution_count": 17,
   "metadata": {
    "deletable": false,
    "nbgrader": {
     "cell_type": "code",
     "checksum": "6f1cffbcd07554cd2f967be27554c129",
     "grade": false,
     "grade_id": "cell-562beecb93f03f23",
     "locked": false,
     "schema_version": 3,
     "solution": true
    }
   },
   "outputs": [],
   "source": [
    "def problem2(grades, name):\n",
    "    output = \"\"\n",
    "    \n",
    "    grade_D = {}\n",
    "    for student in grades:\n",
    "        parsed_grades = student.strip(\"\\n\").split(\",\")\n",
    "        names = parsed_grades[0]\n",
    "\n",
    "        grade1 = float(parsed_grades[1])\n",
    "        grade2 = float(parsed_grades[2])\n",
    "        grade3 = float(parsed_grades[3])\n",
    "        avg_grade = (grade1+grade2+grade3)/3\n",
    "\n",
    "        if names in grade_D:\n",
    "            grade_D[names].append(avg_grade)\n",
    "        else:\n",
    "            grade_D[names] = [avg_grade]\n",
    "    value = grade_D.get(name)\n",
    "    value_float = []\n",
    "    for item in value:\n",
    "        value_float.append(item)\n",
    "\n",
    "    output = \"The average grade of %s is %0.2f\" %(name, value_float[0])\n",
    "\n",
    "    return(output)"
   ]
  },
  {
   "cell_type": "code",
   "execution_count": 18,
   "metadata": {
    "deletable": false,
    "editable": false,
    "nbgrader": {
     "cell_type": "code",
     "checksum": "0e6cdef8dab830f05bae8e33f2f84119",
     "grade": true,
     "grade_id": "cell-681343a4d7e22bbd",
     "locked": true,
     "points": 15,
     "schema_version": 3,
     "solution": false
    }
   },
   "outputs": [],
   "source": [
    "grades = [\"Jake, 99, 70, 54\", \"Dennis, 100, 100, 98\"]\n",
    "name = \"Dennis\"\n",
    "assert problem2(grades, \"Dennis\") == \"The average grade of Dennis is 99.33\""
   ]
  },
  {
   "cell_type": "code",
   "execution_count": 19,
   "metadata": {
    "deletable": false,
    "editable": false,
    "nbgrader": {
     "cell_type": "code",
     "checksum": "584d1501b0de2dbd8c7a3ab04834e31a",
     "grade": true,
     "grade_id": "cell-402bf89f76c4bd42",
     "locked": true,
     "points": 15,
     "schema_version": 3,
     "solution": false
    }
   },
   "outputs": [],
   "source": [
    "grades = [\"Jake, 99, 70, 55\", \"Dennis, 100, 100, 98\"]\n",
    "name = \"Jake\"\n",
    "assert problem2(grades, \"Jake\") == \"The average grade of Jake is 74.67\""
   ]
  },
  {
   "cell_type": "markdown",
   "metadata": {
    "deletable": false,
    "editable": false,
    "nbgrader": {
     "cell_type": "markdown",
     "checksum": "6a230cb09f6729d3beab1bec761bf5b8",
     "grade": false,
     "grade_id": "cell-011f6d6fa49cca37",
     "locked": true,
     "schema_version": 3,
     "solution": false
    }
   },
   "source": [
    "## Problem 2 (List Methods):\n",
    "\n",
    "You are given N positive numbers. Store them in a list and find the second largest number.\n",
    "(If there are two largest numbers, the second largest number must be smaller than both of them)\n",
    "\n",
    "Example:\n",
    "\n",
    "    input: int_list = [1,3,1,4,4,2]\n",
    "    ouput: 3"
   ]
  },
  {
   "cell_type": "code",
   "execution_count": 27,
   "metadata": {
    "deletable": false,
    "nbgrader": {
     "cell_type": "code",
     "checksum": "5b3f15a3d4e7a4fc2b7ef7a56b26a841",
     "grade": false,
     "grade_id": "cell-90ba74290831cf3b",
     "locked": false,
     "schema_version": 3,
     "solution": true
    }
   },
   "outputs": [],
   "source": [
    "#Write your code here:\n",
    "def problem3(int_list):\n",
    "    second_largest = 0\n",
    "\n",
    "    int_list.sort()\n",
    "    for i in int_list:\n",
    "        if int_list[-i-1] < int_list[-i]:\n",
    "            second_largest = int_list[-i-1]\n",
    "            break\n",
    "    return(second_largest)"
   ]
  },
  {
   "cell_type": "code",
   "execution_count": 28,
   "metadata": {
    "deletable": false,
    "editable": false,
    "nbgrader": {
     "cell_type": "code",
     "checksum": "326f595852fce58785a2f0bfa537c611",
     "grade": true,
     "grade_id": "cell-f14a368424f5d8fc",
     "locked": true,
     "points": 15,
     "schema_version": 3,
     "solution": false
    }
   },
   "outputs": [],
   "source": [
    "assert problem3([1,3,1,4,4,2]) == 3"
   ]
  },
  {
   "cell_type": "code",
   "execution_count": 29,
   "metadata": {
    "deletable": false,
    "editable": false,
    "nbgrader": {
     "cell_type": "code",
     "checksum": "324b32b094054d8d10aa414bb182b6b5",
     "grade": true,
     "grade_id": "cell-b28263287d112648",
     "locked": true,
     "points": 15,
     "schema_version": 3,
     "solution": false
    }
   },
   "outputs": [],
   "source": [
    "assert problem3([1,2,3]) == 2"
   ]
  },
  {
   "cell_type": "markdown",
   "metadata": {
    "deletable": false,
    "editable": false,
    "nbgrader": {
     "cell_type": "markdown",
     "checksum": "7e7fe481e112d9065538a9446581cf86",
     "grade": false,
     "grade_id": "cell-7263d45cf59f7c58",
     "locked": true,
     "schema_version": 3,
     "solution": false
    }
   },
   "source": [
    "## Problem 3 (All-in-one: list + string + file read):\n",
    "\n",
    "We downloaded several stock's daily level data for you in ./data/hw2_data/stock_data/. You will write code that takes stock tickers as inputs and output one dictinoary. The dictionary uses the stock tickers as keys and the values are these stocks' average open prices in 2017 (until the end of the file).\n",
    "\n",
    "Exmaple:\n",
    "\n",
    "    input: tickers = [\"AAPL\"]\n",
    "    output: {'AAPL': 143.465799260355}\n"
   ]
  },
  {
   "cell_type": "code",
   "execution_count": 46,
   "metadata": {
    "deletable": false,
    "nbgrader": {
     "cell_type": "code",
     "checksum": "80de04bea9ef1411cc58b81e8bcd7fcb",
     "grade": false,
     "grade_id": "cell-25ac6e4633eae166",
     "locked": false,
     "schema_version": 3,
     "solution": true
    }
   },
   "outputs": [],
   "source": [
    "def problem4(tickers):\n",
    "    file_location = \"./data/stock_data/\"\n",
    "    return_dict = {}\n",
    "    \n",
    "    for ticker in tickers:\n",
    "        f = open(\"./data/stock_data/%s.csv\" %ticker, \"r\")\n",
    "        lines = f.readlines()\n",
    "        symbol = []\n",
    "        for i in lines[1:]:\n",
    "            parsed_symbol = i.strip(\"\\n\").split(\",\")\n",
    "            symbol.append(float(parsed_symbol[2]))\n",
    "        avg_open_price = sum(symbol)/len(symbol)\n",
    "        return_dict[ticker] = avg_open_price\n",
    "    \n",
    "    return(return_dict)"
   ]
  },
  {
   "cell_type": "code",
   "execution_count": 47,
   "metadata": {
    "deletable": false,
    "editable": false,
    "nbgrader": {
     "cell_type": "code",
     "checksum": "4cc9f65361225d806b6d867d899e0192",
     "grade": true,
     "grade_id": "cell-f824aae0b179bccb",
     "locked": true,
     "points": 20,
     "schema_version": 3,
     "solution": false
    }
   },
   "outputs": [],
   "source": [
    "assert problem4([\"AAPL\"]) == {'AAPL': 143.465799260355}"
   ]
  },
  {
   "cell_type": "code",
   "execution_count": 48,
   "metadata": {
    "deletable": false,
    "editable": false,
    "nbgrader": {
     "cell_type": "code",
     "checksum": "337ab424b6b00b390631ee0f81f46290",
     "grade": true,
     "grade_id": "cell-49c8a58cfdfc3878",
     "locked": true,
     "points": 20,
     "schema_version": 3,
     "solution": false
    }
   },
   "outputs": [],
   "source": [
    "assert problem4([\"AAPL\", \"GOOG\"]) == {'AAPL': 143.465799260355, 'GOOG': 884.3826611893493}"
   ]
  },
  {
   "cell_type": "code",
   "execution_count": null,
   "metadata": {},
   "outputs": [],
   "source": []
  }
 ],
 "metadata": {
  "kernelspec": {
   "display_name": "Python 3",
   "language": "python",
   "name": "python3"
  },
  "language_info": {
   "codemirror_mode": {
    "name": "ipython",
    "version": 3
   },
   "file_extension": ".py",
   "mimetype": "text/x-python",
   "name": "python",
   "nbconvert_exporter": "python",
   "pygments_lexer": "ipython3",
   "version": "3.8.3"
  },
  "toc": {
   "colors": {
    "hover_highlight": "#DAA520",
    "navigate_num": "#000000",
    "navigate_text": "#333333",
    "running_highlight": "#FF0000",
    "selected_highlight": "#FFD700",
    "sidebar_border": "#EEEEEE",
    "wrapper_background": "#FFFFFF"
   },
   "moveMenuLeft": true,
   "nav_menu": {
    "height": "30px",
    "width": "252px"
   },
   "navigate_menu": true,
   "number_sections": true,
   "sideBar": true,
   "skip_h1_title": false,
   "threshold": 4,
   "toc_cell": false,
   "toc_position": {},
   "toc_section_display": "block",
   "toc_window_display": false,
   "widenNotebook": false
  }
 },
 "nbformat": 4,
 "nbformat_minor": 2
}
