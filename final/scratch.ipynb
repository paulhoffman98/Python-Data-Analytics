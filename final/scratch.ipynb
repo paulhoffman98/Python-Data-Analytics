{
 "cells": [
  {
   "cell_type": "code",
   "execution_count": 526,
   "metadata": {},
   "outputs": [
    {
     "data": {
      "text/html": [
       "<div>\n",
       "<style scoped>\n",
       "    .dataframe tbody tr th:only-of-type {\n",
       "        vertical-align: middle;\n",
       "    }\n",
       "\n",
       "    .dataframe tbody tr th {\n",
       "        vertical-align: top;\n",
       "    }\n",
       "\n",
       "    .dataframe thead th {\n",
       "        text-align: right;\n",
       "    }\n",
       "</style>\n",
       "<table border=\"1\" class=\"dataframe\">\n",
       "  <thead>\n",
       "    <tr style=\"text-align: right;\">\n",
       "      <th></th>\n",
       "      <th>reservation_date</th>\n",
       "      <th>reservation_time</th>\n",
       "      <th>reservation_party_size</th>\n",
       "      <th>reservation_booked_date</th>\n",
       "      <th>datetime_booked</th>\n",
       "    </tr>\n",
       "  </thead>\n",
       "  <tbody>\n",
       "    <tr>\n",
       "      <th>0</th>\n",
       "      <td>9/9/17</td>\n",
       "      <td>21:15:00</td>\n",
       "      <td>2</td>\n",
       "      <td>8/15/17</td>\n",
       "      <td>8/15/17 17:04</td>\n",
       "    </tr>\n",
       "    <tr>\n",
       "      <th>1</th>\n",
       "      <td>9/12/17</td>\n",
       "      <td>20:45:00</td>\n",
       "      <td>2</td>\n",
       "      <td>8/16/17</td>\n",
       "      <td>8/16/17 15:54</td>\n",
       "    </tr>\n",
       "    <tr>\n",
       "      <th>2</th>\n",
       "      <td>9/14/17</td>\n",
       "      <td>20:30:00</td>\n",
       "      <td>2</td>\n",
       "      <td>8/15/17</td>\n",
       "      <td>8/15/17 16:39</td>\n",
       "    </tr>\n",
       "    <tr>\n",
       "      <th>3</th>\n",
       "      <td>9/16/17</td>\n",
       "      <td>18:00:00</td>\n",
       "      <td>2</td>\n",
       "      <td>8/15/17</td>\n",
       "      <td>8/15/17 16:43</td>\n",
       "    </tr>\n",
       "    <tr>\n",
       "      <th>4</th>\n",
       "      <td>9/5/17</td>\n",
       "      <td>20:30:00</td>\n",
       "      <td>2</td>\n",
       "      <td>8/15/17</td>\n",
       "      <td>8/15/17 16:57</td>\n",
       "    </tr>\n",
       "  </tbody>\n",
       "</table>\n",
       "</div>"
      ],
      "text/plain": [
       "  reservation_date reservation_time  reservation_party_size  \\\n",
       "0           9/9/17         21:15:00                       2   \n",
       "1          9/12/17         20:45:00                       2   \n",
       "2          9/14/17         20:30:00                       2   \n",
       "3          9/16/17         18:00:00                       2   \n",
       "4           9/5/17         20:30:00                       2   \n",
       "\n",
       "  reservation_booked_date datetime_booked  \n",
       "0                 8/15/17   8/15/17 17:04  \n",
       "1                 8/16/17   8/16/17 15:54  \n",
       "2                 8/15/17   8/15/17 16:39  \n",
       "3                 8/15/17   8/15/17 16:43  \n",
       "4                 8/15/17   8/15/17 16:57  "
      ]
     },
     "execution_count": 526,
     "metadata": {},
     "output_type": "execute_result"
    }
   ],
   "source": [
    "import pandas as pd\n",
    "df_res = pd.read_csv(\"data/Reservation_Data.csv\", na_values=[\"#N/A\"]).dropna()\n",
    "df_res.head()"
   ]
  },
  {
   "cell_type": "code",
   "execution_count": 551,
   "metadata": {},
   "outputs": [
    {
     "data": {
      "text/plain": [
       "(3359, 6)"
      ]
     },
     "execution_count": 551,
     "metadata": {},
     "output_type": "execute_result"
    }
   ],
   "source": [
    "import pandas as pd\n",
    "import datetime\n",
    "import numpy as np\n",
    "\n",
    "df_res = pd.read_csv(\"data/Reservation_Data.csv\", na_values=[\"#N/A\"]).dropna()\n",
    "    \n",
    "df_res['datetime_booked'] = pd.to_datetime(df_res['datetime_booked'])\n",
    "df_res['datetime_booked'] = df_res['datetime_booked'].dt.tz_localize('UTC').dt.tz_convert('US/Pacific')\n",
    "\n",
    "df_res['reservation_datetime'] = pd.to_datetime(df_res['reservation_date'] + ' ' + df_res['reservation_time'])\n",
    "df_res['reservation_datetime'] = df_res['reservation_datetime'].dt.tz_localize('US/Pacific')\n",
    "\n",
    "array = ['17:30:00', '17:45:00', '18:00:00', '18:15:00', '20:45:00', '21:00:00', '21:15:00', '21:30:00']\n",
    "df_res = df_res.loc[df_res['reservation_time'].isin(array)]\n",
    "df_res.shape\n"
   ]
  },
  {
   "cell_type": "code",
   "execution_count": 528,
   "metadata": {},
   "outputs": [
    {
     "data": {
      "text/plain": [
       "reservation_date                               object\n",
       "reservation_time                               object\n",
       "reservation_party_size                          int64\n",
       "reservation_booked_date                        object\n",
       "datetime_booked            datetime64[ns, US/Pacific]\n",
       "reservation_datetime       datetime64[ns, US/Pacific]\n",
       "dtype: object"
      ]
     },
     "execution_count": 528,
     "metadata": {},
     "output_type": "execute_result"
    }
   ],
   "source": [
    "df_res.dtypes"
   ]
  },
  {
   "cell_type": "code",
   "execution_count": 529,
   "metadata": {},
   "outputs": [
    {
     "data": {
      "text/plain": [
       "13.55969038404287"
      ]
     },
     "execution_count": 529,
     "metadata": {},
     "output_type": "execute_result"
    }
   ],
   "source": [
    "df_res.datetime_booked.dt.hour.mean()"
   ]
  },
  {
   "cell_type": "code",
   "execution_count": 530,
   "metadata": {},
   "outputs": [
    {
     "data": {
      "text/html": [
       "<div>\n",
       "<style scoped>\n",
       "    .dataframe tbody tr th:only-of-type {\n",
       "        vertical-align: middle;\n",
       "    }\n",
       "\n",
       "    .dataframe tbody tr th {\n",
       "        vertical-align: top;\n",
       "    }\n",
       "\n",
       "    .dataframe thead th {\n",
       "        text-align: right;\n",
       "    }\n",
       "</style>\n",
       "<table border=\"1\" class=\"dataframe\">\n",
       "  <thead>\n",
       "    <tr style=\"text-align: right;\">\n",
       "      <th></th>\n",
       "      <th>reservation_date</th>\n",
       "      <th>reservation_time</th>\n",
       "      <th>reservation_party_size</th>\n",
       "      <th>reservation_booked_date</th>\n",
       "      <th>datetime_booked</th>\n",
       "      <th>reservation_datetime</th>\n",
       "    </tr>\n",
       "  </thead>\n",
       "  <tbody>\n",
       "    <tr>\n",
       "      <th>0</th>\n",
       "      <td>9/9/17</td>\n",
       "      <td>21:15:00</td>\n",
       "      <td>2</td>\n",
       "      <td>8/15/17</td>\n",
       "      <td>2017-08-15 10:04:00-07:00</td>\n",
       "      <td>2017-09-09 21:15:00-07:00</td>\n",
       "    </tr>\n",
       "    <tr>\n",
       "      <th>1</th>\n",
       "      <td>9/12/17</td>\n",
       "      <td>20:45:00</td>\n",
       "      <td>2</td>\n",
       "      <td>8/16/17</td>\n",
       "      <td>2017-08-16 08:54:00-07:00</td>\n",
       "      <td>2017-09-12 20:45:00-07:00</td>\n",
       "    </tr>\n",
       "    <tr>\n",
       "      <th>3</th>\n",
       "      <td>9/16/17</td>\n",
       "      <td>18:00:00</td>\n",
       "      <td>2</td>\n",
       "      <td>8/15/17</td>\n",
       "      <td>2017-08-15 09:43:00-07:00</td>\n",
       "      <td>2017-09-16 18:00:00-07:00</td>\n",
       "    </tr>\n",
       "    <tr>\n",
       "      <th>5</th>\n",
       "      <td>9/9/17</td>\n",
       "      <td>20:45:00</td>\n",
       "      <td>2</td>\n",
       "      <td>8/15/17</td>\n",
       "      <td>2017-08-15 10:01:00-07:00</td>\n",
       "      <td>2017-09-09 20:45:00-07:00</td>\n",
       "    </tr>\n",
       "    <tr>\n",
       "      <th>7</th>\n",
       "      <td>9/5/17</td>\n",
       "      <td>20:45:00</td>\n",
       "      <td>4</td>\n",
       "      <td>8/15/17</td>\n",
       "      <td>2017-08-15 10:01:00-07:00</td>\n",
       "      <td>2017-09-05 20:45:00-07:00</td>\n",
       "    </tr>\n",
       "  </tbody>\n",
       "</table>\n",
       "</div>"
      ],
      "text/plain": [
       "  reservation_date reservation_time  reservation_party_size  \\\n",
       "0           9/9/17         21:15:00                       2   \n",
       "1          9/12/17         20:45:00                       2   \n",
       "3          9/16/17         18:00:00                       2   \n",
       "5           9/9/17         20:45:00                       2   \n",
       "7           9/5/17         20:45:00                       4   \n",
       "\n",
       "  reservation_booked_date           datetime_booked      reservation_datetime  \n",
       "0                 8/15/17 2017-08-15 10:04:00-07:00 2017-09-09 21:15:00-07:00  \n",
       "1                 8/16/17 2017-08-16 08:54:00-07:00 2017-09-12 20:45:00-07:00  \n",
       "3                 8/15/17 2017-08-15 09:43:00-07:00 2017-09-16 18:00:00-07:00  \n",
       "5                 8/15/17 2017-08-15 10:01:00-07:00 2017-09-09 20:45:00-07:00  \n",
       "7                 8/15/17 2017-08-15 10:01:00-07:00 2017-09-05 20:45:00-07:00  "
      ]
     },
     "execution_count": 530,
     "metadata": {},
     "output_type": "execute_result"
    }
   ],
   "source": [
    "df_res.head()"
   ]
  },
  {
   "cell_type": "code",
   "execution_count": 531,
   "metadata": {},
   "outputs": [
    {
     "data": {
      "text/plain": [
       "'Tuesday'"
      ]
     },
     "execution_count": 531,
     "metadata": {},
     "output_type": "execute_result"
    }
   ],
   "source": [
    "#Problem 2 Part 1\n",
    "\n",
    "\n",
    "df_res[\"reservation_date\"] = pd.to_datetime(df_res['reservation_date'])\n",
    "df_res[\"day_of_week\"] = df_res[\"reservation_date\"].dt.day_name()\n",
    "df_res[\"reservation_time\"] =  pd.to_timedelta(df_res['reservation_time'], unit='s')\n",
    "res_time = datetime.time(hour = 21, minute=0)\n",
    "res_time = res_time.strftime(\"%H:%M:%S\")\n",
    "low = df_res.loc[df_res['reservation_time'] == res_time].groupby(\"day_of_week\").mean().idxmin()\n",
    "low[0]"
   ]
  },
  {
   "cell_type": "code",
   "execution_count": 532,
   "metadata": {},
   "outputs": [
    {
     "data": {
      "text/plain": [
       "(0.2718808193668529, 0.18545994065281898)"
      ]
     },
     "execution_count": 532,
     "metadata": {},
     "output_type": "execute_result"
    }
   ],
   "source": [
    "#Problem 2 Part 2\n",
    "\n",
    "num_days = 7\n",
    "\n",
    "df_res[\"party\"] = df_res[\"reservation_party_size\"].apply(lambda x: '0' if x in [1,2] else '1') \n",
    "num_days = datetime.timedelta(days=num_days)\n",
    "new_res = df_res[df_res[\"reservation_datetime\"] - df_res[\"datetime_booked\"] <= num_days] #df with at most days given\n",
    "\n",
    "df_p12 = new_res.apply(lambda x : True if x['reservation_party_size'] <= 2 else False, axis = 1) \n",
    "p12 = df_res.apply(lambda x : True if x['reservation_party_size'] <= 2 else False, axis = 1)\n",
    "\n",
    "denom12 = len(p12[p12 == True].index) #all 1 or 2 party sizes\n",
    "one_or_two = len(df_p12[df_p12 == True].index) #series of true if 1 or 2 party size\n",
    "\n",
    "party_one_two = one_or_two/denom12 #fraction of 1 or 2 party size\n",
    "\n",
    "p34 = df_res.apply(lambda x : True if x['reservation_party_size'] >= 3 else False, axis = 1)\n",
    "df_p34 = new_res.apply(lambda x : True if x['reservation_party_size'] >= 3 else False, axis = 1)\n",
    "\n",
    "three_or_four = len(df_p34[df_p34 == True].index)\n",
    "denom34 = len(p34[p34 == True].index)\n",
    "\n",
    "party_three_four = three_or_four/denom34\n",
    "party_one_two, party_three_four\n"
   ]
  },
  {
   "cell_type": "code",
   "execution_count": null,
   "metadata": {},
   "outputs": [],
   "source": []
  },
  {
   "cell_type": "code",
   "execution_count": 533,
   "metadata": {},
   "outputs": [
    {
     "data": {
      "text/plain": [
       "type\n",
       "1    2685\n",
       "2     674\n",
       "Name: reservation_date, dtype: int64"
      ]
     },
     "execution_count": 533,
     "metadata": {},
     "output_type": "execute_result"
    }
   ],
   "source": [
    "num_days = 100\n",
    "num_days = datetime.timedelta(days=num_days)\n",
    "df_res['type'] = df_res.reservation_party_size.apply(lambda x:  '1' if x in [1,2] else '2')\n",
    "\n",
    "total_1, total_2 = df_res.groupby('type').count().reservation_date\n",
    "df_res.groupby('type').count().reservation_date\n",
    "# df_filtered = df_res[df_res.reservation_datetime - df_res.datetime_booked <= num_days]\n",
    "# num_1, num_2 = df_filtered.groupby('type').count().reservation_date\n",
    "# df_filtered.groupby('type').count().reservation_date\n",
    "# party_one_two = num_1/total_1\n",
    "# party_three_four = num_2/total_2\n",
    "\n",
    "# party_one_two, party_three_four\n",
    "# df_filtered.shape[0]"
   ]
  },
  {
   "cell_type": "code",
   "execution_count": 581,
   "metadata": {},
   "outputs": [
    {
     "name": "stdout",
     "output_type": "stream",
     "text": [
      "AVG =  3.9035087719298245\n"
     ]
    }
   ],
   "source": [
    "df_res = pd.read_csv(\"data/Reservation_Data.csv\", na_values=[\"#N/A\"]).dropna()\n",
    "    \n",
    "df_res['datetime_booked'] = pd.to_datetime(df_res['datetime_booked'])\n",
    "df_res['datetime_booked'] = df_res['datetime_booked'].dt.tz_localize('UTC').dt.tz_convert('US/Pacific')\n",
    "\n",
    "df_res['reservation_datetime'] = pd.to_datetime(df_res['reservation_date'] + ' ' + df_res['reservation_time'])\n",
    "df_res['reservation_datetime'] = df_res['reservation_datetime'].dt.tz_localize('US/Pacific')\n",
    "\n",
    "array = ['17:30:00', '17:45:00', '18:00:00', '18:15:00', '20:45:00', '21:00:00', '21:15:00', '21:30:00']\n",
    "df_res = df_res.loc[df_res['reservation_time'].isin(array)]\n",
    "\n",
    "\n",
    "\n",
    "res_time = datetime.time(hour = 21, minute=30)\n",
    "period1 = ['17:30:00', '17:45:00', '18:00:00', '18:15:00']\n",
    "period2 = ['20:45:00', '21:00:00', '21:15:00', '21:30:00']\n",
    "\n",
    "res_time = res_time.strftime(\"%H:%M:%S\")\n",
    "for i in period1:\n",
    "    if res_time in period1:\n",
    "        df_res = df_res.loc[df_res['reservation_time'].isin(period1)]\n",
    "        \n",
    "for j in period2:\n",
    "    if res_time in period2:\n",
    "        df_res = df_res.loc[df_res['reservation_time'].isin(period2)]\n",
    "        \n",
    "# df_res\n",
    "# k = df_res.loc[df_res['reservation_time'] == res_time].sort_values(by=[\"datetime_booked\"])\n",
    "groups = df_res.sort_values(by=[\"datetime_booked\"]).groupby('reservation_date')\n",
    "count = 0\n",
    "total_rank = 0\n",
    "for name, group in groups:\n",
    "    group = group.reset_index()\n",
    "    k = group.loc[group['reservation_time'] == res_time].sort_values(by=[\"datetime_booked\"]).head(1)\n",
    "#     print(group)\n",
    "    if not k.empty: \n",
    "        rank = group.loc[group['reservation_time'] == res_time]\\\n",
    "                .sort_values(by=[\"datetime_booked\"]).head(1).index.values.astype(int)[0]\n",
    "        count = count + 1\n",
    "        total_rank = total_rank + rank +1\n",
    "        \n",
    "print(\"AVG = \", total_rank/count)"
   ]
  },
  {
   "cell_type": "code",
   "execution_count": null,
   "metadata": {},
   "outputs": [],
   "source": []
  }
 ],
 "metadata": {
  "kernelspec": {
   "display_name": "Python 3",
   "language": "python",
   "name": "python3"
  },
  "language_info": {
   "codemirror_mode": {
    "name": "ipython",
    "version": 3
   },
   "file_extension": ".py",
   "mimetype": "text/x-python",
   "name": "python",
   "nbconvert_exporter": "python",
   "pygments_lexer": "ipython3",
   "version": "3.8.3"
  }
 },
 "nbformat": 4,
 "nbformat_minor": 4
}
