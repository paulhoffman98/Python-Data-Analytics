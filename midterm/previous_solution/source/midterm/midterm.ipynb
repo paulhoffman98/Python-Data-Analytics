{
 "cells": [
  {
   "cell_type": "markdown",
   "metadata": {
    "nbgrader": {
     "grade": false,
     "grade_id": "cell-42e0aea8cfd7c364",
     "locked": true,
     "schema_version": 3,
     "solution": false
    }
   },
   "source": [
    "# Midterm: Recommder System for Movies\n",
    "\n",
    "### (Note: This midterm assignment will have hidden test cases)\n",
    "\n",
    "In this project, you will implement a recommender system for your classmates, professor and TAs based on the movie survey we have conducted. The movie preference file is at **./data/movie_preference.csv**\n",
    "\n",
    "## Recommender System\n",
    "\n",
    "The objective of a Recommender System is to recommend relevant items for users, based on their preference. Recommender system is prevalent in the digital space. For example, when you go shopping on Amazon, you will notice that Amazon is recommending products on the front page before you even type anything in the search box. Similarly, when you go on YouTube, the top bar of Youtube is typically \"videos recommended to you.\" All these features are based on recommmender system. \n",
    "\n",
    "What item to recommend to which user is arguably the most important business decision in many digital platforms. For instance, YouTube cannot control which videos that users upload to it. It cannot control which videos users like to watch. Moreoveor, since watching videos is free, YouTube cannot change the price of its items. It does not have inventory either since each video can be viewed as many times as possible. In this case, what could YouTube control? Or in other words, what differentiates a good video streaming service from a bad one? The answer is recommender system. \n",
    "\n",
    "## Types of Recommender Systems\n",
    "\n",
    "There are **three** types of recommender system. **In this bonus project, we will implement the first one.**\n",
    "\n",
    "### Popularity-based Recommendation \n",
    "\n",
    "The most obvious system is popularity-based recommendation. In this case, this model recommends to a user the most popular items that the user has not previously consumed. In the movie setting, we will recommend the movie that most users have liked and consumed. In other words, this system utilizes the \"widom of the crowds.\" It usually provides good recommendations for most of the people. Since it is easy to implement, people normally use popularity-based recommendation as a baseline. *Note: this system is not personalized. If both consumers did not watch Movie A and Movie A is the most popular one, both of them will be recommended Movie A.*\n",
    "\n",
    "### Content-based Recommendation \n",
    "\n",
    "This recommender system leverages the data of one customer's historical actions. This recommender systems first utilizes a set of features to describe an item (for example, for movies, we can use the movie's director, main actor, main actress, genre, etc. to describe the movie). When a user comes in, the system will recommend the movies that are closest to the movie that the users have consumed and liked before in terms of the features. For instance, if a user likes action move from Nolan the most, this system will recommend another action movie from Nolan that this user has not consumed. *Note: we will not implement this system in this bonus project since it requires knowledge about supervised learning. We will come back to this topic at the end of this semester.*\n",
    "\n",
    "### Collaborative Filtering Recommendation\n",
    "\n",
    "The last type of recommender system is called collaborative filtering. This approach uses the memory of previous users interactions to compute users similarities based on items they've interacted (user-based approach) or compute items similarities based on the users that have interacted with them (item-based approach).\n",
    "\n",
    "A typical example of this approach is User Neighbourhood-based CF, in which the top-N similar users (usually computed using Pearson correlation) for a user are selected and used to recommend items those similar users liked, but the current user have not interacted yet. "
   ]
  },
  {
   "cell_type": "markdown",
   "metadata": {
    "nbgrader": {
     "grade": false,
     "grade_id": "cell-4108a0d7ed105cda",
     "locked": true,
     "schema_version": 3,
     "solution": false
    }
   },
   "source": [
    "## 0 Read-in the preference file\n",
    "\n",
    "The first exercise is to read in the movie preference csv file. \n",
    "\n",
    "It returns two things:\n",
    "\n",
    "1. A dictionary where the key is username and the value is a vector of (-1, 0, 1) that indicates the users preference across movies (in the order of the csv file). \n",
    "\n",
    "2. A list of strings that contains movie names. (The order of movie names should be the same as the order in the original csv file)\n",
    "\n",
    "**Note:** Your result should exactly match the results from the assert statements. This means you should pay attention to extra space, newline, etc.\n"
   ]
  },
  {
   "cell_type": "code",
   "execution_count": 2,
   "metadata": {
    "nbgrader": {
     "grade": false,
     "grade_id": "cell-b3679d3e7a94fc65",
     "locked": false,
     "schema_version": 3,
     "solution": true,
     "task": false
    }
   },
   "outputs": [],
   "source": [
    "def read_in_movie_preference(file_name):\n",
    "    \"\"\"Read the move data, and return a \n",
    "    preference dictionary.\"\"\"\n",
    "    preference = {}\n",
    "    movies = []\n",
    "    \n",
    "    ### BEGIN SOLUTION\n",
    "    f = open(\"./data/movie_preference.csv\")\n",
    "    lines = f.readlines()\n",
    "    movies = [name.strip() for name in lines[0].strip(\"\\n\").split(\",\")[1:]]\n",
    "    \n",
    "    for line in lines[1:]:\n",
    "        parsed_line = line.strip(\"\\n\").split(\",\")\n",
    "        name = parsed_line[0].strip(\"\\n\")\n",
    "        data_str = parsed_line[1:]\n",
    "        preference[name] = [int(num) for num in data_str]\n",
    "    ### END SOLUTION\n",
    "    \n",
    "    return [movies, preference]\n"
   ]
  },
  {
   "cell_type": "code",
   "execution_count": 3,
   "metadata": {
    "nbgrader": {
     "grade": true,
     "grade_id": "cell-1903eef74af9c346",
     "locked": true,
     "points": 5,
     "schema_version": 3,
     "solution": false,
     "task": false
    }
   },
   "outputs": [],
   "source": [
    "[movies, preference] = read_in_movie_preference(\"data/movie_preference.csv\")\n",
    "assert len(movies) == 20\n",
    "assert len(preference) == 184"
   ]
  },
  {
   "cell_type": "code",
   "execution_count": 4,
   "metadata": {
    "nbgrader": {
     "grade": true,
     "grade_id": "cell-5630d404a280c24d",
     "locked": true,
     "points": 5,
     "schema_version": 3,
     "solution": false,
     "task": false
    }
   },
   "outputs": [],
   "source": [
    "[movies, preference] = read_in_movie_preference(\"data/movie_preference.csv\")\n",
    "assert movies == ['The Shawshank Redemption', 'The Godfather',\n",
    "                       'The Dark Knight', 'Star Wars: The Force Awakens',\n",
    "                       'The Lord of the Rings: The Return of the King',\n",
    "                       'Inception', 'The Matrix', 'Avengers: Infinity War',\n",
    "                       'Interstellar', 'Spirited Away', 'Coco', 'The Dark Knight Rises',\n",
    "                       'Braveheart', 'The Wolf of Wall Street', 'Gone Girl', 'La La Land',\n",
    "                       'Shutter Island', 'Ex Machina', 'The Martian', 'Kingsman: The Secret Service']"
   ]
  },
  {
   "cell_type": "code",
   "execution_count": 5,
   "metadata": {
    "nbgrader": {
     "grade": true,
     "grade_id": "cell-b0515b35a5476ae0",
     "locked": true,
     "points": 15,
     "schema_version": 3,
     "solution": false,
     "task": false
    }
   },
   "outputs": [],
   "source": [
    "[movies, preference] = read_in_movie_preference(\"data/movie_preference.csv\")\n",
    "assert preference[\"DJZ\"] == [0, 1, 1, 0, 1, 1, 1, -1, 1, 1, 0, -1, -1, -1, 1, -1, 1, -1, 1, -1]\n",
    "### BEGIN HIDDEN TESTS\n",
    "assert preference[\"Jiashan Li\"] == [0, 0, 1, 0, 0, 0, 0, 0, 1, 0, 1, 1, 0, 0, 0, 1, 0, 0, 1, 1]\n",
    "assert preference[\"Jerry\"] == [1, 0, 0, -1, -1, 1, 1, 1, -1, 0, 1, 0, 0, 1, 0, 1, 0, 0, 0, 1]\n",
    "### END HIDDEN TESTS"
   ]
  },
  {
   "cell_type": "markdown",
   "metadata": {
    "nbgrader": {
     "grade": false,
     "grade_id": "cell-9cc0fd2029104195",
     "locked": true,
     "schema_version": 3,
     "solution": false
    }
   },
   "source": [
    "## 1.1 Compute the ranking of most popular movies\n",
    "\n",
    "Your next task is to take the movie preference dataframe and computes the popular ranking of movies from the most popular to the least popular. You should return a list where each element represents the popularity ranking of the movies. The order of the list should reflect the order of the movie names in the dataframe. \n",
    "\n",
    "In the process to compute a movie's popularity, you should treat a user's like of the moive as 1, the user's dislike of the movie as -1, and ignores if a user has not watched the movie. In other words, **the most popular movie is the movie with the highest Num_of_likes - Num_of_Dislikes.**\n",
    "\n",
    "Your function should return:\n",
    "    1. A list where element at position x represents the rank of the movie at position x. For example, if 'The Shawshank Redemption' is the second most popular movie, the first element in the returned list should be 2."
   ]
  },
  {
   "cell_type": "code",
   "execution_count": 7,
   "metadata": {
    "nbgrader": {
     "grade": false,
     "grade_id": "cell-330ba96678776e4a",
     "locked": false,
     "schema_version": 3,
     "solution": true
    }
   },
   "outputs": [],
   "source": [
    "def movies_popularity_ranking(preference, movie_names):\n",
    "    movie_popularity_rank = []\n",
    "    \n",
    "    ### BEGIN SOLUTION\n",
    "    movie_popularity = [[sum([preference[key][i] for key in preference.keys()]), i] for i in range(len(movie_names))]\n",
    "    movie_popularity = sorted(movie_popularity, reverse=True)\n",
    "    movie_popularity\n",
    "    movie_popularity = [[movie_popularity[i][1], i+1] for i in range(len(movie_popularity))]\n",
    "    movie_popularity = sorted(movie_popularity)\n",
    "    movie_popularity_rank = [s[1] for s in movie_popularity]\n",
    "    ### END SOLUTION\n",
    "    \n",
    "    return movie_popularity_rank"
   ]
  },
  {
   "cell_type": "code",
   "execution_count": 8,
   "metadata": {
    "nbgrader": {
     "grade": true,
     "grade_id": "cell-3f47ab3b02050bd4",
     "locked": true,
     "points": 15,
     "schema_version": 3,
     "solution": false,
     "task": false
    }
   },
   "outputs": [
    {
     "name": "stdout",
     "output_type": "stream",
     "text": [
      "[[112, 5], [99, 0], [98, 10], [96, 19], [94, 8], [77, 15], [68, 2], [67, 7], [63, 1], [62, 4], [61, 9], [60, 13], [55, 6], [45, 14], [44, 11], [35, 18], [31, 16], [26, 12], [16, 3], [-1, 17]]\n"
     ]
    }
   ],
   "source": [
    "[movies, preference] = read_in_movie_preference(\"data/movie_preference.csv\")\n",
    "movie_popularity_rank = movies_popularity_ranking(preference, movies)\n",
    "assert movie_popularity_rank == [2, 9, 7, 19, 10, 1, 13, 8, 5, 11, 3, 15, 18, 12, 14, 6, 17, 20, 16, 4]"
   ]
  },
  {
   "cell_type": "markdown",
   "metadata": {
    "nbgrader": {
     "grade": false,
     "grade_id": "cell-4e5bda9e37c1f991",
     "locked": true,
     "schema_version": 3,
     "solution": false
    }
   },
   "source": [
    "## 1.2 Recommendation\n",
    "\n",
    "You will then implement a recommendation function. This function will take in a user's name, it will return a string representing the name of the top movie that this user has not watched and has best popularity ranking (i.e., lowest ranking number). If the user name does not exit, this function should return an empty string. If the user has watched all movies, this function should return an empty string."
   ]
  },
  {
   "cell_type": "code",
   "execution_count": 15,
   "metadata": {
    "nbgrader": {
     "grade": false,
     "grade_id": "cell-3cf2c39ef6f2c170",
     "locked": false,
     "schema_version": 3,
     "solution": true
    }
   },
   "outputs": [],
   "source": [
    "def Recommendation(movie_popularity_ranking, preference, movie_names, name):\n",
    "    recommended_movie = \"\"\n",
    "    \n",
    "    ### BEGIN SOLUTION\n",
    "    if name not in preference.keys():\n",
    "        recommended_movie = \"\"\n",
    "    else:\n",
    "        user_preference = preference[name]\n",
    "        unwatched_movie_index = [i for i in range(len(user_preference)) if user_preference[i] == 0]\n",
    "        if len(unwatched_movie_index) == 0:\n",
    "            recommended_movie = \"\"\n",
    "        else:\n",
    "            top_movie_index = unwatched_movie_index[0]\n",
    "            top_movie_ranking = movie_popularity_rank[unwatched_movie_index[0]]\n",
    "            for index in unwatched_movie_index:\n",
    "                if movie_popularity_rank[index] < top_movie_ranking:\n",
    "                    top_movie_index = index\n",
    "                    top_movie_ranking = movie_popularity_rank[index]\n",
    "            recommended_movie = movie_names[top_movie_index]\n",
    "    ### END SOLUTION\n",
    "    \n",
    "    return recommended_movie\n"
   ]
  },
  {
   "cell_type": "code",
   "execution_count": 16,
   "metadata": {
    "nbgrader": {
     "grade": true,
     "grade_id": "cell-6425dc4f6facbbba",
     "locked": true,
     "points": 15,
     "schema_version": 3,
     "solution": false
    }
   },
   "outputs": [
    {
     "name": "stdout",
     "output_type": "stream",
     "text": [
      "[[112, 5], [99, 0], [98, 10], [96, 19], [94, 8], [77, 15], [68, 2], [67, 7], [63, 1], [62, 4], [61, 9], [60, 13], [55, 6], [45, 14], [44, 11], [35, 18], [31, 16], [26, 12], [16, 3], [-1, 17]]\n"
     ]
    }
   ],
   "source": [
    "[movies, preference] = read_in_movie_preference(\"data/movie_preference.csv\")\n",
    "movie_popularity_rank = movies_popularity_ranking(preference, movies)\n",
    "assert Recommendation(movie_popularity_rank, preference, movies, \"DJZ\") == 'The Shawshank Redemption'\n",
    "assert Recommendation(movie_popularity_rank, preference, movies, \"Jiashan Li\") == 'Inception'\n",
    "\n",
    "### BEGIN HIDDEN TESTS\n",
    "assert Recommendation(movie_popularity_rank, preference, movies, \"Jerry\") == 'The Dark Knight'\n",
    "assert Recommendation(movie_popularity_rank, preference, movies, \"SuperMan222\") == ''\n",
    "### END HIDDEN TESTS"
   ]
  },
  {
   "cell_type": "markdown",
   "metadata": {
    "nbgrader": {
     "grade": false,
     "grade_id": "cell-2192dbe1a783c087",
     "locked": true,
     "schema_version": 3,
     "solution": false,
     "task": false
    }
   },
   "source": [
    "## 2.1 Jaccard Similarity\n",
    "Let us then use collaborative filtering to find the recommendation.\n",
    "\n",
    "First, we need to get the jacard similarity beween movies and users. Again, we can use the preference file that we get in Step 0. In that case, each person is represented by a vector of (0, 1, -1). Jaccard similarity in our case is the ratio of the number of times that two people like or dislike the same movie divided by the number of uniques movies that these two people have watched collectively. \n",
    "\n",
    "For example, the following two vectors represent Dennis' and Jake's preference over 3 movies.\n",
    "\n",
    "         Inception  Coco     The Dark Knight\n",
    "    Jake     1         -1        0\n",
    "\n",
    "    Dennis   -1         0        1\n",
    "\n",
    "In this case, Dennis and Jake watched all 3 unique movies in total, but they disagree on both movies. Therefore, their jaccard similarity is (0) / (1 + 1 + 1) = 0.\n",
    "\n",
    "**Your task** is to write a similarity function that takes in two names and returns the jaccard similarity between these two people. If one or two names do not exist in the database, return 0. \n",
    "\n"
   ]
  },
  {
   "cell_type": "code",
   "execution_count": 142,
   "metadata": {
    "nbgrader": {
     "grade": false,
     "grade_id": "cell-f32c4bc84d3b8cb5",
     "locked": false,
     "schema_version": 3,
     "solution": true,
     "task": false
    }
   },
   "outputs": [],
   "source": [
    "def Similarity(name_1, name_2, preference):\n",
    "    \"\"\"Given two names and preference, get the similarity \n",
    "    between two people\"\"\"\n",
    "    jaccard = 0\n",
    "    \n",
    "    ### BEGIN SOLUTION\n",
    "    if name_1 not in preference or name_2 not in preference:\n",
    "        return jaccard\n",
    "    \n",
    "    scores_1 = preference[name_1]\n",
    "    scores_2 = preference[name_2]\n",
    "    denom = 0\n",
    "    numerator = 0\n",
    "    for i in range(len(scores_1)):\n",
    "        score_1 = scores_1[i]\n",
    "        score_2 = scores_2[i]\n",
    "        numerator+=int(score_1 == score_2) * int(max(abs(score_1), abs(score_2))>0)\n",
    "        denom +=int(max(abs(score_1), abs(score_2))>0)\n",
    "    jaccard = numerator/denom\n",
    "    ### END SOLUTION\n",
    "    \n",
    "    return jaccard"
   ]
  },
  {
   "cell_type": "code",
   "execution_count": 143,
   "metadata": {
    "nbgrader": {
     "grade": true,
     "grade_id": "cell-7a65b16620e5bb27",
     "locked": true,
     "points": 15,
     "schema_version": 3,
     "solution": false,
     "task": false
    }
   },
   "outputs": [],
   "source": [
    "[movies, preference] = read_in_movie_preference(\"data/movie_preference.csv\")\n",
    "assert round(Similarity(\"DJZ\", \"zoe\", preference), 2) == 0.35\n",
    "### BEGIN HIDDEN TESTS\n",
    "assert round(Similarity(\"DJZ\", \"Kim\", preference), 2) == 0.55\n",
    "assert round(Similarity(\"zoe\", \"Kim\", preference), 2) == 0.26\n",
    "assert round(Similarity(\"zoe\", \"DJZ\", preference), 2) == 0.35\n",
    "assert round(Similarity(\"SuperMan32231\", \"DJZ\", preference), 2) == 0\n",
    "### END HIDDEN TESTS"
   ]
  },
  {
   "cell_type": "markdown",
   "metadata": {
    "nbgrader": {
     "grade": false,
     "grade_id": "cell-4ea71dabdbccbba1",
     "locked": true,
     "schema_version": 3,
     "solution": false,
     "task": false
    }
   },
   "source": [
    "## 2.2 Movie Soulmate\n",
    "\n",
    "Your next task is to find the movie soulmate for a person. In order to find a person's movie soulmate, you will compute the jaccard similarity between this person and every other person in the data set. You will then return the person who has the highest jaccard similarity with the focal person. If two people have the same jaccard similarity with the focal person, you can tie break them by the first letter of their name (from a to Z), if there is tie on the first letter, then you can go to second letter, etc. If the focal person does not exist in the database, return an empty string. \n"
   ]
  },
  {
   "cell_type": "code",
   "execution_count": 146,
   "metadata": {
    "nbgrader": {
     "grade": false,
     "grade_id": "cell-c53815c71ec1252d",
     "locked": false,
     "schema_version": 3,
     "solution": true,
     "task": false
    }
   },
   "outputs": [],
   "source": [
    "def Movie_Soul_Mate(name_1, preference):\n",
    "    \"\"\"Given a name, get the player that has highest Jaccard \n",
    "    similarity with this person.\"\"\"\n",
    "    soulmate = \"\"\n",
    "    \n",
    "    ### BEGIN SOLUTION\n",
    "    if name_1 not in preference:\n",
    "        return soulmate\n",
    "    \n",
    "    all_people = preference.keys()\n",
    "    best_jaccard = -1\n",
    "    for person in all_people:\n",
    "        if person!=name_1:\n",
    "            current_jaccard = Similarity(name_1,person,preference)\n",
    "            if current_jaccard>=best_jaccard:\n",
    "                best_jaccard = current_jaccard\n",
    "                soulmate = person\n",
    "    ### END SOLUTION\n",
    "\n",
    "    return soulmate\n"
   ]
  },
  {
   "cell_type": "code",
   "execution_count": 150,
   "metadata": {
    "nbgrader": {
     "grade": true,
     "grade_id": "cell-3ab108cd23187272",
     "locked": true,
     "points": 15,
     "schema_version": 3,
     "solution": false,
     "task": false
    }
   },
   "outputs": [],
   "source": [
    "[movies, preference] = read_in_movie_preference(\"data/movie_preference.csv\")\n",
    "assert Movie_Soul_Mate(\"DJZ\", preference) == \"Yenan\"\n",
    "assert Movie_Soul_Mate(\"Yenan\", preference) == \"Abby\"\n",
    "### BEGIN HIDDEN TESTS\n",
    "assert Movie_Soul_Mate(\"Abby\", preference) == \"Yenan\"\n",
    "assert Movie_Soul_Mate(\"dsfdsdfafdafddsaf\", preference) == \"\"\n",
    "### END HIDDEN TESTS"
   ]
  },
  {
   "cell_type": "markdown",
   "metadata": {
    "nbgrader": {
     "grade": false,
     "grade_id": "cell-24a7ad265095a452",
     "locked": true,
     "schema_version": 3,
     "solution": false,
     "task": false
    }
   },
   "source": [
    "## 2.3 Collaborative Filtering Recommendation\n",
    "\n",
    "Now after finding a person's movie soulmate, we can then construct a (very preliminary) collaborative filtering recommendation. In our recommendation system, for a focal person, we first find his or her soul mate. We then find all the movies that he/she has not watched but the soul mate has watched and liked. Among all of these movies, we recommend the movie with the highest popularity ranks defined in Step 1.1 and 1.2.\n",
    "\n",
    "If the person does not exist, return an empty string. If there is no movies watched and liked by the soulmate but not watched by the focal person, then returns the movie with highest ranks that the person has not watched. If the person has watched all the movies, return an empty string. "
   ]
  },
  {
   "cell_type": "code",
   "execution_count": 165,
   "metadata": {
    "nbgrader": {
     "grade": false,
     "grade_id": "cell-48fc508fee5f75a5",
     "locked": false,
     "schema_version": 3,
     "solution": true,
     "task": false
    }
   },
   "outputs": [],
   "source": [
    "def Recommendation2(movie_popularity_ranking, preference, movie_names, name):\n",
    "    recommended_movie = \"\"\n",
    "    \n",
    "    ### BEGIN SOLUTION\n",
    "    if name not in preference.keys():\n",
    "        return recommended_movie\n",
    "    soulmate = Movie_Soul_Mate(name, preference)\n",
    "    user_preference = preference[name]\n",
    "    soulmate_preference = preference[soulmate]\n",
    "    candidates = [i for i in range(len(user_preference)) if user_preference[i] == 0 and soulmate_preference[i] == 1]\n",
    "    if len(candidates) == 0:\n",
    "        return Recommendation(movie_popularity_ranking, preference, movie_names, name)\n",
    "    else:\n",
    "        unwatched_movie_index = candidates\n",
    "        top_movie_index = unwatched_movie_index[0]\n",
    "        top_movie_ranking = movie_popularity_rank[unwatched_movie_index[0]]\n",
    "        for index in unwatched_movie_index:\n",
    "            if movie_popularity_rank[index] < top_movie_ranking:\n",
    "                top_movie_index = index\n",
    "                top_movie_ranking = movie_popularity_rank[index]\n",
    "        recommended_movie = movie_names[top_movie_index]\n",
    "    ### END SOLUTION\n",
    "    \n",
    "    return recommended_movie\n"
   ]
  },
  {
   "cell_type": "code",
   "execution_count": 166,
   "metadata": {
    "nbgrader": {
     "grade": true,
     "grade_id": "cell-a6b00d5b9f733e08",
     "locked": true,
     "points": 15,
     "schema_version": 3,
     "solution": false,
     "task": false
    }
   },
   "outputs": [],
   "source": [
    "assert Recommendation2(movie_popularity_rank, preference, movies, \"DJZ\") == 'The Shawshank Redemption'\n",
    "assert Recommendation2(movie_popularity_rank, preference, movies, \"Jiashan Li\") == 'Avengers: Infinity War'\n",
    "### BEGIN HIDDEN TESTS\n",
    "assert Recommendation2(movie_popularity_rank, preference, movies, \"Jerry\") == 'Spirited Away'\n",
    "assert Recommendation2(movie_popularity_rank, preference, movies, \"SuperMan222\") == ''\n",
    "### END HIDDEN TESTS"
   ]
  }
 ],
 "metadata": {
  "celltoolbar": "Create Assignment",
  "kernelspec": {
   "display_name": "Python 3",
   "language": "python",
   "name": "python3"
  },
  "language_info": {
   "codemirror_mode": {
    "name": "ipython",
    "version": 3
   },
   "file_extension": ".py",
   "mimetype": "text/x-python",
   "name": "python",
   "nbconvert_exporter": "python",
   "pygments_lexer": "ipython3",
   "version": "3.8.3"
  }
 },
 "nbformat": 4,
 "nbformat_minor": 2
}
