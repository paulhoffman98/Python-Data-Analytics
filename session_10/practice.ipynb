{
 "cells": [
  {
   "cell_type": "markdown",
   "metadata": {},
   "source": [
    "# Advanced Pandas -- Part 1\n",
    "\n",
    "In this set of practice exercises, we will be working with a demographic data regarding the passengers aboard the Titanic.  Read in the data frame and use the head() method to check that it was read in correctly."
   ]
  },
  {
   "cell_type": "code",
   "execution_count": 17,
   "metadata": {},
   "outputs": [
    {
     "data": {
      "text/html": [
       "<div>\n",
       "<style scoped>\n",
       "    .dataframe tbody tr th:only-of-type {\n",
       "        vertical-align: middle;\n",
       "    }\n",
       "\n",
       "    .dataframe tbody tr th {\n",
       "        vertical-align: top;\n",
       "    }\n",
       "\n",
       "    .dataframe thead th {\n",
       "        text-align: right;\n",
       "    }\n",
       "</style>\n",
       "<table border=\"1\" class=\"dataframe\">\n",
       "  <thead>\n",
       "    <tr style=\"text-align: right;\">\n",
       "      <th></th>\n",
       "      <th>PassengerId</th>\n",
       "      <th>Pclass</th>\n",
       "      <th>Name</th>\n",
       "      <th>Sex</th>\n",
       "      <th>Age</th>\n",
       "      <th>SibSp</th>\n",
       "      <th>Parch</th>\n",
       "      <th>Ticket</th>\n",
       "      <th>Fare</th>\n",
       "      <th>Cabin</th>\n",
       "      <th>Embarked</th>\n",
       "    </tr>\n",
       "  </thead>\n",
       "  <tbody>\n",
       "    <tr>\n",
       "      <th>0</th>\n",
       "      <td>892</td>\n",
       "      <td>3</td>\n",
       "      <td>Kelly, Mr. James</td>\n",
       "      <td>male</td>\n",
       "      <td>34.5</td>\n",
       "      <td>0</td>\n",
       "      <td>0</td>\n",
       "      <td>330911</td>\n",
       "      <td>7.8292</td>\n",
       "      <td>NaN</td>\n",
       "      <td>Q</td>\n",
       "    </tr>\n",
       "    <tr>\n",
       "      <th>1</th>\n",
       "      <td>893</td>\n",
       "      <td>3</td>\n",
       "      <td>Wilkes, Mrs. James (Ellen Needs)</td>\n",
       "      <td>female</td>\n",
       "      <td>47.0</td>\n",
       "      <td>1</td>\n",
       "      <td>0</td>\n",
       "      <td>363272</td>\n",
       "      <td>7.0000</td>\n",
       "      <td>NaN</td>\n",
       "      <td>S</td>\n",
       "    </tr>\n",
       "    <tr>\n",
       "      <th>2</th>\n",
       "      <td>894</td>\n",
       "      <td>2</td>\n",
       "      <td>Myles, Mr. Thomas Francis</td>\n",
       "      <td>male</td>\n",
       "      <td>62.0</td>\n",
       "      <td>0</td>\n",
       "      <td>0</td>\n",
       "      <td>240276</td>\n",
       "      <td>9.6875</td>\n",
       "      <td>NaN</td>\n",
       "      <td>Q</td>\n",
       "    </tr>\n",
       "    <tr>\n",
       "      <th>3</th>\n",
       "      <td>895</td>\n",
       "      <td>3</td>\n",
       "      <td>Wirz, Mr. Albert</td>\n",
       "      <td>male</td>\n",
       "      <td>27.0</td>\n",
       "      <td>0</td>\n",
       "      <td>0</td>\n",
       "      <td>315154</td>\n",
       "      <td>8.6625</td>\n",
       "      <td>NaN</td>\n",
       "      <td>S</td>\n",
       "    </tr>\n",
       "    <tr>\n",
       "      <th>4</th>\n",
       "      <td>896</td>\n",
       "      <td>3</td>\n",
       "      <td>Hirvonen, Mrs. Alexander (Helga E Lindqvist)</td>\n",
       "      <td>female</td>\n",
       "      <td>22.0</td>\n",
       "      <td>1</td>\n",
       "      <td>1</td>\n",
       "      <td>3101298</td>\n",
       "      <td>12.2875</td>\n",
       "      <td>NaN</td>\n",
       "      <td>S</td>\n",
       "    </tr>\n",
       "  </tbody>\n",
       "</table>\n",
       "</div>"
      ],
      "text/plain": [
       "   PassengerId  Pclass                                          Name     Sex  \\\n",
       "0          892       3                              Kelly, Mr. James    male   \n",
       "1          893       3              Wilkes, Mrs. James (Ellen Needs)  female   \n",
       "2          894       2                     Myles, Mr. Thomas Francis    male   \n",
       "3          895       3                              Wirz, Mr. Albert    male   \n",
       "4          896       3  Hirvonen, Mrs. Alexander (Helga E Lindqvist)  female   \n",
       "\n",
       "    Age  SibSp  Parch   Ticket     Fare Cabin Embarked  \n",
       "0  34.5      0      0   330911   7.8292   NaN        Q  \n",
       "1  47.0      1      0   363272   7.0000   NaN        S  \n",
       "2  62.0      0      0   240276   9.6875   NaN        Q  \n",
       "3  27.0      0      0   315154   8.6625   NaN        S  \n",
       "4  22.0      1      1  3101298  12.2875   NaN        S  "
      ]
     },
     "execution_count": 17,
     "metadata": {},
     "output_type": "execute_result"
    }
   ],
   "source": [
    "#Write your code here\n",
    "import pandas as pd\n",
    "\n",
    "df_titanic = pd.read_csv(\"data/titanic_missing.csv\")\n",
    "df_titanic.head()"
   ]
  },
  {
   "cell_type": "markdown",
   "metadata": {},
   "source": [
    "Use the rename method to change the column \"Name\" to \"Passenger_Name\" and the column \"Ticket\" to \"Ticket_Num\"."
   ]
  },
  {
   "cell_type": "code",
   "execution_count": 18,
   "metadata": {},
   "outputs": [
    {
     "data": {
      "text/html": [
       "<div>\n",
       "<style scoped>\n",
       "    .dataframe tbody tr th:only-of-type {\n",
       "        vertical-align: middle;\n",
       "    }\n",
       "\n",
       "    .dataframe tbody tr th {\n",
       "        vertical-align: top;\n",
       "    }\n",
       "\n",
       "    .dataframe thead th {\n",
       "        text-align: right;\n",
       "    }\n",
       "</style>\n",
       "<table border=\"1\" class=\"dataframe\">\n",
       "  <thead>\n",
       "    <tr style=\"text-align: right;\">\n",
       "      <th></th>\n",
       "      <th>PassengerId</th>\n",
       "      <th>Pclass</th>\n",
       "      <th>Passenger_Name</th>\n",
       "      <th>Sex</th>\n",
       "      <th>Age</th>\n",
       "      <th>SibSp</th>\n",
       "      <th>Parch</th>\n",
       "      <th>Ticket_Num</th>\n",
       "      <th>Fare</th>\n",
       "      <th>Cabin</th>\n",
       "      <th>Embarked</th>\n",
       "    </tr>\n",
       "  </thead>\n",
       "  <tbody>\n",
       "    <tr>\n",
       "      <th>0</th>\n",
       "      <td>892</td>\n",
       "      <td>3</td>\n",
       "      <td>Kelly, Mr. James</td>\n",
       "      <td>male</td>\n",
       "      <td>34.5</td>\n",
       "      <td>0</td>\n",
       "      <td>0</td>\n",
       "      <td>330911</td>\n",
       "      <td>7.8292</td>\n",
       "      <td>NaN</td>\n",
       "      <td>Q</td>\n",
       "    </tr>\n",
       "    <tr>\n",
       "      <th>1</th>\n",
       "      <td>893</td>\n",
       "      <td>3</td>\n",
       "      <td>Wilkes, Mrs. James (Ellen Needs)</td>\n",
       "      <td>female</td>\n",
       "      <td>47.0</td>\n",
       "      <td>1</td>\n",
       "      <td>0</td>\n",
       "      <td>363272</td>\n",
       "      <td>7.0000</td>\n",
       "      <td>NaN</td>\n",
       "      <td>S</td>\n",
       "    </tr>\n",
       "    <tr>\n",
       "      <th>2</th>\n",
       "      <td>894</td>\n",
       "      <td>2</td>\n",
       "      <td>Myles, Mr. Thomas Francis</td>\n",
       "      <td>male</td>\n",
       "      <td>62.0</td>\n",
       "      <td>0</td>\n",
       "      <td>0</td>\n",
       "      <td>240276</td>\n",
       "      <td>9.6875</td>\n",
       "      <td>NaN</td>\n",
       "      <td>Q</td>\n",
       "    </tr>\n",
       "    <tr>\n",
       "      <th>3</th>\n",
       "      <td>895</td>\n",
       "      <td>3</td>\n",
       "      <td>Wirz, Mr. Albert</td>\n",
       "      <td>male</td>\n",
       "      <td>27.0</td>\n",
       "      <td>0</td>\n",
       "      <td>0</td>\n",
       "      <td>315154</td>\n",
       "      <td>8.6625</td>\n",
       "      <td>NaN</td>\n",
       "      <td>S</td>\n",
       "    </tr>\n",
       "    <tr>\n",
       "      <th>4</th>\n",
       "      <td>896</td>\n",
       "      <td>3</td>\n",
       "      <td>Hirvonen, Mrs. Alexander (Helga E Lindqvist)</td>\n",
       "      <td>female</td>\n",
       "      <td>22.0</td>\n",
       "      <td>1</td>\n",
       "      <td>1</td>\n",
       "      <td>3101298</td>\n",
       "      <td>12.2875</td>\n",
       "      <td>NaN</td>\n",
       "      <td>S</td>\n",
       "    </tr>\n",
       "  </tbody>\n",
       "</table>\n",
       "</div>"
      ],
      "text/plain": [
       "   PassengerId  Pclass                                Passenger_Name     Sex  \\\n",
       "0          892       3                              Kelly, Mr. James    male   \n",
       "1          893       3              Wilkes, Mrs. James (Ellen Needs)  female   \n",
       "2          894       2                     Myles, Mr. Thomas Francis    male   \n",
       "3          895       3                              Wirz, Mr. Albert    male   \n",
       "4          896       3  Hirvonen, Mrs. Alexander (Helga E Lindqvist)  female   \n",
       "\n",
       "    Age  SibSp  Parch Ticket_Num     Fare Cabin Embarked  \n",
       "0  34.5      0      0     330911   7.8292   NaN        Q  \n",
       "1  47.0      1      0     363272   7.0000   NaN        S  \n",
       "2  62.0      0      0     240276   9.6875   NaN        Q  \n",
       "3  27.0      0      0     315154   8.6625   NaN        S  \n",
       "4  22.0      1      1    3101298  12.2875   NaN        S  "
      ]
     },
     "execution_count": 18,
     "metadata": {},
     "output_type": "execute_result"
    }
   ],
   "source": [
    "#Write your code here\n",
    "df_titanic.rename(columns= {\"Name\": \"Passenger_Name\", \"Ticket\": \"Ticket_Num\"}, inplace = True)\n",
    "df_titanic.head()\n"
   ]
  },
  {
   "cell_type": "markdown",
   "metadata": {},
   "source": [
    "Change the index of the df_titanic to the column PasengerId."
   ]
  },
  {
   "cell_type": "code",
   "execution_count": 19,
   "metadata": {},
   "outputs": [
    {
     "data": {
      "text/html": [
       "<div>\n",
       "<style scoped>\n",
       "    .dataframe tbody tr th:only-of-type {\n",
       "        vertical-align: middle;\n",
       "    }\n",
       "\n",
       "    .dataframe tbody tr th {\n",
       "        vertical-align: top;\n",
       "    }\n",
       "\n",
       "    .dataframe thead th {\n",
       "        text-align: right;\n",
       "    }\n",
       "</style>\n",
       "<table border=\"1\" class=\"dataframe\">\n",
       "  <thead>\n",
       "    <tr style=\"text-align: right;\">\n",
       "      <th></th>\n",
       "      <th>Pclass</th>\n",
       "      <th>Passenger_Name</th>\n",
       "      <th>Sex</th>\n",
       "      <th>Age</th>\n",
       "      <th>SibSp</th>\n",
       "      <th>Parch</th>\n",
       "      <th>Ticket_Num</th>\n",
       "      <th>Fare</th>\n",
       "      <th>Cabin</th>\n",
       "      <th>Embarked</th>\n",
       "    </tr>\n",
       "    <tr>\n",
       "      <th>PassengerId</th>\n",
       "      <th></th>\n",
       "      <th></th>\n",
       "      <th></th>\n",
       "      <th></th>\n",
       "      <th></th>\n",
       "      <th></th>\n",
       "      <th></th>\n",
       "      <th></th>\n",
       "      <th></th>\n",
       "      <th></th>\n",
       "    </tr>\n",
       "  </thead>\n",
       "  <tbody>\n",
       "    <tr>\n",
       "      <th>892</th>\n",
       "      <td>3</td>\n",
       "      <td>Kelly, Mr. James</td>\n",
       "      <td>male</td>\n",
       "      <td>34.5</td>\n",
       "      <td>0</td>\n",
       "      <td>0</td>\n",
       "      <td>330911</td>\n",
       "      <td>7.8292</td>\n",
       "      <td>NaN</td>\n",
       "      <td>Q</td>\n",
       "    </tr>\n",
       "    <tr>\n",
       "      <th>893</th>\n",
       "      <td>3</td>\n",
       "      <td>Wilkes, Mrs. James (Ellen Needs)</td>\n",
       "      <td>female</td>\n",
       "      <td>47.0</td>\n",
       "      <td>1</td>\n",
       "      <td>0</td>\n",
       "      <td>363272</td>\n",
       "      <td>7.0000</td>\n",
       "      <td>NaN</td>\n",
       "      <td>S</td>\n",
       "    </tr>\n",
       "    <tr>\n",
       "      <th>894</th>\n",
       "      <td>2</td>\n",
       "      <td>Myles, Mr. Thomas Francis</td>\n",
       "      <td>male</td>\n",
       "      <td>62.0</td>\n",
       "      <td>0</td>\n",
       "      <td>0</td>\n",
       "      <td>240276</td>\n",
       "      <td>9.6875</td>\n",
       "      <td>NaN</td>\n",
       "      <td>Q</td>\n",
       "    </tr>\n",
       "    <tr>\n",
       "      <th>895</th>\n",
       "      <td>3</td>\n",
       "      <td>Wirz, Mr. Albert</td>\n",
       "      <td>male</td>\n",
       "      <td>27.0</td>\n",
       "      <td>0</td>\n",
       "      <td>0</td>\n",
       "      <td>315154</td>\n",
       "      <td>8.6625</td>\n",
       "      <td>NaN</td>\n",
       "      <td>S</td>\n",
       "    </tr>\n",
       "    <tr>\n",
       "      <th>896</th>\n",
       "      <td>3</td>\n",
       "      <td>Hirvonen, Mrs. Alexander (Helga E Lindqvist)</td>\n",
       "      <td>female</td>\n",
       "      <td>22.0</td>\n",
       "      <td>1</td>\n",
       "      <td>1</td>\n",
       "      <td>3101298</td>\n",
       "      <td>12.2875</td>\n",
       "      <td>NaN</td>\n",
       "      <td>S</td>\n",
       "    </tr>\n",
       "  </tbody>\n",
       "</table>\n",
       "</div>"
      ],
      "text/plain": [
       "             Pclass                                Passenger_Name     Sex  \\\n",
       "PassengerId                                                                 \n",
       "892               3                              Kelly, Mr. James    male   \n",
       "893               3              Wilkes, Mrs. James (Ellen Needs)  female   \n",
       "894               2                     Myles, Mr. Thomas Francis    male   \n",
       "895               3                              Wirz, Mr. Albert    male   \n",
       "896               3  Hirvonen, Mrs. Alexander (Helga E Lindqvist)  female   \n",
       "\n",
       "              Age  SibSp  Parch Ticket_Num     Fare Cabin Embarked  \n",
       "PassengerId                                                         \n",
       "892          34.5      0      0     330911   7.8292   NaN        Q  \n",
       "893          47.0      1      0     363272   7.0000   NaN        S  \n",
       "894          62.0      0      0     240276   9.6875   NaN        Q  \n",
       "895          27.0      0      0     315154   8.6625   NaN        S  \n",
       "896          22.0      1      1    3101298  12.2875   NaN        S  "
      ]
     },
     "execution_count": 19,
     "metadata": {},
     "output_type": "execute_result"
    }
   ],
   "source": [
    "#Write your code here\n",
    "df_titanic.set_index(\"PassengerId\", inplace = True)\n",
    "df_titanic.head()"
   ]
  },
  {
   "cell_type": "markdown",
   "metadata": {},
   "source": [
    "Select the name of passenger 896"
   ]
  },
  {
   "cell_type": "code",
   "execution_count": 20,
   "metadata": {},
   "outputs": [
    {
     "data": {
      "text/plain": [
       "Pclass                                                       3\n",
       "Passenger_Name    Hirvonen, Mrs. Alexander (Helga E Lindqvist)\n",
       "Sex                                                     female\n",
       "Age                                                         22\n",
       "SibSp                                                        1\n",
       "Parch                                                        1\n",
       "Ticket_Num                                             3101298\n",
       "Fare                                                   12.2875\n",
       "Cabin                                                      NaN\n",
       "Embarked                                                     S\n",
       "Name: 896, dtype: object"
      ]
     },
     "execution_count": 20,
     "metadata": {},
     "output_type": "execute_result"
    }
   ],
   "source": [
    "#Write your code here\n",
    "df_titanic.loc[896]"
   ]
  },
  {
   "cell_type": "markdown",
   "metadata": {},
   "source": [
    "Change the index back to row numbers but making sure that we don't lose the PassengerId column. "
   ]
  },
  {
   "cell_type": "code",
   "execution_count": 21,
   "metadata": {},
   "outputs": [
    {
     "data": {
      "text/html": [
       "<div>\n",
       "<style scoped>\n",
       "    .dataframe tbody tr th:only-of-type {\n",
       "        vertical-align: middle;\n",
       "    }\n",
       "\n",
       "    .dataframe tbody tr th {\n",
       "        vertical-align: top;\n",
       "    }\n",
       "\n",
       "    .dataframe thead th {\n",
       "        text-align: right;\n",
       "    }\n",
       "</style>\n",
       "<table border=\"1\" class=\"dataframe\">\n",
       "  <thead>\n",
       "    <tr style=\"text-align: right;\">\n",
       "      <th></th>\n",
       "      <th>PassengerId</th>\n",
       "      <th>Pclass</th>\n",
       "      <th>Passenger_Name</th>\n",
       "      <th>Sex</th>\n",
       "      <th>Age</th>\n",
       "      <th>SibSp</th>\n",
       "      <th>Parch</th>\n",
       "      <th>Ticket_Num</th>\n",
       "      <th>Fare</th>\n",
       "      <th>Cabin</th>\n",
       "      <th>Embarked</th>\n",
       "    </tr>\n",
       "  </thead>\n",
       "  <tbody>\n",
       "    <tr>\n",
       "      <th>0</th>\n",
       "      <td>892</td>\n",
       "      <td>3</td>\n",
       "      <td>Kelly, Mr. James</td>\n",
       "      <td>male</td>\n",
       "      <td>34.5</td>\n",
       "      <td>0</td>\n",
       "      <td>0</td>\n",
       "      <td>330911</td>\n",
       "      <td>7.8292</td>\n",
       "      <td>NaN</td>\n",
       "      <td>Q</td>\n",
       "    </tr>\n",
       "    <tr>\n",
       "      <th>1</th>\n",
       "      <td>893</td>\n",
       "      <td>3</td>\n",
       "      <td>Wilkes, Mrs. James (Ellen Needs)</td>\n",
       "      <td>female</td>\n",
       "      <td>47.0</td>\n",
       "      <td>1</td>\n",
       "      <td>0</td>\n",
       "      <td>363272</td>\n",
       "      <td>7.0000</td>\n",
       "      <td>NaN</td>\n",
       "      <td>S</td>\n",
       "    </tr>\n",
       "    <tr>\n",
       "      <th>2</th>\n",
       "      <td>894</td>\n",
       "      <td>2</td>\n",
       "      <td>Myles, Mr. Thomas Francis</td>\n",
       "      <td>male</td>\n",
       "      <td>62.0</td>\n",
       "      <td>0</td>\n",
       "      <td>0</td>\n",
       "      <td>240276</td>\n",
       "      <td>9.6875</td>\n",
       "      <td>NaN</td>\n",
       "      <td>Q</td>\n",
       "    </tr>\n",
       "    <tr>\n",
       "      <th>3</th>\n",
       "      <td>895</td>\n",
       "      <td>3</td>\n",
       "      <td>Wirz, Mr. Albert</td>\n",
       "      <td>male</td>\n",
       "      <td>27.0</td>\n",
       "      <td>0</td>\n",
       "      <td>0</td>\n",
       "      <td>315154</td>\n",
       "      <td>8.6625</td>\n",
       "      <td>NaN</td>\n",
       "      <td>S</td>\n",
       "    </tr>\n",
       "    <tr>\n",
       "      <th>4</th>\n",
       "      <td>896</td>\n",
       "      <td>3</td>\n",
       "      <td>Hirvonen, Mrs. Alexander (Helga E Lindqvist)</td>\n",
       "      <td>female</td>\n",
       "      <td>22.0</td>\n",
       "      <td>1</td>\n",
       "      <td>1</td>\n",
       "      <td>3101298</td>\n",
       "      <td>12.2875</td>\n",
       "      <td>NaN</td>\n",
       "      <td>S</td>\n",
       "    </tr>\n",
       "  </tbody>\n",
       "</table>\n",
       "</div>"
      ],
      "text/plain": [
       "   PassengerId  Pclass                                Passenger_Name     Sex  \\\n",
       "0          892       3                              Kelly, Mr. James    male   \n",
       "1          893       3              Wilkes, Mrs. James (Ellen Needs)  female   \n",
       "2          894       2                     Myles, Mr. Thomas Francis    male   \n",
       "3          895       3                              Wirz, Mr. Albert    male   \n",
       "4          896       3  Hirvonen, Mrs. Alexander (Helga E Lindqvist)  female   \n",
       "\n",
       "    Age  SibSp  Parch Ticket_Num     Fare Cabin Embarked  \n",
       "0  34.5      0      0     330911   7.8292   NaN        Q  \n",
       "1  47.0      1      0     363272   7.0000   NaN        S  \n",
       "2  62.0      0      0     240276   9.6875   NaN        Q  \n",
       "3  27.0      0      0     315154   8.6625   NaN        S  \n",
       "4  22.0      1      1    3101298  12.2875   NaN        S  "
      ]
     },
     "execution_count": 21,
     "metadata": {},
     "output_type": "execute_result"
    }
   ],
   "source": [
    "#Write your code here\n",
    "df_titanic.reset_index(drop = False, inplace = True)\n",
    "df_titanic.head()"
   ]
  },
  {
   "cell_type": "markdown",
   "metadata": {},
   "source": [
    "How many missing entries are there in the Age column? Use the isnull() method and recall that Booleans are exactly like 1s (True) and 0s (False)."
   ]
  },
  {
   "cell_type": "code",
   "execution_count": 271,
   "metadata": {},
   "outputs": [],
   "source": [
    "#Write you code here\n"
   ]
  },
  {
   "cell_type": "markdown",
   "metadata": {},
   "source": [
    "Compute the avg age of passengers ignoring the missing data."
   ]
  },
  {
   "cell_type": "code",
   "execution_count": 27,
   "metadata": {},
   "outputs": [
    {
     "data": {
      "text/plain": [
       "67.0"
      ]
     },
     "execution_count": 27,
     "metadata": {},
     "output_type": "execute_result"
    }
   ],
   "source": [
    "#Write your code here\n",
    "df_titanic.sort_values(by = \"Age\", ascending = False, inplace = False).reset_index(drop =True).loc[0:4, \"Age\"].\\\n",
    "mean()\n"
   ]
  },
  {
   "cell_type": "markdown",
   "metadata": {},
   "source": [
    "Using the fillna() method replace the missing values in the Age column with the mean."
   ]
  },
  {
   "cell_type": "code",
   "execution_count": 269,
   "metadata": {},
   "outputs": [],
   "source": [
    "#Write your code here\n"
   ]
  },
  {
   "cell_type": "markdown",
   "metadata": {},
   "source": [
    "What is the average age of the 5 oldest passengers? The reset_index method will be helpful here."
   ]
  },
  {
   "cell_type": "code",
   "execution_count": 268,
   "metadata": {},
   "outputs": [],
   "source": [
    "#Write your code here\n"
   ]
  },
  {
   "cell_type": "markdown",
   "metadata": {},
   "source": [
    "# Advanced Pandas -- Part 2\n",
    "\n",
    "In this practice exercise, we will analyze Chipotle order data.  The file \"Chipotle.tsv\" contains this information in a tab separated file.  First, read in the data.  You might find the delimiter input to the pandas read_csv method useful. Use the head method to check that everything has been read in correctly.  "
   ]
  },
  {
   "cell_type": "code",
   "execution_count": 36,
   "metadata": {},
   "outputs": [
    {
     "data": {
      "text/html": [
       "<div>\n",
       "<style scoped>\n",
       "    .dataframe tbody tr th:only-of-type {\n",
       "        vertical-align: middle;\n",
       "    }\n",
       "\n",
       "    .dataframe tbody tr th {\n",
       "        vertical-align: top;\n",
       "    }\n",
       "\n",
       "    .dataframe thead th {\n",
       "        text-align: right;\n",
       "    }\n",
       "</style>\n",
       "<table border=\"1\" class=\"dataframe\">\n",
       "  <thead>\n",
       "    <tr style=\"text-align: right;\">\n",
       "      <th></th>\n",
       "      <th>order_id</th>\n",
       "      <th>quantity</th>\n",
       "      <th>item_name</th>\n",
       "      <th>choice_description</th>\n",
       "      <th>item_price</th>\n",
       "    </tr>\n",
       "  </thead>\n",
       "  <tbody>\n",
       "    <tr>\n",
       "      <th>0</th>\n",
       "      <td>1</td>\n",
       "      <td>1</td>\n",
       "      <td>Chips and Fresh Tomato Salsa</td>\n",
       "      <td>NaN</td>\n",
       "      <td>$2.39</td>\n",
       "    </tr>\n",
       "    <tr>\n",
       "      <th>1</th>\n",
       "      <td>1</td>\n",
       "      <td>1</td>\n",
       "      <td>Izze</td>\n",
       "      <td>[Clementine]</td>\n",
       "      <td>$3.39</td>\n",
       "    </tr>\n",
       "    <tr>\n",
       "      <th>2</th>\n",
       "      <td>1</td>\n",
       "      <td>1</td>\n",
       "      <td>Nantucket Nectar</td>\n",
       "      <td>[Apple]</td>\n",
       "      <td>$3.39</td>\n",
       "    </tr>\n",
       "    <tr>\n",
       "      <th>3</th>\n",
       "      <td>1</td>\n",
       "      <td>1</td>\n",
       "      <td>Chips and Tomatillo-Green Chili Salsa</td>\n",
       "      <td>NaN</td>\n",
       "      <td>$2.39</td>\n",
       "    </tr>\n",
       "    <tr>\n",
       "      <th>4</th>\n",
       "      <td>2</td>\n",
       "      <td>2</td>\n",
       "      <td>Chicken Bowl</td>\n",
       "      <td>[Tomatillo-Red Chili Salsa (Hot), [Black Beans...</td>\n",
       "      <td>$16.98</td>\n",
       "    </tr>\n",
       "    <tr>\n",
       "      <th>5</th>\n",
       "      <td>3</td>\n",
       "      <td>1</td>\n",
       "      <td>Chicken Bowl</td>\n",
       "      <td>[Fresh Tomato Salsa (Mild), [Rice, Cheese, Sou...</td>\n",
       "      <td>$10.98</td>\n",
       "    </tr>\n",
       "    <tr>\n",
       "      <th>6</th>\n",
       "      <td>3</td>\n",
       "      <td>1</td>\n",
       "      <td>Side of Chips</td>\n",
       "      <td>NaN</td>\n",
       "      <td>$1.69</td>\n",
       "    </tr>\n",
       "    <tr>\n",
       "      <th>7</th>\n",
       "      <td>4</td>\n",
       "      <td>1</td>\n",
       "      <td>Steak Burrito</td>\n",
       "      <td>[Tomatillo Red Chili Salsa, [Fajita Vegetables...</td>\n",
       "      <td>$11.75</td>\n",
       "    </tr>\n",
       "    <tr>\n",
       "      <th>8</th>\n",
       "      <td>4</td>\n",
       "      <td>1</td>\n",
       "      <td>Steak Soft Tacos</td>\n",
       "      <td>[Tomatillo Green Chili Salsa, [Pinto Beans, Ch...</td>\n",
       "      <td>$9.25</td>\n",
       "    </tr>\n",
       "    <tr>\n",
       "      <th>9</th>\n",
       "      <td>5</td>\n",
       "      <td>1</td>\n",
       "      <td>Steak Burrito</td>\n",
       "      <td>[Fresh Tomato Salsa, [Rice, Black Beans, Pinto...</td>\n",
       "      <td>$9.25</td>\n",
       "    </tr>\n",
       "  </tbody>\n",
       "</table>\n",
       "</div>"
      ],
      "text/plain": [
       "   order_id  quantity                              item_name  \\\n",
       "0         1         1           Chips and Fresh Tomato Salsa   \n",
       "1         1         1                                   Izze   \n",
       "2         1         1                       Nantucket Nectar   \n",
       "3         1         1  Chips and Tomatillo-Green Chili Salsa   \n",
       "4         2         2                           Chicken Bowl   \n",
       "5         3         1                           Chicken Bowl   \n",
       "6         3         1                          Side of Chips   \n",
       "7         4         1                          Steak Burrito   \n",
       "8         4         1                       Steak Soft Tacos   \n",
       "9         5         1                          Steak Burrito   \n",
       "\n",
       "                                  choice_description item_price  \n",
       "0                                                NaN     $2.39   \n",
       "1                                       [Clementine]     $3.39   \n",
       "2                                            [Apple]     $3.39   \n",
       "3                                                NaN     $2.39   \n",
       "4  [Tomatillo-Red Chili Salsa (Hot), [Black Beans...    $16.98   \n",
       "5  [Fresh Tomato Salsa (Mild), [Rice, Cheese, Sou...    $10.98   \n",
       "6                                                NaN     $1.69   \n",
       "7  [Tomatillo Red Chili Salsa, [Fajita Vegetables...    $11.75   \n",
       "8  [Tomatillo Green Chili Salsa, [Pinto Beans, Ch...     $9.25   \n",
       "9  [Fresh Tomato Salsa, [Rice, Black Beans, Pinto...     $9.25   "
      ]
     },
     "execution_count": 36,
     "metadata": {},
     "output_type": "execute_result"
    }
   ],
   "source": [
    "import pandas as pd\n",
    "import numpy as np\n",
    "\n",
    "#Write your code here\n",
    "df_chip = pd.read_csv(\"data/chipotle_orders.tsv\", delimiter = \"\\t\")\n",
    "df_chip.head(10)"
   ]
  },
  {
   "cell_type": "markdown",
   "metadata": {},
   "source": [
    "Now take a look at the dtypes attribute to see how the columns are stored."
   ]
  },
  {
   "cell_type": "code",
   "execution_count": 35,
   "metadata": {},
   "outputs": [
    {
     "data": {
      "text/plain": [
       "order_id               int64\n",
       "quantity               int64\n",
       "item_name             object\n",
       "choice_description    object\n",
       "item_price            object\n",
       "dtype: object"
      ]
     },
     "execution_count": 35,
     "metadata": {},
     "output_type": "execute_result"
    }
   ],
   "source": [
    "df_chip.dtypes"
   ]
  },
  {
   "cell_type": "markdown",
   "metadata": {},
   "source": [
    "We will write code to answer the following questions:\n",
    "\n",
    "1. What fraction of customers order burritos versus burrito bowls?\n",
    "2. What is the average amount of money spent on a Chipotle order?"
   ]
  },
  {
   "cell_type": "markdown",
   "metadata": {},
   "source": [
    "For question 1, we will use the apply method to create a column that will read \"Burrito\" for items that are a burrito, \"Bowl\" for items that are a bowl and \"Other\" for every other item."
   ]
  },
  {
   "cell_type": "code",
   "execution_count": 47,
   "metadata": {},
   "outputs": [],
   "source": [
    "def Burrito_or_Bowl(item, custom_label):\n",
    "    \"\"\"Function to be used with apply. Takes an item and returns\n",
    "    as described above.\"\"\"\n",
    "    \n",
    "    if \"Bowl\" in item:\n",
    "        return \"Bowl\"\n",
    "    elif \"Burrito\" in item:\n",
    "        return \"Burrito\"\n",
    "    else:\n",
    "        return custom_label\n",
    "\n",
    "    \n"
   ]
  },
  {
   "cell_type": "markdown",
   "metadata": {},
   "source": [
    "Create new column called \"Bowl_Burrito\" and compute fractions of bowl versus burrito orders. The value_counts() method could be useful here."
   ]
  },
  {
   "cell_type": "code",
   "execution_count": 64,
   "metadata": {},
   "outputs": [
    {
     "data": {
      "text/html": [
       "<div>\n",
       "<style scoped>\n",
       "    .dataframe tbody tr th:only-of-type {\n",
       "        vertical-align: middle;\n",
       "    }\n",
       "\n",
       "    .dataframe tbody tr th {\n",
       "        vertical-align: top;\n",
       "    }\n",
       "\n",
       "    .dataframe thead th {\n",
       "        text-align: right;\n",
       "    }\n",
       "</style>\n",
       "<table border=\"1\" class=\"dataframe\">\n",
       "  <thead>\n",
       "    <tr style=\"text-align: right;\">\n",
       "      <th></th>\n",
       "      <th>order_id</th>\n",
       "      <th>quantity</th>\n",
       "      <th>item_name</th>\n",
       "      <th>choice_description</th>\n",
       "      <th>item_price</th>\n",
       "      <th>Bowl_Burrito</th>\n",
       "    </tr>\n",
       "  </thead>\n",
       "  <tbody>\n",
       "    <tr>\n",
       "      <th>0</th>\n",
       "      <td>1</td>\n",
       "      <td>1</td>\n",
       "      <td>Chips and Fresh Tomato Salsa</td>\n",
       "      <td>NaN</td>\n",
       "      <td>$2.39</td>\n",
       "      <td>Other</td>\n",
       "    </tr>\n",
       "    <tr>\n",
       "      <th>1</th>\n",
       "      <td>1</td>\n",
       "      <td>1</td>\n",
       "      <td>Izze</td>\n",
       "      <td>[Clementine]</td>\n",
       "      <td>$3.39</td>\n",
       "      <td>Other</td>\n",
       "    </tr>\n",
       "    <tr>\n",
       "      <th>2</th>\n",
       "      <td>1</td>\n",
       "      <td>1</td>\n",
       "      <td>Nantucket Nectar</td>\n",
       "      <td>[Apple]</td>\n",
       "      <td>$3.39</td>\n",
       "      <td>Other</td>\n",
       "    </tr>\n",
       "    <tr>\n",
       "      <th>3</th>\n",
       "      <td>1</td>\n",
       "      <td>1</td>\n",
       "      <td>Chips and Tomatillo-Green Chili Salsa</td>\n",
       "      <td>NaN</td>\n",
       "      <td>$2.39</td>\n",
       "      <td>Other</td>\n",
       "    </tr>\n",
       "    <tr>\n",
       "      <th>4</th>\n",
       "      <td>2</td>\n",
       "      <td>2</td>\n",
       "      <td>Chicken Bowl</td>\n",
       "      <td>[Tomatillo-Red Chili Salsa (Hot), [Black Beans...</td>\n",
       "      <td>$16.98</td>\n",
       "      <td>Bowl</td>\n",
       "    </tr>\n",
       "    <tr>\n",
       "      <th>5</th>\n",
       "      <td>3</td>\n",
       "      <td>1</td>\n",
       "      <td>Chicken Bowl</td>\n",
       "      <td>[Fresh Tomato Salsa (Mild), [Rice, Cheese, Sou...</td>\n",
       "      <td>$10.98</td>\n",
       "      <td>Bowl</td>\n",
       "    </tr>\n",
       "    <tr>\n",
       "      <th>6</th>\n",
       "      <td>3</td>\n",
       "      <td>1</td>\n",
       "      <td>Side of Chips</td>\n",
       "      <td>NaN</td>\n",
       "      <td>$1.69</td>\n",
       "      <td>Other</td>\n",
       "    </tr>\n",
       "  </tbody>\n",
       "</table>\n",
       "</div>"
      ],
      "text/plain": [
       "   order_id  quantity                              item_name  \\\n",
       "0         1         1           Chips and Fresh Tomato Salsa   \n",
       "1         1         1                                   Izze   \n",
       "2         1         1                       Nantucket Nectar   \n",
       "3         1         1  Chips and Tomatillo-Green Chili Salsa   \n",
       "4         2         2                           Chicken Bowl   \n",
       "5         3         1                           Chicken Bowl   \n",
       "6         3         1                          Side of Chips   \n",
       "\n",
       "                                  choice_description item_price Bowl_Burrito  \n",
       "0                                                NaN     $2.39         Other  \n",
       "1                                       [Clementine]     $3.39         Other  \n",
       "2                                            [Apple]     $3.39         Other  \n",
       "3                                                NaN     $2.39         Other  \n",
       "4  [Tomatillo-Red Chili Salsa (Hot), [Black Beans...    $16.98          Bowl  \n",
       "5  [Fresh Tomato Salsa (Mild), [Rice, Cheese, Sou...    $10.98          Bowl  \n",
       "6                                                NaN     $1.69         Other  "
      ]
     },
     "execution_count": 64,
     "metadata": {},
     "output_type": "execute_result"
    }
   ],
   "source": [
    "#Write you code here\n",
    "df_chip[\"Bowl_Burrito\"] = df_chip.item_name.apply(Burrito_or_Bowl)\n",
    "df_chip.head(7)"
   ]
  },
  {
   "cell_type": "markdown",
   "metadata": {},
   "source": [
    "For question 2, use iterrows to calculate the average price per order. Note that the item price column is a string, so first use string methods plut the as.type() method to recast this column as a float."
   ]
  },
  {
   "cell_type": "code",
   "execution_count": 68,
   "metadata": {},
   "outputs": [
    {
     "data": {
      "text/plain": [
       "order_id                int64\n",
       "quantity                int64\n",
       "item_name              object\n",
       "choice_description     object\n",
       "item_price             object\n",
       "Bowl_Burrito           object\n",
       "Price                 float64\n",
       "dtype: object"
      ]
     },
     "execution_count": 68,
     "metadata": {},
     "output_type": "execute_result"
    }
   ],
   "source": [
    "df_chip[\"Price\"] = df_chip.item_price.str.strip(\"$\").astype(\"float\")\n",
    "df_chip.dtypes"
   ]
  },
  {
   "cell_type": "code",
   "execution_count": 85,
   "metadata": {},
   "outputs": [
    {
     "data": {
      "text/plain": [
       "(1833,\n",
       "    order_id  quantity                              item_name  \\\n",
       " 0         1         1           Chips and Fresh Tomato Salsa   \n",
       " 1         1         1                                   Izze   \n",
       " 2         1         1                       Nantucket Nectar   \n",
       " 3         1         1  Chips and Tomatillo-Green Chili Salsa   \n",
       " 4         2         2                           Chicken Bowl   \n",
       " \n",
       "                                   choice_description item_price Bowl_Burrito  \\\n",
       " 0                                                NaN     $2.39         Other   \n",
       " 1                                       [Clementine]     $3.39         Other   \n",
       " 2                                            [Apple]     $3.39         Other   \n",
       " 3                                                NaN     $2.39         Other   \n",
       " 4  [Tomatillo-Red Chili Salsa (Hot), [Black Beans...    $16.98          Bowl   \n",
       " \n",
       "    Price  Total  \n",
       " 0   2.39   2.39  \n",
       " 1   3.39   3.39  \n",
       " 2   3.39   3.39  \n",
       " 3   2.39   2.39  \n",
       " 4  16.98  33.96  )"
      ]
     },
     "execution_count": 85,
     "metadata": {},
     "output_type": "execute_result"
    }
   ],
   "source": [
    "df_chip[\"Total\"] = df_chip.Price * df_chip.quantity\n",
    "df_chip.order_id[4617], df_chip.head()"
   ]
  },
  {
   "cell_type": "code",
   "execution_count": 89,
   "metadata": {},
   "outputs": [
    {
     "name": "stdout",
     "output_type": "stream",
     "text": [
      "{1: [2.39, 3.39, 3.39, 2.39], 2: [33.96], 3: [10.98, 1.69], 4: [11.75, 9.25], 5: [9.25, 4.45], 6: [8.75, 8.75], 7: [11.25, 4.45], 8: [2.39, 8.49], 9: [8.49, 4.36], 10: [8.75, 4.45], 11: [8.99, 3.39], 12: [10.98, 3.39], 13: [2.39, 8.49], 14: [8.99, 1.09], 15: [8.49, 2.39], 16: [8.99, 1.69], 17: [8.99, 1.09], 18: [8.75, 8.75, 4.45, 2.95], 19: [11.75, 2.15], 20: [4.45, 11.25, 11.75, 8.75], 21: [10.98, 8.99, 3.39], 22: [8.99, 3.99], 23: [8.99, 4.36], 24: [10.98, 1.09], 25: [8.99, 2.39], 26: [9.25, 11.25], 27: [11.75, 2.15], 28: [4.45, 9.25, 11.25, 8.75], 29: [8.99, 8.99], 30: [3.39, 8.99, 10.98], 31: [8.99, 1.69], 32: [8.99, 3.99], 33: [8.75, 4.45], 34: [8.75, 8.75, 2.15, 8.75], 35: [11.25, 2.15], 36: [9.25, 8.75], 37: [8.75, 9.25], 38: [8.49, 8.99, 1.09], 39: [9.25, 2.95], 40: [11.75, 11.75, 9.25], 41: [11.75, 4.45], 42: [9.25, 4.45], 43: [11.75, 8.75], 44: [8.75, 4.45], 45: [8.99, 8.99, 3.99], 46: [8.49, 3.39], 47: [8.99, 1.09], 48: [9.25, 4.45], 49: [8.75, 2.95, 4.45], 50: [2.39, 8.49], 51: [8.99, 8.49, 1.09], 52: [8.99, 3.99], 53: [8.75, 9.25, 4.45], 54: [11.25, 4.45], 55: [8.99, 1.09], 56: [9.25, 2.95, 4.45], 57: [11.75, 4.45], 58: [8.49, 2.39], 59: [10.98], 60: [45.0], 61: [11.75, 4.45], 62: [11.25, 4.45], 63: [11.25, 4.45], 64: [11.25, 11.25], 65: [11.75, 9.25, 4.45], 66: [11.48], 67: [35.96, 1.69], 68: [35.0, 4.45], 69: [8.49, 2.39], 70: [35.0, 4.45], 71: [4.45, 11.25, 11.75], 72: [10.98], 73: [8.49, 10.98, 4.36], 74: [11.48, 8.49, 2.39], 75: [4.45, 11.25, 11.75, 8.75], 76: [8.49, 4.36], 77: [8.49, 3.39], 78: [8.49, 8.99], 79: [10.98], 80: [11.48], 81: [8.49, 1.09, 1.09], 82: [9.25, 8.75, 2.95], 83: [9.25, 4.45, 11.25], 84: [11.48, 8.49, 8.49], 85: [8.99, 2.39], 86: [11.25, 8.75, 2.95], 87: [1.09, 8.99], 88: [8.49, 2.39], 89: [10.98, 1.09, 3.99], 90: [11.25, 8.75], 91: [8.49, 3.39], 92: [8.75, 9.25, 2.15], 93: [11.25, 11.25, 11.25, 4.45], 94: [45.0], 95: [4.45, 11.75], 96: [8.75, 35.0, 8.75], 97: [9.25, 8.75, 2.15], 98: [9.25, 8.6, 8.75], 99: [11.25, 2.15], 100: [8.99, 1.09], 101: [8.99, 3.99], 102: [8.75, 2.95, 2.95], 103: [11.75, 11.8, 9.25, 9.25, 11.75], 104: [9.25, 2.95], 105: [35.0], 106: [8.75, 9.25], 107: [10.98], 108: [8.99, 1.09, 1.09, 1.09, 8.99], 109: [10.98, 1.09], 110: [8.75, 8.75, 9.25, 9.25], 111: [8.75, 8.75], 112: [8.99, 8.99], 113: [8.99, 1.09], 114: [11.75, 1.25], 115: [8.99, 2.39], 116: [9.25, 2.95], 117: [8.99, 3.99], 118: [8.49, 2.39], 119: [8.49, 8.49], 120: [8.49, 1.69], 121: [8.49, 3.99], 122: [8.99, 1.69, 1.09], 123: [47.56], 124: [35.0, 2.15, 8.75], 125: [9.25, 9.25, 8.75, 4.45], 126: [8.75, 11.25], 127: [11.25, 1.25], 128: [9.25, 4.45, 11.25], 129: [11.75, 11.75, 6.49], 130: [8.99, 2.39], 131: [8.49, 2.39], 132: [11.25, 8.75, 2.15], 133: [8.99, 1.69], 134: [8.75, 11.25, 2.15], 135: [4.45, 8.75], 136: [8.49, 8.99], 137: [35.0], 138: [8.49, 1.09, 1.09], 139: [8.75, 1.25, 2.15], 140: [11.08], 141: [8.49, 8.49], 142: [8.99, 2.39], 143: [8.75, 2.15, 1.5], 144: [11.25, 2.15], 145: [8.49, 8.49], 146: [11.75, 9.25], 147: [11.75, 1.25], 148: [11.25, 8.75, 4.45, 6.49], 149: [9.25, 2.95, 11.25, 4.45, 1.25, 1.25], 150: [8.49, 2.39, 4.36], 151: [8.49, 4.36], 152: [44.32], 153: [35.0], 154: [8.75, 2.95, 6.49], 155: [8.99, 3.39, 3.39], 156: [8.99, 8.49], 157: [11.25, 2.15], 158: [11.25, 2.95], 159: [11.25, 1.25], 160: [8.99, 1.09], 161: [8.75, 8.75], 162: [9.25, 2.95], 163: [11.75, 1.5], 164: [8.99, 1.09], 165: [11.25, 1.25, 1.25], 166: [11.25, 11.75, 2.15], 167: [8.99, 1.69], 168: [11.75, 6.49], 169: [8.75, 9.25], 170: [11.25, 4.45, 1.25], 171: [11.25, 4.45], 172: [8.49, 8.99], 173: [8.49, 8.99], 174: [11.25, 1.25], 175: [11.75, 1.25], 176: [11.75, 9.25, 4.45], 177: [11.25, 2.15], 178: [98.82], 179: [1.25, 11.25], 180: [11.48, 1.69, 1.09], 181: [35.0], 182: [4.45, 6.49, 9.25], 183: [8.75, 9.25], 184: [9.25, 8.75, 8.75, 2.15, 2.95], 185: [35.0], 186: [10.98, 11.48, 11.48, 3.39], 187: [8.99, 1.69], 188: [8.99, 1.09], 189: [10.98, 3.39], 190: [8.99, 1.09], 191: [9.25, 8.75], 192: [11.25, 4.45, 2.95, 9.25], 193: [66.6], 194: [8.49, 8.99], 195: [8.75, 8.75, 11.75, 8.75, 11.25, 9.25, 11.25, 11.25], 196: [8.75, 11.25, 2.95, 1.25], 197: [8.49, 1.69], 198: [11.75, 11.25], 199: [8.75, 8.75, 4.45], 200: [8.49, 3.99], 201: [8.49, 3.99], 202: [11.48, 1.69, 1.09], 203: [11.25, 1.5], 204: [10.58, 1.69], 205: [9.25, 11.25, 8.75, 9.25, 11.25, 11.25, 8.75, 11.75, 8.75, 8.75, 8.75, 2.15], 206: [11.25, 11.75, 5.0, 4.45], 207: [9.25, 4.45, 11.25], 208: [8.49, 3.99], 209: [9.25, 9.25], 210: [11.25, 9.25], 211: [11.75, 11.25], 212: [1.25, 47.0, 1.25], 213: [8.99, 8.49], 214: [7.4, 7.4], 215: [8.75, 1.25, 4.45, 8.75, 2.15], 216: [8.75, 4.45], 217: [7.4, 7.4, 7.4], 218: [8.99, 3.99], 219: [8.99, 1.69], 220: [8.75, 8.75], 221: [8.75, 8.75], 222: [11.25, 11.25, 2.95], 223: [8.75, 37.0], 224: [8.49, 3.99], 225: [2.95, 9.25, 9.25, 6.0, 1.25], 226: [8.75, 9.25, 4.45], 227: [8.75, 11.25, 4.45], 228: [10.98], 229: [44.32], 230: [4.45, 8.75, 9.25, 6.49, 9.25], 231: [11.25, 8.75, 9.25, 2.15, 9.25, 4.45], 232: [9.25, 2.95], 233: [9.25, 8.75, 9.25, 1.25, 1.25], 234: [8.75, 8.75, 9.25, 4.45], 235: [11.75, 11.75, 11.75], 236: [9.25, 9.25], 237: [33.96, 2.39, 3.39, 3.39], 238: [9.25, 11.75], 239: [11.25, 2.15], 240: [8.75, 9.25, 4.45], 241: [10.98], 242: [11.25, 9.25], 243: [45.0], 244: [9.25, 2.95, 1.5], 245: [11.48], 246: [8.49, 1.69], 247: [8.49, 8.49, 8.49, 13.56], 248: [11.75, 4.45], 249: [8.75, 4.45], 250: [11.89, 9.39], 251: [8.75, 2.95, 1.25], 252: [9.25, 8.75], 253: [47.56], 254: [8.75, 9.25, 2.15, 2.15, 1.25], 255: [8.49, 3.99], 256: [10.98, 1.09], 257: [8.75, 4.45], 258: [8.75, 11.75, 2.95, 4.45], 259: [9.25, 8.75], 260: [8.49, 3.99], 261: [45.0], 262: [11.25, 1.25], 263: [8.75, 8.75], 264: [37.0, 6.49], 265: [8.75, 8.75, 4.45], 266: [8.49, 3.99], 267: [8.99, 1.09], 268: [8.49, 2.39], 269: [11.48, 1.69], 270: [5.0, 9.25, 1.5], 271: [35.0, 2.95], 272: [8.75, 4.45], 273: [11.75, 8.75], 274: [8.49, 1.69], 275: [8.49, 3.99], 276: [8.99, 8.99, 3.99, 8.99], 277: [11.25, 4.45, 1.25], 278: [3.99, 10.98], 279: [7.4, 3.0, 7.4, 4.0], 280: [8.49, 3.99], 281: [9.25, 4.45], 282: [11.25, 1.25, 11.75, 1.25], 283: [11.25, 2.15], 284: [11.25, 4.45, 11.25, 11.75], 285: [8.99, 2.39], 286: [8.75, 4.45, 1.25], 287: [8.99, 8.49, 4.36], 288: [8.49, 4.36, 1.09], 289: [8.75, 2.95, 1.25], 290: [1.5, 11.25], 291: [9.25, 2.95, 1.25], 292: [8.49, 3.99], 293: [11.48], 294: [3.99, 8.49], 295: [11.25, 1.25], 296: [8.99, 1.69], 297: [11.25, 1.25], 298: [6.49, 8.75], 299: [9.25, 8.75, 2.95], 300: [8.75, 11.75], 301: [8.69, 8.69, 2.29], 302: [3.99, 8.49], 303: [8.75, 8.75], 304: [1.25, 11.75, 11.25, 11.25], 305: [11.25, 1.25, 9.25], 306: [11.75, 6.49], 307: [3.99, 8.49], 308: [11.25, 2.15], 309: [11.25, 11.89], 310: [8.99, 1.69], 311: [8.99, 8.99, 3.99, 8.99], 312: [9.25, 9.25, 2.15], 313: [7.4, 7.4], 314: [8.75, 8.75], 315: [9.25, 4.45], 316: [11.25, 1.25], 317: [11.75, 11.25, 1.25], 318: [3.99, 8.49], 319: [8.49, 8.49, 8.99], 320: [8.75, 2.15, 1.25], 321: [8.49, 1.09, 1.09], 322: [8.75, 2.95, 1.25], 323: [9.25, 1.25, 2.15], 324: [11.25, 1.25], 325: [4.45, 8.75, 5.0], 326: [17.8, 8.75, 8.75, 8.75], 327: [11.25, 11.25], 328: [10.98, 3.99], 329: [10.98, 3.99], 330: [1.69, 8.99], 331: [9.25, 8.75], 332: [8.99, 1.09], 333: [9.25, 2.95], 334: [8.75, 9.25], 335: [3.99, 8.49], 336: [8.75, 8.75], 337: [45.0], 338: [10.98, 9.81, 3.99, 8.99, 1.09], 339: [11.08], 340: [8.75, 4.45], 341: [11.08], 342: [3.99, 8.49], 343: [8.6, 9.25, 8.75, 11.25, 11.25, 9.25], 344: [8.49, 8.99, 8.49], 345: [8.75, 2.95, 4.45], 346: [9.25, 2.95, 9.25, 8.75], 347: [11.25, 4.45], 348: [33.96], 349: [8.49, 2.39], 350: [11.25, 11.25], 351: [9.25, 4.45], 352: [9.25, 9.25, 4.45], 353: [8.75, 9.25], 354: [8.75, 9.25], 355: [9.25, 9.25], 356: [11.48, 8.99], 357: [45.0], 358: [11.75, 11.25, 1.25], 359: [8.75, 2.15, 1.25], 360: [11.25, 8.75, 1.25], 361: [11.25, 1.5], 362: [11.25, 11.25], 363: [9.25, 6.49, 17.8], 364: [8.75, 4.45], 365: [11.25, 1.25], 366: [35.0, 9.25], 367: [8.75, 11.75, 6.0], 368: [8.49, 8.49], 369: [10.98, 8.99, 3.99], 370: [8.75, 4.45], 371: [8.99, 1.69], 372: [11.75, 8.75], 373: [11.25, 4.45], 374: [11.75, 1.25], 375: [11.75, 2.95], 376: [8.99, 8.99, 4.36], 377: [35.96, 8.99], 378: [8.49, 1.69], 379: [11.75, 11.25, 2.95, 11.25, 9.25], 380: [11.75, 8.75, 2.15, 1.5], 381: [8.49, 8.49, 3.39], 382: [8.69, 3.89], 383: [8.75, 4.45], 384: [8.75, 11.25, 2.15, 8.75], 385: [8.49, 1.69], 386: [8.49, 8.49], 387: [1.25, 8.75, 11.75, 11.75], 388: [8.99, 1.09], 389: [8.75, 4.45, 8.75, 2.95, 8.75, 2.15], 390: [3.99, 8.49], 391: [8.99, 3.99], 392: [8.49, 1.69, 1.09], 393: [8.99, 1.09], 394: [9.25, 8.75], 395: [8.99, 2.39], 396: [1.25, 1.25, 11.25, 11.25], 397: [9.25, 9.25], 398: [11.25, 1.5], 399: [3.99, 8.49], 400: [11.25, 9.25, 11.25], 401: [35.0], 402: [8.75, 17.8, 8.75, 8.75], 403: [8.99, 2.39], 404: [11.25, 9.25, 2.15], 405: [11.25, 1.25], 406: [11.75, 1.25], 407: [11.25, 11.75], 408: [1.25, 11.25, 11.25], 409: [8.49, 10.98], 410: [8.75, 1.25, 8.75], 411: [8.49, 8.49], 412: [1.5, 1.5, 8.75, 4.45], 413: [11.25, 1.25, 11.75], 414: [8.49, 2.39], 415: [9.25, 4.45], 416: [9.25, 8.75], 417: [8.99, 1.69], 418: [35.0], 419: [2.39, 8.99, 8.99], 420: [11.25, 4.45], 421: [8.75, 4.45], 422: [9.25, 6.49], 423: [10.98, 8.49], 424: [8.49, 1.09, 1.69], 425: [9.25, 4.45], 426: [8.75, 1.25, 2.95], 427: [3.99, 8.49], 428: [11.75, 11.75, 2.15], 429: [11.48], 430: [8.75, 2.15, 1.25], 431: [11.25, 2.15, 1.25], 432: [8.75, 8.75, 6.49], 433: [1.69, 8.99], 434: [8.75, 11.75], 435: [10.98, 1.09], 436: [8.49, 3.39], 437: [8.75, 2.15, 1.25], 438: [11.48, 10.98], 439: [10.98, 8.49], 440: [2.95, 9.25, 9.25], 441: [11.75, 4.45], 442: [11.48], 443: [11.25, 8.75, 4.45], 444: [1.69, 8.99], 445: [8.75, 4.45, 1.5], 446: [11.75, 2.15], 447: [8.99, 2.39], 448: [8.75, 2.95, 1.25], 449: [8.75, 2.15, 1.25], 450: [4.36, 4.36, 11.48], 451: [8.75, 2.95, 11.75], 452: [11.75, 1.25], 453: [10.58], 454: [8.99, 2.39], 455: [11.75, 4.45], 456: [11.25, 11.25], 457: [35.0, 8.75], 458: [8.75, 8.75], 459: [45.0], 460: [9.25, 8.75, 4.45], 461: [11.75, 1.25], 462: [11.25, 11.25, 2.95], 463: [8.99, 1.69], 464: [11.25, 4.45], 465: [8.75, 6.49], 466: [8.75, 4.45, 9.25], 467: [4.45, 11.75, 11.75], 468: [4.45, 11.89, 11.75], 469: [11.25, 2.95, 1.5], 470: [4.45, 8.75], 471: [8.99, 1.09, 8.99, 1.09, 3.99], 472: [11.48, 8.49], 473: [9.25, 4.45], 474: [11.48], 475: [9.25, 2.95, 9.25], 476: [8.49, 8.99], 477: [8.99, 8.49], 478: [8.75, 2.95, 4.45, 11.89], 479: [10.58, 8.19, 1.69], 480: [8.75, 2.15, 1.25], 481: [35.0, 6.49, 9.25, 2.15], 482: [8.75, 4.45, 8.75, 1.25], 483: [11.48, 11.48], 484: [8.99, 4.36], 485: [8.49, 8.99, 2.39, 2.39, 4.36], 486: [8.75, 4.45], 487: [11.25, 9.25], 488: [9.25, 11.25, 11.25, 4.45, 2.95, 11.75], 489: [8.49, 8.49], 490: [8.99, 1.69], 491: [9.25, 11.25, 11.75, 9.25, 8.75, 11.75, 8.75, 8.75, 11.25, 11.25], 492: [10.98], 493: [11.25, 4.45], 494: [10.98, 8.49], 495: [8.99, 3.39], 496: [3.99, 8.99, 1.09, 1.09, 2.39], 497: [35.0, 4.45], 498: [11.25, 11.25, 4.45], 499: [9.25, 4.45], 500: [8.75, 2.15, 1.25], 501: [11.89, 2.95], 502: [11.75, 1.25], 503: [11.25, 4.45], 504: [11.48, 11.48], 505: [2.95, 9.25], 506: [8.75, 9.25, 2.95], 507: [11.25, 1.25, 11.75, 1.25], 508: [8.99, 2.39], 509: [1.25, 11.25, 1.25, 11.25], 510: [8.49, 3.99], 511: [140.0, 83.25, 8.75, 47.2, 17.8, 11.8, 6.49], 512: [10.98], 513: [35.96, 2.39], 514: [9.25, 8.75, 2.15], 515: [8.75, 4.45], 516: [8.49, 1.69], 517: [8.19, 8.69], 518: [10.98], 519: [3.99, 11.48, 11.48], 520: [4.45, 8.75, 6.49], 521: [8.75, 8.75], 522: [9.25, 1.25, 4.45], 523: [8.49, 1.69], 524: [9.25, 4.45], 525: [8.99, 1.09], 526: [11.25, 2.95], 527: [11.08, 11.08, 3.89], 528: [10.98], 529: [11.25, 8.75, 11.25], 530: [9.25, 8.6, 8.75], 531: [8.49, 3.99], 532: [1.69, 8.99], 533: [8.49, 1.69], 534: [11.75, 11.25, 11.89], 535: [9.25, 2.95, 9.25, 2.95], 536: [8.75, 4.45], 537: [4.45, 8.75], 538: [10.98], 539: [11.48, 8.49], 540: [9.25, 4.45], 541: [11.75, 11.89], 542: [8.99, 8.49], 543: [8.75, 9.25], 544: [8.75, 8.75], 545: [11.75, 11.75, 4.45], 546: [11.25, 11.75, 5.0], 547: [8.99, 1.69], 548: [11.75, 2.15], 549: [1.25, 9.25, 8.75, 17.8], 550: [9.25, 2.95], 551: [8.75, 11.25], 552: [17.8, 11.25, 11.75], 553: [11.48, 1.69, 3.39], 554: [9.25, 2.95], 555: [8.99, 1.69, 8.49], 556: [10.98], 557: [11.25, 2.95], 558: [8.99, 1.69], 559: [8.75, 2.15, 1.25], 560: [8.75, 2.95, 9.25, 5.0], 561: [11.25, 1.25, 11.75, 5.0, 11.25, 1.5, 8.75, 1.25, 2.95], 562: [11.48, 11.48], 563: [8.75, 8.75, 2.15], 564: [11.75, 1.25], 565: [9.25, 9.25], 566: [6.49, 11.75], 567: [8.49, 8.49, 1.09], 568: [10.98], 569: [8.75, 1.25, 2.15], 570: [11.25, 1.5], 571: [11.25, 11.25], 572: [8.49, 8.49], 573: [8.75, 1.5, 1.25, 1.5], 574: [8.75, 5.0, 2.15], 575: [7.4, 7.4, 4.0], 576: [9.25, 9.39, 9.25, 9.25, 9.39], 577: [11.25, 17.8, 11.25, 24.0, 11.25, 11.25, 11.25], 578: [45.0], 579: [11.48, 1.09], 580: [8.49, 8.49], 581: [35.0], 582: [11.25, 1.5], 583: [9.25, 8.75], 584: [3.99, 8.49], 585: [8.75, 8.75, 8.75], 586: [8.75, 8.75], 587: [11.75, 1.5], 588: [11.25, 11.25, 2.95], 589: [8.99, 10.98], 590: [9.25, 8.75, 4.45], 591: [8.49, 1.09, 2.39], 592: [8.75, 8.75], 593: [11.48], 594: [8.99, 8.49], 595: [8.49, 2.39], 596: [10.98, 8.49, 3.99], 597: [11.75, 4.45], 598: [8.75, 2.15, 1.25], 599: [10.98, 8.99], 600: [11.25, 1.5], 601: [8.75, 2.15, 1.25], 602: [8.75, 9.25, 8.75], 603: [11.25, 1.5], 604: [8.75, 1.25, 4.45], 605: [10.98], 606: [8.75, 2.95, 1.25], 607: [8.75, 2.95, 1.25], 608: [8.49, 8.49, 2.39], 609: [11.25, 1.25], 610: [8.75, 8.75], 611: [9.25, 8.75], 612: [11.89, 1.25], 613: [8.75, 2.15, 1.25], 614: [8.99, 1.09], 615: [8.75, 4.45], 616: [78.75], 617: [8.75, 4.45], 618: [11.75, 2.95], 619: [8.75, 8.75], 620: [11.75, 8.75], 621: [11.25, 11.25], 622: [11.25, 4.45, 1.25], 623: [8.49, 8.49, 8.49, 8.99], 624: [8.99, 2.39, 2.39, 3.99], 625: [8.75, 4.45], 626: [2.15, 9.25, 1.25], 627: [11.25, 11.75], 628: [8.75, 4.45, 11.25, 2.15, 8.75, 4.45], 629: [8.75, 8.75, 1.25], 630: [11.25, 2.15], 631: [8.75, 11.8], 632: [11.75, 1.25], 633: [9.25, 11.25], 634: [8.75, 1.25, 4.45], 635: [11.75, 4.45, 8.75, 47.0], 636: [8.75, 2.95, 8.75], 637: [8.75, 11.89, 4.45, 2.95, 1.25], 638: [8.75, 4.45, 2.95, 1.25], 639: [8.75, 2.15, 1.25], 640: [11.75, 2.95], 641: [8.99, 3.39], 642: [9.25, 9.25], 643: [35.0, 2.95], 644: [11.89, 1.5], 645: [11.25, 2.95], 646: [9.25, 11.25], 647: [11.25, 2.95], 648: [8.75, 9.25, 8.6], 649: [8.75, 8.75, 11.25, 8.75, 8.6], 650: [8.75, 1.25, 2.15], 651: [8.49, 8.49, 3.39, 3.39], 652: [10.98, 10.98, 2.39], 653: [11.25, 11.75], 654: [11.75, 1.25, 11.8, 8.75, 11.25], 655: [9.25, 4.45, 1.5], 656: [3.39, 8.99, 2.39], 657: [11.25, 2.15], 658: [11.25, 11.75], 659: [11.75, 4.45], 660: [11.75, 4.45], 661: [9.25, 8.75], 662: [8.49, 8.99], 663: [8.49, 8.99], 664: [11.75, 8.75], 665: [8.49, 3.99], 666: [3.89, 11.08], 667: [8.49, 8.99, 8.49], 668: [8.49, 8.49], 669: [11.25, 2.15], 670: [35.0, 8.75, 2.95], 671: [8.49, 8.49], 672: [10.98, 1.09], 673: [11.25, 2.15], 674: [2.95, 1.25, 8.75], 675: [9.25, 9.25], 676: [9.25, 2.95], 677: [8.75, 2.15, 1.25], 678: [8.99, 3.99], 679: [11.75, 2.15], 680: [8.99, 3.39], 681: [9.25, 8.75], 682: [11.25, 11.25, 4.45], 683: [8.75, 2.15, 1.25], 684: [11.75, 4.45], 685: [9.25, 2.95], 686: [8.49, 8.49], 687: [11.25, 8.75, 4.45], 688: [11.25, 11.25, 11.25, 11.25, 4.45], 689: [8.49, 1.69], 690: [8.49, 3.39], 691: [8.75, 11.25, 9.25, 8.75, 11.25, 11.25, 11.75, 11.25, 11.75, 11.25, 11.75], 692: [43.92], 693: [10.98, 1.69], 694: [11.48, 8.99], 695: [8.49, 1.69], 696: [9.25, 2.15, 1.5], 697: [11.25, 1.5], 698: [8.75, 8.75, 2.95], 699: [8.49, 1.69], 700: [8.75, 2.95, 1.25], 701: [11.25, 2.15], 702: [11.08], 703: [8.49, 8.49, 8.49], 704: [11.75, 1.25], 705: [11.75, 8.75], 706: [8.75, 8.75, 4.45], 707: [11.25, 1.5], 708: [47.0, 11.75, 6.49], 709: [8.75, 4.45, 6.49], 710: [8.75, 5.0, 2.15], 711: [8.49, 2.39], 712: [8.75, 11.75, 4.45], 713: [8.99, 10.98], 714: [9.25, 2.95], 715: [9.25, 9.25], 716: [11.75, 8.75], 717: [8.75, 8.75], 718: [10.98], 719: [11.25, 9.25], 720: [8.75, 8.75, 2.15], 721: [11.25, 2.15], 722: [4.45, 11.75], 723: [8.49, 2.39], 724: [9.25, 1.25, 1.25, 1.25], 725: [1.25, 8.75, 2.15], 726: [8.49, 1.69], 727: [11.25, 1.5], 728: [8.75, 8.75], 729: [8.49, 3.99], 730: [8.99, 1.09], 731: [11.25, 1.25], 732: [8.49, 2.39, 8.49], 733: [8.75, 9.25], 734: [11.25, 4.45, 11.25, 11.89], 735: [8.99, 8.49], 736: [8.75, 4.45], 737: [8.75, 11.75, 11.75, 17.8], 738: [9.39, 2.95], 739: [8.49, 3.99], 740: [8.75, 2.15, 1.25], 741: [43.92], 742: [8.49, 1.69], 743: [8.75, 4.45], 744: [8.49, 8.99], 745: [8.49, 3.99], 746: [8.75, 8.75, 2.95, 8.75], 747: [35.0], 748: [9.25, 2.95], 749: [8.75, 6.49], 750: [8.6, 8.75], 751: [8.75, 2.15, 1.5], 752: [8.49, 8.49, 2.39], 753: [9.25, 4.45], 754: [6.49, 11.75, 4.45], 755: [10.98, 1.69], 756: [9.39, 9.25], 757: [9.25, 2.95], 758: [8.75, 2.15, 1.25], 759: [11.25, 9.25, 8.75, 11.25, 8.75, 11.25, 5.0, 5.0, 24.0, 17.8, 11.8], 760: [11.25, 11.25], 761: [8.49, 10.98], 762: [8.75, 2.15, 1.5], 763: [9.25, 1.25, 1.5, 2.15], 764: [1.25, 8.75, 2.95], 765: [8.49, 3.99], 766: [11.25, 8.6], 767: [11.75, 2.15], 768: [37.0], 769: [8.49, 2.39], 770: [8.75, 4.45, 11.75], 771: [8.99, 3.99], 772: [9.25, 9.25], 773: [1.5, 8.75, 2.95], 774: [6.49, 11.75], 775: [8.49, 8.99], 776: [8.75, 4.45, 6.49], 777: [45.0], 778: [9.25, 2.95], 779: [8.49, 1.69], 780: [10.98], 781: [8.75, 4.45], 782: [11.25, 2.95], 783: [8.99, 8.49, 2.39], 784: [11.75, 6.49, 11.25], 785: [11.75, 2.95], 786: [8.99, 1.69], 787: [8.99, 4.36, 1.09, 8.99, 8.99], 788: [1.09, 8.99], 789: [8.99, 8.49], 790: [10.98, 1.09], 791: [11.75, 9.25, 11.25, 11.25, 2.15], 792: [11.25, 8.75, 4.45, 2.95], 793: [11.75, 1.5], 794: [8.99, 10.98, 2.39], 795: [8.75, 2.15, 9.25], 796: [1.5, 8.75, 2.15], 797: [3.99, 8.99], 798: [6.49, 8.75, 17.8], 799: [8.99, 3.99], 800: [35.0], 801: [11.25, 1.25], 802: [10.98], 803: [9.25, 4.45, 1.25, 6.0], 804: [11.25, 4.45], 805: [4.45, 2.95, 9.25], 806: [11.25, 2.15, 11.25, 11.25, 4.45], 807: [2.95, 9.25, 11.25, 1.25], 808: [8.75, 2.95, 1.25], 809: [8.75, 4.45], 810: [11.48, 11.48], 811: [8.49, 2.39], 812: [11.25, 11.75, 2.15], 813: [1.5, 2.15, 8.75], 814: [11.25, 17.8, 11.25], 815: [11.25, 1.25], 816: [4.45, 9.25, 9.25, 8.75], 817: [9.25, 8.75, 8.75], 818: [9.25, 8.75, 11.75, 11.75, 8.75, 8.75, 17.8, 2.95], 819: [10.98], 820: [8.49, 8.49], 821: [10.98], 822: [8.99, 8.99], 823: [11.75, 35.0, 11.75], 824: [3.99, 8.49], 825: [10.98, 1.69], 826: [35.0], 827: [8.99, 2.39], 828: [8.99, 2.39], 829: [1.25, 8.75, 2.95], 830: [11.75, 11.25], 831: [35.0], 832: [8.49, 8.49, 2.39], 833: [11.25, 1.5], 834: [8.75, 6.0, 1.25], 835: [8.75, 4.45], 836: [11.75, 11.75, 4.45], 837: [43.92], 838: [8.75, 4.45, 8.75], 839: [11.25, 9.25], 840: [8.99, 2.39], 841: [9.25, 8.75], 842: [10.98, 8.49, 3.99, 3.39], 843: [11.75, 1.5], 844: [4.45, 9.25, 8.75], 845: [1.25, 11.75], 846: [8.75, 1.5, 8.75], 847: [8.75, 2.15, 1.5], 848: [8.75, 2.95, 8.75, 8.75, 35.0, 8.75], 849: [6.49, 4.45, 11.25], 850: [11.25, 8.6, 8.75], 851: [11.25, 4.45], 852: [8.99, 2.39], 853: [9.25, 9.25], 854: [9.25, 4.45], 855: [11.75, 11.25, 2.95, 2.15], 856: [11.25, 11.25], 857: [8.75, 2.15, 1.5], 858: [9.25, 4.45], 859: [10.98, 8.99, 4.36], 860: [8.75, 4.45, 1.25], 861: [8.99, 2.39], 862: [4.45, 8.75], 863: [10.98], 864: [11.75, 1.5], 865: [10.98], 866: [8.99, 8.49, 3.99], 867: [8.99, 8.49], 868: [3.99, 8.49, 8.49, 8.99], 869: [11.25, 11.25], 870: [10.98], 871: [10.98], 872: [10.98, 2.39, 3.39], 873: [8.75, 1.25, 2.95], 874: [11.75, 1.5], 875: [10.98, 1.69], 876: [4.45, 8.75], 877: [8.75, 8.75], 878: [8.75, 4.45], 879: [9.25, 8.75, 11.25, 8.75], 880: [3.99, 8.99, 8.49], 881: [11.25, 11.25, 8.75], 882: [4.45, 8.75], 883: [4.45, 1.25, 8.75], 884: [8.75, 1.5, 2.15], 885: [11.75, 11.75], 886: [11.75, 11.75], 887: [11.75, 1.5], 888: [8.75, 9.25, 1.25, 8.75, 2.15], 889: [8.99, 1.09], 890: [4.45, 11.25, 11.75], 891: [2.15, 8.75, 8.75], 892: [1.25, 9.25, 2.15], 893: [11.75, 11.25], 894: [8.75, 11.25, 4.45], 895: [8.49, 1.69], 896: [8.75, 8.75], 897: [8.99, 8.49], 898: [9.25, 11.25, 2.95], 899: [4.45, 11.75, 6.49], 900: [11.48, 8.99], 901: [17.44, 11.48, 8.99, 8.49], 902: [11.48], 903: [8.75, 2.15, 1.5], 904: [8.99, 1.69], 905: [11.25, 1.25], 906: [9.25, 9.25], 907: [8.75, 9.25, 17.8, 2.15, 9.25], 908: [10.98, 8.49], 909: [8.75, 9.25, 8.6], 910: [9.25, 8.75], 911: [8.75, 2.15, 1.25], 912: [8.75, 1.25, 8.75, 11.8], 913: [9.25, 8.75, 9.25, 4.45], 914: [9.25, 11.75], 915: [5.0, 9.25, 2.15], 916: [9.25, 1.5, 1.25, 11.25, 2.95, 8.75, 8.75, 8.75], 917: [10.98], 918: [8.75, 8.75], 919: [8.75, 2.15, 1.25], 920: [10.98], 921: [8.75, 2.15, 1.5], 922: [8.75, 2.95, 1.25], 923: [9.25, 9.25], 924: [8.49, 2.39], 925: [8.75, 4.45], 926: [9.25, 8.75, 8.75, 8.75, 9.25, 8.75, 9.25, 8.75, 8.75, 8.75, 8.75, 9.25, 8.75, 9.25, 8.75, 9.25, 8.75, 8.75, 8.75, 9.25, 8.75, 9.25, 8.75], 927: [8.99, 8.99], 928: [8.75, 2.95, 1.25], 929: [11.75, 1.5], 930: [11.25, 11.25], 931: [8.75, 1.5, 2.15], 932: [33.96], 933: [11.75, 1.5], 934: [8.75, 8.6, 1.5], 935: [8.75, 2.95, 1.25], 936: [1.25, 9.25, 4.45], 937: [11.25, 8.75, 4.45], 938: [8.75, 2.15, 1.25], 939: [10.98, 1.69], 940: [8.75, 1.25, 8.75, 1.25], 941: [11.25, 8.75, 8.75], 942: [8.49, 1.69], 943: [9.25, 11.75], 944: [8.49, 2.39], 945: [9.25, 2.95, 6.49, 8.75], 946: [8.75, 9.25, 8.75], 947: [13.56, 35.96, 3.39], 948: [11.75, 11.25, 8.75], 949: [4.45, 11.75, 9.25, 8.75, 6.49], 950: [8.99, 2.39], 951: [8.75, 11.25], 952: [11.75, 4.45, 8.75, 2.15], 953: [9.25, 9.25, 9.25, 11.89, 11.75, 11.25, 9.25, 9.25], 954: [8.75, 8.75], 955: [8.49, 1.69, 1.09], 956: [11.25, 1.5], 957: [11.25, 11.25], 958: [11.75, 1.5], 959: [8.49, 8.99], 960: [45.0], 961: [8.75, 8.6], 962: [8.75, 11.25, 2.15], 963: [11.25, 2.95], 964: [4.45, 11.25], 965: [8.49, 3.39, 2.39], 966: [11.75, 2.15, 11.75], 967: [8.99, 2.39], 968: [8.75, 11.75], 969: [11.89, 1.25], 970: [37.5, 11.89], 971: [1.09, 8.49, 2.39], 972: [8.75, 8.75, 8.75], 973: [8.75, 9.25, 11.25, 8.75, 17.8], 974: [9.25, 8.75], 975: [8.75, 11.75, 6.0], 976: [1.5, 11.25, 11.75], 977: [8.99, 10.98], 978: [4.45, 8.75, 2.15], 979: [9.25, 11.25, 4.45], 980: [1.69, 10.98], 981: [9.25, 11.75], 982: [9.25, 4.45], 983: [10.98, 3.99, 8.49], 984: [1.25, 9.25, 4.45], 985: [10.98], 986: [8.75, 8.75], 987: [11.75, 11.25], 988: [8.49, 11.48], 989: [4.45, 1.25, 11.25], 990: [8.99, 1.09, 2.39], 991: [11.25, 2.15], 992: [8.75, 4.45], 993: [8.49, 1.69], 994: [10.98, 1.69], 995: [9.25, 4.45, 11.25], 996: [8.75, 11.25, 11.75, 11.25], 997: [45.0], 998: [8.49, 2.39], 999: [5.0, 8.75, 8.75, 9.25], 1000: [9.25, 11.25], 1001: [8.99, 1.09], 1002: [8.99, 1.69], 1003: [11.75, 1.25], 1004: [43.92], 1005: [8.75, 2.15, 1.25], 1006: [8.75, 11.25, 9.25, 11.25, 8.75, 8.75, 11.25, 2.15], 1007: [8.99, 1.09, 1.69], 1008: [8.75, 2.15, 1.25], 1009: [8.49, 1.09, 1.09, 1.69], 1010: [11.48, 8.49, 8.49, 9.56], 1011: [9.25, 1.25, 1.25, 1.25], 1012: [11.25, 11.25], 1013: [11.75, 4.45, 11.25, 4.45], 1014: [8.99, 1.09], 1015: [11.25, 2.15], 1016: [11.25, 9.25, 11.75], 1017: [11.25, 11.25], 1018: [9.25, 2.95], 1019: [11.25, 4.45], 1020: [8.75, 2.95, 2.95], 1021: [11.25, 1.5], 1022: [10.98], 1023: [33.96], 1024: [37.0], 1025: [10.98, 3.99, 1.09], 1026: [9.25, 9.25, 8.75, 4.45], 1027: [35.0], 1028: [8.75, 4.45], 1029: [8.75, 1.25, 4.45], 1030: [9.25, 8.75, 8.75], 1031: [35.0, 4.45], 1032: [9.39, 1.25, 2.95], 1033: [11.25, 8.75, 8.75], 1034: [11.25, 2.15], 1035: [17.8, 11.25, 11.89], 1036: [10.98], 1037: [11.25, 4.45], 1038: [11.25, 11.25], 1039: [8.49, 10.98], 1040: [8.49, 3.39], 1041: [9.25, 8.75, 2.95], 1042: [6.0, 9.39], 1043: [11.75, 2.95], 1044: [1.5, 11.25, 11.75], 1045: [8.75, 2.15, 1.5], 1046: [8.49, 3.39], 1047: [11.75, 1.25], 1048: [35.0], 1049: [11.25, 1.25], 1050: [8.75, 2.95, 1.25], 1051: [11.25, 11.75, 40.05, 11.25, 11.75], 1052: [11.25, 11.25, 4.45, 11.25], 1053: [8.49, 3.39], 1054: [9.25, 2.95], 1055: [9.56, 2.39, 3.99], 1056: [8.99, 8.99], 1057: [11.25, 11.25, 8.75], 1058: [11.25, 2.95, 4.45], 1059: [9.25, 8.75, 4.45], 1060: [8.49, 8.49], 1061: [10.98], 1062: [10.98, 3.99], 1063: [11.75, 8.75], 1064: [11.75, 4.45, 1.5, 1.25], 1065: [8.49, 8.49], 1066: [8.75, 8.75], 1067: [8.75, 9.25], 1068: [8.75, 2.95, 1.25], 1069: [11.25, 1.5], 1070: [11.25, 4.45, 9.25, 8.75], 1071: [8.75, 9.25, 8.75, 4.45, 1.5], 1072: [8.75, 8.75], 1073: [8.49, 1.69], 1074: [8.75, 2.15, 9.25, 2.15], 1075: [1.5, 11.25], 1076: [11.75, 2.15, 6.49], 1077: [9.25, 9.25], 1078: [11.25, 11.25], 1079: [11.75, 11.75], 1080: [11.75, 11.25], 1081: [8.75, 2.15, 1.25], 1082: [11.75, 9.25, 11.25], 1083: [8.75, 11.8], 1084: [8.75, 4.45], 1085: [9.25, 9.25, 4.45], 1086: [11.25, 4.45], 1087: [11.25, 8.75, 2.15], 1088: [11.89, 11.25], 1089: [8.75, 2.95, 1.5], 1090: [8.75, 8.6], 1091: [8.75, 11.25, 11.75], 1092: [11.75, 2.15, 11.25], 1093: [8.99, 1.09], 1094: [8.49, 8.49], 1095: [8.49, 3.39, 8.99], 1096: [10.98, 3.99], 1097: [11.75, 2.15, 8.75, 4.45, 5.0], 1098: [11.48, 1.09], 1099: [8.49, 8.49], 1100: [33.96], 1101: [3.99, 10.98, 1.09], 1102: [8.75, 2.95, 8.75], 1103: [8.75, 2.95, 9.25], 1104: [11.25, 2.15], 1105: [9.25, 4.45], 1106: [4.45, 9.25, 11.75], 1107: [11.75, 2.15], 1108: [9.25, 8.75], 1109: [11.25, 6.49], 1110: [8.75, 11.25, 2.95], 1111: [10.98, 3.99], 1112: [1.5, 9.25, 2.15], 1113: [8.75, 11.25], 1114: [11.89, 4.45, 1.5, 1.25], 1115: [8.75, 8.75, 4.45], 1116: [11.25, 11.75], 1117: [8.49, 1.09, 1.09, 1.69], 1118: [8.99, 3.39], 1119: [8.99, 1.69], 1120: [8.49, 8.99], 1121: [9.81, 8.99], 1122: [8.99, 1.09], 1123: [10.98, 1.69], 1124: [3.99, 8.49, 1.09], 1125: [8.75, 8.75], 1126: [11.75, 8.75], 1127: [9.25, 8.75], 1128: [3.39, 8.99, 8.99, 2.39], 1129: [9.25, 8.75], 1130: [9.25, 9.25], 1131: [8.99, 3.99, 2.39], 1132: [8.49, 1.09, 8.49], 1133: [8.99, 3.39], 1134: [11.25, 1.25], 1135: [8.99, 3.99], 1136: [8.75, 17.8, 6.49], 1137: [8.75, 9.25], 1138: [11.25, 11.25], 1139: [11.25, 1.25], 1140: [8.75, 9.25, 4.45, 1.25], 1141: [8.75, 1.25, 2.15], 1142: [35.96, 8.99], 1143: [8.75, 2.95, 1.25], 1144: [11.75, 1.5, 1.5], 1145: [8.75, 8.75], 1146: [11.08], 1147: [8.99, 1.69], 1148: [8.99, 1.69], 1149: [10.98, 3.99, 3.39], 1150: [11.75, 2.15], 1151: [11.75, 2.95], 1152: [8.75, 8.75], 1153: [11.75, 11.25], 1154: [11.75, 11.25, 4.45], 1155: [11.25, 1.25], 1156: [4.36, 4.36, 2.39, 8.49, 8.99, 2.39], 1157: [11.25, 8.75], 1158: [11.75, 11.75], 1159: [11.25, 4.45, 2.15], 1160: [8.19, 10.58], 1161: [4.45, 9.25], 1162: [1.09, 8.99], 1163: [11.25, 1.5], 1164: [8.99, 3.99], 1165: [4.45, 11.75, 2.15], 1166: [11.25, 8.75, 4.45], 1167: [8.75, 9.25, 19.35, 8.75], 1168: [11.25, 11.25], 1169: [8.75, 11.75], 1170: [43.92, 8.99, 15.21, 8.49], 1171: [9.25, 11.25, 4.45], 1172: [3.39, 8.49], 1173: [8.99, 8.49], 1174: [35.0], 1175: [45.92], 1176: [8.75, 11.25, 11.89, 11.25], 1177: [8.49, 1.69, 1.09], 1178: [8.99, 8.99], 1179: [9.25, 8.75], 1180: [9.25, 2.95], 1181: [8.49, 3.99], 1182: [8.99, 8.49, 21.509999999999998, 8.49, 8.99], 1183: [35.0], 1184: [9.25, 9.25], 1185: [11.25, 1.25], 1186: [8.99, 1.09], 1187: [8.75, 4.45], 1188: [11.25, 2.15, 11.75], 1189: [11.25, 11.25, 8.75], 1190: [8.75, 4.45, 1.25], 1191: [11.75, 11.75, 5.0], 1192: [8.49, 8.99, 4.36], 1193: [11.25, 4.45, 11.25, 11.75], 1194: [8.49, 8.99, 1.69], 1195: [1.09, 8.99, 8.99], 1196: [11.25, 6.49, 11.25], 1197: [8.75, 4.45], 1198: [8.99, 1.69], 1199: [11.48], 1200: [11.75, 5.0], 1201: [8.49, 1.09, 1.09, 1.69], 1202: [8.49, 2.39], 1203: [11.75, 1.25], 1204: [8.49, 1.69], 1205: [8.49, 1.69], 1206: [11.75, 4.45, 8.75], 1207: [8.75, 4.45], 1208: [8.75, 11.25], 1209: [11.25, 8.75], 1210: [15.96, 8.49, 1.09], 1211: [8.49, 3.99], 1212: [8.49, 3.99], 1213: [8.99, 3.99], 1214: [11.25, 4.45], 1215: [8.49, 2.39], 1216: [8.49, 2.39], 1217: [3.99, 8.49], 1218: [1.25, 11.25, 4.45], 1219: [9.25, 4.45], 1220: [1.09, 8.99, 3.99], 1221: [11.25, 17.8, 9.25], 1222: [11.25, 8.75], 1223: [11.25, 11.25, 11.25], 1224: [11.25, 11.25], 1225: [8.99, 8.49], 1226: [8.75, 8.75, 4.45], 1227: [33.96], 1228: [11.75, 11.25, 9.25, 4.45], 1229: [9.25, 2.95], 1230: [8.49, 1.69], 1231: [11.25, 4.45, 9.25], 1232: [1.5, 11.25], 1233: [11.48], 1234: [11.25, 2.15], 1235: [8.75, 9.39], 1236: [8.49, 3.99], 1237: [8.19, 2.29], 1238: [11.48, 1.69], 1239: [11.48, 3.99], 1240: [8.49, 1.69], 1241: [9.25, 2.95], 1242: [8.49, 1.69], 1243: [11.25, 4.45, 9.39, 9.25, 8.75], 1244: [8.75, 4.45, 11.89, 4.45], 1245: [4.45, 8.75], 1246: [8.75, 8.75, 2.15], 1247: [8.75, 11.25], 1248: [9.25, 11.25, 4.45, 6.49], 1249: [33.96], 1250: [37.0, 5.0, 2.95], 1251: [3.99, 8.49], 1252: [8.19, 11.08], 1253: [6.49, 11.75], 1254: [2.39, 8.99, 1.09], 1255: [11.25, 4.45, 11.25], 1256: [8.99, 1.69], 1257: [43.92], 1258: [4.36, 8.99], 1259: [8.99, 2.39], 1260: [8.69, 1.69], 1261: [17.8, 5.0, 8.75], 1262: [8.99, 1.09], 1263: [8.49, 8.49], 1264: [8.75, 4.45], 1265: [35.0], 1266: [8.75, 9.25], 1267: [8.49, 2.39], 1268: [8.75, 4.45], 1269: [11.25, 11.25], 1270: [11.75, 8.75], 1271: [8.49, 8.49, 8.49, 8.99], 1272: [8.75, 4.45], 1273: [11.48], 1274: [8.75, 1.25, 2.15], 1275: [9.25, 4.45], 1276: [11.75, 2.15, 11.25], 1277: [8.99, 2.39], 1278: [8.69, 8.69], 1279: [11.75, 2.95], 1280: [11.75, 1.5], 1281: [9.25, 4.45, 1.5], 1282: [11.48, 8.99, 2.39], 1283: [11.25, 11.89, 2.15, 1.25], 1284: [11.75, 4.45], 1285: [8.75, 8.75], 1286: [11.25, 4.45], 1287: [11.25, 2.15, 4.45], 1288: [8.49, 1.09, 3.99], 1289: [11.25, 11.25], 1290: [8.49, 2.39], 1291: [8.99, 2.39], 1292: [11.25, 2.15], 1293: [8.75, 2.95, 1.25], 1294: [8.75, 11.25], 1295: [35.0], 1296: [11.75, 11.75], 1297: [11.25, 11.25], 1298: [4.45, 5.0, 8.75], 1299: [8.99, 8.99, 1.69], 1300: [8.99, 1.69], 1301: [11.25, 1.25], 1302: [11.08, 8.69], 1303: [8.99, 1.09], 1304: [11.25, 11.25, 2.95, 1.25], 1305: [8.75, 1.25, 8.75], 1306: [8.75, 2.15, 1.25], 1307: [8.49, 3.99], 1308: [8.49, 2.39], 1309: [8.49, 21.509999999999998], 1310: [8.75, 4.45], 1311: [11.48], 1312: [8.75, 8.75], 1313: [11.48], 1314: [8.75, 9.25], 1315: [8.49, 3.99], 1316: [1.5, 11.25], 1317: [11.25, 8.75], 1318: [8.75, 4.45], 1319: [9.25, 4.45], 1320: [8.75, 8.75, 8.6, 2.95], 1321: [8.75, 13.5], 1322: [9.25, 11.25, 4.45], 1323: [11.25, 11.25, 8.75, 9.25], 1324: [8.75, 2.15, 1.25], 1325: [8.75, 2.15, 1.25], 1326: [8.99, 8.49], 1327: [8.75, 8.75, 1.25], 1328: [11.75, 13.5], 1329: [8.75, 8.75], 1330: [3.99, 3.39, 8.49, 2.39, 8.99], 1331: [1.5, 11.25, 11.25], 1332: [8.75, 8.75, 2.15], 1333: [8.75, 2.15, 1.25], 1334: [43.92], 1335: [8.49, 1.69], 1336: [78.21000000000001], 1337: [11.75, 1.5], 1338: [8.99, 8.99], 1339: [11.48], 1340: [9.25, 9.25], 1341: [8.75, 8.75, 8.75, 9.25, 8.75], 1342: [8.75, 2.15, 1.25], 1343: [11.89, 8.75], 1344: [11.75, 4.45], 1345: [37.0], 1346: [9.25, 9.39], 1347: [8.49, 2.39], 1348: [8.49, 1.69, 1.09], 1349: [8.99, 8.49, 4.36], 1350: [11.25, 1.25], 1351: [8.49, 3.39], 1352: [8.49, 3.99], 1353: [11.25, 8.75], 1354: [8.49, 1.69], 1355: [33.96], 1356: [9.25, 9.25, 11.75, 1.25], 1357: [11.25, 8.75], 1358: [8.49, 8.49], 1359: [8.75, 1.25, 1.25, 1.25], 1360: [11.25, 25.96, 11.75, 11.75, 4.45], 1361: [11.25, 11.75], 1362: [10.98, 8.49], 1363: [8.49, 2.39], 1364: [9.25, 11.25], 1365: [8.75, 2.95, 1.5], 1366: [11.25, 2.95], 1367: [9.25, 2.95, 9.25, 8.75], 1368: [11.25, 8.75], 1369: [8.75, 4.45], 1370: [11.25, 1.25], 1371: [8.75, 2.95, 5.0], 1372: [9.25, 9.25], 1373: [9.25, 6.49], 1374: [35.0], 1375: [8.49, 1.69], 1376: [8.49, 3.99], 1377: [8.75, 2.95, 2.95], 1378: [8.49, 8.99], 1379: [8.99, 1.09], 1380: [8.75, 4.45, 1.25], 1381: [11.25, 11.75], 1382: [11.25, 9.25], 1383: [11.25, 1.5], 1384: [11.25, 2.15], 1385: [10.98], 1386: [8.75, 11.75], 1387: [2.95, 11.25], 1388: [11.25, 9.25], 1389: [8.75, 9.25, 8.75], 1390: [8.75, 8.75, 1.25], 1391: [11.25, 1.5, 2.15], 1392: [8.75, 8.75, 11.25], 1393: [8.75, 8.75], 1394: [11.25, 4.45], 1395: [8.49, 8.49, 8.49], 1396: [8.49, 8.99, 1.69, 2.39, 1.09, 1.09], 1397: [11.25, 2.95], 1398: [105.75], 1399: [8.75, 2.95, 1.25], 1400: [11.25, 2.15], 1401: [9.25, 4.45], 1402: [8.75, 8.75, 8.75, 4.45], 1403: [1.25, 11.89], 1404: [8.75, 2.15, 1.25], 1405: [8.49, 1.09, 1.09, 1.69], 1406: [8.69, 8.69], 1407: [9.25, 2.95], 1408: [10.98, 2.39], 1409: [45.0], 1410: [43.92], 1411: [10.98, 8.49, 1.69], 1412: [11.75, 2.95], 1413: [8.75, 11.25], 1414: [8.75, 9.25, 8.75], 1415: [8.19, 10.58], 1416: [8.75, 2.95, 1.5], 1417: [5.0, 9.25, 4.45], 1418: [9.25, 11.25], 1419: [8.69, 8.69, 3.89], 1420: [8.69, 1.69], 1421: [4.45, 9.25], 1422: [11.25, 4.45, 2.15], 1423: [8.19, 8.69], 1424: [4.45, 11.25], 1425: [1.25, 11.25, 8.75], 1426: [11.89, 11.75, 11.75, 9.25], 1427: [8.75, 2.15, 1.5], 1428: [11.75, 4.45], 1429: [3.99, 8.99, 10.98, 2.39], 1430: [1.25, 2.95, 8.75], 1431: [2.95, 9.25, 9.25, 9.25, 8.75, 2.15], 1432: [9.25, 9.25], 1433: [3.39, 8.49, 8.49, 2.39], 1434: [10.98, 1.09, 1.09, 8.49], 1435: [11.25, 1.25], 1436: [8.99, 1.09], 1437: [8.75, 2.15, 1.5], 1438: [3.99, 8.49], 1439: [8.75, 2.15, 1.5], 1440: [8.49, 10.98, 4.36], 1441: [8.75, 2.15, 1.5], 1442: [4.45, 9.25], 1443: [663.75, 73.5, 6.49, 101.25, 140.0, 83.25, 6.0], 1444: [11.25, 11.75], 1445: [10.98, 2.39], 1446: [5.0, 8.75, 4.45], 1447: [33.96], 1448: [8.75, 6.49], 1449: [33.96, 35.96, 33.96, 33.96, 8.99, 8.99, 8.49], 1450: [9.25, 8.75, 2.95], 1451: [11.48, 2.39], 1452: [8.99, 2.39], 1453: [11.25, 4.45, 8.75, 9.25], 1454: [6.49, 78.75, 8.75, 78.75, 8.75, 8.75], 1455: [11.25, 11.25, 2.15], 1456: [1.25, 11.75], 1457: [8.75, 2.15, 1.5], 1458: [11.25, 2.15], 1459: [8.99, 2.39], 1460: [11.25, 11.25, 2.15], 1461: [11.25, 11.25, 8.75], 1462: [9.56, 43.92], 1463: [8.49, 2.39], 1464: [9.25, 2.95], 1465: [33.96], 1466: [8.19, 3.89], 1467: [8.99, 1.09], 1468: [8.99, 3.39], 1469: [9.25, 4.45], 1470: [10.98, 10.98], 1471: [35.0], 1472: [11.25, 1.25, 8.75], 1473: [11.75, 4.45], 1474: [11.25, 11.25], 1475: [8.99, 1.09], 1476: [10.98, 8.49, 1.69], 1477: [11.25, 9.25], 1478: [33.96], 1479: [8.75, 4.45], 1480: [11.25, 6.49, 11.75], 1481: [9.25, 9.25], 1482: [8.75, 4.45, 5.0], 1483: [8.75, 11.75, 8.75, 9.25, 11.75, 9.25, 8.75, 9.25, 8.75, 11.25, 11.75, 9.25, 8.75, 11.75], 1484: [8.49, 1.09, 1.09], 1485: [8.49, 1.09, 1.69], 1486: [11.25, 1.25], 1487: [8.75, 2.15, 1.5], 1488: [8.49, 1.69], 1489: [1.25, 8.75, 2.95], 1490: [8.49, 3.99], 1491: [8.49, 8.49], 1492: [8.75, 11.25, 2.15], 1493: [1.5, 11.75], 1494: [8.99, 1.09], 1495: [10.98], 1496: [10.98], 1497: [11.25, 1.25], 1498: [8.75, 4.45], 1499: [4.45, 1.25, 11.89], 1500: [8.99, 8.99], 1501: [11.25, 4.45], 1502: [47.0], 1503: [8.49, 3.99], 1504: [9.25, 4.45], 1505: [4.45, 9.25], 1506: [8.75, 4.45], 1507: [8.75, 8.75], 1508: [11.75, 6.49], 1509: [35.0, 4.45], 1510: [8.75, 2.95, 1.5], 1511: [8.75, 8.75, 8.75, 4.45, 11.25], 1512: [11.25, 11.75], 1513: [11.25, 2.95], 1514: [11.25, 4.45, 6.0, 1.25], 1515: [2.95, 9.25], 1516: [8.99, 2.39], 1517: [6.49, 8.75, 17.8], 1518: [11.48, 1.09], 1519: [10.98], 1520: [9.25, 9.25], 1521: [11.25, 8.75], 1522: [11.75, 11.25], 1523: [11.25, 1.25], 1524: [9.25, 4.45], 1525: [9.25, 6.49], 1526: [11.75, 11.75], 1527: [8.99, 2.39], 1528: [8.49, 8.49], 1529: [9.25, 9.25], 1530: [1.25, 8.75, 2.95], 1531: [11.75, 2.15], 1532: [8.49, 8.49], 1533: [8.69, 32.76, 8.19, 3.89, 2.29], 1534: [11.75, 8.75, 8.75], 1535: [8.75, 4.45], 1536: [8.49, 8.49], 1537: [9.25, 8.75, 6.49, 2.95], 1538: [11.25, 11.25, 2.15], 1539: [9.25, 11.75], 1540: [43.92], 1541: [8.49, 3.39, 1.69, 8.49], 1542: [8.75, 4.45], 1543: [8.49, 3.99], 1544: [11.25, 8.75], 1545: [11.25, 2.15], 1546: [11.75, 4.45], 1547: [11.25, 9.25, 8.75], 1548: [37.0], 1549: [1.5, 8.75, 2.15], 1550: [11.48, 4.36, 3.99], 1551: [11.25, 1.5], 1552: [8.99, 2.39], 1553: [11.75, 1.5], 1554: [11.25, 6.49, 4.45, 11.25], 1555: [8.49, 3.99], 1556: [5.0, 8.75, 9.25], 1557: [3.99, 8.99], 1558: [8.75, 6.49], 1559: [108.16, 33.96, 33.96, 35.96, 33.96], 1560: [8.75, 8.75], 1561: [11.25, 11.25], 1562: [8.49, 1.09, 1.69], 1563: [1.25, 9.25, 2.95], 1564: [8.69, 8.19], 1565: [8.49, 2.39], 1566: [8.49, 2.39], 1567: [10.98], 1568: [8.99, 8.99], 1569: [1.69, 8.49], 1570: [8.75, 8.75], 1571: [11.25, 4.45], 1572: [4.45, 35.0], 1573: [8.75, 4.45], 1574: [8.75, 2.15, 1.5, 1.5], 1575: [8.99, 1.09], 1576: [8.75, 4.45], 1577: [8.75, 8.75, 11.25, 8.6], 1578: [8.49, 1.69, 1.09, 1.09], 1579: [8.75, 2.15, 1.5], 1580: [8.99, 8.49, 3.99], 1581: [8.75, 2.15, 1.25], 1582: [9.25, 2.95], 1583: [11.25, 4.45], 1584: [9.25, 2.95], 1585: [3.99, 8.99, 8.49], 1586: [8.75, 8.75, 11.25, 9.25, 8.75, 4.45], 1587: [11.25, 1.25], 1588: [9.25, 11.25, 4.45, 2.95], 1589: [10.98], 1590: [8.75, 8.75], 1591: [37.0], 1592: [9.25, 9.25, 20.0, 8.75, 2.95], 1593: [33.96], 1594: [11.25, 2.95], 1595: [8.75, 2.15, 1.5], 1596: [8.49, 2.39], 1597: [9.25, 2.15, 1.25], 1598: [8.19, 8.69, 8.19, 8.19], 1599: [8.75, 2.95, 1.25], 1600: [9.25, 2.95], 1601: [11.25, 8.75, 11.25, 11.25], 1602: [8.99, 1.09], 1603: [9.25, 9.25, 4.45], 1604: [8.49, 3.99, 2.39, 1.09], 1605: [8.99, 8.49], 1606: [8.75, 8.75], 1607: [11.25, 11.75], 1608: [4.45, 5.0, 8.75], 1609: [8.49, 3.39], 1610: [8.75, 9.25, 4.45, 1.25], 1611: [11.25, 2.15, 4.45, 5.0], 1612: [8.99, 3.99], 1613: [8.75, 2.15, 11.75], 1614: [11.75, 1.25], 1615: [8.75, 9.39, 11.25, 9.25], 1616: [9.25, 2.95], 1617: [9.25, 4.45], 1618: [1.25, 9.25, 8.75], 1619: [11.75, 1.5], 1620: [8.75, 4.45], 1621: [8.99, 1.09], 1622: [9.25, 2.95], 1623: [8.99, 1.69], 1624: [8.69, 1.69], 1625: [11.25, 4.45], 1626: [8.75, 8.75, 4.45], 1627: [11.25, 8.75, 2.95, 1.5], 1628: [8.19, 8.69], 1629: [1.09, 1.69, 8.49], 1630: [8.75, 2.95, 1.25], 1631: [8.49, 3.99], 1632: [10.98, 3.39], 1633: [11.25, 11.25, 2.15], 1634: [37.0], 1635: [8.49, 8.49], 1636: [11.25, 1.5], 1637: [8.49, 2.39], 1638: [8.99, 2.39], 1639: [11.75, 4.45], 1640: [35.0], 1641: [9.25, 9.25], 1642: [8.75, 4.45, 11.25], 1643: [8.75, 4.45, 11.75, 2.95], 1644: [1.25, 4.45, 8.75], 1645: [1.25, 1.5, 9.25], 1646: [11.25, 11.25], 1647: [11.25, 11.25], 1648: [9.25, 11.25, 4.45, 8.75], 1649: [9.25, 8.75], 1650: [8.75, 4.45], 1651: [8.75, 1.25, 2.15], 1652: [8.75, 8.75, 8.6], 1653: [8.75, 1.25, 2.95], 1654: [9.25, 2.95], 1655: [4.45, 11.25, 11.25, 9.25, 9.25, 13.5], 1656: [11.75, 1.25], 1657: [11.75, 11.75, 1.25, 1.25], 1658: [9.25, 4.45], 1659: [11.25, 11.75], 1660: [35.0, 2.15, 1.25, 11.25, 150.0, 11.25, 4.45, 4.45, 2.95], 1661: [11.25, 2.15], 1662: [1.25, 1.5, 8.75, 11.25, 2.95], 1663: [11.25, 1.25], 1664: [2.15, 11.25, 9.25, 6.49], 1665: [1.25, 8.75, 2.15], 1666: [8.75, 6.49], 1667: [11.25, 1.5], 1668: [8.75, 4.45], 1669: [8.75, 4.45], 1670: [9.25, 9.25, 1.25, 1.25], 1671: [8.75, 13.5], 1672: [11.25, 1.25], 1673: [1.5, 9.25, 2.15, 11.25, 4.45], 1674: [11.25, 4.45], 1675: [8.75, 4.45], 1676: [9.25, 4.45, 1.25], 1677: [11.25, 4.45], 1678: [8.75, 4.45], 1679: [8.75, 2.15, 8.75, 4.45, 8.75], 1680: [11.75, 1.5], 1681: [11.25, 4.45], 1682: [8.75, 2.15, 1.5], 1683: [8.75, 4.45], 1684: [8.75, 11.75], 1685: [8.75, 8.75], 1686: [11.25, 11.25], 1687: [1.5, 8.75, 2.15], 1688: [11.75, 2.15], 1689: [9.25, 2.95], 1690: [37.0, 1.25, 4.45], 1691: [8.5, 8.5, 17.0], 1692: [11.25, 11.89, 1.25], 1693: [9.39, 4.45], 1694: [8.75, 2.15, 1.5], 1695: [11.75, 8.75, 9.25], 1696: [9.25, 4.45, 1.25, 11.25], 1697: [9.25, 2.95], 1698: [8.75, 8.75, 2.15], 1699: [8.75, 11.25, 11.25], 1700: [11.25, 11.75], 1701: [11.25, 2.15, 11.25, 2.15], 1702: [8.99, 8.99], 1703: [8.75, 9.25, 9.25, 11.25], 1704: [8.75, 4.45], 1705: [8.75, 1.25, 4.45], 1706: [11.25, 1.25], 1707: [8.75, 8.75], 1708: [11.25, 8.75], 1709: [1.25, 1.25, 1.25, 9.25], 1710: [11.75, 2.15], 1711: [8.75, 4.45], 1712: [8.75, 4.45], 1713: [11.25, 9.25], 1714: [8.75, 9.25, 4.45], 1715: [11.75, 4.45, 1.25], 1716: [4.45, 11.75], 1717: [9.25, 11.25, 2.15], 1718: [47.0, 9.25, 2.15], 1719: [37.0, 8.75, 11.8], 1720: [11.89, 4.45], 1721: [8.75, 4.45], 1722: [9.25, 2.95], 1723: [11.25, 2.95], 1724: [11.25, 11.25], 1725: [11.25, 2.95], 1726: [11.75, 9.25], 1727: [9.25, 2.95], 1728: [11.25, 2.15], 1729: [9.25, 17.8], 1730: [8.75, 11.25], 1731: [11.25, 11.25], 1732: [8.75, 2.15, 1.25], 1733: [11.25, 1.25], 1734: [8.75, 4.45], 1735: [1.25, 11.25, 11.25], 1736: [11.75, 1.25], 1737: [11.25, 11.25, 11.25], 1738: [8.75, 8.75, 37.0], 1739: [11.75, 1.25], 1740: [4.45, 9.25], 1741: [6.49, 4.45, 8.75], 1742: [11.25, 6.49, 11.75], 1743: [8.75, 9.25], 1744: [11.25, 2.15], 1745: [8.75, 4.45, 11.25, 4.45], 1746: [8.75, 9.25, 4.45, 1.25, 1.25], 1747: [8.75, 11.25], 1748: [11.75, 2.15, 11.75], 1749: [4.45, 11.75, 1.25], 1750: [11.75, 11.75], 1751: [11.25, 8.6, 9.39], 1752: [9.39, 8.75], 1753: [1.25, 9.25, 4.45], 1754: [11.25, 1.25], 1755: [8.75, 1.25, 2.95], 1756: [11.25, 4.45], 1757: [8.75, 1.5, 4.45], 1758: [4.45, 9.25], 1759: [8.75, 2.95, 1.25], 1760: [11.25, 2.95], 1761: [8.75, 8.75, 8.75, 8.75, 8.6], 1762: [9.25, 9.39], 1763: [4.45, 9.25, 1.25], 1764: [45.0, 4.45, 2.95, 2.15, 47.0], 1765: [11.75, 2.15, 1.25], 1766: [9.25, 4.45, 11.25, 11.75], 1767: [35.0], 1768: [8.75, 11.75, 11.25], 1769: [8.75, 4.45], 1770: [11.75, 1.5], 1771: [8.75, 8.75], 1772: [11.75, 9.25, 11.25], 1773: [4.45, 11.75], 1774: [9.25, 4.45], 1775: [11.25, 8.75, 8.75], 1776: [2.15, 1.5, 8.75], 1777: [4.45, 9.25], 1778: [8.75, 1.5, 1.25, 1.25], 1779: [1.25, 8.75, 2.95], 1780: [11.25, 11.25], 1781: [1.5, 11.75], 1782: [11.25, 2.15], 1783: [9.25, 8.75], 1784: [11.75, 2.95], 1785: [1.5, 8.75, 1.5, 1.25], 1786: [8.75, 11.75, 11.25, 11.25, 11.75, 11.25, 11.75, 8.75, 71.2, 20.0, 20.0], 1787: [8.75, 2.95, 1.25], 1788: [11.25, 1.25, 2.15], 1789: [11.25, 5.0, 9.25], 1790: [1.25, 11.25, 2.95], 1791: [11.75, 2.15], 1792: [11.25, 1.5], 1793: [8.99, 1.99, 11.49], 1794: [8.75, 4.45, 1.25], 1795: [8.75, 4.45, 1.25], 1796: [1.5, 11.75], 1797: [8.75, 8.75], 1798: [11.25, 6.49, 11.75], 1799: [8.75, 2.15, 1.25], 1800: [6.49, 8.75, 4.45], 1801: [8.75, 4.45], 1802: [8.75, 11.25], 1803: [4.45, 6.49, 9.25], 1804: [8.75, 1.25, 4.45], 1805: [11.25, 8.75], 1806: [1.5, 8.75, 1.5, 1.25], 1807: [9.25, 9.39], 1808: [4.45, 9.25], 1809: [8.75, 4.45, 1.25], 1810: [11.25, 11.75], 1811: [8.75, 11.25, 9.25], 1812: [8.75, 11.25, 5.0], 1813: [35.0], 1814: [9.25, 4.45], 1815: [11.25, 1.25], 1816: [8.75, 4.45], 1817: [1.5, 8.75, 1.5, 1.25], 1818: [9.39, 8.75], 1819: [8.75, 4.45], 1820: [11.25, 1.25], 1821: [9.25, 4.45], 1822: [11.25, 8.75, 6.0], 1823: [8.75, 2.15, 1.25], 1824: [11.25, 11.25, 4.45], 1825: [11.25, 11.25, 8.75, 11.75, 11.75, 11.75], 1826: [8.75, 4.45, 1.25, 1.5], 1827: [8.75, 4.45, 1.25, 9.25, 9.25], 1828: [8.75, 4.45, 1.25], 1829: [11.75, 11.25, 1.25], 1830: [11.75, 11.25], 1831: [9.25, 2.15, 1.5], 1832: [8.75, 4.45], 1833: [11.75, 11.75], 1834: [11.25, 8.75, 8.75]}\n"
     ]
    }
   ],
   "source": [
    "#key = orderID\n",
    "#value = [totals]\n",
    "\n",
    "Bill_D = {}\n",
    "\n",
    "for index, row in df_chip.iterrows():\n",
    "    order_id = row[\"order_id\"]\n",
    "    total = row[\"Total\"]\n",
    "    if order_id in Bill_D:\n",
    "        Bill_D[order_id].append(total)\n",
    "    else:\n",
    "        Bill_D[order_id] = [total]\n",
    "               \n",
    "print(Bill_D)"
   ]
  },
  {
   "cell_type": "code",
   "execution_count": 90,
   "metadata": {},
   "outputs": [
    {
     "ename": "AttributeError",
     "evalue": "'DataFrameGroupBy' object has no attribute 'total'",
     "output_type": "error",
     "traceback": [
      "\u001b[0;31m---------------------------------------------------------------------------\u001b[0m",
      "\u001b[0;31mAttributeError\u001b[0m                            Traceback (most recent call last)",
      "\u001b[0;32m<ipython-input-90-e91f018c4c73>\u001b[0m in \u001b[0;36m<module>\u001b[0;34m\u001b[0m\n\u001b[0;32m----> 1\u001b[0;31m \u001b[0mdf_chip\u001b[0m\u001b[0;34m.\u001b[0m\u001b[0mgroupby\u001b[0m\u001b[0;34m(\u001b[0m\u001b[0;34m\"order_id\"\u001b[0m\u001b[0;34m)\u001b[0m\u001b[0;34m.\u001b[0m\u001b[0mtotal\u001b[0m\u001b[0;34m.\u001b[0m\u001b[0msum\u001b[0m\u001b[0;34m(\u001b[0m\u001b[0;34m)\u001b[0m\u001b[0;34m.\u001b[0m\u001b[0mapply\u001b[0m\u001b[0;34m(\u001b[0m\u001b[0;34m)\u001b[0m\u001b[0;34m\u001b[0m\u001b[0;34m\u001b[0m\u001b[0m\n\u001b[0m",
      "\u001b[0;32m~/opt/anaconda3/lib/python3.8/site-packages/pandas/core/groupby/groupby.py\u001b[0m in \u001b[0;36m__getattr__\u001b[0;34m(self, attr)\u001b[0m\n\u001b[1;32m    578\u001b[0m             \u001b[0;32mreturn\u001b[0m \u001b[0mself\u001b[0m\u001b[0;34m[\u001b[0m\u001b[0mattr\u001b[0m\u001b[0;34m]\u001b[0m\u001b[0;34m\u001b[0m\u001b[0;34m\u001b[0m\u001b[0m\n\u001b[1;32m    579\u001b[0m \u001b[0;34m\u001b[0m\u001b[0m\n\u001b[0;32m--> 580\u001b[0;31m         raise AttributeError(\n\u001b[0m\u001b[1;32m    581\u001b[0m             \u001b[0;34mf\"'{type(self).__name__}' object has no attribute '{attr}'\"\u001b[0m\u001b[0;34m\u001b[0m\u001b[0;34m\u001b[0m\u001b[0m\n\u001b[1;32m    582\u001b[0m         )\n",
      "\u001b[0;31mAttributeError\u001b[0m: 'DataFrameGroupBy' object has no attribute 'total'"
     ]
    }
   ],
   "source": [
    "df_chip.groupby(\"order_id\").total.sum()."
   ]
  },
  {
   "cell_type": "code",
   "execution_count": null,
   "metadata": {},
   "outputs": [],
   "source": []
  }
 ],
 "metadata": {
  "kernelspec": {
   "display_name": "Python 3",
   "language": "python",
   "name": "python3"
  },
  "language_info": {
   "codemirror_mode": {
    "name": "ipython",
    "version": 3
   },
   "file_extension": ".py",
   "mimetype": "text/x-python",
   "name": "python",
   "nbconvert_exporter": "python",
   "pygments_lexer": "ipython3",
   "version": "3.8.3"
  },
  "toc": {
   "nav_menu": {
    "height": "12px",
    "width": "252px"
   },
   "number_sections": true,
   "sideBar": true,
   "skip_h1_title": false,
   "toc_cell": false,
   "toc_position": {},
   "toc_section_display": "block",
   "toc_window_display": false
  }
 },
 "nbformat": 4,
 "nbformat_minor": 2
}
